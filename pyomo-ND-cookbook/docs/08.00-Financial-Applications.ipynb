{
 "cells": [
  {
   "cell_type": "markdown",
   "metadata": {
    "nbpages": {
     "level": 0,
     "link": "[](https://jckantor.github.io/ND-Pyomo-Cookbook/08.00-Financial-Applications.html)",
     "section": ""
    }
   },
   "source": [
    "<!--NOTEBOOK_HEADER-->\n",
    "*This notebook contains material from [ND-Pyomo-Cookbook](https://jckantor.github.io/ND-Pyomo-Cookbook);\n",
    "content is available [on Github](https://github.com/jckantor/ND-Pyomo-Cookbook.git).*\n",
    "*The text is released under the [CC-BY-NC-ND-4.0 license](https://creativecommons.org/licenses/by-nc-nd/4.0/legalcode),\n",
    "and code is released under the [MIT license](https://opensource.org/licenses/MIT).*"
   ]
  },
  {
   "cell_type": "markdown",
   "metadata": {
    "nbpages": {
     "level": 0,
     "link": "[](https://jckantor.github.io/ND-Pyomo-Cookbook/08.00-Financial-Applications.html)",
     "section": ""
    }
   },
   "source": [
    "<!--NAVIGATION-->\n",
    "< [7.1 Parameter estimation](https://jckantor.github.io/ND-Pyomo-Cookbook/07.01-Parameter-Estimation-Catalytic-Reactor.html) | [Contents](toc.html) | [Tag Index](tag_index.html) | [8.1 Obtaining Historical Stock Data](https://jckantor.github.io/ND-Pyomo-Cookbook/08.01-Obtaining-Historical-Stock_-ata.html) ><p><a href=\"https://colab.research.google.com/github/jckantor/ND-Pyomo-Cookbook/blob/master/docs/08.00-Financial-Applications.ipynb\"> <img align=\"left\" src=\"https://colab.research.google.com/assets/colab-badge.svg\" alt=\"Open in Colab\" title=\"Open in Google Colaboratory\"></a><p><a href=\"https://jckantor.github.io/ND-Pyomo-Cookbook/08.00-Financial-Applications.ipynb\"> <img align=\"left\" src=\"https://img.shields.io/badge/Github-Download-blue.svg\" alt=\"Download\" title=\"Download Notebook\"></a>"
   ]
  },
  {
   "cell_type": "markdown",
   "metadata": {
    "nbpages": {
     "level": 1,
     "link": "[8.0 Financial Applications](https://jckantor.github.io/ND-Pyomo-Cookbook/08.00-Financial-Applications.html#8.0-Financial-Applications)",
     "section": "8.0 Financial Applications"
    }
   },
   "source": [
    "# 8.0 Financial Applications"
   ]
  },
  {
   "cell_type": "markdown",
   "metadata": {
    "nbpages": {
     "level": 1,
     "link": "[8.0 Financial Applications](https://jckantor.github.io/ND-Pyomo-Cookbook/08.00-Financial-Applications.html#8.0-Financial-Applications)",
     "section": "8.0 Financial Applications"
    }
   },
   "source": [
    "<!--NAVIGATION-->\n",
    "< [7.1 Parameter estimation](https://jckantor.github.io/ND-Pyomo-Cookbook/07.01-Parameter-Estimation-Catalytic-Reactor.html) | [Contents](toc.html) | [Tag Index](tag_index.html) | [8.1 Obtaining Historical Stock Data](https://jckantor.github.io/ND-Pyomo-Cookbook/08.01-Obtaining-Historical-Stock_-ata.html) ><p><a href=\"https://colab.research.google.com/github/jckantor/ND-Pyomo-Cookbook/blob/master/docs/08.00-Financial-Applications.ipynb\"> <img align=\"left\" src=\"https://colab.research.google.com/assets/colab-badge.svg\" alt=\"Open in Colab\" title=\"Open in Google Colaboratory\"></a><p><a href=\"https://jckantor.github.io/ND-Pyomo-Cookbook/08.00-Financial-Applications.ipynb\"> <img align=\"left\" src=\"https://img.shields.io/badge/Github-Download-blue.svg\" alt=\"Download\" title=\"Download Notebook\"></a>"
   ]
  }
 ],
 "metadata": {
  "kernelspec": {
   "display_name": "Python 3",
   "language": "python",
   "name": "python3"
  },
  "language_info": {
   "codemirror_mode": {
    "name": "ipython",
    "version": 3
   },
   "file_extension": ".py",
   "mimetype": "text/x-python",
   "name": "python",
   "nbconvert_exporter": "python",
   "pygments_lexer": "ipython3",
   "version": "3.7.3"
  }
 },
 "nbformat": 4,
 "nbformat_minor": 2
}
