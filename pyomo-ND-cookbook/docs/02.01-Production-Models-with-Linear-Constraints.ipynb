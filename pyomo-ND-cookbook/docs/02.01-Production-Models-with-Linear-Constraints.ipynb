{
 "cells": [
  {
   "cell_type": "markdown",
   "metadata": {
    "colab_type": "text",
    "id": "rexAkdVI4PxA",
    "nbpages": {
     "level": 0,
     "link": "[](https://jckantor.github.io/ND-Pyomo-Cookbook/02.01-Production-Models-with-Linear-Constraints.html)",
     "section": ""
    },
    "pycharm": {}
   },
   "source": [
    "<!--NOTEBOOK_HEADER-->\n",
    "*This notebook contains material from [ND-Pyomo-Cookbook](https://jckantor.github.io/ND-Pyomo-Cookbook);\n",
    "content is available [on Github](https://github.com/jckantor/ND-Pyomo-Cookbook.git).*\n",
    "*The text is released under the [CC-BY-NC-ND-4.0 license](https://creativecommons.org/licenses/by-nc-nd/4.0/legalcode),\n",
    "and code is released under the [MIT license](https://opensource.org/licenses/MIT).*"
   ]
  },
  {
   "cell_type": "markdown",
   "metadata": {
    "colab_type": "text",
    "id": "8_ZfVdCP4PxC",
    "nbpages": {
     "level": 0,
     "link": "[](https://jckantor.github.io/ND-Pyomo-Cookbook/02.01-Production-Models-with-Linear-Constraints.html)",
     "section": ""
    },
    "pycharm": {}
   },
   "source": [
    "<!--NAVIGATION-->\n",
    "< [2.0 Linear Programming](https://jckantor.github.io/ND-Pyomo-Cookbook/02.00-Linear-Programming.html) | [Contents](toc.html) | [Tag Index](tag_index.html) | [2.2 Production Model Sensitivity Analysis](https://jckantor.github.io/ND-Pyomo-Cookbook/02.02-Production-Model-Sensitivity-Analysis.html) ><p><a href=\"https://colab.research.google.com/github/jckantor/ND-Pyomo-Cookbook/blob/master/docs/02.01-Production-Models-with-Linear-Constraints.ipynb\"> <img align=\"left\" src=\"https://colab.research.google.com/assets/colab-badge.svg\" alt=\"Open in Colab\" title=\"Open in Google Colaboratory\"></a><p><a href=\"https://jckantor.github.io/ND-Pyomo-Cookbook/02.01-Production-Models-with-Linear-Constraints.ipynb\"> <img align=\"left\" src=\"https://img.shields.io/badge/Github-Download-blue.svg\" alt=\"Download\" title=\"Download Notebook\"></a>"
   ]
  },
  {
   "cell_type": "markdown",
   "metadata": {
    "colab_type": "text",
    "id": "SRXossXvecIC",
    "nbpages": {
     "level": 1,
     "link": "[2.1 Production Models with Linear Constraints](https://jckantor.github.io/ND-Pyomo-Cookbook/02.01-Production-Models-with-Linear-Constraints.html#2.1-Production-Models-with-Linear-Constraints)",
     "section": "2.1 Production Models with Linear Constraints"
    },
    "pycharm": {}
   },
   "source": [
    "# 2.1 Production Models with Linear Constraints\n",
    "\n",
    "Keywords: linear programming, cbc usage, production models"
   ]
  },
  {
   "cell_type": "markdown",
   "metadata": {
    "colab_type": "text",
    "id": "ihMeDuJ5ecIF",
    "nbpages": {
     "level": 1,
     "link": "[2.1 Production Models with Linear Constraints](https://jckantor.github.io/ND-Pyomo-Cookbook/02.01-Production-Models-with-Linear-Constraints.html#2.1-Production-Models-with-Linear-Constraints)",
     "section": "2.1 Production Models with Linear Constraints"
    },
    "pycharm": {}
   },
   "source": [
    "This notebook demonstrates the use of linear programming to maximize profit for a simple model of a multiproduct production facility. The notebook uses [Pyomo](http://www.pyomo.org/) to represent the model with the [COINOR-CBC](https://github.com/coin-or/Cbc) solver to calculate solutions."
   ]
  },
  {
   "cell_type": "markdown",
   "metadata": {
    "nbpages": {
     "level": 2,
     "link": "[2.1.1 Imports](https://jckantor.github.io/ND-Pyomo-Cookbook/02.01-Production-Models-with-Linear-Constraints.html#2.1.1-Imports)",
     "section": "2.1.1 Imports"
    }
   },
   "source": [
    "## 2.1.1 Imports"
   ]
  },
  {
   "cell_type": "code",
   "execution_count": 1,
   "metadata": {
    "colab": {},
    "colab_type": "code",
    "id": "2JKaLcN8edkz",
    "nbpages": {
     "level": 2,
     "link": "[2.1.1 Imports](https://jckantor.github.io/ND-Pyomo-Cookbook/02.01-Production-Models-with-Linear-Constraints.html#2.1.1-Imports)",
     "section": "2.1.1 Imports"
    },
    "pycharm": {}
   },
   "outputs": [],
   "source": [
    "%matplotlib inline\n",
    "import matplotlib.pyplot as plt\n",
    "import numpy as np\n",
    "\n",
    "import shutil\n",
    "import sys\n",
    "import os.path\n",
    "\n",
    "if not shutil.which(\"pyomo\"):\n",
    "    !pip install -q pyomo\n",
    "    assert(shutil.which(\"pyomo\"))\n",
    "\n",
    "if not (shutil.which(\"cbc\") or os.path.isfile(\"cbc\")):\n",
    "    if \"google.colab\" in sys.modules:\n",
    "        !apt-get install -y -qq coinor-cbc\n",
    "    else:\n",
    "        try:\n",
    "            !conda install -c conda-forge coincbc \n",
    "        except:\n",
    "            pass\n",
    "\n",
    "assert(shutil.which(\"cbc\") or os.path.isfile(\"cbc\"))\n",
    "\n",
    "from pyomo.environ import *"
   ]
  },
  {
   "cell_type": "markdown",
   "metadata": {
    "colab_type": "text",
    "id": "zywBNq7gecII",
    "nbpages": {
     "level": 2,
     "link": "[2.1.2 Example: Production plan for a single product plant](https://jckantor.github.io/ND-Pyomo-Cookbook/02.01-Production-Models-with-Linear-Constraints.html#2.1.2-Example:-Production-plan-for-a-single-product-plant)",
     "section": "2.1.2 Example: Production plan for a single product plant"
    },
    "pycharm": {}
   },
   "source": [
    "## 2.1.2 Example: Production plan for a single product plant"
   ]
  },
  {
   "cell_type": "markdown",
   "metadata": {
    "colab_type": "text",
    "id": "izk2tTP1ecII",
    "nbpages": {
     "level": 2,
     "link": "[2.1.2 Example: Production plan for a single product plant](https://jckantor.github.io/ND-Pyomo-Cookbook/02.01-Production-Models-with-Linear-Constraints.html#2.1.2-Example:-Production-plan-for-a-single-product-plant)",
     "section": "2.1.2 Example: Production plan for a single product plant"
    },
    "pycharm": {}
   },
   "source": [
    "Suppose you are thinking about starting up a business to produce Product X. You have determined there is a market for X of up to 40 units per week at a price of USD 270 each. The production of each unit requires USD 100 of raw materials, 1 hour of type A labor, and 2 hours of type B labor. You have an unlimited amount of raw material available to you, but only 80 hours per week of labor A at a cost of USD 50/hour, and 100 hours per week of labor B at a cost of USD 40 per hour. Ignoring all other expenses, what is the maximum weekly profit?\n",
    "\n",
    "To get started on this problem, we sketch a flow diagram illustrating the flow of raw materials and labor through the production plant.\n",
    "\n",
    "![LP_ProductX.png](https://github.com/jckantor/ND-Pyomo-Cookbook/blob/master/notebooks/figures/LP_ProductX.png?raw=1)\n",
    "\n",
    "The essential decision we need to make is how many units or Product X to produce each week. That's our *decision variable* which we denote as $x$. The weekly revenues are then\n",
    "\n",
    "$$ \\mbox{Revenue} = \\$270 x $$\n",
    "\n",
    "The costs include the value of the raw materials and each form of labor. If we produce x units a week, then the total cost is\n",
    "\n",
    "$$ \\mbox{Cost} = \\underbrace{\\$100 x}_{\\mbox{Raw Material}} \n",
    "    + \\underbrace{\\$50 x}_{\\mbox{Labor A}} + \\underbrace{2\\times\\$40 x}_{\\mbox{Labor B}} = \\$230 x$$\n",
    "    \n",
    "We see immediately that the gross profit is just\n",
    "\n",
    "$$\\begin{eqnarray*}\\mbox{Profit} & = & \\mbox{Revenue} - \\mbox{Cost} \\\\\n",
    "& = & \\$270x - \\$230x \\\\\n",
    "& = & \\$40 x\n",
    "\\end{eqnarray*}$$\n",
    "\n",
    "which means there is a profit earned on each unit of X produced, so let's produce as many as possible. \n",
    "\n",
    "There are three constraints that limit how many units can be produced. There is market demand for no more than 40 units per week. Producing $x = 40$ units per week will require 40 hours per week of Labor A, and 80 hours per week of Labor B. Checking those constraints we see that we have enough labor of each type, so the maximum profit will be\n",
    "\n",
    "$$\\max \\mbox{Profit} = $40 \\mbox{ per unit} \\times 40 \\mbox{ units per week} = \\$1600 \\mbox{ per week}$$\n",
    "\n",
    "What we conclude is that market demand is the 'most constraining constraint.' Once we've made that deduction, the rest is a straightforward problem that can be solved by inspection.  "
   ]
  },
  {
   "cell_type": "markdown",
   "metadata": {
    "colab_type": "text",
    "id": "6fkeTeNqecIK",
    "nbpages": {
     "level": 3,
     "link": "[2.1.2.1 Pyomo model](https://jckantor.github.io/ND-Pyomo-Cookbook/02.01-Production-Models-with-Linear-Constraints.html#2.1.2.1-Pyomo-model)",
     "section": "2.1.2.1 Pyomo model"
    },
    "pycharm": {}
   },
   "source": [
    "### 2.1.2.1 Pyomo model"
   ]
  },
  {
   "cell_type": "markdown",
   "metadata": {
    "colab_type": "text",
    "id": "oTNbhNemecIM",
    "nbpages": {
     "level": 3,
     "link": "[2.1.2.1 Pyomo model](https://jckantor.github.io/ND-Pyomo-Cookbook/02.01-Production-Models-with-Linear-Constraints.html#2.1.2.1-Pyomo-model)",
     "section": "2.1.2.1 Pyomo model"
    },
    "pycharm": {}
   },
   "source": [
    "While this problem can be solved by inspection, here we show a Pyomo model that generates a solution to the problem."
   ]
  },
  {
   "cell_type": "code",
   "execution_count": 2,
   "metadata": {
    "colab": {
     "base_uri": "https://localhost:8080/",
     "height": 527
    },
    "colab_type": "code",
    "executionInfo": {
     "elapsed": 1545,
     "status": "ok",
     "timestamp": 1555698907390,
     "user": {
      "displayName": "Jeffrey Kantor",
      "photoUrl": "https://lh5.googleusercontent.com/-8zK5aAW5RMQ/AAAAAAAAAAI/AAAAAAAAKB0/kssUQyz8DTQ/s64/photo.jpg",
      "userId": "09038942003589296665"
     },
     "user_tz": 240
    },
    "id": "FLdRutwhecIN",
    "nbpages": {
     "level": 3,
     "link": "[2.1.2.1 Pyomo model](https://jckantor.github.io/ND-Pyomo-Cookbook/02.01-Production-Models-with-Linear-Constraints.html#2.1.2.1-Pyomo-model)",
     "section": "2.1.2.1 Pyomo model"
    },
    "outputId": "8b984d94-64c1-4917-b56d-96c6ac9a7dbc",
    "pycharm": {}
   },
   "outputs": [
    {
     "name": "stdout",
     "output_type": "stream",
     "text": [
      "# ==========================================================\n",
      "# = Solver Results                                         =\n",
      "# ==========================================================\n",
      "# ----------------------------------------------------------\n",
      "#   Problem Information\n",
      "# ----------------------------------------------------------\n",
      "Problem: \n",
      "- Name: unknown\n",
      "  Lower bound: 1600.0\n",
      "  Upper bound: 1600.0\n",
      "  Number of objectives: 1\n",
      "  Number of constraints: 4\n",
      "  Number of variables: 2\n",
      "  Number of nonzeros: 0\n",
      "  Sense: maximize\n",
      "# ----------------------------------------------------------\n",
      "#   Solver Information\n",
      "# ----------------------------------------------------------\n",
      "Solver: \n",
      "- Status: ok\n",
      "  User time: -1.0\n",
      "  System time: 0.01\n",
      "  Wallclock time: 0.0\n",
      "  Termination condition: optimal\n",
      "  Termination message: Model was solved to optimality (subject to tolerances), and an optimal solution is available.\n",
      "  Statistics: \n",
      "    Branch and bound: \n",
      "      Number of bounded subproblems: None\n",
      "      Number of created subproblems: None\n",
      "    Black box: \n",
      "      Number of iterations: 0\n",
      "  Error rc: 0\n",
      "  Time: 0.020010948181152344\n",
      "# ----------------------------------------------------------\n",
      "#   Solution Information\n",
      "# ----------------------------------------------------------\n",
      "Solution: \n",
      "- number of solutions: 0\n",
      "  number of solutions displayed: 0\n"
     ]
    }
   ],
   "source": [
    "model = ConcreteModel()\n",
    "\n",
    "# declare decision variables\n",
    "model.x = Var(domain=NonNegativeReals)\n",
    "\n",
    "# declare objective\n",
    "model.profit = Objective(\n",
    "    expr = 40*model.x,\n",
    "    sense = maximize)\n",
    "\n",
    "# declare constraints\n",
    "model.demand = Constraint(expr = model.x <= 40)\n",
    "model.laborA = Constraint(expr = model.x <= 80)\n",
    "model.laborB = Constraint(expr = 2*model.x <= 100)\n",
    "\n",
    "# solve\n",
    "SolverFactory('cbc').solve(model).write()"
   ]
  },
  {
   "cell_type": "markdown",
   "metadata": {
    "colab_type": "text",
    "id": "vvul9a6zecIU",
    "nbpages": {
     "level": 3,
     "link": "[2.1.2.1 Pyomo model](https://jckantor.github.io/ND-Pyomo-Cookbook/02.01-Production-Models-with-Linear-Constraints.html#2.1.2.1-Pyomo-model)",
     "section": "2.1.2.1 Pyomo model"
    },
    "pycharm": {}
   },
   "source": [
    "The results of the solution step show the solver has converged to an optimal solution. Next we display the particular components of the model of interest to us."
   ]
  },
  {
   "cell_type": "code",
   "execution_count": 3,
   "metadata": {
    "colab": {
     "base_uri": "https://localhost:8080/",
     "height": 51
    },
    "colab_type": "code",
    "executionInfo": {
     "elapsed": 722,
     "status": "ok",
     "timestamp": 1555698912767,
     "user": {
      "displayName": "Jeffrey Kantor",
      "photoUrl": "https://lh5.googleusercontent.com/-8zK5aAW5RMQ/AAAAAAAAAAI/AAAAAAAAKB0/kssUQyz8DTQ/s64/photo.jpg",
      "userId": "09038942003589296665"
     },
     "user_tz": 240
    },
    "id": "kvGCRiwMecIW",
    "nbpages": {
     "level": 3,
     "link": "[2.1.2.1 Pyomo model](https://jckantor.github.io/ND-Pyomo-Cookbook/02.01-Production-Models-with-Linear-Constraints.html#2.1.2.1-Pyomo-model)",
     "section": "2.1.2.1 Pyomo model"
    },
    "outputId": "90f9e8ed-b4ae-4994-fcb6-e96572f37590",
    "pycharm": {}
   },
   "outputs": [
    {
     "name": "stdout",
     "output_type": "stream",
     "text": [
      "Profit =  1600.0  per week\n",
      "X =  40.0  units per week\n"
     ]
    }
   ],
   "source": [
    "print(\"Profit = \", model.profit(), \" per week\")\n",
    "print(\"X = \", model.x(), \" units per week\")"
   ]
  },
  {
   "cell_type": "markdown",
   "metadata": {
    "colab_type": "text",
    "id": "BYe4eDmAecIZ",
    "nbpages": {
     "level": 3,
     "link": "[2.1.2.2 Exercises](https://jckantor.github.io/ND-Pyomo-Cookbook/02.01-Production-Models-with-Linear-Constraints.html#2.1.2.2-Exercises)",
     "section": "2.1.2.2 Exercises"
    },
    "pycharm": {}
   },
   "source": [
    "### 2.1.2.2 Exercises"
   ]
  },
  {
   "cell_type": "markdown",
   "metadata": {
    "colab_type": "text",
    "id": "5-cCaUWKecIZ",
    "nbpages": {
     "level": 3,
     "link": "[2.1.2.2 Exercises](https://jckantor.github.io/ND-Pyomo-Cookbook/02.01-Production-Models-with-Linear-Constraints.html#2.1.2.2-Exercises)",
     "section": "2.1.2.2 Exercises"
    },
    "pycharm": {}
   },
   "source": [
    "1. Suppose the demand could be increased to 50 units per month. What would be the increased profits?  What if the demand increased to 60 units per month?  How much would you be willing to pay for your marketing department for the increased demand?\n",
    "\n",
    "2. Increase the cost of LaborB. At what point is it no longer financially viable to run the plant?"
   ]
  },
  {
   "cell_type": "markdown",
   "metadata": {
    "colab_type": "text",
    "id": "7R9q6sDcecIa",
    "nbpages": {
     "level": 2,
     "link": "[2.1.3 Production plan: Product Y](https://jckantor.github.io/ND-Pyomo-Cookbook/02.01-Production-Models-with-Linear-Constraints.html#2.1.3-Production-plan:-Product-Y)",
     "section": "2.1.3 Production plan: Product Y"
    },
    "pycharm": {}
   },
   "source": [
    "## 2.1.3 Production plan: Product Y"
   ]
  },
  {
   "cell_type": "markdown",
   "metadata": {
    "colab_type": "text",
    "id": "uHrtxXrhecIb",
    "nbpages": {
     "level": 2,
     "link": "[2.1.3 Production plan: Product Y](https://jckantor.github.io/ND-Pyomo-Cookbook/02.01-Production-Models-with-Linear-Constraints.html#2.1.3-Production-plan:-Product-Y)",
     "section": "2.1.3 Production plan: Product Y"
    },
    "pycharm": {}
   },
   "source": [
    "Your marketing department has developed plans for a new product called Y. The product sells at a price of USD 210/each, and they expect that you can sell all that you can make. It's also cheaper to make, requiring only USD 90 in raw materials, 1 hour of Labor type A at USD 50 per hour, and 1 hour of Labor B at USD 40 per hour. What is the potential weekly profit?\n",
    "\n",
    "![LP_ProductY.png](https://github.com/jckantor/ND-Pyomo-Cookbook/blob/master/notebooks/figures/LP_ProductY.png?raw=1)"
   ]
  },
  {
   "cell_type": "code",
   "execution_count": 4,
   "metadata": {
    "colab": {
     "base_uri": "https://localhost:8080/",
     "height": 527
    },
    "colab_type": "code",
    "executionInfo": {
     "elapsed": 254,
     "status": "ok",
     "timestamp": 1555698921323,
     "user": {
      "displayName": "Jeffrey Kantor",
      "photoUrl": "https://lh5.googleusercontent.com/-8zK5aAW5RMQ/AAAAAAAAAAI/AAAAAAAAKB0/kssUQyz8DTQ/s64/photo.jpg",
      "userId": "09038942003589296665"
     },
     "user_tz": 240
    },
    "id": "rHGr9LwqecId",
    "nbpages": {
     "level": 2,
     "link": "[2.1.3 Production plan: Product Y](https://jckantor.github.io/ND-Pyomo-Cookbook/02.01-Production-Models-with-Linear-Constraints.html#2.1.3-Production-plan:-Product-Y)",
     "section": "2.1.3 Production plan: Product Y"
    },
    "outputId": "e790827b-02b5-459f-c744-82e383e1051a",
    "pycharm": {}
   },
   "outputs": [
    {
     "name": "stdout",
     "output_type": "stream",
     "text": [
      "# ==========================================================\n",
      "# = Solver Results                                         =\n",
      "# ==========================================================\n",
      "# ----------------------------------------------------------\n",
      "#   Problem Information\n",
      "# ----------------------------------------------------------\n",
      "Problem: \n",
      "- Name: unknown\n",
      "  Lower bound: 2400.0\n",
      "  Upper bound: 2400.0\n",
      "  Number of objectives: 1\n",
      "  Number of constraints: 3\n",
      "  Number of variables: 2\n",
      "  Number of nonzeros: 0\n",
      "  Sense: maximize\n",
      "# ----------------------------------------------------------\n",
      "#   Solver Information\n",
      "# ----------------------------------------------------------\n",
      "Solver: \n",
      "- Status: ok\n",
      "  User time: -1.0\n",
      "  System time: 0.01\n",
      "  Wallclock time: 0.0\n",
      "  Termination condition: optimal\n",
      "  Termination message: Model was solved to optimality (subject to tolerances), and an optimal solution is available.\n",
      "  Statistics: \n",
      "    Branch and bound: \n",
      "      Number of bounded subproblems: None\n",
      "      Number of created subproblems: None\n",
      "    Black box: \n",
      "      Number of iterations: 0\n",
      "  Error rc: 0\n",
      "  Time: 0.024235963821411133\n",
      "# ----------------------------------------------------------\n",
      "#   Solution Information\n",
      "# ----------------------------------------------------------\n",
      "Solution: \n",
      "- number of solutions: 0\n",
      "  number of solutions displayed: 0\n"
     ]
    }
   ],
   "source": [
    "model = ConcreteModel()\n",
    "\n",
    "# declare decision variables\n",
    "model.y = Var(domain=NonNegativeReals)\n",
    "\n",
    "# declare objective\n",
    "model.profit = Objective(\n",
    "    expr = 30*model.y,\n",
    "    sense = maximize)\n",
    "\n",
    "# declare constraints\n",
    "model.laborA = Constraint(expr = model.y <= 80)\n",
    "model.laborB = Constraint(expr = model.y <= 100)\n",
    "\n",
    "# solve\n",
    "SolverFactory('cbc').solve(model).write()"
   ]
  },
  {
   "cell_type": "code",
   "execution_count": 5,
   "metadata": {
    "colab": {
     "base_uri": "https://localhost:8080/",
     "height": 51
    },
    "colab_type": "code",
    "executionInfo": {
     "elapsed": 257,
     "status": "ok",
     "timestamp": 1555698923529,
     "user": {
      "displayName": "Jeffrey Kantor",
      "photoUrl": "https://lh5.googleusercontent.com/-8zK5aAW5RMQ/AAAAAAAAAAI/AAAAAAAAKB0/kssUQyz8DTQ/s64/photo.jpg",
      "userId": "09038942003589296665"
     },
     "user_tz": 240
    },
    "id": "b9SY8ZPRecIh",
    "nbpages": {
     "level": 2,
     "link": "[2.1.3 Production plan: Product Y](https://jckantor.github.io/ND-Pyomo-Cookbook/02.01-Production-Models-with-Linear-Constraints.html#2.1.3-Production-plan:-Product-Y)",
     "section": "2.1.3 Production plan: Product Y"
    },
    "outputId": "ad099558-2549-4d70-8f10-2581d78feaa8",
    "pycharm": {}
   },
   "outputs": [
    {
     "name": "stdout",
     "output_type": "stream",
     "text": [
      "Profit =  2400.0\n",
      "Units of Y =  80.0\n"
     ]
    }
   ],
   "source": [
    "print(\"Profit = \", model.profit())\n",
    "print(\"Units of Y = \", model.y())"
   ]
  },
  {
   "cell_type": "markdown",
   "metadata": {
    "colab_type": "text",
    "id": "oEl-VQeyecIk",
    "nbpages": {
     "level": 2,
     "link": "[2.1.3 Production plan: Product Y](https://jckantor.github.io/ND-Pyomo-Cookbook/02.01-Production-Models-with-Linear-Constraints.html#2.1.3-Production-plan:-Product-Y)",
     "section": "2.1.3 Production plan: Product Y"
    },
    "pycharm": {}
   },
   "source": [
    "Compared to product X, we can manufacture and sell up 80 units per week for a total profit of \\$2,400. This is very welcome news. "
   ]
  },
  {
   "cell_type": "markdown",
   "metadata": {
    "colab_type": "text",
    "id": "uqfCBHxjecIm",
    "nbpages": {
     "level": 3,
     "link": "[2.1.3.1 Exercises](https://jckantor.github.io/ND-Pyomo-Cookbook/02.01-Production-Models-with-Linear-Constraints.html#2.1.3.1-Exercises)",
     "section": "2.1.3.1 Exercises"
    },
    "pycharm": {}
   },
   "source": [
    "### 2.1.3.1 Exercises"
   ]
  },
  {
   "cell_type": "markdown",
   "metadata": {
    "colab_type": "text",
    "id": "2LnLKNbfecIm",
    "nbpages": {
     "level": 3,
     "link": "[2.1.3.1 Exercises](https://jckantor.github.io/ND-Pyomo-Cookbook/02.01-Production-Models-with-Linear-Constraints.html#2.1.3.1-Exercises)",
     "section": "2.1.3.1 Exercises"
    },
    "pycharm": {}
   },
   "source": [
    "1. What is the limiting resource?  That is, which of the two types of labor limits the capacity of your plant to produce more units of Y?\n",
    "\n",
    "2. What rate would you be willing to pay for the additional labor necessary to increase the production of Y?"
   ]
  },
  {
   "cell_type": "markdown",
   "metadata": {
    "colab_type": "text",
    "id": "Df2vj9GiecIn",
    "nbpages": {
     "level": 2,
     "link": "[2.1.4 Production plan: Mixed product strategy](https://jckantor.github.io/ND-Pyomo-Cookbook/02.01-Production-Models-with-Linear-Constraints.html#2.1.4-Production-plan:-Mixed-product-strategy)",
     "section": "2.1.4 Production plan: Mixed product strategy"
    },
    "pycharm": {}
   },
   "source": [
    "## 2.1.4 Production plan: Mixed product strategy"
   ]
  },
  {
   "cell_type": "markdown",
   "metadata": {
    "colab_type": "text",
    "id": "uMh4W-ijecIo",
    "nbpages": {
     "level": 2,
     "link": "[2.1.4 Production plan: Mixed product strategy](https://jckantor.github.io/ND-Pyomo-Cookbook/02.01-Production-Models-with-Linear-Constraints.html#2.1.4-Production-plan:-Mixed-product-strategy)",
     "section": "2.1.4 Production plan: Mixed product strategy"
    },
    "pycharm": {}
   },
   "source": [
    "So far we have learned that we can make \\$1,600 per week by manufacturing product X, and $2,400 per week manufacturing product Y.  Is it possible to do even better?\n",
    "\n",
    "To answer this question, we consider the possibilty of manufacturing both products in the same plant. The marketing department assures us that product Y will not affect the sales of product X.  So the same constraints hold as before, but now we have two decision variables, $x$ and $y$.\n",
    "\n",
    "![LP_ProductXY.png](https://github.com/jckantor/ND-Pyomo-Cookbook/blob/master/notebooks/figures/LP_ProductXY.png?raw=1)"
   ]
  },
  {
   "cell_type": "code",
   "execution_count": 6,
   "metadata": {
    "colab": {
     "base_uri": "https://localhost:8080/",
     "height": 527
    },
    "colab_type": "code",
    "executionInfo": {
     "elapsed": 267,
     "status": "ok",
     "timestamp": 1555698938250,
     "user": {
      "displayName": "Jeffrey Kantor",
      "photoUrl": "https://lh5.googleusercontent.com/-8zK5aAW5RMQ/AAAAAAAAAAI/AAAAAAAAKB0/kssUQyz8DTQ/s64/photo.jpg",
      "userId": "09038942003589296665"
     },
     "user_tz": 240
    },
    "id": "RgjGjPrFecIr",
    "nbpages": {
     "level": 2,
     "link": "[2.1.4 Production plan: Mixed product strategy](https://jckantor.github.io/ND-Pyomo-Cookbook/02.01-Production-Models-with-Linear-Constraints.html#2.1.4-Production-plan:-Mixed-product-strategy)",
     "section": "2.1.4 Production plan: Mixed product strategy"
    },
    "outputId": "8b0b6119-171d-4e1c-8ab6-bc95c0f8f1a3",
    "pycharm": {}
   },
   "outputs": [
    {
     "name": "stdout",
     "output_type": "stream",
     "text": [
      "# ==========================================================\n",
      "# = Solver Results                                         =\n",
      "# ==========================================================\n",
      "# ----------------------------------------------------------\n",
      "#   Problem Information\n",
      "# ----------------------------------------------------------\n",
      "Problem: \n",
      "- Name: unknown\n",
      "  Lower bound: 2600.0\n",
      "  Upper bound: 2600.0\n",
      "  Number of objectives: 1\n",
      "  Number of constraints: 4\n",
      "  Number of variables: 3\n",
      "  Number of nonzeros: 2\n",
      "  Sense: maximize\n",
      "# ----------------------------------------------------------\n",
      "#   Solver Information\n",
      "# ----------------------------------------------------------\n",
      "Solver: \n",
      "- Status: ok\n",
      "  User time: -1.0\n",
      "  System time: 0.01\n",
      "  Wallclock time: 0.0\n",
      "  Termination condition: optimal\n",
      "  Termination message: Model was solved to optimality (subject to tolerances), and an optimal solution is available.\n",
      "  Statistics: \n",
      "    Branch and bound: \n",
      "      Number of bounded subproblems: None\n",
      "      Number of created subproblems: None\n",
      "    Black box: \n",
      "      Number of iterations: 2\n",
      "  Error rc: 0\n",
      "  Time: 0.02437305450439453\n",
      "# ----------------------------------------------------------\n",
      "#   Solution Information\n",
      "# ----------------------------------------------------------\n",
      "Solution: \n",
      "- number of solutions: 0\n",
      "  number of solutions displayed: 0\n"
     ]
    }
   ],
   "source": [
    "model = ConcreteModel()\n",
    "\n",
    "# declare decision variables\n",
    "model.x = Var(domain=NonNegativeReals)\n",
    "model.y = Var(domain=NonNegativeReals)\n",
    "\n",
    "# declare objective\n",
    "model.profit = Objective(\n",
    "    expr = 40*model.x + 30*model.y,\n",
    "    sense = maximize)\n",
    "\n",
    "# declare constraints\n",
    "model.demand = Constraint(expr = model.x <= 40)\n",
    "model.laborA = Constraint(expr = model.x + model.y <= 80)\n",
    "model.laborB = Constraint(expr = 2*model.x + model.y <= 100)\n",
    "\n",
    "# solve\n",
    "SolverFactory('cbc').solve(model).write()"
   ]
  },
  {
   "cell_type": "code",
   "execution_count": 7,
   "metadata": {
    "colab": {
     "base_uri": "https://localhost:8080/",
     "height": 68
    },
    "colab_type": "code",
    "executionInfo": {
     "elapsed": 367,
     "status": "ok",
     "timestamp": 1555698941635,
     "user": {
      "displayName": "Jeffrey Kantor",
      "photoUrl": "https://lh5.googleusercontent.com/-8zK5aAW5RMQ/AAAAAAAAAAI/AAAAAAAAKB0/kssUQyz8DTQ/s64/photo.jpg",
      "userId": "09038942003589296665"
     },
     "user_tz": 240
    },
    "id": "16AtkqK1ecIy",
    "nbpages": {
     "level": 2,
     "link": "[2.1.4 Production plan: Mixed product strategy](https://jckantor.github.io/ND-Pyomo-Cookbook/02.01-Production-Models-with-Linear-Constraints.html#2.1.4-Production-plan:-Mixed-product-strategy)",
     "section": "2.1.4 Production plan: Mixed product strategy"
    },
    "outputId": "56621172-1eec-458b-fd61-e856b70517b0",
    "pycharm": {}
   },
   "outputs": [
    {
     "name": "stdout",
     "output_type": "stream",
     "text": [
      "Profit =  2600.0\n",
      "Units of X =  20.0\n",
      "Units of Y =  60.0\n"
     ]
    }
   ],
   "source": [
    "# display solution\n",
    "print(\"Profit = \", model.profit())\n",
    "print(\"Units of X = \", model.x())\n",
    "print(\"Units of Y = \", model.y())"
   ]
  },
  {
   "cell_type": "markdown",
   "metadata": {
    "colab_type": "text",
    "id": "x7WugdoxecI1",
    "nbpages": {
     "level": 2,
     "link": "[2.1.4 Production plan: Mixed product strategy](https://jckantor.github.io/ND-Pyomo-Cookbook/02.01-Production-Models-with-Linear-Constraints.html#2.1.4-Production-plan:-Mixed-product-strategy)",
     "section": "2.1.4 Production plan: Mixed product strategy"
    },
    "pycharm": {}
   },
   "source": [
    "The mixed product strategy earns more profit than either of the single product srategies. Does this surprise you?  Before going further, try to explain why it is possible for a mixed product strategy to earn more profit than either of the possible single product strategies."
   ]
  },
  {
   "cell_type": "markdown",
   "metadata": {
    "colab_type": "text",
    "id": "o_K5Y2OaecI2",
    "nbpages": {
     "level": 2,
     "link": "[2.1.5 What are the active constraints?](https://jckantor.github.io/ND-Pyomo-Cookbook/02.01-Production-Models-with-Linear-Constraints.html#2.1.5-What-are-the-active-constraints?)",
     "section": "2.1.5 What are the active constraints?"
    },
    "pycharm": {}
   },
   "source": [
    "## 2.1.5 What are the active constraints?"
   ]
  },
  {
   "cell_type": "code",
   "execution_count": 8,
   "metadata": {
    "colab": {
     "base_uri": "https://localhost:8080/",
     "height": 392
    },
    "colab_type": "code",
    "executionInfo": {
     "elapsed": 1102,
     "status": "ok",
     "timestamp": 1555698950832,
     "user": {
      "displayName": "Jeffrey Kantor",
      "photoUrl": "https://lh5.googleusercontent.com/-8zK5aAW5RMQ/AAAAAAAAAAI/AAAAAAAAKB0/kssUQyz8DTQ/s64/photo.jpg",
      "userId": "09038942003589296665"
     },
     "user_tz": 240
    },
    "id": "DewV4M8mecI3",
    "nbpages": {
     "level": 2,
     "link": "[2.1.5 What are the active constraints?](https://jckantor.github.io/ND-Pyomo-Cookbook/02.01-Production-Models-with-Linear-Constraints.html#2.1.5-What-are-the-active-constraints?)",
     "section": "2.1.5 What are the active constraints?"
    },
    "outputId": "6fb9bbce-fbbd-43da-914b-818bc9ed69bf",
    "pycharm": {}
   },
   "outputs": [
    {
     "data": {
      "image/png": "[encoded data removed]",
      "text/plain": [
       "<Figure size 432x432 with 1 Axes>"
      ]
     },
     "metadata": {
      "needs_background": "light"
     },
     "output_type": "display_data"
    }
   ],
   "source": [
    "plt.figure(figsize=(6, 6))\n",
    "plt.subplot(111, aspect='equal')\n",
    "plt.axis([0, 100, 0, 100])\n",
    "plt.xlabel('Production Qty X')\n",
    "plt.ylabel('Production Qty Y')\n",
    "\n",
    "# Labor A constraint\n",
    "x = np.array([0, 80])\n",
    "y = 80 - x\n",
    "plt.plot(x, y, 'r', lw=2)\n",
    "plt.fill_between([0, 80, 100], [80, 0,0 ], [100, 100, 100], color='r', alpha=0.15)\n",
    "\n",
    "# Labor B constraint\n",
    "x = np.array([0, 50])\n",
    "y = 100 - 2*x\n",
    "plt.plot(x, y, 'b', lw=2)\n",
    "plt.fill_between([0, 50, 100], [100, 0, 0], [100, 100, 100], color='b', alpha=0.15)\n",
    "\n",
    "# Demand constraint\n",
    "plt.plot([40, 40], [0, 100], 'g', lw=2)\n",
    "plt.fill_between([40, 100], [0, 0], [100, 100], color='g', alpha=0.15)\n",
    "\n",
    "plt.legend(['Labor A Constraint', 'Labor B Constraint', 'Demand Constraint'])\n",
    "\n",
    "# Contours of constant profit\n",
    "x = np.array([0, 100])\n",
    "for p in np.linspace(0, 3600, 10):\n",
    "    y = (p - 40*x)/30\n",
    "    plt.plot(x, y, 'y--')\n",
    "\n",
    "# Optimum\n",
    "plt.plot(20, 60, 'r.', ms=20)\n",
    "plt.annotate('Mixed Product Strategy', xy=(20, 60), xytext=(50, 70), \n",
    "             arrowprops=dict(shrink=.1, width=1, headwidth=5))\n",
    "\n",
    "plt.plot(0, 80, 'b.', ms=20)\n",
    "plt.annotate('Y Only', xy=(0, 80), xytext=(20, 90), \n",
    "             arrowprops=dict(shrink=0.1, width=1, headwidth=5))\n",
    "\n",
    "plt.plot(40, 0, 'b.', ms=20)\n",
    "plt.annotate('X Only', xy=(40, 0), xytext=(70, 20), \n",
    "             arrowprops=dict(shrink=0.1, width=1, headwidth=5))\n",
    "\n",
    "plt.text(4, 23, 'Increasing Profit')\n",
    "plt.annotate('', xy=(20,15), xytext=(0,0), \n",
    "             arrowprops=dict(width=0.5,headwidth=5))\n",
    "\n",
    "fname = 'LPprog01.png'\n",
    "fname = os.path.join('figures', fname) if os.path.exists('figures') else fname\n",
    "plt.savefig(fname, bbox_inches='tight')"
   ]
  },
  {
   "cell_type": "code",
   "execution_count": null,
   "metadata": {
    "colab": {},
    "colab_type": "code",
    "id": "PhCCA3bWfRTy",
    "nbpages": {
     "level": 2,
     "link": "[2.1.5 What are the active constraints?](https://jckantor.github.io/ND-Pyomo-Cookbook/02.01-Production-Models-with-Linear-Constraints.html#2.1.5-What-are-the-active-constraints?)",
     "section": "2.1.5 What are the active constraints?"
    },
    "pycharm": {}
   },
   "outputs": [],
   "source": []
  },
  {
   "cell_type": "markdown",
   "metadata": {
    "colab_type": "text",
    "id": "wSsPCykZ4Px7",
    "nbpages": {
     "level": 2,
     "link": "[2.1.5 What are the active constraints?](https://jckantor.github.io/ND-Pyomo-Cookbook/02.01-Production-Models-with-Linear-Constraints.html#2.1.5-What-are-the-active-constraints?)",
     "section": "2.1.5 What are the active constraints?"
    },
    "pycharm": {}
   },
   "source": [
    "<!--NAVIGATION-->\n",
    "< [2.0 Linear Programming](https://jckantor.github.io/ND-Pyomo-Cookbook/02.00-Linear-Programming.html) | [Contents](toc.html) | [Tag Index](tag_index.html) | [2.2 Production Model Sensitivity Analysis](https://jckantor.github.io/ND-Pyomo-Cookbook/02.02-Production-Model-Sensitivity-Analysis.html) ><p><a href=\"https://colab.research.google.com/github/jckantor/ND-Pyomo-Cookbook/blob/master/docs/02.01-Production-Models-with-Linear-Constraints.ipynb\"> <img align=\"left\" src=\"https://colab.research.google.com/assets/colab-badge.svg\" alt=\"Open in Colab\" title=\"Open in Google Colaboratory\"></a><p><a href=\"https://jckantor.github.io/ND-Pyomo-Cookbook/02.01-Production-Models-with-Linear-Constraints.ipynb\"> <img align=\"left\" src=\"https://img.shields.io/badge/Github-Download-blue.svg\" alt=\"Download\" title=\"Download Notebook\"></a>"
   ]
  }
 ],
 "metadata": {
  "colab": {
   "collapsed_sections": [],
   "name": "02.01-Production-Models-with-Linear-Constraints.ipynb",
   "provenance": [],
   "version": "0.3.2"
  },
  "kernelspec": {
   "display_name": "Python 3",
   "language": "python",
   "name": "python3"
  },
  "language_info": {
   "codemirror_mode": {
    "name": "ipython",
    "version": 3
   },
   "file_extension": ".py",
   "mimetype": "text/x-python",
   "name": "python",
   "nbconvert_exporter": "python",
   "pygments_lexer": "ipython3",
   "version": "3.7.4"
  }
 },
 "nbformat": 4,
 "nbformat_minor": 4
}
