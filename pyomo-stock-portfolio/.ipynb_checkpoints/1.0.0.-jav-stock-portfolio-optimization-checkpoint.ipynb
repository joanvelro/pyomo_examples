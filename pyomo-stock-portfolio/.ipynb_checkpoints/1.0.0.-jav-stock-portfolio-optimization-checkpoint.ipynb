{
 "cells": [
  {
   "cell_type": "markdown",
   "metadata": {},
   "source": [
    "# Stock Portfolio Optimal Adjust\n",
    "Un inversor propietario de una cartera de valores busca maximizar los ingresos por dividendos a un año vista.\n",
    "\n",
    "Dada una predicción del precio de los valores de su cartera, el inversor pretende ajustar su cartera buscando la máxima rentabiliadd posible al capital invertido.\n",
    "\n",
    "En concreto se enfrenta a la decisión sobre el número de acciones que debería vender o comprar de cada valor para maximizar sus beneficios y al mismo tiempo incrementar el valor de su cartera"
   ]
  },
  {
   "cell_type": "markdown",
   "metadata": {},
   "source": [
    "# Data\n",
    "\n",
    "## Conjuntos\n",
    "* $\\Omega$: Conjunto de Valores bursalites\n",
    "* $M = |\\Omega|$ : número de valores bursatiles\n",
    "\n",
    "## Parámetros\n",
    "* $b_i$: número actual de participaciones del valor bursatil $i$\n",
    "* $v_i$: el precio actual valor $i$ por acción\n",
    "* $w_i$: nuevo precio del valor $i$ al final del año\n",
    "* $d_i$: dividendo a pagar al final del año del valor bursatil $i$\n",
    "\n",
    "## Constantes\n",
    "* $r$: Peso máximo que puede tener cada participación de cada valor en la cartera tras el ajuste\n",
    "* $s$: Incremento mínimo de valor de la cartera tras el ajuste\n",
    "\n",
    "\n",
    "## Variables\n",
    "\n",
    "* $x_i$ Cambio en el número de acciones de cada valor bursatil $i \\in \\Omega$\n"
   ]
  },
  {
   "cell_type": "markdown",
   "metadata": {
    "ExecuteTime": {
     "end_time": "2021-10-15T10:33:36.307131Z",
     "start_time": "2021-10-15T10:33:36.303978Z"
    }
   },
   "source": [
    "# Modelo\n",
    "## Función Objetivo\n",
    "Maximizar los dividendos\n",
    "\n",
    "$$\n",
    "z = \\sum_{i\\in \\Omega} d_i (b_i + x_i)\n",
    "$$"
   ]
  },
  {
   "cell_type": "markdown",
   "metadata": {},
   "source": [
    "## Restricciones\n",
    "\n",
    "### Restricción 1\n",
    "Valor de las participaciones debe ser no negativo\n",
    "$$\n",
    "x_i \\ge -b_i, \\hspace{0.3cm} \\forall i \\in \\Omega\n",
    "$$\n",
    "\n",
    "### Restricción 2\n",
    "La cartera debe evitar depender en exceso de un valor cualquiera tras el ajuste\n",
    "\n",
    "$$\n",
    "v_j(b_j+x_j)\\leq r  \\left( \\sum_{i \\in \\Omega} v_i(b_i + x_i) \\right) , \\hspace{0.3cm} \\forall j \\in \\Omega\n",
    "$$\n",
    "\n",
    "### Restricción 3\n",
    "El capital total de la cartera no debe cambiar tras el ajuste (no se invierte dinero adicional, es decir, las acciones que se compran, se pagan con la venta de otras)\n",
    "\n",
    "\n",
    "$$\n",
    "\\sum_{i \\in \\Omega} v_i  x_i = 0\n",
    "$$\n",
    "\n",
    "\n",
    "\n",
    "### Restricción 4\n",
    "El capital total en el futuro debe ser al menos cierto porcentaje mayor que el capital invertido en el momento presente\n",
    "\n",
    "$$\n",
    "\\sum_{i \\in \\Omega} w_i(bi+x_i) \\ge (1+s) \\sum_{i \\in \\Omega} v_i b_i\n",
    "$$\n",
    "\n",
    "\n"
   ]
  },
  {
   "cell_type": "markdown",
   "metadata": {},
   "source": [
    "# Modelo Pyomo"
   ]
  },
  {
   "cell_type": "code",
   "execution_count": 14,
   "metadata": {
    "ExecuteTime": {
     "end_time": "2021-10-15T11:06:58.025782Z",
     "start_time": "2021-10-15T11:06:58.019241Z"
    }
   },
   "outputs": [],
   "source": [
    "import pyomo.environ as pyo\n",
    "from pyomo.opt import SolverFactory, SolverStatus, TerminationCondition\n",
    "import numpy as np\n",
    "np.random.seed(0)"
   ]
  },
  {
   "cell_type": "markdown",
   "metadata": {},
   "source": [
    "## Model Data"
   ]
  },
  {
   "cell_type": "code",
   "execution_count": 405,
   "metadata": {
    "ExecuteTime": {
     "end_time": "2021-10-15T22:11:26.300342Z",
     "start_time": "2021-10-15T22:11:26.287268Z"
    }
   },
   "outputs": [
    {
     "name": "stdout",
     "output_type": "stream",
     "text": [
      "Actual investment: 7000 euros\n",
      "Expected profit: 675 euros\n"
     ]
    }
   ],
   "source": [
    "r = 0.25\n",
    "s = 0.01\n",
    "stocks = ['AAPL', 'AMZN', 'TSLA']\n",
    "actual_stock  = {'AAPL':75, 'AMZN':100, 'TSLA':35}\n",
    "actual_prices = {'AAPL':20, 'AMZN':20,  'TSLA':100}\n",
    "future_prices = {'AAPL':18, 'AMZN':23,  'TSLA':195}\n",
    "dividendos    = {'AAPL':0,  'AMZN':5,   'TSLA':5}\n",
    "\n",
    "#future_prices = {i:round(actual_prices[i]* np.random.uniform(0.98, 1.05)) for i in stocks}\n",
    "#future_prices\n",
    "actual_investment = sum(actual_stock[i]*actual_prices[i] for i in stocks)\n",
    "expected_profit = sum(actual_stock[i]*dividendos[i] for i in stocks)\n",
    "print('Actual investment: {} euros'.format(actual_investment))\n",
    "print('Expected profit: {} euros'.format(expected_profit))\n"
   ]
  },
  {
   "cell_type": "code",
   "execution_count": 408,
   "metadata": {
    "ExecuteTime": {
     "end_time": "2021-10-15T22:12:20.303580Z",
     "start_time": "2021-10-15T22:12:20.273251Z"
    }
   },
   "outputs": [],
   "source": [
    "# model\n",
    "model = pyo.ConcreteModel()\n",
    "# Indexes\n",
    "#model.i = pyo.RangeSet(1, N)\n",
    "model.stocks  = pyo.Set(initialize=stocks)\n",
    "# Variables\n",
    "model.x = pyo.Var(model.stocks, domain=pyo.Reals, initialize=0)  # PositiveReals PositiveIntegers\n",
    "\n",
    "# Parameters\n",
    "# actual price\n",
    "model.v = pyo.Param(model.stocks, initialize=actual_prices, within=pyo.Any)\n",
    "# actual no. stocks\n",
    "model.b = pyo.Param(model.stocks, initialize=actual_stock, within=pyo.Any)\n",
    "# future price\n",
    "model.w = pyo.Param(model.stocks, initialize=future_prices, within=pyo.Any)\n",
    "# expected dividends\n",
    "model.d = pyo.Param(model.stocks, initialize=dividendos, within=pyo.Any)\n",
    "\n",
    "\n",
    "# Constraint 1\n",
    "def constraint_1(model, i):\n",
    "    return model.x[i] >= -model.b[i]\n",
    "model.constraint_1 = pyo.Constraint(model.stocks, rule=constraint_1)\n",
    "\n",
    "# Constraint 2\n",
    "def constraint_2(model, j):\n",
    "    return model.v[j]*(model.b[j]+model.x[j]) >= r* sum(model.v[i]*(model.b[i]+model.x[i]) for i in model.stocks )\n",
    "model.constraint_2 = pyo.Constraint(model.stocks, rule=constraint_2)\n",
    "\n",
    "# Constraint 3\n",
    "def constraint_3(model):\n",
    "    return sum(model.v[i]*model.x[i] for i in model.stocks) ==0 \n",
    "model.constraint_3 = pyo.Constraint(model.stocks, rule=constraint_3)\n",
    "\n",
    "# Expresion 1 (future value of the investment)\n",
    "def expresion_1(model):\n",
    "    return sum(model.w[i] * model.b[i] for i in model.stocks)\n",
    "model.future_invest = pyo.Expression(rule=expresion_1)\n",
    "\n",
    "# Expresion 3 (future value of the investment)\n",
    "def expresion_3(model):\n",
    "    return sum(model.w[i] * (model.b[i]+model.x[i]) for i in model.stocks)\n",
    "model.future_invest_with_ad = pyo.Expression(rule=expresion_3)\n",
    "\n",
    "# Expresion 2 (present value of the investment)\n",
    "def expresion_2(model):\n",
    "    return sum(model.v[i] * model.b[i] for i in model.stocks)\n",
    "model.actual_invest = pyo.Expression(rule=expresion_2)\n",
    "\n",
    "# Expresion 2 (present value of the investment after adjustment)\n",
    "def expresion_4(model):\n",
    "    return sum(model.v[i] * (model.b[i]+model.x[i]) for i in model.stocks)\n",
    "model.actual_invest_with_ad = pyo.Expression(rule=expresion_4)\n",
    "\n",
    "# Constraint 4\n",
    "def constraint_4(model):\n",
    "    return model.future_invest_with_ad  >= (1+s)* model.actual_invest\n",
    "model.constraint_4 = pyo.Constraint(rule=constraint_4)\n",
    "\n",
    "# Objective\n",
    "def objective_rule(model):\n",
    "    profit = sum(model.d[i]*(model.x[i]+model.b[i]) for i in model.stocks)\n",
    "    return profit\n",
    "model.OF = pyo.Objective(rule=objective_rule, sense=pyo.maximize, doc='maximize profit')\n",
    "\n",
    "\n"
   ]
  },
  {
   "cell_type": "code",
   "execution_count": 410,
   "metadata": {
    "ExecuteTime": {
     "end_time": "2021-10-15T22:12:50.756697Z",
     "start_time": "2021-10-15T22:12:50.689086Z"
    }
   },
   "outputs": [
    {
     "name": "stdout",
     "output_type": "stream",
     "text": [
      "--- Termination Condition ---\n",
      "    optimal\n",
      "\n",
      "\n",
      "--- Results ---\n",
      "    Optimal profit: 962.5\n",
      "    Expected profit: 675\n",
      "    Profit GAP: 287.5\n",
      "    Actual Investment without adjustment: 7000.0\n",
      "    Actual Investment with adjustment: 7000.0\n",
      "    Future Investment without adjustment: 10475.0\n",
      "    Future Investment with adjustment: 9012.5\n",
      "    Investment GAP: 2012.5 (28.749999999999996 %)\n",
      "    AAPL: 12.5\n",
      "    AMZN: 75.0\n",
      "    TSLA: -17.5\n",
      "--- Problem Results ---\n",
      "\n",
      "Name: unknown\n",
      "Lower bound: 962.5\n",
      "Upper bound: 962.5\n",
      "Number of objectives: 1\n",
      "Number of constraints: 11\n",
      "Number of variables: 4\n",
      "Number of nonzeros: 25\n",
      "Sense: maximize\n",
      "\n",
      "Execution time: 0.027069807052612305\n"
     ]
    }
   ],
   "source": [
    "\n",
    "path_cplex = '/Applications/CPLEX_Studio_Community201/cplex/bin/x86-64_osx/cplex'\n",
    "path_gurobi=  '/usr/local/bin/gurobi.sh'\n",
    "\n",
    "#opt = SolverFactory(\"gurobi\", solver_io=\"python\")  # glpk\n",
    "#opt = SolverFactory(\"cplex\", solver_io=\"python\", executable=path_cplex)  # glpk\n",
    "opt = SolverFactory(\"glpk\")  # glpk\n",
    "\n",
    "\n",
    "results = opt.solve(model)  # tee=True for details\n",
    "\n",
    "# Check the solution\n",
    "if (results.solver.status == SolverStatus.ok) and (results.solver.termination_condition == TerminationCondition.optimal):\n",
    "    print('--- Termination Condition ---')\n",
    "    print('    {}'.format(results.solver.termination_condition))\n",
    "    print('\\n')\n",
    "    print('--- Results ---')\n",
    "    #print('Feasible solution')\n",
    "    #model.OF.pprint()\n",
    "    optimal_profit = pyo.value(model.OF)\n",
    "    print('    Optimal profit: {}'.format(optimal_profit))\n",
    "    print('    Expected profit: {}'.format(expected_profit))\n",
    "    print('    Profit GAP: {}'.format(optimal_profit - expected_profit ))\n",
    "    print('    Actual Investment without adjustment: {}'.format(pyo.value(model.actual_invest)))\n",
    "    print('    Actual Investment with adjustment: {}'.format(pyo.value(model.actual_invest_with_ad)))\n",
    "    print('    Future Investment without adjustment: {}'.format(pyo.value(model.future_invest)))\n",
    "    print('    Future Investment with adjustment: {}'.format(pyo.value(model.future_invest_with_ad)))\n",
    "    sp = 100*round((pyo.value(model.future_invest_with_ad) - pyo.value(model.actual_invest)) / pyo.value(model.actual_invest),4)\n",
    "    print('    Investment GAP: {} ({} %)'.format(pyo.value(model.future_invest_with_ad) - pyo.value(model.actual_invest), sp))\n",
    "    \n",
    "    for stock in model.stocks:\n",
    "        print('    {}: {}'.format(stock, pyo.value(model.x[stock])))\n",
    "\n",
    "\n",
    "    print('--- Problem Results ---')\n",
    "    print(results.Problem())\n",
    "    #print('--- Solver Results ---')\n",
    "    print('Execution time: {}'.format(results.Solver().Time))\n",
    "elif results.solver.termination_condition == TerminationCondition.infeasible:\n",
    "    print('termination condition:', results.solver.termination_condition)\n",
    "    print('(!) Infeasible solution')\n",
    "else:\n",
    "    #\n",
    "    # Something else is wrong\n",
    "    print('--- Termination Condition ---')\n",
    "    print('  (!) {}'.format(results.solver.termination_condition))\n",
    "    print('\\n')\n",
    "    model.pprint()\n",
    "    #print('Status:', results.solver.status)"
   ]
  },
  {
   "cell_type": "markdown",
   "metadata": {},
   "source": [
    "# Referencias\n",
    "\n",
    "[1]. [Formulación y resolucuión de Modelos de Programación Matemática en Ingeniería y Ciencia](http://www.dia.fi.upm.es/~jafernan/teaching/operational-research/LibroCompleto.pdf)"
   ]
  }
 ],
 "metadata": {
  "hide_input": false,
  "kernelspec": {
   "display_name": "Python 3",
   "language": "python",
   "name": "python3"
  },
  "language_info": {
   "codemirror_mode": {
    "name": "ipython",
    "version": 3
   },
   "file_extension": ".py",
   "mimetype": "text/x-python",
   "name": "python",
   "nbconvert_exporter": "python",
   "pygments_lexer": "ipython3",
   "version": "3.7.3"
  },
  "toc": {
   "base_numbering": 1,
   "nav_menu": {},
   "number_sections": true,
   "sideBar": true,
   "skip_h1_title": false,
   "title_cell": "Table of Contents",
   "title_sidebar": "Contents",
   "toc_cell": false,
   "toc_position": {},
   "toc_section_display": true,
   "toc_window_display": true
  },
  "varInspector": {
   "cols": {
    "lenName": 16,
    "lenType": 16,
    "lenVar": 40
   },
   "kernels_config": {
    "python": {
     "delete_cmd_postfix": "",
     "delete_cmd_prefix": "del ",
     "library": "var_list.py",
     "varRefreshCmd": "print(var_dic_list())"
    },
    "r": {
     "delete_cmd_postfix": ") ",
     "delete_cmd_prefix": "rm(",
     "library": "var_list.r",
     "varRefreshCmd": "cat(var_dic_list()) "
    }
   },
   "types_to_exclude": [
    "module",
    "function",
    "builtin_function_or_method",
    "instance",
    "_Feature"
   ],
   "window_display": false
  }
 },
 "nbformat": 4,
 "nbformat_minor": 2
}
