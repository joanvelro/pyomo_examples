{
 "cells": [
  {
   "cell_type": "markdown",
   "metadata": {},
   "source": [
    "# Optimal Potfoliop selection\n",
    "selecting the best portfolio (asset distribution), out of the set of all portfolios being considered, according to some objective. The objective typically maximizes factors such as expected return, and minimizes costs like financial risk. Factors being considered may range from tangible (such as assets, liabilities, earnings or other fundamentals) to intangible (such as selective divestment).\n",
    "\n",
    "Modern portfolio theory was introduced in a 1952 doctoral thesis by Harry Markowitz. It assumes that an investor wants to maximize a portfolio's expected return contingent on any given amount of risk. For portfolios that meet this criterion, known as efficient portfolios, achieving a higher expected return requires taking on more risk, so investors are faced with a trade-off between risk and expected return. This risk-expected return relationship of efficient portfolios is graphically represented by a curve known as the __efficient frontier__. All efficient portfolios, each represented by a point on the efficient frontier, are well-diversified. While ignoring higher moments can lead to significant over-investment in risky securities, especially when volatility is high, the optimization of portfolios when return distributions are non-Gaussian is mathematically challenging.\n",
    "\n"
   ]
  },
  {
   "cell_type": "markdown",
   "metadata": {},
   "source": [
    "# Data\n",
    "\n",
    "## Sets\n",
    "* $\\Omega$: set of stocks\n",
    "\n",
    "\n",
    "## Parameters\n",
    "* $\\lambda_i: $ Price of stock $i$ at present time\n",
    "* $\\hat{\\lambda_i}:$ Expected price of stock $i$ at future\n",
    "* $S \\in M^{N x N}$: Covariance matrix\n",
    "\n",
    "## Constants\n",
    "* $N = |\\Omega|$ : no. stocks\n",
    "* $A$: Ammount of money to invest\n",
    "\n",
    "\n",
    "## Variables\n",
    "\n",
    "* $X \\in M^{1x N}$: decision vector related to the Participation of each stock $i \\in \\Omega$\n"
   ]
  },
  {
   "cell_type": "markdown",
   "metadata": {
    "ExecuteTime": {
     "end_time": "2021-10-15T10:33:36.307131Z",
     "start_time": "2021-10-15T10:33:36.303978Z"
    }
   },
   "source": [
    "# Model\n",
    "## Objective function\n",
    "Objective is to minimize risk (profit volatility, i.e variance).  This is modeled using the\n",
    "covariance matrix, which measures the historical correlation between stocks.\n",
    "\n",
    "\n",
    "\n",
    "$$\n",
    "min_x \\hspace{0.2cm} \\{z = Var \\left[ \\sum_i x_i \\lambda_i \\right] = \\sum_i \\sum_j s_{i,j} x_i x_j = X S X^T \\}\n",
    "$$\n",
    "\n",
    "where $S \\in \\mathcal{R}^{n\\cdot n} $ is the covariance matrix of the $\\Lambda = [\\lambda_1, \\ldots, \\lambda_n] $ price vector and $X \\in \\mathcal{R^n}$ is the decision vector "
   ]
  },
  {
   "cell_type": "markdown",
   "metadata": {
    "ExecuteTime": {
     "end_time": "2021-10-16T13:29:54.157412Z",
     "start_time": "2021-10-16T13:29:54.150260Z"
    }
   },
   "source": [
    "## Constraints\n",
    "\n",
    "### Constraint 1\n",
    "Ammount of money to invest\n",
    "$$\n",
    "\\Lambda X^T = \\sum_i x_i  \\lambda_i \\leq A\n",
    "$$\n",
    "\n"
   ]
  },
  {
   "cell_type": "markdown",
   "metadata": {},
   "source": [
    "# Pyomo Model"
   ]
  },
  {
   "cell_type": "code",
   "execution_count": 12,
   "metadata": {
    "ExecuteTime": {
     "end_time": "2021-10-23T15:10:41.908103Z",
     "start_time": "2021-10-23T15:10:41.903071Z"
    }
   },
   "outputs": [],
   "source": [
    "import pyomo.environ as pyo\n",
    "from pyomo.opt import SolverFactory, SolverStatus, TerminationCondition\n",
    "import numpy as np\n",
    "np.random.seed(0)\n",
    "path_cplex = '/Applications/CPLEX_Studio_Community201/cplex/bin/x86-64_osx/cplex'\n",
    "path_gurobi=  '/usr/local/bin/gurobi.sh'"
   ]
  },
  {
   "cell_type": "markdown",
   "metadata": {},
   "source": [
    "## Model Data"
   ]
  },
  {
   "cell_type": "code",
   "execution_count": 13,
   "metadata": {
    "ExecuteTime": {
     "end_time": "2021-10-23T15:10:42.813949Z",
     "start_time": "2021-10-23T15:10:42.807279Z"
    }
   },
   "outputs": [],
   "source": [
    "import matplotlib.pyplot as plt\n",
    "import pandas as pd"
   ]
  },
  {
   "cell_type": "code",
   "execution_count": 14,
   "metadata": {
    "ExecuteTime": {
     "end_time": "2021-10-23T15:10:43.492858Z",
     "start_time": "2021-10-23T15:10:43.468399Z"
    }
   },
   "outputs": [],
   "source": [
    "def plot_stocks(data):\n",
    "    fig = plt.figure(figsize=(10, 4), dpi=150, facecolor='w', edgecolor='w')\n",
    "    fontsize=8\n",
    "    for i in range(data.shape[1]):\n",
    "        stock = data.columns[i]\n",
    "        ax = fig.add_subplot(4, 2, i+1)\n",
    "        ax.plot(data.index,\n",
    "                 data[stock],\n",
    "                 linewidth=1,\n",
    "                 linestyle='solid',\n",
    "                 color='k',\n",
    "                 label=stock)\n",
    "        ax.set_ylabel(stock)\n",
    "        #ax.set_xlabel('Time')\n",
    "        ax.grid(True)\n",
    "        #plt.legend()\n",
    "        ax.tick_params(axis='both', labelsize=fontsize)\n",
    "    plt.subplots_adjust(wspace=0.2, hspace=0.4)\n",
    "    plt.show()\n",
    "    "
   ]
  },
  {
   "cell_type": "markdown",
   "metadata": {},
   "source": [
    "### Real data"
   ]
  },
  {
   "cell_type": "code",
   "execution_count": 39,
   "metadata": {
    "ExecuteTime": {
     "end_time": "2021-10-23T15:19:30.933361Z",
     "start_time": "2021-10-23T15:19:30.903723Z"
    }
   },
   "outputs": [],
   "source": [
    "data = pd.read_csv('data/stocks_data_procesed.csv')\n",
    "data.set_index(['Date'], inplace=True, drop=True)\n",
    "stocks = data.columns\n",
    "stocks = data.columns.to_list()\n",
    "# normalize stocks data\n",
    "for stock in stocks:\n",
    "    data[stock] = (data[stock] - data[stock].min()) / (data[stock].max() - data[stock].min())\n",
    "# Standard deviation per stock\n",
    "stock_volatility = data.std().to_list()\n",
    "stock_volatility = {stocks[i]:stock_volatility[i] for i in range(len(stocks))}\n",
    "# Expected value per stock\n",
    "stock_return = data.mean().to_list()\n",
    "stock_return = {stocks[i]:stock_return[i] for i in range(len(stocks))}\n",
    "# Convariance matrix\n",
    "sigma = data.cov()\n",
    "S = {(i,j):sigma.loc[i,j] for i in stocks for j in stocks if i!=j}"
   ]
  },
  {
   "cell_type": "markdown",
   "metadata": {},
   "source": [
    "## Dummy data"
   ]
  },
  {
   "cell_type": "code",
   "execution_count": 42,
   "metadata": {
    "ExecuteTime": {
     "end_time": "2021-10-23T15:19:50.456177Z",
     "start_time": "2021-10-23T15:19:50.432979Z"
    }
   },
   "outputs": [],
   "source": [
    "# Import (normalized) historical return data using pandas\n",
    "data = pd.read_csv('data/portfolio.csv', index_col=0)\n",
    "capital = 1\n",
    "stocks = data.columns.to_list()\n",
    "# Standard deviation per stock\n",
    "stock_volatility = data.std().to_list()\n",
    "stock_volatility = {stocks[i]:stock_volatility[i] for i in range(len(stocks))}\n",
    "# Expected value per stock\n",
    "stock_return = data.mean().to_list()\n",
    "stock_return = {stocks[i]:stock_return[i] for i in range(len(stocks))}\n",
    "# Covaraince matrix stocks\n",
    "sigma = data.cov()\n",
    "S = {(i,j):sigma.loc[i,j] for i in stocks for j in stocks}"
   ]
  },
  {
   "cell_type": "code",
   "execution_count": 97,
   "metadata": {
    "ExecuteTime": {
     "end_time": "2021-10-24T16:25:54.438238Z",
     "start_time": "2021-10-24T16:25:54.416831Z"
    }
   },
   "outputs": [],
   "source": [
    "#\n",
    "# --- DEFINE MODEL ---\n",
    "#\n",
    "\n",
    "# model\n",
    "model = pyo.ConcreteModel()\n",
    "# Indexes\n",
    "#model.i = pyo.RangeSet(1, N)\n",
    "model.stocks  = pyo.Set(initialize=stocks)\n",
    "# Variables\n",
    "model.x = pyo.Var(model.stocks, domain=pyo.Reals, initialize=0)  # PositiveReals PositiveIntegers\n",
    "# Parameters\n",
    "# Stock volatility\n",
    "model.stock_volatity = pyo.Param(model.stocks, initialize=stock_volatility, within=pyo.Any)\n",
    "# expected stock value \n",
    "model.stock_return = pyo.Param(model.stocks, initialize=stock_return, within=pyo.Any)\n",
    "# covariance\n",
    "model.cov = pyo.Param(model.stocks, model.stocks, initialize=S, within=pyo.Any)\n",
    "# min risk return\n",
    "model.minrisk_return = pyo.Param(initialize=0, mutable=True, within=pyo.Any)\n",
    "\n",
    "# Expresion portfolio return\n",
    "def portfolio_return(model):\n",
    "    return sum(model.stock_return[i]*model.x[i] for i in model.stocks)\n",
    "model.portfolio_return = pyo.Expression(rule=portfolio_return)\n",
    "\n",
    "# Expresion portfolio risk \n",
    "def portfolio_risk(model):\n",
    "    return sum(model.cov[i, j]*model.x[i]*model.x[j] for i in stocks for j in model.stocks)\n",
    "model.portfolio_risk = pyo.Expression(rule=portfolio_risk)\n",
    "\n",
    "# Constraint capital invested\n",
    "def captial_constraint(model):\n",
    "    return model.portfolio_return == capital \n",
    "model.c_captial_constraint = pyo.Constraint(rule=captial_constraint)\n",
    "\n",
    "\n",
    "# Constraint porfoli return\n",
    "def minrisk_return(model):\n",
    "    return model.portfolio_return == model.minrisk_return \n",
    "model.c_minrisk_return = pyo.Constraint(rule=minrisk_return)\n",
    "\n",
    "\n",
    "# Objective\n",
    "def objective_rule(model):\n",
    "    return model.portfolio_risk \n",
    "model.OF = pyo.Objective(rule=objective_rule, sense=pyo.minimize, doc='minimize risk')\n",
    "\n",
    "\n",
    "model.c_minrisk_return.deactivate()"
   ]
  },
  {
   "cell_type": "code",
   "execution_count": 101,
   "metadata": {
    "ExecuteTime": {
     "end_time": "2021-10-24T16:26:34.796091Z",
     "start_time": "2021-10-24T16:26:33.711159Z"
    }
   },
   "outputs": [
    {
     "name": "stdout",
     "output_type": "stream",
     "text": [
      "Parameter OutputFlag unchanged\n",
      "   Value: 1  Min: 0  Max: 1  Default: 1\n",
      "Changed value of parameter LogFile to /var/folders/9k/04pt01hs1ng95lppnvj97vw40000gn/T/tmpav0c8ptp.log\n",
      "   Prev:   Default: \n",
      "Gurobi Optimizer version 9.1.2 build v9.1.2rc0 (mac64)\n",
      "Thread count: 2 physical cores, 4 logical processors, using up to 4 threads\n",
      "Optimize a model with 1 rows, 10 columns and 10 nonzeros\n",
      "Model fingerprint: 0xe9884101\n",
      "Model has 55 quadratic objective terms\n",
      "Coefficient statistics:\n",
      "  Matrix range     [7e-04, 1e-02]\n",
      "  Objective range  [0e+00, 0e+00]\n",
      "  QObjective range [3e-05, 7e-03]\n",
      "  Bounds range     [0e+00, 0e+00]\n",
      "  RHS range        [1e+00, 1e+00]\n",
      "Presolve time: 0.01s\n",
      "Presolved: 1 rows, 10 columns, 10 nonzeros\n",
      "Presolved model has 55 quadratic objective terms\n",
      "Ordering time: 0.00s\n",
      "\n",
      "Barrier statistics:\n",
      " Free vars  : 19\n",
      " AA' NZ     : 4.500e+01\n",
      " Factor NZ  : 5.500e+01\n",
      " Factor Ops : 3.850e+02 (less than 1 second per iteration)\n",
      " Threads    : 1\n",
      "\n",
      "                  Objective                Residual\n",
      "Iter       Primal          Dual         Primal    Dual     Compl     Time\n",
      "   0   2.72922346e+00 -2.72922346e+00  1.55e-15 1.07e+00  0.00e+00     0s\n",
      "   1   2.40245086e+00  2.40244802e+00  3.45e-10 1.07e-06  0.00e+00     0s\n",
      "   2   2.40245086e+00  2.40245086e+00  4.44e-16 4.17e-12  0.00e+00     0s\n",
      "\n",
      "Barrier solved model in 2 iterations and 0.03 seconds\n",
      "Optimal objective 2.40245086e+00\n",
      "\n",
      "Changed value of parameter LogFile to \n",
      "   Prev: /var/folders/9k/04pt01hs1ng95lppnvj97vw40000gn/T/tmpav0c8ptp.log  Default: \n",
      "--- Termination Condition ---\n",
      "    optimal\n",
      "\n",
      "\n",
      " --- Minimum Risk Portfolio --- \n",
      "\n",
      "    AA: 5.894304755584342\n",
      "    BB: 18.196857452709004\n",
      "    CC: -23.822741832658938\n",
      "    DD: 29.029837027275107\n",
      "    EE: 3.9895402182566717\n",
      "    FF: -17.917461195755383\n",
      "    GG: 9.239499439962193\n",
      "    HH: 16.824053037019237\n",
      "    II: -15.250461480524391\n",
      "    JJ: -3.5130948796908825\n",
      "\n",
      "\n",
      "   Volatility: 1.5499841467450346\n",
      "   Expected return: 1.0000000000000002\n"
     ]
    }
   ],
   "source": [
    "\n",
    "\n",
    "#\n",
    "# --- SOLVE MODEL ---\n",
    "#\n",
    "\n",
    "opt = SolverFactory(\"gurobi\", solver_io=\"python\")  # glpk\n",
    "#opt = SolverFactory(\"cplex\", solver_io=\"python\", executable=path_cplex)  # glpk\n",
    "#opt = SolverFactory(\"glpk\")  # glpk\n",
    "#opt = SolverFactory(\"ipopt\")  # ipopt\n",
    "results = opt.solve(model, tee=True)  # tee=True for details\n",
    "\n",
    "# Check the solution\n",
    "if (results.solver.status == SolverStatus.ok) and (results.solver.termination_condition == TerminationCondition.optimal):\n",
    "    print('--- Termination Condition ---')\n",
    "    print('    {}'.format(results.solver.termination_condition))\n",
    "    #print('\\n')\n",
    "    #print('--- Results ---')\n",
    "    #print('Feasible solution')\n",
    "    #model.OF.pprint()\n",
    "\n",
    "    # Display minimum risk portfolio\n",
    "    print('\\n')\n",
    "    print(' --- Minimum Risk Portfolio --- \\n')\n",
    "    for stock in model.stocks:\n",
    "        print('    {}: {}'.format(stock, pyo.value(model.x[stock])))\n",
    "    print('\\n')\n",
    "    minrisk_volatility = np.sqrt(model.portfolio_risk())\n",
    "    minrisk_return = model.portfolio_return()\n",
    "    print('   Volatility: {}'.format(minrisk_volatility))\n",
    "    print('   Expected return: {}'.format(minrisk_return))\n",
    "\n",
    "\n",
    "\n",
    "    model.c_minrisk_return.activate()\n",
    "    model.c_captial_constraint.deactivate()\n",
    "    model.minrisk_return = minrisk_return\n",
    "    \n",
    "     # Create a set of constraints\n",
    "    #model.constraints = pyo.ConstraintList()\n",
    "    #model.constraints.add(model.portfolio_return ==  minrisk_return)\n",
    "    \n",
    "    # Constraint Target\n",
    "    #def target_constraint(model):\n",
    "    #    return model.portfolio_return ==  minrisk_return\n",
    "    \n",
    "    #model.target_constraint = pyo.Constraint(rule=target_constraint)\n",
    "    \n",
    "    #\n",
    "    # --- SOLVE MODEL AGAIN ---\n",
    "    #\n",
    "\n",
    "    # Solve for efficient frontier by varying target return\n",
    "    frontier = pd.Series(dtype=np.float64)\n",
    "    for r in np.linspace(min(stock_return.values()), max(stock_return.values()), 100):\n",
    "        \n",
    "        model.c_minrisk_return.rhs = r\n",
    "        results = opt.solve(model)  # tee=True for details\n",
    "        #print('Risk:', model.portfolio_risk())\n",
    "        #print('Stock Return:',r)\n",
    "        frontier.loc[np.sqrt(model.portfolio_risk())] = r\n",
    "\n",
    "        \n",
    "\n",
    "    #print('--- Problem Results ---')\n",
    "    #print(results.Problem())\n",
    "    #print('--- Solver Results ---')\n",
    "    #print('Execution time: {}'.format(results.Solver().Time))\n",
    "elif results.solver.termination_condition == TerminationCondition.infeasible:\n",
    "    print('termination condition:', results.solver.termination_condition)\n",
    "    print('(!) Infeasible solution')\n",
    "else:\n",
    "    #\n",
    "    # Something else is wrong\n",
    "    print('--- Termination Condition ---')\n",
    "    print('  (!) {}'.format(results.solver.termination_condition))\n",
    "    print('\\n')\n",
    "    model.pprint()\n",
    "    #print('Status:', results.solver.status)\n",
    "\n"
   ]
  },
  {
   "cell_type": "code",
   "execution_count": 90,
   "metadata": {
    "ExecuteTime": {
     "end_time": "2021-10-24T16:21:52.750572Z",
     "start_time": "2021-10-24T16:21:52.730767Z"
    }
   },
   "outputs": [],
   "source": [
    "\n",
    "# =================\n",
    "# PLOTS\n",
    "# ================\n",
    "\n",
    "def plot_portfolio(stock_volatility, minrisk_volatility, minrisk_return, stock_return, frontier):\n",
    "    # Plot volatility versus expected return for individual stocks\n",
    "    fig = plt.figure(figsize=(12, 6), dpi=100, facecolor='w', edgecolor='w')\n",
    "    ax = fig.add_subplot(1, 1, 1)\n",
    "\n",
    "    ax.scatter(x=stock_volatility,\n",
    "               y=stock_return,\n",
    "               color='Blue',\n",
    "               label='Individual Stocks')\n",
    "    for i, stock in enumerate(stocks):\n",
    "        ax.annotate(stock, (stock_volatility[i], stock_return[i]))\n",
    "\n",
    "    # Plot volatility versus expected return for minimum risk portfolio\n",
    "    ax.scatter(x=minrisk_volatility,\n",
    "               y=minrisk_return,\n",
    "               color='DarkGreen',\n",
    "               label='Minimum Risk Point')\n",
    "    ax.annotate('Minimum\\nRisk\\nPortfolio',\n",
    "                (minrisk_volatility, minrisk_return),\n",
    "                horizontalalignment='right')\n",
    "\n",
    "    # Plot efficient frontier\n",
    "    ax.plot(frontier,\n",
    "            color='DarkGreen',\n",
    "            label='Efficient Frontier')\n",
    "\n",
    "    ax.hlines(y=np.zeros(len(np.arange(0, max(stock_volatility), 0.005))),\n",
    "              xmin=0,\n",
    "              xmax=max(stock_volatility),\n",
    "              color='gray',\n",
    "              linestyle='dashed',\n",
    "              linewidth=1)\n",
    "    # Format and display the final plot\n",
    "    ax.axis([0.005, 0.06, -0.02, 0.025])\n",
    "    ax.set_xlabel('Volatility (standard deviation)')\n",
    "    ax.set_ylabel('Expected Return')\n",
    "    ax.legend()\n",
    "    ax.grid()\n",
    "    plt.savefig('../figures/portfolio.png', bbox_inches='tight', pad_inches=0)\n",
    "    plt.show()\n",
    "    plt.close()\n",
    "    # print(\"Plotted efficient frontier to 'portfolio.png'\")\n",
    "\n",
    "\n",
    "def plot_stocks_timeseries(data):\n",
    "    fig = plt.figure(figsize=(16, 6), dpi=120, facecolor='w', edgecolor='w')\n",
    "\n",
    "    for i in np.arange(0, data.shape[1]):\n",
    "        ax = fig.add_subplot(5, 2, i + 1)\n",
    "        ax.plot(data[data.columns[i]],\n",
    "                label=data.columns[i],\n",
    "                linestyle='dashed', color='k', linewidth=1)\n",
    "\n",
    "        # ax.axis([0.005, 0.06, -0.02, 0.025])\n",
    "        ax.set_xlabel('Time')\n",
    "        ax.set_ylabel('Stock Value')\n",
    "        # ax.set_title(data.columns[i])\n",
    "        ax.legend()\n",
    "        ax.grid()\n",
    "    plt.subplots_adjust(wspace=0.3, hspace=1.2)\n",
    "    plt.savefig('../figures/portfolio_stocks.png', bbox_inches='tight', pad_inches=0)\n",
    "    plt.show()\n",
    "    plt.close()\n",
    "\n"
   ]
  },
  {
   "cell_type": "code",
   "execution_count": 91,
   "metadata": {
    "ExecuteTime": {
     "end_time": "2021-10-24T16:22:02.636699Z",
     "start_time": "2021-10-24T16:22:02.631983Z"
    }
   },
   "outputs": [],
   "source": [
    "stock_volatility_ = [stock_volatility[key] for key in stock_volatility.keys()]\n",
    "stock_return_ =  [stock_return[key] for key in stock_return.keys()]"
   ]
  },
  {
   "cell_type": "code",
   "execution_count": 92,
   "metadata": {
    "ExecuteTime": {
     "end_time": "2021-10-24T16:22:04.753942Z",
     "start_time": "2021-10-24T16:22:04.432793Z"
    }
   },
   "outputs": [
    {
     "ename": "ValueError",
     "evalue": "x and y must be the same size",
     "output_type": "error",
     "traceback": [
      "\u001b[0;31m---------------------------------------------------------------------------\u001b[0m",
      "\u001b[0;31mValueError\u001b[0m                                Traceback (most recent call last)",
      "\u001b[0;32m<ipython-input-92-1e09a27ddb5b>\u001b[0m in \u001b[0;36m<module>\u001b[0;34m\u001b[0m\n\u001b[1;32m      3\u001b[0m                \u001b[0mminrisk_return\u001b[0m\u001b[0;34m,\u001b[0m\u001b[0;34m\u001b[0m\u001b[0;34m\u001b[0m\u001b[0m\n\u001b[1;32m      4\u001b[0m               \u001b[0mstock_return\u001b[0m\u001b[0;34m,\u001b[0m\u001b[0;34m\u001b[0m\u001b[0;34m\u001b[0m\u001b[0m\n\u001b[0;32m----> 5\u001b[0;31m               frontier)\n\u001b[0m",
      "\u001b[0;32m<ipython-input-90-5adab0df5db6>\u001b[0m in \u001b[0;36mplot_portfolio\u001b[0;34m(stock_volatility, minrisk_volatility, minrisk_return, stock_return, frontier)\u001b[0m\n\u001b[1;32m     12\u001b[0m                \u001b[0my\u001b[0m\u001b[0;34m=\u001b[0m\u001b[0mstock_return\u001b[0m\u001b[0;34m,\u001b[0m\u001b[0;34m\u001b[0m\u001b[0;34m\u001b[0m\u001b[0m\n\u001b[1;32m     13\u001b[0m                \u001b[0mcolor\u001b[0m\u001b[0;34m=\u001b[0m\u001b[0;34m'Blue'\u001b[0m\u001b[0;34m,\u001b[0m\u001b[0;34m\u001b[0m\u001b[0;34m\u001b[0m\u001b[0m\n\u001b[0;32m---> 14\u001b[0;31m                label='Individual Stocks')\n\u001b[0m\u001b[1;32m     15\u001b[0m     \u001b[0;32mfor\u001b[0m \u001b[0mi\u001b[0m\u001b[0;34m,\u001b[0m \u001b[0mstock\u001b[0m \u001b[0;32min\u001b[0m \u001b[0menumerate\u001b[0m\u001b[0;34m(\u001b[0m\u001b[0mstocks\u001b[0m\u001b[0;34m)\u001b[0m\u001b[0;34m:\u001b[0m\u001b[0;34m\u001b[0m\u001b[0;34m\u001b[0m\u001b[0m\n\u001b[1;32m     16\u001b[0m         \u001b[0max\u001b[0m\u001b[0;34m.\u001b[0m\u001b[0mannotate\u001b[0m\u001b[0;34m(\u001b[0m\u001b[0mstock\u001b[0m\u001b[0;34m,\u001b[0m \u001b[0;34m(\u001b[0m\u001b[0mstock_volatility\u001b[0m\u001b[0;34m[\u001b[0m\u001b[0mi\u001b[0m\u001b[0;34m]\u001b[0m\u001b[0;34m,\u001b[0m \u001b[0mstock_return\u001b[0m\u001b[0;34m[\u001b[0m\u001b[0mi\u001b[0m\u001b[0;34m]\u001b[0m\u001b[0;34m)\u001b[0m\u001b[0;34m)\u001b[0m\u001b[0;34m\u001b[0m\u001b[0;34m\u001b[0m\u001b[0m\n",
      "\u001b[0;32m~/anaconda3/lib/python3.7/site-packages/matplotlib/__init__.py\u001b[0m in \u001b[0;36minner\u001b[0;34m(ax, data, *args, **kwargs)\u001b[0m\n\u001b[1;32m   1436\u001b[0m     \u001b[0;32mdef\u001b[0m \u001b[0minner\u001b[0m\u001b[0;34m(\u001b[0m\u001b[0max\u001b[0m\u001b[0;34m,\u001b[0m \u001b[0;34m*\u001b[0m\u001b[0margs\u001b[0m\u001b[0;34m,\u001b[0m \u001b[0mdata\u001b[0m\u001b[0;34m=\u001b[0m\u001b[0;32mNone\u001b[0m\u001b[0;34m,\u001b[0m \u001b[0;34m**\u001b[0m\u001b[0mkwargs\u001b[0m\u001b[0;34m)\u001b[0m\u001b[0;34m:\u001b[0m\u001b[0;34m\u001b[0m\u001b[0;34m\u001b[0m\u001b[0m\n\u001b[1;32m   1437\u001b[0m         \u001b[0;32mif\u001b[0m \u001b[0mdata\u001b[0m \u001b[0;32mis\u001b[0m \u001b[0;32mNone\u001b[0m\u001b[0;34m:\u001b[0m\u001b[0;34m\u001b[0m\u001b[0;34m\u001b[0m\u001b[0m\n\u001b[0;32m-> 1438\u001b[0;31m             \u001b[0;32mreturn\u001b[0m \u001b[0mfunc\u001b[0m\u001b[0;34m(\u001b[0m\u001b[0max\u001b[0m\u001b[0;34m,\u001b[0m \u001b[0;34m*\u001b[0m\u001b[0mmap\u001b[0m\u001b[0;34m(\u001b[0m\u001b[0msanitize_sequence\u001b[0m\u001b[0;34m,\u001b[0m \u001b[0margs\u001b[0m\u001b[0;34m)\u001b[0m\u001b[0;34m,\u001b[0m \u001b[0;34m**\u001b[0m\u001b[0mkwargs\u001b[0m\u001b[0;34m)\u001b[0m\u001b[0;34m\u001b[0m\u001b[0;34m\u001b[0m\u001b[0m\n\u001b[0m\u001b[1;32m   1439\u001b[0m \u001b[0;34m\u001b[0m\u001b[0m\n\u001b[1;32m   1440\u001b[0m         \u001b[0mbound\u001b[0m \u001b[0;34m=\u001b[0m \u001b[0mnew_sig\u001b[0m\u001b[0;34m.\u001b[0m\u001b[0mbind\u001b[0m\u001b[0;34m(\u001b[0m\u001b[0max\u001b[0m\u001b[0;34m,\u001b[0m \u001b[0;34m*\u001b[0m\u001b[0margs\u001b[0m\u001b[0;34m,\u001b[0m \u001b[0;34m**\u001b[0m\u001b[0mkwargs\u001b[0m\u001b[0;34m)\u001b[0m\u001b[0;34m\u001b[0m\u001b[0;34m\u001b[0m\u001b[0m\n",
      "\u001b[0;32m~/anaconda3/lib/python3.7/site-packages/matplotlib/cbook/deprecation.py\u001b[0m in \u001b[0;36mwrapper\u001b[0;34m(*inner_args, **inner_kwargs)\u001b[0m\n\u001b[1;32m    409\u001b[0m                          \u001b[0;32melse\u001b[0m \u001b[0mdeprecation_addendum\u001b[0m\u001b[0;34m,\u001b[0m\u001b[0;34m\u001b[0m\u001b[0;34m\u001b[0m\u001b[0m\n\u001b[1;32m    410\u001b[0m                 **kwargs)\n\u001b[0;32m--> 411\u001b[0;31m         \u001b[0;32mreturn\u001b[0m \u001b[0mfunc\u001b[0m\u001b[0;34m(\u001b[0m\u001b[0;34m*\u001b[0m\u001b[0minner_args\u001b[0m\u001b[0;34m,\u001b[0m \u001b[0;34m**\u001b[0m\u001b[0minner_kwargs\u001b[0m\u001b[0;34m)\u001b[0m\u001b[0;34m\u001b[0m\u001b[0;34m\u001b[0m\u001b[0m\n\u001b[0m\u001b[1;32m    412\u001b[0m \u001b[0;34m\u001b[0m\u001b[0m\n\u001b[1;32m    413\u001b[0m     \u001b[0;32mreturn\u001b[0m \u001b[0mwrapper\u001b[0m\u001b[0;34m\u001b[0m\u001b[0;34m\u001b[0m\u001b[0m\n",
      "\u001b[0;32m~/anaconda3/lib/python3.7/site-packages/matplotlib/axes/_axes.py\u001b[0m in \u001b[0;36mscatter\u001b[0;34m(self, x, y, s, c, marker, cmap, norm, vmin, vmax, alpha, linewidths, verts, edgecolors, plotnonfinite, **kwargs)\u001b[0m\n\u001b[1;32m   4439\u001b[0m         \u001b[0my\u001b[0m \u001b[0;34m=\u001b[0m \u001b[0mnp\u001b[0m\u001b[0;34m.\u001b[0m\u001b[0mma\u001b[0m\u001b[0;34m.\u001b[0m\u001b[0mravel\u001b[0m\u001b[0;34m(\u001b[0m\u001b[0my\u001b[0m\u001b[0;34m)\u001b[0m\u001b[0;34m\u001b[0m\u001b[0;34m\u001b[0m\u001b[0m\n\u001b[1;32m   4440\u001b[0m         \u001b[0;32mif\u001b[0m \u001b[0mx\u001b[0m\u001b[0;34m.\u001b[0m\u001b[0msize\u001b[0m \u001b[0;34m!=\u001b[0m \u001b[0my\u001b[0m\u001b[0;34m.\u001b[0m\u001b[0msize\u001b[0m\u001b[0;34m:\u001b[0m\u001b[0;34m\u001b[0m\u001b[0;34m\u001b[0m\u001b[0m\n\u001b[0;32m-> 4441\u001b[0;31m             \u001b[0;32mraise\u001b[0m \u001b[0mValueError\u001b[0m\u001b[0;34m(\u001b[0m\u001b[0;34m\"x and y must be the same size\"\u001b[0m\u001b[0;34m)\u001b[0m\u001b[0;34m\u001b[0m\u001b[0;34m\u001b[0m\u001b[0m\n\u001b[0m\u001b[1;32m   4442\u001b[0m \u001b[0;34m\u001b[0m\u001b[0m\n\u001b[1;32m   4443\u001b[0m         \u001b[0;32mif\u001b[0m \u001b[0ms\u001b[0m \u001b[0;32mis\u001b[0m \u001b[0;32mNone\u001b[0m\u001b[0;34m:\u001b[0m\u001b[0;34m\u001b[0m\u001b[0;34m\u001b[0m\u001b[0m\n",
      "\u001b[0;31mValueError\u001b[0m: x and y must be the same size"
     ]
    },
    {
     "data": {
      "image/png": "[encoded data removed]",
      "text/plain": [
       "<Figure size 1200x600 with 1 Axes>"
      ]
     },
     "metadata": {},
     "output_type": "display_data"
    }
   ],
   "source": [
    "plot_portfolio(stock_volatility_,\n",
    "               minrisk_volatility,\n",
    "               minrisk_return,\n",
    "              stock_return,\n",
    "              frontier)"
   ]
  },
  {
   "cell_type": "markdown",
   "metadata": {},
   "source": [
    "# References\n",
    "\n",
    "[1]. [Formulación y resolucuión de Modelos de Programación Matemática en Ingeniería y Ciencia](http://www.dia.fi.upm.es/~jafernan/teaching/operational-research/LibroCompleto.pdf)"
   ]
  },
  {
   "cell_type": "code",
   "execution_count": null,
   "metadata": {},
   "outputs": [],
   "source": []
  }
 ],
 "metadata": {
  "@webio": {
   "lastCommId": null,
   "lastKernelId": null
  },
  "hide_input": false,
  "kernelspec": {
   "display_name": "Python 3",
   "language": "python",
   "name": "python3"
  },
  "language_info": {
   "codemirror_mode": {
    "name": "ipython",
    "version": 3
   },
   "file_extension": ".py",
   "mimetype": "text/x-python",
   "name": "python",
   "nbconvert_exporter": "python",
   "pygments_lexer": "ipython3",
   "version": "3.7.3"
  },
  "toc": {
   "base_numbering": 1,
   "nav_menu": {},
   "number_sections": true,
   "sideBar": true,
   "skip_h1_title": false,
   "title_cell": "Table of Contents",
   "title_sidebar": "Contents",
   "toc_cell": false,
   "toc_position": {},
   "toc_section_display": true,
   "toc_window_display": true
  },
  "varInspector": {
   "cols": {
    "lenName": 16,
    "lenType": 16,
    "lenVar": 40
   },
   "kernels_config": {
    "python": {
     "delete_cmd_postfix": "",
     "delete_cmd_prefix": "del ",
     "library": "var_list.py",
     "varRefreshCmd": "print(var_dic_list())"
    },
    "r": {
     "delete_cmd_postfix": ") ",
     "delete_cmd_prefix": "rm(",
     "library": "var_list.r",
     "varRefreshCmd": "cat(var_dic_list()) "
    }
   },
   "types_to_exclude": [
    "module",
    "function",
    "builtin_function_or_method",
    "instance",
    "_Feature"
   ],
   "window_display": false
  }
 },
 "nbformat": 4,
 "nbformat_minor": 2
}
