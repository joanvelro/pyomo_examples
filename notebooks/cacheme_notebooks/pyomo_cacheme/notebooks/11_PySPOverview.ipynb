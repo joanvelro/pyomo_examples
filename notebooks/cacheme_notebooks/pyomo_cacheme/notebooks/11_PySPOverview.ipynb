{
 "cells": [
  {
   "cell_type": "markdown",
   "metadata": {},
   "source": [
    "# 11 PySP Overview"
   ]
  },
  {
   "cell_type": "markdown",
   "metadata": {},
   "source": [
    "This chapter describes PySP: (Pyomo Stochastic Programming), where parameters are allowed to be uncertain.\n",
    "\n",
    "### 11.1. Overview of Modeling Components and Processes\n",
    "The sequence of activities is typically the following:\n",
    "\n",
    "- Create a deterministic model and declare components\n",
    "\n",
    "- Develop base-case data for the deterministic model\n",
    "\n",
    "- Test, verify and validate the deterministic model\n",
    "\n",
    "- Model the stochastic processes\n",
    "\n",
    "- Develop a way to generate scenarios (in the form of a tree if there are more than two stages)\n",
    "\n",
    "- Create the data files need to describe the stochastics\n",
    "\n",
    "- Use PySP to solve stochastic problem\n",
    "\n",
    "When viewed from the standpoint of file creation, the process is\n",
    "\n",
    "- Create an abstract model for the deterministic problem in a file called <span style=\"color:darkblue; font-family:Courier\">ReferenceModel.py</span>\n",
    "\n",
    "- Specify the stochastics in a file called <span style=\"color:darkblue; font-family:Courier\">ScenarioStructure.dat</span>\n",
    "\n",
    "- Specify scenario data\n",
    "\n",
    "### 11.2. Birge and Louveaux’s Farmer Problem\n",
    "Birge and Louveaux [BirgeLouveauxBook](https://software.sandia.gov/downloads/pub/pyomo/PyomoOnlineDocs.html#BirgeLouveauxBook) make use of the example of a farmer who has 500 acres that can be planted in wheat, corn or sugar beets, at a per acre cost of 150, 230 and 260 (Euros, presumably), respectively. The farmer needs to have at least 200 tons of wheat and 240 tons of corn to use as feed, but if enough is not grown, those crops can be purchased for 238 and 210, respectively. Corn and wheat grown in excess of the feed requirements can be sold for 170 and 150, respectively. A price of 36 per ton is guaranteed for the first 6000 tons grown by any farmer, but beets in excess of that are sold for 10 per ton. The yield is 2.5, 3, and 20 tons per acre for wheat, corn and sugar beets, respectively.\n",
    "\n",
    "##### 11.2.1. ReferenceModel.py\n",
    "\n",
    "So far, this is a deterministic problem because we are assuming that we know all the data. The Pyomo model for this problem shown here is in the file <span style=\"color:darkblue; font-family:Courier\">ReferenceModel.py</span> in the sub-directory <span style=\"color:darkblue; font-family:Courier\">examples/pysp/farmer/models</span> that is distributed with Pyomo.\n",
    "\n"
   ]
  },
  {
   "cell_type": "code",
   "execution_count": 1,
   "metadata": {},
   "outputs": [],
   "source": [
    "# Farmer: rent out version has a scalar root node var\n",
    "# note: this will minimize\n",
    "#\n",
    "# Imports\n",
    "#\n",
    "\n",
    "from __future__ import division\n",
    "from pyomo.environ import *\n",
    "\n",
    "#\n",
    "# Model\n",
    "#\n",
    "\n",
    "model = AbstractModel()\n",
    "\n",
    "#\n",
    "# Parameters\n",
    "#\n",
    "\n",
    "model.CROPS = Set()\n",
    "\n",
    "model.TOTAL_ACREAGE = Param(within=PositiveReals)\n",
    "\n",
    "model.PriceQuota = Param(model.CROPS, within=PositiveReals)\n",
    "\n",
    "model.SubQuotaSellingPrice = Param(model.CROPS, within=PositiveReals)\n",
    "\n",
    "def super_quota_selling_price_validate (model, value, i):\n",
    "    return model.SubQuotaSellingPrice[i] >= model.SuperQuotaSellingPrice[i]\n",
    "\n",
    "model.SuperQuotaSellingPrice = Param(model.CROPS, validate=super_quota_selling_price_validate)\n",
    "\n",
    "model.CattleFeedRequirement = Param(model.CROPS, within=NonNegativeReals)\n",
    "\n",
    "model.PurchasePrice = Param(model.CROPS, within=PositiveReals)\n",
    "\n",
    "model.PlantingCostPerAcre = Param(model.CROPS, within=PositiveReals)\n",
    "\n",
    "model.Yield = Param(model.CROPS, within=NonNegativeReals)\n",
    "\n",
    "#\n",
    "# Variables\n",
    "#\n",
    "\n",
    "model.DevotedAcreage = Var(model.CROPS, bounds=(0.0, model.TOTAL_ACREAGE))\n",
    "\n",
    "model.QuantitySubQuotaSold = Var(model.CROPS, bounds=(0.0, None))\n",
    "model.QuantitySuperQuotaSold = Var(model.CROPS, bounds=(0.0, None))\n",
    "\n",
    "model.QuantityPurchased = Var(model.CROPS, bounds=(0.0, None))\n",
    "\n",
    "model.FirstStageCost = Var()\n",
    "model.SecondStageCost = Var()\n",
    "\n",
    "#\n",
    "# Constraints\n",
    "#\n",
    "\n",
    "def ConstrainTotalAcreage_rule(model):\n",
    "    return summation(model.DevotedAcreage) <= model.TOTAL_ACREAGE\n",
    "\n",
    "model.ConstrainTotalAcreage = Constraint(rule=ConstrainTotalAcreage_rule)\n",
    "\n",
    "def EnforceCattleFeedRequirement_rule(model, i):\n",
    "    return model.CattleFeedRequirement[i] <= (model.Yield[i] * model.DevotedAcreage[i]) + model.QuantityPurchased[i] - model.QuantitySubQuotaSold[i] - model.QuantitySuperQuotaSold[i]\n",
    "\n",
    "model.EnforceCattleFeedRequirement = Constraint(model.CROPS, rule=EnforceCattleFeedRequirement_rule)\n",
    "\n",
    "def LimitAmountSold_rule(model, i):\n",
    "    return model.QuantitySubQuotaSold[i] + model.QuantitySuperQuotaSold[i] - (model.Yield[i] * model.DevotedAcreage[i]) <= 0.0\n",
    "\n",
    "model.LimitAmountSold = Constraint(model.CROPS, rule=LimitAmountSold_rule)\n",
    "\n",
    "def EnforceQuotas_rule(model, i):\n",
    "    return (0.0, model.QuantitySubQuotaSold[i], model.PriceQuota[i])\n",
    "\n",
    "model.EnforceQuotas = Constraint(model.CROPS, rule=EnforceQuotas_rule)\n",
    "\n",
    "#\n",
    "# Stage-specific cost computations\n",
    "#\n",
    "\n",
    "def ComputeFirstStageCost_rule(model):\n",
    "    return model.FirstStageCost - summation(model.PlantingCostPerAcre, model.DevotedAcreage) == 0.0\n",
    "\n",
    "model.ComputeFirstStageCost = Constraint(rule=ComputeFirstStageCost_rule)\n",
    "\n",
    "def ComputeSecondStageCost_rule(model):\n",
    "    expr = summation(model.PurchasePrice, model.QuantityPurchased)\n",
    "    expr -= summation(model.SubQuotaSellingPrice, model.QuantitySubQuotaSold)\n",
    "    expr -= summation(model.SuperQuotaSellingPrice, model.QuantitySuperQuotaSold)\n",
    "    return (model.SecondStageCost - expr) == 0.0\n",
    "\n",
    "model.ComputeSecondStageCost = Constraint(rule=ComputeSecondStageCost_rule)\n",
    "\n",
    "#\n",
    "# Objective\n",
    "#\n",
    "\n",
    "def Total_Cost_Objective_rule(model):\n",
    "    return model.FirstStageCost + model.SecondStageCost\n",
    "\n",
    "model.Total_Cost_Objective = Objective(sense=minimize, rule=Total_Cost_Objective_rule)"
   ]
  },
  {
   "cell_type": "markdown",
   "metadata": {},
   "source": [
    "##### 11.2.2. Example Data\n",
    "\n",
    "The data introduced here are in the file ReferenceModel.dat in the sub-directory examples/pysp/farmer/scenariodata that is distributed with Pyomo. These data are given for illustration. The file ReferenceModel.dat is not required by PySP."
   ]
  },
  {
   "cell_type": "code",
   "execution_count": 2,
   "metadata": {},
   "outputs": [
    {
     "ename": "SyntaxError",
     "evalue": "invalid syntax (<ipython-input-2-f1fa99aa9189>, line 1)",
     "output_type": "error",
     "traceback": [
      "\u001b[0;36m  File \u001b[0;32m\"<ipython-input-2-f1fa99aa9189>\"\u001b[0;36m, line \u001b[0;32m1\u001b[0m\n\u001b[0;31m    set CROPS := WHEAT CORN SUGAR_BEETS ;\u001b[0m\n\u001b[0m            ^\u001b[0m\n\u001b[0;31mSyntaxError\u001b[0m\u001b[0;31m:\u001b[0m invalid syntax\n"
     ]
    }
   ],
   "source": [
    "set CROPS := WHEAT CORN SUGAR_BEETS ;\n",
    "\n",
    "param TOTAL_ACREAGE := 500 ;\n",
    "\n",
    "# no quotas on wheat or corn\n",
    "param PriceQuota :=\n",
    "            WHEAT 100000 CORN 100000 SUGAR_BEETS 6000 ;\n",
    "\n",
    "param SubQuotaSellingPrice :=\n",
    "            WHEAT 170 CORN 150 SUGAR_BEETS 36 ;\n",
    "\n",
    "param SuperQuotaSellingPrice :=\n",
    "            WHEAT 0 CORN 0 SUGAR_BEETS 10 ;\n",
    "\n",
    "param CattleFeedRequirement :=\n",
    "            WHEAT 200 CORN 240 SUGAR_BEETS 0 ;\n",
    "\n",
    "# can't purchase beets (no need, as cattle don't eat them)\n",
    "param PurchasePrice :=\n",
    "            WHEAT 238 CORN 210 SUGAR_BEETS 100000 ;\n",
    "\n",
    "param PlantingCostPerAcre :=\n",
    "            WHEAT 150 CORN 230 SUGAR_BEETS 260 ;\n",
    "\n",
    "param Yield := WHEAT 3.0 CORN 3.6 SUGAR_BEETS 24 ;"
   ]
  },
  {
   "cell_type": "markdown",
   "metadata": {},
   "source": [
    "Any of these data could be modeled as uncertain, but we will consider only the possibility that the yield per acre could be higher or lower than expected. Assume that there is a probability of 1/3 that the yields will be the average values that were given (i.e., wheat 2.5; corn 3; and beets 20). Assume that there is a 1/3 probability that they will be lower (2, 2.4, 16) and 1/3 probability they will be higher (3, 3.6, 24). We refer to each full set of data as a <span style=\"color:darkblue\">*scenario*</span> and collectively we call them a <span style=\"color:darkblue\">*scenario tree*</span>. In this case the scenario tree is very simple: there is a root node and three leaf nodes: one corresponding to each scenario. The acreage-to-plant decisions are root node decisions because they must be made without knowing what the yield will be. The other variables are so-called <span style=\"color:darkblue\">*second stage*</span> decisions, because they will depend on which scenario is realized.\n",
    "\n",
    "##### 11.2.3. ScenarioStructure.dat\n",
    "\n",
    "PySP requires that users describe the scenario tree using specific constructs in a file named <span style=\"color:darkblue; font-family:Courier\">ScenarioStructure.dat;</span> for the farmer problem, this file can be found in the pyomo sub-directory <span style=\"color:darkblue; font-family:Courier\">examples/pysp/farmer/scenariodata</span> that is distributed with Pyomo.\n",
    "\n"
   ]
  },
  {
   "cell_type": "code",
   "execution_count": 4,
   "metadata": {},
   "outputs": [
    {
     "ename": "SyntaxError",
     "evalue": "invalid syntax (<ipython-input-4-c9cd39be980f>, line 3)",
     "output_type": "error",
     "traceback": [
      "\u001b[0;36m  File \u001b[0;32m\"<ipython-input-4-c9cd39be980f>\"\u001b[0;36m, line \u001b[0;32m3\u001b[0m\n\u001b[0;31m    set Stages := FirstStage SecondStage ;\u001b[0m\n\u001b[0m             ^\u001b[0m\n\u001b[0;31mSyntaxError\u001b[0m\u001b[0;31m:\u001b[0m invalid syntax\n"
     ]
    }
   ],
   "source": [
    "# IMPORTANT - THE STAGES ARE ASSUMED TO BE IN TIME-ORDER.\n",
    "\n",
    "set Stages := FirstStage SecondStage ;\n",
    "\n",
    "set Nodes := RootNode\n",
    "             BelowAverageNode\n",
    "             AverageNode\n",
    "             AboveAverageNode ;\n",
    "\n",
    "param NodeStage := RootNode         FirstStage\n",
    "                   BelowAverageNode SecondStage\n",
    "                   AverageNode      SecondStage\n",
    "                   AboveAverageNode SecondStage ;\n",
    "\n",
    "set Children[RootNode] := BelowAverageNode\n",
    "                          AverageNode\n",
    "                          AboveAverageNode ;\n",
    "\n",
    "param ConditionalProbability := RootNode          1.0\n",
    "                                BelowAverageNode  0.33333333\n",
    "                                AverageNode       0.33333334\n",
    "                                AboveAverageNode  0.33333333 ;\n",
    "\n",
    "set Scenarios := BelowAverageScenario\n",
    "                 AverageScenario\n",
    "                 AboveAverageScenario ;\n",
    "\n",
    "param ScenarioLeafNode :=\n",
    "                    BelowAverageScenario BelowAverageNode\n",
    "                    AverageScenario      AverageNode\n",
    "                    AboveAverageScenario AboveAverageNode ;\n",
    "\n",
    "set StageVariables[FirstStage] :=  DevotedAcreage[*] ;\n",
    "set StageVariables[SecondStage] := QuantitySubQuotaSold[*]\n",
    "                                   QuantitySuperQuotaSold[*]\n",
    "                                   QuantityPurchased[*] ;\n",
    "\n",
    "param StageCostVariable := FirstStage  FirstStageCost\n",
    "                           SecondStage SecondStageCost ;\n"
   ]
  },
  {
   "cell_type": "markdown",
   "metadata": {},
   "source": [
    "This data file is verbose and somewhat redundant, but in most applications it is generated by software rather than by a person, so this is not an issue. Generally, the left-most part of each expression (e.g. “set Stages :=”) is required and uses reserved words (e.g., <span style=\"color:darkblue; font-family:Courier\">Stages</span>) and the other names are supplied by the user (e.g., “FirstStage” could be any name). Every assignment is terminated with a semi-colon. We will now consider the assignments in this file one at a time.\n",
    "\n",
    "The first assignments provides names for the stages and the words \"set Stages\" are required, as are the := symbols. Any names can be used. In this example, we used \"FirstStage\" and \"SecondStage\" but we could have used \"EtapPrimero\" and \"ZweiteEtage\" if we had wanted to. Whatever names are given here will continue to be used to refer to the stages in the rest of the file. The order of the names is important. A simple way to think of it is that generally, the names must be in time order (technically, they need to be in order of information discovery, but that is usually time-order). Stages refers to decision stages, which may, or may not, correspond directly with time stages. In the farmer example, decisions about how much to plant are made in the first stage and \"decisions\" (which are pretty obvious, but which are decision variables nonetheless) about how much to sell at each price and how much needs to be bought are second stage decisions because they are made after the yield is known.\n",
    "\n"
   ]
  },
  {
   "cell_type": "code",
   "execution_count": 5,
   "metadata": {},
   "outputs": [
    {
     "ename": "SyntaxError",
     "evalue": "invalid syntax (<ipython-input-5-015feec4e1e1>, line 1)",
     "output_type": "error",
     "traceback": [
      "\u001b[0;36m  File \u001b[0;32m\"<ipython-input-5-015feec4e1e1>\"\u001b[0;36m, line \u001b[0;32m1\u001b[0m\n\u001b[0;31m    set Stages := FirstStage SecondStage ;\u001b[0m\n\u001b[0m             ^\u001b[0m\n\u001b[0;31mSyntaxError\u001b[0m\u001b[0;31m:\u001b[0m invalid syntax\n"
     ]
    }
   ],
   "source": [
    "set Stages := FirstStage SecondStage ;"
   ]
  },
  {
   "cell_type": "markdown",
   "metadata": {},
   "source": [
    "Node names are constructed next. The words \"set Nodes\" are required, but any names may be assigned to the nodes. In two stage stochastic problems there is a root node, which we chose to name \"RootNode\" and then there is a node for each scenario."
   ]
  },
  {
   "cell_type": "code",
   "execution_count": 6,
   "metadata": {},
   "outputs": [
    {
     "ename": "SyntaxError",
     "evalue": "invalid syntax (<ipython-input-6-a9cae0126c44>, line 1)",
     "output_type": "error",
     "traceback": [
      "\u001b[0;36m  File \u001b[0;32m\"<ipython-input-6-a9cae0126c44>\"\u001b[0;36m, line \u001b[0;32m1\u001b[0m\n\u001b[0;31m    set Nodes := RootNode\u001b[0m\n\u001b[0m            ^\u001b[0m\n\u001b[0;31mSyntaxError\u001b[0m\u001b[0;31m:\u001b[0m invalid syntax\n"
     ]
    }
   ],
   "source": [
    "set Nodes := RootNode\n",
    "             BelowAverageNode\n",
    "             AverageNode\n",
    "             AboveAverageNode ;"
   ]
  },
  {
   "cell_type": "markdown",
   "metadata": {},
   "source": [
    "Nodes are associated with time stages with an assignment beginning with the required words \"param Nodestage.\" The assignments must make use of previously defined node and stage names. Every node must be assigned a stage."
   ]
  },
  {
   "cell_type": "code",
   "execution_count": 7,
   "metadata": {},
   "outputs": [
    {
     "ename": "SyntaxError",
     "evalue": "invalid syntax (<ipython-input-7-fda53ee75bc6>, line 1)",
     "output_type": "error",
     "traceback": [
      "\u001b[0;36m  File \u001b[0;32m\"<ipython-input-7-fda53ee75bc6>\"\u001b[0;36m, line \u001b[0;32m1\u001b[0m\n\u001b[0;31m    param NodeStage := RootNode         FirstStage\u001b[0m\n\u001b[0m                  ^\u001b[0m\n\u001b[0;31mSyntaxError\u001b[0m\u001b[0;31m:\u001b[0m invalid syntax\n"
     ]
    }
   ],
   "source": [
    "param NodeStage := RootNode         FirstStage\n",
    "                   BelowAverageNode SecondStage\n",
    "                   AverageNode      SecondStage\n",
    "                   AboveAverageNode SecondStage ;"
   ]
  },
  {
   "cell_type": "markdown",
   "metadata": {},
   "source": [
    "The structure of the scenario tree is defined using assignment of children to each node that has them. Since this is a two stage problem, only the root node has children. The words \"param Children\" are required for every node that has children and the name of the node is in square brackets before the colon-equals assignment symbols. A list of children is assigned."
   ]
  },
  {
   "cell_type": "code",
   "execution_count": 10,
   "metadata": {},
   "outputs": [
    {
     "ename": "SyntaxError",
     "evalue": "invalid syntax (<ipython-input-10-ca4afaaf92cf>, line 1)",
     "output_type": "error",
     "traceback": [
      "\u001b[0;36m  File \u001b[0;32m\"<ipython-input-10-ca4afaaf92cf>\"\u001b[0;36m, line \u001b[0;32m1\u001b[0m\n\u001b[0;31m    set Children[RootNode] := BelowAverageNode\u001b[0m\n\u001b[0m               ^\u001b[0m\n\u001b[0;31mSyntaxError\u001b[0m\u001b[0;31m:\u001b[0m invalid syntax\n"
     ]
    }
   ],
   "source": [
    "set Children[RootNode] := BelowAverageNode\n",
    "                          AverageNode\n",
    "                          AboveAverageNode ;"
   ]
  },
  {
   "cell_type": "markdown",
   "metadata": {},
   "source": [
    "The probability for each node, conditional on observing the parent node is given in an assignment that begins with the required words \"param ConditionalProbability.\" The root node always has a conditional probability of 1, but it must always be given anyway. In this example, the second stage nodes are equally likely."
   ]
  },
  {
   "cell_type": "code",
   "execution_count": 11,
   "metadata": {},
   "outputs": [
    {
     "ename": "SyntaxError",
     "evalue": "invalid syntax (<ipython-input-11-b18b2ab7cd04>, line 1)",
     "output_type": "error",
     "traceback": [
      "\u001b[0;36m  File \u001b[0;32m\"<ipython-input-11-b18b2ab7cd04>\"\u001b[0;36m, line \u001b[0;32m1\u001b[0m\n\u001b[0;31m    param ConditionalProbability := RootNode          1.0\u001b[0m\n\u001b[0m                               ^\u001b[0m\n\u001b[0;31mSyntaxError\u001b[0m\u001b[0;31m:\u001b[0m invalid syntax\n"
     ]
    }
   ],
   "source": [
    "param ConditionalProbability := RootNode          1.0\n",
    "                                BelowAverageNode  0.33333333\n",
    "                                AverageNode       0.33333334\n",
    "                                AboveAverageNode  0.33333333 ;"
   ]
  },
  {
   "cell_type": "markdown",
   "metadata": {},
   "source": [
    "Scenario names are given in an assignment that begins with the required words \"set Scenarios\" and provides a list of the names of the scenarios. Any names may be given. In many applications they are given unimaginative names generated by software such as \"Scen1\" and the like. In this example, there are three scenarios and the names reflect the relative values of the yields."
   ]
  },
  {
   "cell_type": "code",
   "execution_count": 12,
   "metadata": {},
   "outputs": [
    {
     "ename": "SyntaxError",
     "evalue": "invalid syntax (<ipython-input-12-a764fad394fc>, line 1)",
     "output_type": "error",
     "traceback": [
      "\u001b[0;36m  File \u001b[0;32m\"<ipython-input-12-a764fad394fc>\"\u001b[0;36m, line \u001b[0;32m1\u001b[0m\n\u001b[0;31m    set Scenarios := BelowAverageScenario\u001b[0m\n\u001b[0m                ^\u001b[0m\n\u001b[0;31mSyntaxError\u001b[0m\u001b[0;31m:\u001b[0m invalid syntax\n"
     ]
    }
   ],
   "source": [
    "set Scenarios := BelowAverageScenario\n",
    "                 AverageScenario\n",
    "                 AboveAverageScenario ;"
   ]
  },
  {
   "cell_type": "markdown",
   "metadata": {},
   "source": [
    "Leaf nodes, which are nodes with no children, are associated with scenarios. This assignment must be one-to-one and it is initiated with the words \"param ScenarioLeafNode\" followed by the colon-equals assignment characters."
   ]
  },
  {
   "cell_type": "code",
   "execution_count": 14,
   "metadata": {},
   "outputs": [
    {
     "ename": "SyntaxError",
     "evalue": "invalid syntax (<ipython-input-14-06029a5de46d>, line 1)",
     "output_type": "error",
     "traceback": [
      "\u001b[0;36m  File \u001b[0;32m\"<ipython-input-14-06029a5de46d>\"\u001b[0;36m, line \u001b[0;32m1\u001b[0m\n\u001b[0;31m    param ScenarioLeafNode :=\u001b[0m\n\u001b[0m                         ^\u001b[0m\n\u001b[0;31mSyntaxError\u001b[0m\u001b[0;31m:\u001b[0m invalid syntax\n"
     ]
    }
   ],
   "source": [
    "param ScenarioLeafNode :=\n",
    "                    BelowAverageScenario BelowAverageNode\n",
    "                    AverageScenario      AverageNode\n",
    "                    AboveAverageScenario AboveAverageNode ;"
   ]
  },
  {
   "cell_type": "markdown",
   "metadata": {},
   "source": [
    "Variables are associated with stages using an assignment that begins with the required words \"set StageVariables\" and the name of a stage in square brackets followed by the colon-equals assignment characters. Variable names that have been defined in the file ReferenceModel.py can be assigned to stages. Any variables that are not assigned are assumed to be in the last stage. Variable indexes can be given explicitly and/or wildcards can be used. Note that the variable names appear without the prefix \"model.\" In the farmer example, DevotedAcreage is the only first stage variable."
   ]
  },
  {
   "cell_type": "code",
   "execution_count": 15,
   "metadata": {},
   "outputs": [
    {
     "ename": "SyntaxError",
     "evalue": "invalid syntax (<ipython-input-15-2121d4b3b75a>, line 1)",
     "output_type": "error",
     "traceback": [
      "\u001b[0;36m  File \u001b[0;32m\"<ipython-input-15-2121d4b3b75a>\"\u001b[0;36m, line \u001b[0;32m1\u001b[0m\n\u001b[0;31m    set StageVariables[FirstStage] :=  DevotedAcreage[*] ;\u001b[0m\n\u001b[0m                     ^\u001b[0m\n\u001b[0;31mSyntaxError\u001b[0m\u001b[0;31m:\u001b[0m invalid syntax\n"
     ]
    }
   ],
   "source": [
    "set StageVariables[FirstStage] :=  DevotedAcreage[*] ;\n",
    "set StageVariables[SecondStage] := QuantitySubQuotaSold[*]\n",
    "                                   QuantitySuperQuotaSold[*]\n",
    "                                   QuantityPurchased[*] ;"
   ]
  },
  {
   "cell_type": "markdown",
   "metadata": {},
   "source": [
    "\n",
    ">##### Note\n",
    ">Variable names appear without the prefix \"model.\"\n",
    "\n",
    ">##### Note\n",
    ">Wildcards can be used, but fully general Python slicing is not supported.\n",
    "\n",
    "For reporting purposes, it is useful to define auxiliary variables in <span style=\"color:darkblue; font-family:Courier\">ReferenceModel.py</span> that will be assigned the cost associated with each stage. This variables do not impact algorithms, but the values are output by some software during execution as well as upon completion. The names of the variables are assigned to stages using the \"param StageCostVariable\" assignment. The stages are previously defined in <span style=\"color:darkblue; font-family:Courier\">ScenarioStructure.dat</span> and the variables are previously defined in <span style=\"color:darkblue; font-family:Courier\">ReferenceModel.py</span>.\n",
    "\n"
   ]
  },
  {
   "cell_type": "code",
   "execution_count": 18,
   "metadata": {},
   "outputs": [
    {
     "ename": "SyntaxError",
     "evalue": "invalid syntax (<ipython-input-18-fd61f26ba646>, line 1)",
     "output_type": "error",
     "traceback": [
      "\u001b[0;36m  File \u001b[0;32m\"<ipython-input-18-fd61f26ba646>\"\u001b[0;36m, line \u001b[0;32m1\u001b[0m\n\u001b[0;31m    param StageCostVariable := FirstStage  FirstStageCost\u001b[0m\n\u001b[0m                          ^\u001b[0m\n\u001b[0;31mSyntaxError\u001b[0m\u001b[0;31m:\u001b[0m invalid syntax\n"
     ]
    }
   ],
   "source": [
    "param StageCostVariable := FirstStage  FirstStageCost\n",
    "                           SecondStage SecondStageCost ;"
   ]
  },
  {
   "cell_type": "markdown",
   "metadata": {},
   "source": [
    "##### 11.2.4. Scenario data specification\n",
    "\n",
    "So far, we have given a model in the file named <span style=\"color:darkblue; font-family:Courier\">ReferenceModel.py</span>, a set of deterministic data in the file named <span style=\"color:darkblue; font-family:Courier\">ReferenceModel.py</span>, and a description of the stochastics in the file named <span style=\"color:darkblue; font-family:Courier\">ScenarioStructure.dat</span>. All that remains is to give the data for each scenario. There are two ways to do that in PySP: <span style=\"color:darkblue\">*scenario-based*</span> and <span style=\"color:darkblue\">*node-based*</span>. The default is scenario-based so we will describe that first.\n",
    "\n",
    "For scenario-based data, the full data for each scenario is given in a <span style=\"color:darkblue; font-family:Courier\">.dat</span> file with the root name that is the name of the scenario. So, for example, the file named <span style=\"color:darkblue; font-family:Courier\">AverageScenario.dat</span> must contain all the data for the model for the scenario named \"AvererageScenario.\" It turns out that this file can be created by simply copying the file <span style=\"color:darkblue; font-family:Courier\">ReferenceModel.dat</span> as shown above because it contains a full set of data for the \"AverageScenario\" scenario. The files <span style=\"color:darkblue; font-family:Courier\">BelowAverageScenario.dat</span> and <span style=\"color:darkblue; font-family:Courier\">AboveAverageScenario.dat</span> will differ from this file and from each other only in their last line, where the yield is specified. These three files are distributed with Pyomo and are in the pyomo sub-directory <span style=\"color:darkblue; font-family:Courier\">examples/pysp/farmer/scenariodata</span> along with <span style=\"color:darkblue; font-family:Courier\">ScenarioStructure.dat</span> and <span style=\"color:darkblue; font-family:Courier\">ReferenceModel.dat</span>.\n",
    "\n",
    "Scenario-based data wastes resources by specifying the same thing over and over again. In many cases, that does not matter and it is convenient to have full scenario data files available (for one thing, the scenarios can easily be run independently using the <span style=\"color:darkblue; font-family:Courier\">pyomo</span> command). However, in many other settings, it is better to use a node-based specification where the data that is unique to each node is specified in a <span style=\"color:darkblue; font-family:Courier\">.dat</span> file with a root name that matches the node name. In the farmer example, the file <span style=\"color:darkblue; font-family:Courier\">RootNode.dat</span> will be the same as <span style=\"color:darkblue; font-family:Courier\">ReferenceModel.dat</span> except that it will lack the last line that specifies the yield. The files <span style=\"color:darkblue; font-family:Courier\">BelowAverageNode.dat</span>, <span style=\"color:darkblue; font-family:Courier\">AverageNode.dat</span>, and <span style=\"color:darkblue; font-family:Courier\">AboveAverageNode.dat</span> will contain only one line each to specify the yield. If node-based data is to be used, then the <span style=\"color:darkblue; font-family:Courier\">ScenarioStructure.dat</span> file must contain the following line:"
   ]
  },
  {
   "cell_type": "code",
   "execution_count": 19,
   "metadata": {},
   "outputs": [
    {
     "ename": "SyntaxError",
     "evalue": "invalid syntax (<ipython-input-19-4661a4ebfaa0>, line 1)",
     "output_type": "error",
     "traceback": [
      "\u001b[0;36m  File \u001b[0;32m\"<ipython-input-19-4661a4ebfaa0>\"\u001b[0;36m, line \u001b[0;32m1\u001b[0m\n\u001b[0;31m    param ScenarioBasedData := False ;\u001b[0m\n\u001b[0m                          ^\u001b[0m\n\u001b[0;31mSyntaxError\u001b[0m\u001b[0;31m:\u001b[0m invalid syntax\n"
     ]
    }
   ],
   "source": [
    "param ScenarioBasedData := False ;"
   ]
  },
  {
   "cell_type": "markdown",
   "metadata": {},
   "source": [
    "An entire set of files for node-based data for the farmer problem are distributed with Pyomo in the sub-directory <span style=\"color:darkblue; font-family:Courier\">examples/pysp/farmer/nodedata</span>\n",
    "\n",
    "### 11.3. Finding Solutions for Stochastic Models\n",
    "PySP provides a variety of tools for finding solutions to stochastic programs.\n",
    "\n",
    "##### 11.3.1. runef\n",
    "\n",
    "The <span style=\"color:darkblue; font-family:Courier\">runef</span> command puts together the so-called <span style=\"color:darkblue\">*extensive form*</span> version of the model. It creates a large model that has constraints to ensure that variables at a node have the same value. For example, in the farmer problem, all of the <span style=\"color:darkblue; font-family:Courier\">DevotedAcres</span> variables must have the same value regardless of which scenario is ultimately realized. The objective can be the expected value of the objective function, or the CVaR, or a weighted combination of the two. Expected value is the default. A full set of options for <span style=\"color:darkblue; font-family:Courier\">runef</span> can be obtained using the command:\n",
    "\n"
   ]
  },
  {
   "cell_type": "code",
   "execution_count": 7,
   "metadata": {},
   "outputs": [
    {
     "name": "stdout",
     "output_type": "stream",
     "text": [
      "usage: runef [--verbose] [--disable-gc] [--profile] [--traceback]\r\n",
      "             [--output-scenario-tree-solution] [--solution-saver-extension]\r\n",
      "             [--solution-loader-extension] [--solution-writer] [--output-file]\r\n",
      "             [--solve] [--output-scenario-costs]\r\n",
      "             [--output-instance-construction-time]\r\n",
      "             [--compile-scenario-instances] [--output-times] [-m]\r\n",
      "             [--model-directory] [-s] [-i] [-o] [--postinit-callback-location]\r\n",
      "             [--bounds-cfgfile] [--aggregategetter-callback-location]\r\n",
      "             [--aggregate-cfgfile] [--scenario-tree-random-seed INT]\r\n",
      "             [--scenario-tree-seed] [--scenario-tree-downsample-fraction]\r\n",
      "             [--scenario-bundle-specification] [--create-random-bundles]\r\n",
      "             [--profile-memory] [--cvar-weight] [--generate-weighted-cvar]\r\n",
      "             [--risk-alpha] [--cc-alpha] [--cc-indicator-var] [--mipgap]\r\n",
      "             [--solver] [--solver-io] [--solver-manager] [--solver-options]\r\n",
      "             [--disable-warmstart] [--pyro-host] [--pyro-port INT]\r\n",
      "             [--pyro-shutdown] [--shutdown-pyro] [--output-solver-results]\r\n",
      "             [--symbolic-solver-labels] [--output-solver-log]\r\n",
      "             [--keep-solver-files] [--pyro-shutdown-workers]\r\n",
      "             [--shutdown-pyro-workers] [--activate-jsonio-solution-saver] [-h]\r\n",
      "\r\n",
      "Construct and Solve an Extensive Form for Stochastic Programs\r\n",
      "\r\n",
      "optional arguments:\r\n",
      "  --solve               Solve the extensive form model. Default is False,\r\n",
      "                        which implies that the EF will be saved to a file.\r\n",
      "  --output-scenario-costs \r\n",
      "                        A file name where individual scenario costs from the\r\n",
      "                        solution will be stored. The format is determined from\r\n",
      "                        the extension used in the filename. Recognized\r\n",
      "                        extensions: [.csv, .json, .yaml]\r\n",
      "  -h, --help            show this help message and exit\r\n",
      "\r\n",
      "Output Options:\r\n",
      "  --verbose             Generate verbose output for both initialization and\r\n",
      "                        execution.\r\n",
      "  --output-scenario-tree-solution\r\n",
      "                        Report the solution in scenario tree format upon\r\n",
      "                        termination. Default is False.\r\n",
      "  --output-file         The name of the extensive form output file (currently\r\n",
      "                        LP, MPS, and NL file formats are supported). If the\r\n",
      "                        option value does not end in '.lp', '.mps', or '.nl',\r\n",
      "                        then the output format will be inferred from the\r\n",
      "                        settings for the --solver and --solver-io options, and\r\n",
      "                        the appropriate suffix will be appended to the name.\r\n",
      "                        Default is 'efout'.\r\n",
      "  --output-instance-construction-time\r\n",
      "                        Output timing information during instance\r\n",
      "                        construction. This option will be ignored when a\r\n",
      "                        'pysp_instance_creation_callback' function is defined\r\n",
      "                        inside the reference model file.\r\n",
      "  --output-times        Output timing statistics during various runtime\r\n",
      "                        stages.\r\n",
      "\r\n",
      "Other Options:\r\n",
      "  --disable-gc          Disable the python garbage collecter.\r\n",
      "  --profile             Enable profiling of Python code. The value of this\r\n",
      "                        option is the number of functions that are summarized.\r\n",
      "                        The default value of 0 disables profiling.\r\n",
      "  --traceback           When an exception is thrown, show the entire call\r\n",
      "                        stack. Ignored if profiling is enabled.\r\n",
      "  --compile-scenario-instances\r\n",
      "                        Replace all linear constraints on scenario instances\r\n",
      "                        with a more memory efficient sparse matrix\r\n",
      "                        representation.\r\n",
      "  --profile-memory      If Guppy or Pympler is available, report memory usage\r\n",
      "                        statistics for objects created by various PySP\r\n",
      "                        constructs. The default value of 0 disables memory\r\n",
      "                        profiling. Values greater than 0 indiciate increasing\r\n",
      "                        levels of verbosity.\r\n",
      "\r\n",
      "Extension Options:\r\n",
      "  --solution-saver-extension \r\n",
      "                        The name of a python module specifying a user-defined\r\n",
      "                        plugin implementing the IPySPSolutionSaverExtension\r\n",
      "                        interface. Invoked to save a scenario tree solution.\r\n",
      "                        Use this option when generating a template\r\n",
      "                        configuration file or invoking command-line help in\r\n",
      "                        order to include any plugin-specific options. This\r\n",
      "                        option can be used multiple times from the command\r\n",
      "                        line to specify more than one plugin.\r\n",
      "  --solution-loader-extension \r\n",
      "                        The name of a python module specifying a user-defined\r\n",
      "                        plugin implementing the IPySPSolutionLoaderExtension\r\n",
      "                        interface. Invoked to load a scenario tree solution.\r\n",
      "                        Use this option when generating a template\r\n",
      "                        configuration file or invoking command-line help in\r\n",
      "                        order to include any plugin-specific options. This\r\n",
      "                        option can be used multiple times from the command\r\n",
      "                        line to specify more than one plugin.\r\n",
      "  --solution-writer     The name of a python module specifying a user-defined\r\n",
      "                        plugin implementing the ISolutionWriterExtension\r\n",
      "                        interface. Invoked to save a scenario tree solution.\r\n",
      "                        Use this option when generating a template\r\n",
      "                        configuration file or invoking command-line help in\r\n",
      "                        order to include any plugin-specific options. This\r\n",
      "                        option can used multiple times from the command line\r\n",
      "                        to specify more than one plugin.\r\n",
      "\r\n",
      "Input Options:\r\n",
      "  -m , --model-location \r\n",
      "                        The directory or filename where the reference model is\r\n",
      "                        found. If a directory is given, the reference model is\r\n",
      "                        assumed to reside in a file named 'ReferenceModel.py'\r\n",
      "                        under that directory. If the reference model file\r\n",
      "                        contains a function named\r\n",
      "                        'pysp_instance_creation_callback', it will be called\r\n",
      "                        to construct each scenario model (not necessarily by\r\n",
      "                        the same running process). Otherwise, the reference\r\n",
      "                        model file must contain an AbstractModel object named\r\n",
      "                        'model'. Default is '.'.\r\n",
      "  -s , --scenario-tree-location \r\n",
      "                        The directory or filename where the scenario tree\r\n",
      "                        structure .dat file is found. If a directory is given,\r\n",
      "                        the scenario tree structure is assumed to reside in a\r\n",
      "                        file named 'ScenarioStructure.dat' under that\r\n",
      "                        directory. The location of any required scenario data\r\n",
      "                        files will also be inferred from the value of this\r\n",
      "                        option. If unspecified, the reference model file must\r\n",
      "                        define a function named\r\n",
      "                        'pysp_scenario_tree_model_callback' and must be in the\r\n",
      "                        same location as any required scenario data files.\r\n",
      "  -o , --objective-sense-stage-based \r\n",
      "                        The objective sense to use when auto-generating the\r\n",
      "                        scenario instance objective function, which is equal\r\n",
      "                        to the sum of the scenario-tree stage costs declared\r\n",
      "                        on the reference model. If unspecified, it is assumed\r\n",
      "                        a stage-cost based objective function has been\r\n",
      "                        declared on the reference model.\r\n",
      "  --postinit-callback-location \r\n",
      "                        File that contains a 'pysp_postinit_callback'\r\n",
      "                        function, which is executed on each scenario at the\r\n",
      "                        end of scenario tree manager initialization. If the\r\n",
      "                        scenario tree is distributed, then this callback will\r\n",
      "                        be transmitted to the respective scenario tree workers\r\n",
      "                        where the constructed scenario instances are\r\n",
      "                        available. This callback can be used to update things\r\n",
      "                        like variable bounds as well as other scenario-\r\n",
      "                        specific information stored on the Scenario objects.\r\n",
      "                        This callback will be executed immediately after any\r\n",
      "                        'pysp_aggregategetter_callback' function that is\r\n",
      "                        specified. This option can be used multiple times from\r\n",
      "                        the command line to specify more than one callback\r\n",
      "                        function location.\r\n",
      "  --aggregategetter-callback-location \r\n",
      "                        File that contains a 'pysp_aggregategetter_callback'\r\n",
      "                        function, which is executed in a sequential call chain\r\n",
      "                        on each scenario at the end of scenario tree manager\r\n",
      "                        initialization. Most useful in cases where the\r\n",
      "                        scenario tree is distributed across multiple\r\n",
      "                        processes, it can be used to execute arbitrary code\r\n",
      "                        whose return value is passed as input into the next\r\n",
      "                        call in the chain. At the end of the call chain, the\r\n",
      "                        final result is broadcast to all scenario tree worker\r\n",
      "                        processes and stored under the name\r\n",
      "                        _aggregate_user_data on the worker object. Potential\r\n",
      "                        uses include collecting aggregate scenario information\r\n",
      "                        that is subsequently used by a\r\n",
      "                        'pysp_postinit_callback' function to set tight\r\n",
      "                        variable bounds. This option can be used multiple\r\n",
      "                        times from the command line to specify more than one\r\n",
      "                        callback function location.\r\n",
      "\r\n",
      "Deprecated Options:\r\n",
      "  --model-directory     Deprecated alias for --model-location\r\n",
      "  -i , --instance-directory \r\n",
      "                        Deprecated alias for --scenario-tree-location, -s\r\n",
      "  --bounds-cfgfile      Deprecated alias for --postinit-callback-location\r\n",
      "  --aggregate-cfgfile   Deprecated alias for --aggregategetter-callback-\r\n",
      "                        location\r\n",
      "  --scenario-tree-seed \r\n",
      "                        Deprecated alias for --scenario-tree-random-seed\r\n",
      "  --shutdown-pyro       Deprecated alias for --pyro-shutdown\r\n",
      "  --shutdown-pyro-workers\r\n",
      "                        Deprecated alias for --pyro-shutdown-workers\r\n",
      "  --activate-jsonio-solution-saver\r\n",
      "                        Deprecated alias for --solution-saver-\r\n",
      "                        extension=pyomo.pysp.plugins.jsonio\r\n",
      "\r\n",
      "Scenario Tree Options:\r\n",
      "  --scenario-tree-random-seed INT\r\n",
      "                        The random seed associated with manipulation\r\n",
      "                        operations on the scenario tree (e.g., down-sampling\r\n",
      "                        or bundle creation). Default is None, indicating\r\n",
      "                        unassigned.\r\n",
      "  --scenario-tree-downsample-fraction \r\n",
      "                        The proportion of the scenarios in the scenario tree\r\n",
      "                        that are actually used. Specific scenarios are\r\n",
      "                        selected at random. Default is 1.0, indicating no\r\n",
      "                        down-sampling.\r\n",
      "  --scenario-bundle-specification \r\n",
      "                        The name of the scenario bundling specification to be\r\n",
      "                        used when generating the scenario tree. Default is\r\n",
      "                        None, indicating no bundling is employed. If the\r\n",
      "                        specified name ends with a .dat suffix, the argument\r\n",
      "                        is interpreted as the path to a file. Otherwise, the\r\n",
      "                        name is interpreted as a file in the instance\r\n",
      "                        directory, constructed by adding the .dat suffix\r\n",
      "                        automatically. If scripting, this option can\r\n",
      "                        alternatively be assigned a dictionary mapping bundle\r\n",
      "                        names to a list of scenario names.\r\n",
      "  --create-random-bundles \r\n",
      "                        Specification to create the indicated number of\r\n",
      "                        random, equally-sized (to the degree possible)\r\n",
      "                        scenario bundles. Default is 0, indicating no scenario\r\n",
      "                        bundles will be created.\r\n",
      "\r\n",
      "EF Options:\r\n",
      "  --cvar-weight         The weight associated with the CVaR term in the risk-\r\n",
      "                        weighted objective formulation. If the weight is 0,\r\n",
      "                        then *only* a non-weighted CVaR cost will appear in\r\n",
      "                        the EF objective - the expected cost component will be\r\n",
      "                        dropped. Default is 1.0.\r\n",
      "  --generate-weighted-cvar\r\n",
      "                        Add a weighted CVaR term to the primary objective.\r\n",
      "                        Default is False.\r\n",
      "  --risk-alpha          The probability threshold associated with CVaR (or any\r\n",
      "                        future) risk-oriented performance metrics. Default is\r\n",
      "                        0.95.\r\n",
      "  --cc-alpha            The probability threshold associated with a chance\r\n",
      "                        constraint. The RHS will be one minus this value.\r\n",
      "                        Default is 0.\r\n",
      "  --cc-indicator-var    The name of the binary variable to be used to\r\n",
      "                        construct a chance constraint. Default is None, which\r\n",
      "                        indicates no chance constraint.\r\n",
      "  --mipgap              Specifies the mipgap for the EF solve.\r\n",
      "  --output-solver-results\r\n",
      "                        Output solutions obtained after each scenario sub-\r\n",
      "                        problem solve.\r\n",
      "  --symbolic-solver-labels\r\n",
      "                        When interfacing with the solver, use symbol names\r\n",
      "                        derived from the model. For example,\r\n",
      "                        'my_special_variable[1_2_3]' instead of 'x552'. Useful\r\n",
      "                        for debugging. When using NL file based solvers, this\r\n",
      "                        option results in corresponding .row (constraints) and\r\n",
      "                        .col (variables) file being created. The ordering in\r\n",
      "                        these files provides a mapping from NL file index to\r\n",
      "                        symbolic model names.\r\n",
      "  --output-solver-log   Output solver log during solves.\r\n",
      "  --keep-solver-files   Retain temporary input and output files for scenario\r\n",
      "                        sub-problem solves.\r\n",
      "\r\n",
      "Solve Options:\r\n",
      "  --solver              Specify the solver with which to solve scenarios (or\r\n",
      "                        bundles). Default is cplex.\r\n",
      "  --solver-io           The type of IO used to execute the solver. Different\r\n",
      "                        solvers support different types of IO, but the\r\n",
      "                        following are common options: lp - generate LP files,\r\n",
      "                        nl - generate NL files, python - direct Python\r\n",
      "                        interface, os - generate OSiL XML files.\r\n",
      "  --solver-manager      The type of solver manager used to coordinate scenario\r\n",
      "                        sub-problem solves. Default is serial.\r\n",
      "  --solver-options      Persistent solver options for all sub-problems\r\n",
      "                        (scenarios or bundles). This option can be used\r\n",
      "                        multiple times from the command line to specify more\r\n",
      "                        than one solver option.\r\n",
      "  --disable-warmstart   Disable warm-start of all sub-problem solves.\r\n",
      "\r\n",
      "Pyro Options:\r\n",
      "  --pyro-host           The hostname to bind on when searching for a Pyro\r\n",
      "                        nameserver.\r\n",
      "  --pyro-port INT       The port to bind on when searching for a Pyro\r\n",
      "                        nameserver.\r\n",
      "  --pyro-shutdown       Attempt to shut down all Pyro-related components\r\n",
      "                        associated with the Pyro name server for the scenario\r\n",
      "                        tree manager. Components to shutdown include the name\r\n",
      "                        server, dispatch server, and any scenariotreeserver\r\n",
      "                        registered with the dispatcher. Note that if Pyro4 is\r\n",
      "                        in use the nameserver will always ignore this request.\r\n",
      "  --pyro-shutdown-workers\r\n",
      "                        Upon exit, send shutdown requests to all worker\r\n",
      "                        processes that were acquired through the dispatcher\r\n",
      "                        used by the scenario tree manager. This leaves any\r\n",
      "                        dispatchers and namservers running as well as any\r\n",
      "                        processes registered with the dispather that were not\r\n",
      "                        acquired for work by this client.\r\n",
      "\r\n",
      "Registered Extensions:\r\n",
      " - IPySPSolutionLoaderExtension: ['pyomo.pysp.plugins.jsonio']\r\n",
      " - IPySPSolutionSaverExtension: ['pyomo.pysp.plugins.jsonio']\r\n",
      " - ISolutionWriterExtension: ['pyomo.pysp.plugins.jsonsolutionwriter', 'pyomo.pysp.plugins.csvsolutionwriter']\r\n"
     ]
    }
   ],
   "source": [
    "!runef --help"
   ]
  },
  {
   "cell_type": "markdown",
   "metadata": {},
   "source": [
    "The pyomo distribution contains the files need to run the farmer example in the sub-directories to the sub-directory <span style=\"color:darkblue; font-family:Courier\">examples/pysp/farmer</span> so if this is the current directory and if CPLEX is installed, the following command will cause formation of the EF and its solution using CPLEX."
   ]
  },
  {
   "cell_type": "code",
   "execution_count": 2,
   "metadata": {},
   "outputs": [
    {
     "name": "stdout",
     "output_type": "stream",
     "text": [
      "***ERROR: Failed to locate reference model file with specification string: models\r\n",
      "RUN-TIME ERROR: Model input does not exist: /Users/rhart/PyomoGettingStarted/models/ReferenceModel.py\r\n"
     ]
    }
   ],
   "source": [
    "!runef -m models -i nodedata --solver=cplex --solve"
   ]
  },
  {
   "cell_type": "markdown",
   "metadata": {},
   "source": [
    "The option <span style=\"color:darkblue; font-family:Courier\">-m models</span> has one dash and is short-hand for the option <span style=\"color:darkblue; font-family:Courier\">--model-directory=models</span> and note that the full option uses two dashes. The <span style=\"color:darkblue; font-family:Courier\">-i</span> is equivalent to <span style=\"color:darkblue; font-family:Courier\">--instance-directory=</span> in the same fashion. The default solver is CPLEX, so the solver option is not really needed. With the <span style=\"color:darkblue; font-family:Courier\">--solve</span> option, runef would simply write an .lp data file that could be passed to a solver.\n",
    "\n",
    "##### 11.3.2. runph\n",
    "\n",
    "The runph command executes an implementation of Progressive Hedging (PH) that is intended to support scripting and extension.\n",
    "\n",
    "The pyomo distribution contains the files need to run the farmer example in the sub-directories to the sub-directory examples/pysp/farmer so if this is the current directory and if CPLEX is installed, the following command will cause PH to execute using the default sub-problem solver, which is CPLEX.\n",
    "\n"
   ]
  },
  {
   "cell_type": "code",
   "execution_count": 8,
   "metadata": {},
   "outputs": [
    {
     "name": "stdout",
     "output_type": "stream",
     "text": [
      "ERROR: Failed to extract reference model python file from path specification:\r\n",
      "    models\r\n",
      "runph: IO ERROR:\r\n",
      "path does not exist: /Users/joseangelvelasco/GoogleDrive/thesis/notebooks/pyomo_getting_started/models/ReferenceModel.py\r\n",
      "\r\n",
      "To obtain further information regarding the source of the exception, use the --traceback option\r\n"
     ]
    }
   ],
   "source": [
    "!runph -m models -i nodedata"
   ]
  },
  {
   "cell_type": "markdown",
   "metadata": {},
   "source": [
    "The option <span style=\"color:darkblue; font-family:Courier\">-m models</span> has one dash and is short-hand for the option <span style=\"color:darkblue; font-family:Courier\">--model-directory=models</span> and note that the full option uses two dashes. The -i is equivalent to <span style=\"color:darkblue; font-family:Courier\">--instance-directory=</span> in the same fashion.\n",
    "\n",
    "After about 33 iterations, the algorithm will achieve the default level of convergence and terminate. A lot of output is generated and among the output is the following solution information:"
   ]
  },
  {
   "cell_type": "code",
   "execution_count": 23,
   "metadata": {},
   "outputs": [
    {
     "ename": "IndentationError",
     "evalue": "unexpected indent (<ipython-input-23-6edb9f091fd5>, line 2)",
     "output_type": "error",
     "traceback": [
      "\u001b[0;36m  File \u001b[0;32m\"<ipython-input-23-6edb9f091fd5>\"\u001b[0;36m, line \u001b[0;32m2\u001b[0m\n\u001b[0;31m    Index: [CORN]            (Scenarios:  BelowAverageScenario   AverageScenario   AboveAverageScenario   )\u001b[0m\n\u001b[0m    ^\u001b[0m\n\u001b[0;31mIndentationError\u001b[0m\u001b[0;31m:\u001b[0m unexpected indent\n"
     ]
    }
   ],
   "source": [
    "Variable=DevotedAcreage\n",
    "        Index: [CORN]            (Scenarios:  BelowAverageScenario   AverageScenario   AboveAverageScenario   )\n",
    "                Values:       79.9844      80.0000      79.9768     Max-Min=      0.0232     Avg=     79.9871\n",
    "        Index: [SUGAR_BEETS]             (Scenarios:  BelowAverageScenario   AverageScenario   AboveAverageScenario   )\n",
    "                Values:      249.9848     249.9770     250.0000     Max-Min=      0.0230     Avg=    249.9873\n",
    "        Index: [WHEAT]           (Scenarios:  BelowAverageScenario   AverageScenario   AboveAverageScenario   )\n",
    "                Values:      170.0308     170.0230     170.0232     Max-Min=      0.0078     Avg=    170.0256\n",
    "Cost Variable=FirstStageCost\n",
    "        Tree Node=RootNode               (Scenarios:  BelowAverageScenario   AverageScenario   AboveAverageScenario   )\n",
    "        Values:   108897.0836  108897.4725  108898.1476     Max-Min=      1.0640     Avg= 108897.5679\n"
   ]
  },
  {
   "cell_type": "markdown",
   "metadata": {},
   "source": [
    "For problems with no, or few, integer variables, the default level of convergence leaves root-node variables almost converged. Since the acreage to be planted cannot depend on the scenario that will be realized in the future, the average, which is labeled \"Avg\" in this output, would be used. A farmer would probably interpret acreages of 79.9871, 249.9873, and 170.0256 to be 80, 250, and 170. In real-world applications, PH is embedded in scripts that produce output in a format desired by a decision maker.\n",
    "\n",
    "But in real-world applications, the default settings for PH seldom work well enough. In addition to post-processing the output, a number of parameters need to be adjusted and sometimes scripting to extend or augment the algorithm is needed to improve convergence rates. A full set of options can be obtained with the command:"
   ]
  },
  {
   "cell_type": "code",
   "execution_count": 4,
   "metadata": {},
   "outputs": [
    {
     "name": "stdout",
     "output_type": "stream",
     "text": [
      "Usage: runph [options]\n",
      "\n",
      "Options:\n",
      "  -h, --help            show this help message and exit\n",
      "\n",
      "  Input Options:\n",
      "    -m MODEL_DIRECTORY, --model-directory=MODEL_DIRECTORY\n",
      "                        The directory in which all model (reference and\n",
      "                        scenario) definitions are stored. Default is \".\".\n",
      "    -i INSTANCE_DIRECTORY, --instance-directory=INSTANCE_DIRECTORY\n",
      "                        The directory in which all instance (reference and\n",
      "                        scenario) definitions are stored. This option is\n",
      "                        required if no callback is found in the model file.\n",
      "    -o OBJECTIVE_SENSE, --objective-sense-stage-based=OBJECTIVE_SENSE\n",
      "                        The objective sense to use for the auto-generated\n",
      "                        scenario instance objective, which is equal to the sum\n",
      "                        of the scenario-tree stage costs. Default is None,\n",
      "                        indicating an Objective has been declared on the\n",
      "                        reference model.\n",
      "    --ph-warmstart-file=PH_WARMSTART_FILE\n",
      "                        Disable iteration 0 solves and warmstarts rho, weight,\n",
      "                        and xbar parameters from solution file.\n",
      "    --ph-warmstart-index=PH_WARMSTART_INDEX\n",
      "                        Indicates the index (ph iteration) of the warmstart\n",
      "                        that should be loaded from a ph history file.\n",
      "    --bounds-cfgfile=BOUNDS_CFGFILE\n",
      "                        The name of python script containing a\n",
      "                        ph_boundsetter_callback function to compute and update\n",
      "                        scenario variable bounds. Default is None.\n",
      "\n",
      "  Scenario Tree Options:\n",
      "    --scenario-tree-seed=SCENARIO_TREE_RANDOM_SEED\n",
      "                        The random seed associated with manipulation\n",
      "                        operations on the scenario tree (e.g., down-sampling\n",
      "                        or bundle creation). Default is 0, indicating\n",
      "                        unassigned.\n",
      "    --scenario-tree-downsample-fraction=SCENARIO_TREE_DOWNSAMPLE_FRACTION\n",
      "                        The proportion of the scenarios in the scenario tree\n",
      "                        that are actually used. Specific scenarios are\n",
      "                        selected at random. Default is 1.0, indicating no\n",
      "                        down-sampling.\n",
      "    --scenario-bundle-specification=SCENARIO_BUNDLE_SPECIFICATION\n",
      "                        The name of the scenario bundling specification to be\n",
      "                        used when executing Progressive Hedging. Default is\n",
      "                        None, indicating no bundling is employed. If the\n",
      "                        specified name ends with a .dat suffix, the argument\n",
      "                        is interpreted as a filename. Otherwise, the name is\n",
      "                        interpreted as a file in the instance directory,\n",
      "                        constructed by adding the .dat suffix automatically\n",
      "    --create-random-bundles=CREATE_RANDOM_BUNDLES\n",
      "                        Specification to create the indicated number of\n",
      "                        random, equally-sized (to the degree possible)\n",
      "                        scenario bundles. Default is 0, indicating disabled.\n",
      "\n",
      "  PH Options:\n",
      "    -r DEFAULT_RHO, --default-rho=DEFAULT_RHO\n",
      "                        The default (global) rho for all blended variables.\n",
      "                        *** Required ***\n",
      "    --overrelax         Compute weight updates using combination of previous\n",
      "                        and current variable averages\n",
      "    --nu=NU             \n",
      "    --async             Run PH in asychronous mode after iteration 0. Default\n",
      "                        is False.\n",
      "    --async-buffer-length=ASYNC_BUFFER_LENGTH\n",
      "                        Number of scenarios to collect, if in async mode,\n",
      "                        before doing statistics and weight updates. Default is\n",
      "                        1.\n",
      "    --rho-cfgfile=RHO_CFGFILE\n",
      "                        The name of python script containing a\n",
      "                        ph_rhosetter_callback function to compute and update\n",
      "                        PH rho values. Default is None.\n",
      "    --aggregate-cfgfile=AGGREGATE_CFGFILE\n",
      "                        The name of python script containing a\n",
      "                        ph_aggregategetter_callback function to collect and\n",
      "                        store aggregate scenario data on PH. Default is None.\n",
      "    --max-iterations=MAX_ITERATIONS\n",
      "                        The maximal number of PH iterations. Default is 100.\n",
      "    --termdiff-threshold=TERMDIFF_THRESHOLD\n",
      "                        The convergence threshold used in the term-diff and\n",
      "                        normalized term-diff convergence criteria. Default is\n",
      "                        0.0001.\n",
      "    --enable-free-discrete-count-convergence\n",
      "                        Terminate PH based on the free discrete variable count\n",
      "                        convergence metric. Default is False.\n",
      "    --enable-normalized-termdiff-convergence\n",
      "                        Terminate PH based on the normalized termdiff\n",
      "                        convergence metric. Default is True.\n",
      "    --enable-termdiff-convergence\n",
      "                        Terminate PH based on the termdiff convergence metric.\n",
      "                        Default is False.\n",
      "    --free-discrete-count-threshold=FREE_DISCRETE_COUNT_THRESHOLD\n",
      "                        The convergence threshold used in the criterion based\n",
      "                        on when the free discrete variable count convergence\n",
      "                        criterion. Default is 20.\n",
      "    --linearize-nonbinary-penalty-terms=LINEARIZE_NONBINARY_PENALTY_TERMS\n",
      "                        Approximate the PH quadratic term for non-binary\n",
      "                        variables with a piece-wise linear function, using the\n",
      "                        supplied number of equal-length pieces from each bound\n",
      "                        to the average\n",
      "    --breakpoint-strategy=BREAKPOINT_STRATEGY\n",
      "                        Specify the strategy to distribute breakpoints on the\n",
      "                        [lb, ub] interval of each variable when linearizing. 0\n",
      "                        indicates uniform distribution. 1 indicates\n",
      "                        breakpoints at the node min and max, uniformly in-\n",
      "                        between. 2 indicates more aggressive concentration of\n",
      "                        breakpoints near the observed node min/max.\n",
      "    --retain-quadratic-binary-terms\n",
      "                        Do not linearize PH objective terms involving binary\n",
      "                        decision variables\n",
      "    --drop-proximal-terms\n",
      "                        Eliminate proximal terms (i.e., the quadratic penalty\n",
      "                        terms) from the weighted PH objective. Default is\n",
      "                        False.\n",
      "    --enable-ww-extensions\n",
      "                        Enable the Watson-Woodruff PH extensions plugin.\n",
      "                        Default is False.\n",
      "    --ww-extension-cfgfile=WW_EXTENSION_CFGFILE\n",
      "                        The name of a configuration file for the Watson-\n",
      "                        Woodruff PH extensions plugin.\n",
      "    --ww-extension-suffixfile=WW_EXTENSION_SUFFIXFILE\n",
      "                        The name of a variable suffix file for the Watson-\n",
      "                        Woodruff PH extensions plugin.\n",
      "    --ww-extension-annotationfile=WW_EXTENSION_ANNOTATIONFILE\n",
      "                        The name of a variable annotation file for the Watson-\n",
      "                        Woodruff PH extensions plugin.\n",
      "    --user-defined-extension=USER_DEFINED_EXTENSIONS\n",
      "                        The name of a python module specifying a user-defined\n",
      "                        PH extension plugin.\n",
      "    --flatten-expressions, --linearize-expressions\n",
      "                        EXPERIMENTAL: An option intended for use on linear or\n",
      "                        mixed-integer models in which expression trees in a\n",
      "                        model (constraints or objectives) are compacted into a\n",
      "                        more memory-efficient and concise form. The trees\n",
      "                        themselves are eliminated.\n",
      "    --preprocess-fixed-variables\n",
      "                        Preprocess fixed/freed variables in scenario\n",
      "                        instances, rather than write them to solver plugins.\n",
      "                        Default is False.\n",
      "\n",
      "  Solver Options:\n",
      "    --scenario-mipgap=SCENARIO_MIPGAP\n",
      "                        Specifies the mipgap for all PH scenario sub-problems\n",
      "    --scenario-solver-options=SCENARIO_SOLVER_OPTIONS\n",
      "                        Solver options for all PH scenario sub-problems\n",
      "    --solver=SOLVER_TYPE\n",
      "                        Specify the solver with which to solve scenario sub-\n",
      "                        problems.  The following solver types are currently\n",
      "                        supported: asl, baron, bilevel_blp_global,\n",
      "                        bilevel_blp_local, bilevel_ld, cbc, cplex, glpk,\n",
      "                        gurobi, mpec_lg, mpec_nlp, openopt, os, path, pico,\n",
      "                        ps, py, scip, xpress; Default: cplex\n",
      "    --solver-io=SOLVER_IO\n",
      "                        The type of IO used to execute the solver.  Different\n",
      "                        solvers support different types of IO, but the\n",
      "                        following are common options: lp - generate LP files,\n",
      "                        nl - generate NL files, python - direct Python\n",
      "                        interface, os - generate OSiL XML files.\n",
      "    --solver-manager=SOLVER_MANAGER_TYPE\n",
      "                        The type of solver manager used to coordinate scenario\n",
      "                        sub-problem solves. Default is serial.\n",
      "    --pyro-hostname=PYRO_MANAGER_HOSTNAME\n",
      "                        The hostname to bind on. By default, the first\n",
      "                        dispatcher found will be used. This option can also\n",
      "                        help speed up initialization time if the hostname is\n",
      "                        known (e.g., localhost)\n",
      "    --handshake-with-phpyro\n",
      "                        When updating weights, xbars, and rhos across the\n",
      "                        PHPyro solver manager, it is often expedient to ignore\n",
      "                        the simple acknowledgement results returned by PH\n",
      "                        solver servers. Enabling this option instead enables\n",
      "                        hand-shaking, to ensure message receipt. Clearly only\n",
      "                        makes sense if the PHPyro solver manager is selected\n",
      "    --phpyro-required-workers=PHPYRO_REQUIRED_WORKERS\n",
      "                        Set the number of idle phsolverserver worker processes\n",
      "                        expected to be available when the PHPyro solver\n",
      "                        manager is selected. This option should be used when\n",
      "                        the number of worker threads is less than the total\n",
      "                        number of scenarios (or bundles). When this option is\n",
      "                        not used, PH will attempt to assign each scenario (or\n",
      "                        bundle) to a single phsolverserver until the timeout\n",
      "                        indicated by the --phpyro-workers-timeout option\n",
      "                        occurs.\n",
      "    --phpyro-workers-timeout=PHPYRO_WORKERS_TIMEOUT\n",
      "                        Set the time limit (seconds) for finding idle\n",
      "                        phsolverserver worker processes to be used when the\n",
      "                        PHPyro solver manager is selected. This option is\n",
      "                        ignored when --phpyro-required-workers is set\n",
      "                        manually. Default is 30.\n",
      "    --phpyro-transmit-leaf-stage-variable-solution\n",
      "                        By default, when running PH using the PHPyro solver\n",
      "                        manager, leaf-stage variable solutions are not\n",
      "                        transmitted back to the master PH instance during\n",
      "                        intermediate PH iterations. This flag will override\n",
      "                        that behavior for the rare cases where these values\n",
      "                        are needed. Using this option will possibly have a\n",
      "                        negative impact on runtime for PH iterations. When PH\n",
      "                        exits, variable values are collected from all stages\n",
      "                        whether or not this option was used. Also, note that\n",
      "                        PH extensions have the ability to override this flag\n",
      "                        at runtime.\n",
      "    --disable-warmstarts\n",
      "                        Disable warm-start of scenario sub-problem solves in\n",
      "                        PH iterations >= 1. Default is False.\n",
      "    --shutdown-pyro     Shut down all Pyro-related components associated with\n",
      "                        the Pyro and PH Pyro solver managers (if specified),\n",
      "                        including the dispatch server, name server, and any\n",
      "                        solver servers. Default is False.\n",
      "    --ef-disable-warmstarts\n",
      "                        Override the runph option of the same name during the\n",
      "                        EF solve.\n",
      "\n",
      "  Postprocessing Options:\n",
      "    --ef-output-file=EF_OUTPUT_FILE\n",
      "                        The basename of the extensive form output file\n",
      "                        (currently only LP and NL formats are supported), if\n",
      "                        writing or solving of the extensive form is enabled.\n",
      "                        The full output filename will be of the form\n",
      "                        '<basename>.{lp,nl}', where the suffix type is\n",
      "                        determined by the value of the --ef-solver-io or\n",
      "                        --solver-io option. Default is 'efout'.\n",
      "    --solve-ef          Upon termination, create the extensive-form model and\n",
      "                        solve it - accounting for all fixed variables.\n",
      "    --ef-solver=EF_SOLVER_TYPE\n",
      "                        Override the runph option of the same name during the\n",
      "                        EF solve.\n",
      "    --ef-solution-writer=EF_SOLUTION_WRITER\n",
      "                        The plugin invoked to write the scenario tree solution\n",
      "                        following the EF solve. If specified, overrides the\n",
      "                        runph option of the same name; otherwise, the runph\n",
      "                        option value will be used.\n",
      "    --ef-solver-io=EF_SOLVER_IO\n",
      "                        Override the runph option of the same name during the\n",
      "                        EF solve.\n",
      "    --ef-solver-manager=EF_SOLVER_MANAGER_TYPE\n",
      "                        The type of solver manager used to execute the\n",
      "                        extensive form solve. Default is serial. This option\n",
      "                        is not inherited from the runph scenario-based option.\n",
      "    --ef-mipgap=EF_MIPGAP\n",
      "                        Specifies the mipgap for the EF solve. This option is\n",
      "                        not inherited from the runph scenario-based option.\n",
      "    --ef-disable-warmstart\n",
      "                        Disable warm-start of the post-PH EF solve. Default is\n",
      "                        False. This option is not inherited from the runph\n",
      "                        scenario-based option.\n",
      "    --ef-solver-options=EF_SOLVER_OPTIONS\n",
      "                        Solver options for the EF problem. This option is not\n",
      "                        inherited from the runph scenario-based option.\n",
      "    --ef-output-solver-log\n",
      "                        Override the runph option of the same name during the\n",
      "                        EF solve.\n",
      "    --ef-keep-solver-files\n",
      "                        Override the runph option of the same name during the\n",
      "                        EF solve.\n",
      "    --ef-symbolic-solver-labels\n",
      "                        Override the runph option of the same name during the\n",
      "                        EF solve.\n",
      "\n",
      "  Output Options:\n",
      "    --output-scenario-tree-solution\n",
      "                        Report the full solution (even leaves) in scenario\n",
      "                        tree format upon termination. Values represent\n",
      "                        averages, so convergence is not an issue. Default is\n",
      "                        False.\n",
      "    --output-solver-logs\n",
      "                        Output solver logs during scenario sub-problem solves\n",
      "    --symbolic-solver-labels\n",
      "                        When interfacing with the solver, use symbol names\n",
      "                        derived from the model. For example,\n",
      "                        \"my_special_variable[1_2_3]\" instead of \"v1\". Useful\n",
      "                        for debugging. When using the ASL interface (--solver-\n",
      "                        io=nl), generates corresponding .row (constraints) and\n",
      "                        .col (variables) files. The ordering in these files\n",
      "                        provides a mapping from ASL index to symbolic model\n",
      "                        names.\n",
      "    --output-solver-results\n",
      "                        Output solutions obtained after each scenario sub-\n",
      "                        problem solve\n",
      "    --output-times      Output timing statistics for various PH components\n",
      "    --output-instance-construction-times\n",
      "                        Output timing statistics for instance construction\n",
      "                        timing statistics (client-side only when using PHPyro\n",
      "    --report-only-statistics\n",
      "                        When reporting solutions (if enabled), only output\n",
      "                        per-variable statistics - not the individual scenario\n",
      "                        values. Default is False.\n",
      "    --report-solutions  Always report PH solutions after each iteration.\n",
      "                        Enabled if --verbose is enabled. Default is False.\n",
      "    --report-weights    Always report PH weights prior to each iteration.\n",
      "                        Enabled if --verbose is enabled. Default is False.\n",
      "    --report-rhos-all-iterations\n",
      "                        Always report PH rhos prior to each iteration. Default\n",
      "                        is False.\n",
      "    --report-rhos-first-iterations\n",
      "                        Report rhos prior to PH iteration 1. Enabled if\n",
      "                        --verbose is enabled. Default is False.\n",
      "    --report-for-zero-variable-values\n",
      "                        Report statistics (variables and weights) for all\n",
      "                        variables, not just those with values differing from\n",
      "                        0. Default is False.\n",
      "    --report-only-nonconverged-variables\n",
      "                        Report statistics (variables and weights) only for\n",
      "                        non-converged variables. Default is False.\n",
      "    --restore-from-checkpoint=RESTORE_FROM_CHECKPOINT\n",
      "                        The name of the checkpoint file from which PH should\n",
      "                        be initialized. Default is None\n",
      "    --solution-writer=SOLUTION_WRITER\n",
      "                        The plugin invoked to write the scenario tree\n",
      "                        solution. Defaults to the empty list.\n",
      "    --suppress-continuous-variable-output\n",
      "                        Eliminate PH-related output involving continuous\n",
      "                        variables.\n",
      "    --verbose           Generate verbose output for both initialization and\n",
      "                        execution. Default is False.\n",
      "    --write-ef          Upon termination, create the extensive-form model and\n",
      "                        write it to a file - accounting for all fixed\n",
      "                        variables.\n",
      "\n",
      "  Other Options:\n",
      "    --disable-gc        Disable the python garbage collecter. Default is\n",
      "                        False.\n",
      "    -k, --keep-solver-files\n",
      "                        Retain temporary input and output files for scenario\n",
      "                        sub-problem solves\n",
      "    --profile=PROFILE   Enable profiling of Python code.  The value of this\n",
      "                        option is the number of functions that are summarized.\n",
      "    --checkpoint-interval=CHECKPOINT_INTERVAL\n",
      "                        The number of iterations between writing of a\n",
      "                        checkpoint file. Default is 0, indicating never.\n",
      "    --traceback         When an exception is thrown, show the entire call\n",
      "                        stack. Ignored if profiling is enabled. Default is\n",
      "                        False.\n"
     ]
    }
   ],
   "source": [
    "!runph --help"
   ]
  },
  {
   "cell_type": "markdown",
   "metadata": {},
   "source": [
    "Note that there are two dashes before <span style=\"color:darkblue; font-family:Courier\">help</span>.\n",
    "\n",
    "By default, PH uses quadratic objective functions after iteration zero; in some settings it may be desirable to linearize the quadratic terms. This is required to use a solver such as glpk for MIPs because it does not support quadratic MIPs. The directive <span style=\"color:darkblue; font-family:Courier\">--linearize-nonbinary-penalty-terms=n</span> causes linearization of the penalty terms using n pieces. For example, to use glpk on the farmer, assuming glpk is installed and the command is given when the current directory is the <span style=\"color:darkblue; font-family:Courier\">examples/pysp/farmer</span>, the following command will use default settings for most parameters and four pieces to approximate quadratic terms in sub-problems:"
   ]
  },
  {
   "cell_type": "code",
   "execution_count": 5,
   "metadata": {},
   "outputs": [
    {
     "name": "stdout",
     "output_type": "stream",
     "text": [
      "***ERROR: Failed to locate reference model file with specification string: models\r\n",
      "\r\n",
      "\r\n",
      "To obtain further information regarding the source of the exception, use the --traceback option\r\n"
     ]
    }
   ],
   "source": [
    "!runph -i nodedata -m models --solver=glpk --linearize-nonbinary-penalty-terms=4"
   ]
  },
  {
   "cell_type": "markdown",
   "metadata": {},
   "source": [
    "Use of the <span style=\"color:darkblue; font-family:Courier\">linearize-nonbinary-penalty-terms</span> option requires that all variables not in the final stage have bounds.\n",
    "\n",
    "#### 11.3.3 Final Solution\n",
    "\n",
    "At each iteration, PH computes an average for each variable over the nodes of the scenario tree. We refer to this as X-bar. For many problems, particularly those with integer restrictions, X-bar might not be feasible for every scenario unless PH happens to be fully converged (in the primal variables). Consequently, the software computes a solution system X-hat that is more likely to be feasible for every scenario and will be equivalent to X-bar under full convergence. This solution is reported upon completion of PH and its expected value is report if it is feasible for all scenarios.\n",
    "\n",
    "Methods for computing X-hat are controlled by the <span style=\"color:darkblue; font-family:Courier\">l--xhat-method</span> command-line option. For example"
   ]
  },
  {
   "cell_type": "code",
   "execution_count": 6,
   "metadata": {},
   "outputs": [
    {
     "ename": "SyntaxError",
     "evalue": "can't assign to operator (<ipython-input-6-55e9f709cf38>, line 1)",
     "output_type": "error",
     "traceback": [
      "\u001b[0;36m  File \u001b[0;32m\"<ipython-input-6-55e9f709cf38>\"\u001b[0;36m, line \u001b[0;32m1\u001b[0m\n\u001b[0;31m    --xhat-method=closest-scenario\u001b[0m\n\u001b[0m                                  ^\u001b[0m\n\u001b[0;31mSyntaxError\u001b[0m\u001b[0;31m:\u001b[0m can't assign to operator\n"
     ]
    }
   ],
   "source": [
    "--xhat-method=closest-scenario"
   ]
  },
  {
   "cell_type": "markdown",
   "metadata": {},
   "source": [
    "causes X-hat to be set to the scenario that is closest to X-bar (in a z-score sense). Other options, such as <span style=\"color:darkblue; font-family:Courier\">voting</span> and <span style=\"color:darkblue; font-family:Courier\">rounding</span>, assign values of X-bar to X-hat except for binary and general integer variables, where the values are set by probability weighted voting by scenarios and rounding from X-bar, respectively.\n",
    "\n",
    "#### 11.3.4. Solution Output Control\n",
    "\n",
    "To get the full solution, including leaf node solution values, use the <span style=\"color:darkblue; font-family:Courier\">runph --output-scenario-tree-solution</span> option.\n",
    "\n",
    "In both runph and runef the solution can be written in csv format using the <span style=\"color:darkblue; font-family:Courier\">--solution-writer=pyomo.pysp.plugins.csvsolutionwriter</span> option.\n",
    "\n",
    "### 11.4. Summary of PySP File Names\n",
    "PySP scripts such as <span style=\"color:darkblue; font-family:Courier\">runef</span> and <span style=\"color:darkblue; font-family:Courier\">runph</span> require files that specify the model and data using files with specific names. All files can be in the current directory, but typically, the file <span style=\"color:darkblue; font-family:Courier\">ReferenceModel.py</span> is in a directory that is specified using <span style=\"color:darkblue; font-family:Courier\">--model-directory=</span> option (the short version of this option is <span style=\"color:darkblue; font-family:Courier\">-i +) and the data files are in a directory specified in the +--instance-directory=</span> option (the short version of this option is +-m +).\n",
    "\n",
    ">#####Note\n",
    ">A file name other than <span style=\"color:darkblue; font-family:Courier\">ReferenceModel.py</span> can be used if the file name is given in addition to the directory name as an argument to the <span style=\"color:darkblue; font-family:Courier\">--instance-directory</span> option. For example, on a Windows machine <span style=\"color:darkblue; font-family:Courier\">--instance-directory=models\\MyModel.py</span> would specify the file <span style=\"color:darkblue; font-family:Courier\">MyModel.py</span> in the local directory <span style=\"color:darkblue; font-family:Courier\">models</span>.\n",
    "\n",
    "- <span style=\"color:darkblue; font-family:Courier\">ReferenceModel.py</span>: A full Pyomo model for a singe scenario. There should be no scenario indexes in this model because they are implicit.\n",
    "\n",
    "- <span style=\"color:darkblue; font-family:Courier\">ScenarioStructure.dat</span>: Specifies the nature of the stochastics. It also specifies whether the rest of the data is node-based or scenario-based. It is scenario-based unless <span style=\"color:darkblue; font-family:Courier\">ScenarioStructure.dat</span> contains the line\n",
    "\n"
   ]
  },
  {
   "cell_type": "code",
   "execution_count": 26,
   "metadata": {},
   "outputs": [
    {
     "ename": "SyntaxError",
     "evalue": "invalid syntax (<ipython-input-26-4661a4ebfaa0>, line 1)",
     "output_type": "error",
     "traceback": [
      "\u001b[0;36m  File \u001b[0;32m\"<ipython-input-26-4661a4ebfaa0>\"\u001b[0;36m, line \u001b[0;32m1\u001b[0m\n\u001b[0;31m    param ScenarioBasedData := False ;\u001b[0m\n\u001b[0m                          ^\u001b[0m\n\u001b[0;31mSyntaxError\u001b[0m\u001b[0;31m:\u001b[0m invalid syntax\n"
     ]
    }
   ],
   "source": [
    "param ScenarioBasedData := False ;"
   ]
  },
  {
   "cell_type": "markdown",
   "metadata": {},
   "source": [
    "If scenario-based, then there is a data file for each scenario that specifies a full set of data for the scenario. The name of the file is the name of the scenario with <span style=\"color:darkblue; font-family:Courier\">.dat</span> appended. The names of the scenarios are given in the <span style=\"color:darkblue; font-family:Courier\">ScenarioStructure.dat</span> file.\n",
    "\n",
    "If node-based, then there is a file with data for each node that specifies only that data that is unique for the node. The name of the file is the name of the node with <span style=\"color:darkblue; font-family:Courier\">.dat</span> appended. The names of the nodes are given in the <span style=\"color:darkblue; font-family:Courier\">ScenarioStructure.dat</span> file.\n",
    "\n",
    "### 11.5. Solving Sub-problems in Parallel and/or Remotely\n",
    "The Python package called Pyro provides capalities that are used to enable PH to make use of multiple solver processes for sub-problems and allows both <span style=\"color:darkblue; font-family:Courier\">runef</span> and <span style=\"color:darkblue; font-family:Courier\">runph</span> to make use remote solvers. We will focus on PH in our discussion here.\n",
    "\n",
    "There are two solver management systems available for <span style=\"color:darkblue; font-family:Courier\">runph</span>, one is based on a <span style=\"color:darkblue; font-family:Courier\">pyro_mip_server</span> and the other is based on a <span style=\"color:darkblue; font-family:Courier\">phsolverserver</span>. Regardless of which is used, a name server and a dispatch server must be running and accessible to the <span style=\"color:darkblue; font-family:Courier\">runph</span> process. The name server is launched using the command <span style=\"color:darkblue; font-family:Courier\">pyomo_ns</span> and then the dispatch server is launched with <span style=\"color:darkblue; font-family:Courier\">dispatch_srvr</span>. Note that both commands contain an underscore. Both programs keep running until terminated by an external signal, so it is common to pipe their output to a file.\n",
    "\n",
    "Solvers are controlled by solver servers. The pyro mip solver server is launched with the command <span style=\"color:darkblue; font-family:Courier\">pyro_mip_server</span>. This command may be repeated to launch as many solvers as are desired. The <span style=\"color:darkblue; font-family:Courier\">runph</span> then needs a <span style=\"color:darkblue; font-family:Courier\">--solver-manager=pyro</span> option to signal that <span style=\"color:darkblue; font-family:Courier\">runph</span> should not launch its own solver, but should send subproblems to be dispatched to parallel solvers. To summarize the commands:\n",
    "\n",
    "- Once: <span style=\"color:darkblue; font-family:Courier\">pyomo_ns</span>\n",
    "\n",
    "- Once: <span style=\"color:darkblue; font-family:Courier\">dispatch_srvr</span>\n",
    "\n",
    "- Multiple times:<span style=\"color:darkblue; font-family:Courier\"> pyro_mip_server</span>\n",
    "\n",
    "- Once: <span style=\"color:darkblue; font-family:Courier\">runph … --solver-manager=pyro …</span>\n",
    "\n",
    ">#####Note\n",
    ">The <span style=\"color:darkblue; font-family:Courier\">runph</span> option <span style=\"color:darkblue; font-family:Courier\">--shutdown-pryo</span> will cause a shutdown signal to be sent to <span style=\"color:darkblue; font-family:Courier\">pyomo_ns, dispatch_srvr</span> and all <span style=\"color:darkblue; font-family:Courier\">pyro_mip_server</span> programs upon termination of <span style=\"color:darkblue; font-family:Courier\">runph</span>.\n",
    "\n",
    "Instead of using <span style=\"color:darkblue; font-family:Courier\">pyro_mip_server</span>, one can use <span style=\"color:darkblue; font-family:Courier\">phsolverserver</span> in its place. You can get a list of arguments using <span style=\"color:darkblue; font-family:Courier\">pyrosolverserver --help</span>, which does not launch a solver server (it just displays help and terminates). If you use the phsolversover, then use <span style=\"color:darkblue; font-family:Courier\">--solver-manager=phpyro</span> as an argument to runph rather than <span style=\"color:darkblue; font-family:Courier\">--solver-manager=pyro</span>.\n",
    "\n",
    ">#####Warning\n",
    ">Unlike the normal <span style=\"color:darkblue; font-family:Courier\">pyro_mip_server</span>, there must be one <span style=\"color:darkblue; font-family:Courier\">phsolverserver</span> for each sub-problem. One can use fewer phsolverservers than there are scenarios by adding the command-line option “--phpyro-required-workers=X”. This will partition the jobs among the available workers,\n"
   ]
  },
  {
   "cell_type": "code",
   "execution_count": null,
   "metadata": {},
   "outputs": [],
   "source": []
  }
 ],
 "metadata": {
  "kernelspec": {
   "display_name": "Python 3",
   "language": "python",
   "name": "python3"
  },
  "language_info": {
   "codemirror_mode": {
    "name": "ipython",
    "version": 3
   },
   "file_extension": ".py",
   "mimetype": "text/x-python",
   "name": "python",
   "nbconvert_exporter": "python",
   "pygments_lexer": "ipython3",
   "version": "3.7.3"
  }
 },
 "nbformat": 4,
 "nbformat_minor": 1
}
