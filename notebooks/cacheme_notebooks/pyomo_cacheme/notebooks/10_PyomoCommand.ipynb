{
 "cells": [
  {
   "cell_type": "markdown",
   "metadata": {},
   "source": [
    "#10. The pyomo Command"
   ]
  },
  {
   "cell_type": "markdown",
   "metadata": {},
   "source": [
    "The <span style=\"color:darkblue; font-family:Courier\">pyomo</span> command is issued to the DOS prompt or a Unix shell. To see a list of Pyomo command line options, use:\n",
    "\n"
   ]
  },
  {
   "cell_type": "code",
   "execution_count": 1,
   "metadata": {
    "collapsed": false
   },
   "outputs": [
    {
     "name": "stdout",
     "output_type": "stream",
     "text": [
      "usage: pyomo solve [options] <model_or_config_file> [<data_files>]\r\n",
      "\r\n",
      "positional arguments:\r\n",
      "  model_or_config_file  A Python module that defines a Pyomo model, or a\r\n",
      "                        configuration file that defines options for 'pyomo\r\n",
      "                        solve' (in either YAML or JSON format)\r\n",
      "  data_files            Pyomo data files that defined data used to initialize\r\n",
      "                        the model (specified in the first argument)\r\n",
      "\r\n",
      "optional arguments:\r\n",
      "  -h, --help            show this help message and exit\r\n",
      "  --generate-config-template TEMPLATE\r\n",
      "                        Create a configuration template file in YAML or JSON\r\n",
      "                        and exit.\r\n",
      "  --solver SOLVER       Solver name. This option is required unless the solver\r\n",
      "                        name is specified in a configuration file.\r\n",
      "\r\n",
      "Description:\r\n",
      "\r\n",
      "The 'pyomo solve' subcommand optimizes a Pyomo model.  The --solver option\r\n",
      "is required because the specific steps executed are solver dependent.\r\n",
      "The standard steps executed by this subcommand are:\r\n",
      "\r\n",
      "  - Apply pre-solve operations (e.g. import Python packages)\r\n",
      "  - Create the model\r\n",
      "  - Apply model transformations\r\n",
      "  - Perform optimization\r\n",
      "  - Apply post-solve operations (e.g. save optimal solutions)\r\n",
      "\r\n",
      "This subcommand can be executed with or without a configuration file.\r\n",
      "The command-line options can be used to perform simple optimization steps.\r\n",
      "For example:\r\n",
      "\r\n",
      "  pyomo solve --solver=glpk model.py model.dat\r\n",
      "\r\n",
      "This uses the 'glpk' solver to optimize the model define in 'model.py'\r\n",
      "using the Pyomo data file 'pyomo.dat'.  Solver-specific command-line\r\n",
      "options can be listed by specifying the '--solver' option and the '--help'\r\n",
      "(or '-h') option:\r\n",
      "\r\n",
      "  pyomo solve --solver=glpk --help\r\n",
      "\r\n",
      "A yaml or json configuration file can also be used to specify\r\n",
      "options used by the solver.  For example:\r\n",
      "\r\n",
      "  pyomo solve --solver=glpk config.yaml\r\n",
      "\r\n",
      "No other command-line options are required!  Further, the '--solver'\r\n",
      "option can be omitted if the solver name is specified in the configuration\r\n",
      "file.\r\n",
      "\r\n",
      "Configuration options are also solver-specific; a template configuration\r\n",
      "file can be generated with the '--generate-config-template' option:\r\n",
      "\r\n",
      "  pyomo solve --solver=glpk --generate-config-template=template.yaml\r\n",
      "  pyomo solve --solver=glpk --generate-config-template=template.json\r\n",
      "\r\n",
      "Note that yaml template files contain comments that describe the\r\n",
      "configuration options.  Also, configuration files will generally support\r\n",
      "more configuration options than are available with command-line options.\r\n"
     ]
    }
   ],
   "source": [
    "!pyomo solve --help"
   ]
  },
  {
   "cell_type": "markdown",
   "metadata": {},
   "source": [
    "\n",
    ">#####Note\n",
    ">There are two dashes before <span style=\"color:darkblue; font-family:Courier\">help</span>.\n",
    "In this section we will detail some of the options.\n",
    "\n",
    "###10.1. Passing Options to a Solver\n",
    "To pass arguments to a solver when using the <span style=\"color:darkblue; font-family:Courier\">pyomo solve</span> command, appned the Pyomo command line with the argument <span style=\"color:darkblue; font-family:Courier\">--solver-options=</span> followed by an argument that is a string to be sent to the solver (perhaps with dashes added by Pyomo). So for most MIP solvers, the mip gap can be set using\n",
    "\n"
   ]
  },
  {
   "cell_type": "code",
   "execution_count": 2,
   "metadata": {
    "collapsed": false
   },
   "outputs": [
    {
     "ename": "SyntaxError",
     "evalue": "can't assign to operator (<ipython-input-2-508e25e208c7>, line 1)",
     "output_type": "error",
     "traceback": [
      "\u001b[0;36m  File \u001b[0;32m\"<ipython-input-2-508e25e208c7>\"\u001b[0;36m, line \u001b[0;32m1\u001b[0m\n\u001b[0;31m    --solver-options= \"mipgap=0.01 \"\u001b[0m\n\u001b[0m                                    ^\u001b[0m\n\u001b[0;31mSyntaxError\u001b[0m\u001b[0;31m:\u001b[0m can't assign to operator\n"
     ]
    }
   ],
   "source": [
    "--solver-options= \"mipgap=0.01 \""
   ]
  },
  {
   "cell_type": "markdown",
   "metadata": {},
   "source": [
    "Multiple options are separated by a space. Options that do not take an argument should be specified with the equals sign followed by either a space or the end of the string.\n",
    "\n",
    "For example, to specify that the solver is GLPK, then to specify a mipgap of two percent and the GLPK cuts option, use"
   ]
  },
  {
   "cell_type": "code",
   "execution_count": 3,
   "metadata": {
    "collapsed": false
   },
   "outputs": [
    {
     "ename": "SyntaxError",
     "evalue": "can't assign to operator (<ipython-input-3-73b64f9420c2>, line 1)",
     "output_type": "error",
     "traceback": [
      "\u001b[0;36m  File \u001b[0;32m\"<ipython-input-3-73b64f9420c2>\"\u001b[0;36m, line \u001b[0;32m1\u001b[0m\n\u001b[0;31m    --solver=glpk --solver-options=\"mipgap=0.02 cuts=\"\u001b[0m\n\u001b[0m                                                      ^\u001b[0m\n\u001b[0;31mSyntaxError\u001b[0m\u001b[0;31m:\u001b[0m can't assign to operator\n"
     ]
    }
   ],
   "source": [
    "--solver=glpk --solver-options=\"mipgap=0.02 cuts=\""
   ]
  },
  {
   "cell_type": "markdown",
   "metadata": {},
   "source": [
    "If there are multiple \"levels\" to the keyword, as is the case for some Gurobi and CPLEX options, the tokens are separated by underscore. For example, <span style=\"color:darkblue; font-family:Courier\">mip cuts all</span> would be specified as <span style=\"color:darkblue; font-family:Courier\">mip_cuts_all</span>. For another example, to set the solver to be CPLEX, then to set a mip gap of one percent and to specify <span style=\"color:darkblue; font-family:Courier\">y</span> for the sub-option <span style=\"color:darkblue; font-family:Courier\">numerical</span> to the option <span style=\"color:darkblue; font-family:Courier\">emphasis</span> use"
   ]
  },
  {
   "cell_type": "code",
   "execution_count": 4,
   "metadata": {
    "collapsed": false
   },
   "outputs": [
    {
     "ename": "SyntaxError",
     "evalue": "can't assign to operator (<ipython-input-4-f506fdfc13f5>, line 1)",
     "output_type": "error",
     "traceback": [
      "\u001b[0;36m  File \u001b[0;32m\"<ipython-input-4-f506fdfc13f5>\"\u001b[0;36m, line \u001b[0;32m1\u001b[0m\n\u001b[0;31m    --solver=cplex --solver-options=\"mipgap=0.001 emphasis_numerical=y\"\u001b[0m\n\u001b[0m                                                                       ^\u001b[0m\n\u001b[0;31mSyntaxError\u001b[0m\u001b[0;31m:\u001b[0m can't assign to operator\n"
     ]
    }
   ],
   "source": [
    "--solver=cplex --solver-options=\"mipgap=0.001 emphasis_numerical=y\""
   ]
  },
  {
   "cell_type": "markdown",
   "metadata": {},
   "source": [
    "See [SolverOpts](https://software.sandia.gov/downloads/pub/pyomo/PyomoOnlineDocs.html#SolverOpts) for a discusion of passing options in a script.\n",
    "\n",
    "##10.2. Troubleshooting\n",
    "Many of things that can go wrong are covered by error messages, but sometimes they can be confusing or do not provide enough information. Depending on what the troubles are, there might be ways to get a little additional information.\n",
    "\n",
    "If there are syntax errors in the model file, for example, it can occasionally be helpful to get error messages directly from the Python interpreter rather than through Pyomo. Suppose the name of the model file is scuc.py, then\n",
    "\n"
   ]
  },
  {
   "cell_type": "code",
   "execution_count": 5,
   "metadata": {
    "collapsed": false
   },
   "outputs": [
    {
     "ename": "SyntaxError",
     "evalue": "invalid syntax (<ipython-input-5-cb2189737bca>, line 1)",
     "output_type": "error",
     "traceback": [
      "\u001b[0;36m  File \u001b[0;32m\"<ipython-input-5-cb2189737bca>\"\u001b[0;36m, line \u001b[0;32m1\u001b[0m\n\u001b[0;31m    python scuc.py\u001b[0m\n\u001b[0m              ^\u001b[0m\n\u001b[0;31mSyntaxError\u001b[0m\u001b[0;31m:\u001b[0m invalid syntax\n"
     ]
    }
   ],
   "source": [
    "python scuc.py"
   ]
  },
  {
   "cell_type": "markdown",
   "metadata": {},
   "source": [
    "can sometimes give useful information for fixing syntax errors.\n",
    "\n",
    "When there are no syntax errors, but there troubles reading the data or generating the information to pass to a solver, then the <span style=\"color:darkblue; font-family:Courier\">--verbose</span> option provides a trace of the execution of Pyomo. The user should be aware that for some models this option can generate a lot of output.\n",
    "\n",
    "If there are troubles with solver (i.e., after Pyomo has output \"Applying Solver\"), it is often helpful to use the option <span style=\"color:darkblue; font-family:Courier\">--stream-solver</span> that causes the solver output to be displayed rather than trapped. (See [TeeTrue](https://software.sandia.gov/downloads/pub/pyomo/PyomoOnlineDocs.html#TeeTrue) for information about getting this output in a script). Advanced users may wish to examine the files that are generated to be passed to a solver. The type of file generated is controlled by the <span style=\"color:darkblue; font-family:Courier\">--solver-io</span> option and the <span style=\"color:darkblue; font-family:Courier\">--keepfiles</span> option instructs pyomo to keep the files and output their names. However, the <span style=\"color:darkblue; font-family:Courier\">--symbolic-solver-labels</span> option should usually also be specified so that meaningful names are used in these files.\n",
    "\n",
    "When there seem to be troubles expressing the model, it is often useful to embed print commands in the model in places that will yield helpful information. Consider the following snippet:"
   ]
  },
  {
   "cell_type": "code",
   "execution_count": 2,
   "metadata": {
    "collapsed": false
   },
   "outputs": [
    {
     "ename": "NameError",
     "evalue": "name 'Constraint' is not defined",
     "output_type": "error",
     "traceback": [
      "\u001b[0;31m---------------------------------------------------------------------------\u001b[0m",
      "\u001b[0;31mNameError\u001b[0m                                 Traceback (most recent call last)",
      "\u001b[0;32m<ipython-input-2-07ad7a5ee643>\u001b[0m in \u001b[0;36m<module>\u001b[0;34m()\u001b[0m\n\u001b[1;32m      5\u001b[0m \u001b[0;34m\u001b[0m\u001b[0m\n\u001b[1;32m      6\u001b[0m \u001b[0;31m# the next line creates one constraint for each member of the set model.I\u001b[0m\u001b[0;34m\u001b[0m\u001b[0;34m\u001b[0m\u001b[0m\n\u001b[0;32m----> 7\u001b[0;31m \u001b[0mmodel\u001b[0m\u001b[0;34m.\u001b[0m\u001b[0mAxbConstraint\u001b[0m \u001b[0;34m=\u001b[0m \u001b[0mConstraint\u001b[0m\u001b[0;34m(\u001b[0m\u001b[0mmodel\u001b[0m\u001b[0;34m.\u001b[0m\u001b[0mI\u001b[0m\u001b[0;34m,\u001b[0m \u001b[0mrule\u001b[0m\u001b[0;34m=\u001b[0m\u001b[0max_constraint_rule\u001b[0m\u001b[0;34m)\u001b[0m\u001b[0;34m\u001b[0m\u001b[0m\n\u001b[0m",
      "\u001b[0;31mNameError\u001b[0m: name 'Constraint' is not defined"
     ]
    }
   ],
   "source": [
    "def ax_constraint_rule(model, i):\n",
    "    # return the expression for the constraint for i\n",
    "    print(\"ax_constraint_rule was called for i=\",i)\n",
    "    return sum(model.a[i,j] * model.x[j] for j in model.J) >= model.b[i]\n",
    "\n",
    "# the next line creates one constraint for each member of the set model.I\n",
    "model.AxbConstraint = Constraint(model.I, rule=ax_constraint_rule)"
   ]
  },
  {
   "cell_type": "markdown",
   "metadata": {},
   "source": [
    "The effect will be to output every member of the set <span style=\"color:darkblue; font-family:Courier\">model.I</span> at the time the constraint named <span style=\"color:darkblue; font-family:Courier\">model.AxbConstraint</span> is constructed.\n",
    "\n",
    "##10.3. Direct Interfaces to Solvers\n",
    "In many applications, the default solver interface works well. However, in some cases it is useful to specify the interface using the <span style=\"color:darkblue; font-family:Courier\">solver-io</span> option. For example, if the solver supports a direct Python interface, then the option would be specified on the command line as"
   ]
  },
  {
   "cell_type": "code",
   "execution_count": 7,
   "metadata": {
    "collapsed": false
   },
   "outputs": [
    {
     "ename": "SyntaxError",
     "evalue": "can't assign to operator (<ipython-input-7-8c4b1009d6f0>, line 1)",
     "output_type": "error",
     "traceback": [
      "\u001b[0;36m  File \u001b[0;32m\"<ipython-input-7-8c4b1009d6f0>\"\u001b[0;36m, line \u001b[0;32m1\u001b[0m\n\u001b[0;31m    --solver-io=python\u001b[0m\n\u001b[0m                      ^\u001b[0m\n\u001b[0;31mSyntaxError\u001b[0m\u001b[0;31m:\u001b[0m can't assign to operator\n"
     ]
    }
   ],
   "source": [
    "--solver-io=python"
   ]
  },
  {
   "cell_type": "markdown",
   "metadata": {},
   "source": [
    "Here are some of the choices:\n",
    "\n",
    "- lp: generate a standard linear programming format file with filename extension <span style=\"color:darkblue; font-family:Courier\">lp</span>\n",
    "\n",
    "- nlp: generate a file with a standard format that supports linear and nonlinear optimization with filename extension <span style=\"color:darkblue; font-family:Courier\">n1lp</span>\n",
    "\n",
    "- os: generate an OSiL format XML file.\n",
    "\n",
    "- python: use the direct Python interface.\n",
    "\n",
    "Note that not all solvers support all interfaces.\n",
    "\n"
   ]
  }
 ],
 "metadata": {
  "kernelspec": {
   "display_name": "Python 3",
   "language": "python",
   "name": "python3"
  },
  "language_info": {
   "codemirror_mode": {
    "name": "ipython",
    "version": 3
   },
   "file_extension": ".py",
   "mimetype": "text/x-python",
   "name": "python",
   "nbconvert_exporter": "python",
   "pygments_lexer": "ipython3",
   "version": "3.4.3"
  }
 },
 "nbformat": 4,
 "nbformat_minor": 0
}
