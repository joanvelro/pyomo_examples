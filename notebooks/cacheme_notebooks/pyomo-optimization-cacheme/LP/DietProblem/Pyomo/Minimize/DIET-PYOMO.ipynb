{
 "cells": [
  {
   "cell_type": "markdown",
   "metadata": {},
   "source": [
    "# DIET PROBLEM - PYOMO"
   ]
  },
  {
   "cell_type": "markdown",
   "metadata": {},
   "source": [
    "*Zuria Bauer Hartwig* ( [CAChemE](http://cacheme.org))"
   ]
  },
  {
   "cell_type": "markdown",
   "metadata": {},
   "source": [
    "Original Problem: [Linear and Integer Programming](https://www.coursera.org/course/linearprogramming) (Coursera Course) - University of Colorado Boulder & University of Colorado System\n",
    "\n",
    "Based on the Examples from the Optimization Course = [Taller-Optimizacion-Python-Pyomo](https://github.com/CAChemE/Taller-Optimizacion-Python-Pyomo) from [CAChemE.org](http://cacheme.org/optimizacion-programacion-matematica-con-python-pyomo/)\n",
    "\n",
    "[Neos Guide - The Diet Problem](http://www.neos-guide.org/content/diet-problem)"
   ]
  },
  {
   "cell_type": "markdown",
   "metadata": {},
   "source": [
    "### SUMMARY"
   ]
  },
  {
   "cell_type": "markdown",
   "metadata": {},
   "source": [
    "The goal of the diet problem is to select a set of foods we can get at McDonaldsx,\n",
    "that will satisfy a set of daily nutritional requirement at minimum cost. \n",
    "The problem is formulated as a linear program where the objective is to minimize cost \n",
    "and the constraints are to satisfy the specified nutritional requirements. \n",
    "The diet problem constraints typically regulate the number of calories,\n",
    "the calories from Fat, Total Fat, Cholesterol, Sodium, \n",
    "Carbohydrates, Fiber, Sugar, Proteine, Vitamine A and C,\n",
    "Calcium and Sodium in the diet. \n",
    "While the mathematical formulation is simple, \n",
    "the solution may not be palatable! \n",
    "The nutritional requirements can be met without regard for taste or variety, \n",
    "so consider the output before digging into a meal from an \"optimal\" menu!\n"
   ]
  },
  {
   "cell_type": "markdown",
   "metadata": {},
   "source": [
    "#### 1. Import"
   ]
  },
  {
   "cell_type": "code",
   "execution_count": 52,
   "metadata": {
    "collapsed": true
   },
   "outputs": [],
   "source": [
    "# Loading pyomo\n",
    "from pyomo.environ import *\n",
    "infinity = float('inf')"
   ]
  },
  {
   "cell_type": "markdown",
   "metadata": {},
   "source": [
    "#### 2. Data"
   ]
  },
  {
   "cell_type": "markdown",
   "metadata": {},
   "source": [
    "Let's get the data:\n",
    "\n",
    "- http://nutrition.mcdonalds.com/getnutrition/nutritionfacts.pdf\n",
    "- http://www.fastfoodmenuprices.com/mcdonalds-prices/\n",
    "\n"
   ]
  },
  {
   "cell_type": "code",
   "execution_count": 53,
   "metadata": {
    "collapsed": false
   },
   "outputs": [
    {
     "name": "stdout",
     "output_type": "stream",
     "text": [
      "# http://nutrition.mcdonalds.com/getnutrition/nutritionfacts.pdf\r\n",
      "# http://www.fastfoodmenuprices.com/mcdonalds-prices/\r\n",
      "\r\n",
      "#Food + Cost\r\n",
      "\r\n",
      "param:  F:                                                  c  :=\r\n",
      "  \"Bacon Clubhouse Burgerx\"                                 4.49\r\n",
      "  \"Bacon Clubhouse Grilled Chicken Sandwichx\"               4.00\r\n",
      "  \"Bacon Clubhouse Crispy Chicken Sandwichx\"                4.00\r\n",
      "  \"McChickenx\"                                              4.00\r\n",
      "  \"Buffalo Ranch McChickenx\"                                1.00\r\n",
      "  \"Bacon Buffalo Ranch McChickenx\"                          1.00\r\n",
      "  \"Southern Style Buttermilk Crispy Chicken Sandwichx\"      2.00\r\n",
      "  \"Filet-O-Fishx\"                                           4.79\r\n",
      "  \"McRibx\"                                                  3.79\r\n",
      "  \"Premium McWrap Chicken & Bacon (Crispy)x\"                2.99\r\n",
      "  \"Premium McWrap Chicken & Bacon (Grilled)x\"               3.99\r\n",
      "  \"Premium McWrap Chicken & Ranch (Crispy)x\"                3.99               \r\n",
      "  \"Premium McWrap Chicken & Ranch (Grilled)x\"               3.99\r\n",
      "  \"Premium McWrap Chicken & Sweet Chili (Crispy)x\"          3.99\r\n",
      "  \"Premium McWrap Chicken & Sweet Chili (Grilled)x\"         3.99\r\n",
      "  \"Big Macx\"                                                3.69   \r\n",
      "  \"Quarter Pounder with Cheesex\"                            3.69\r\n",
      "  \"Double Quarter Pounder with Cheesex\"                     1.29  \r\n",
      "  \"Hamburguerx\"                                             1.29\r\n",
      "  \"Cheeseburgerx\"                                           1.00\r\n",
      "  \"BBQ Ranch Burgerx\"                                       1.29\r\n",
      "  \"Grilled Onion Cheddarx\"                                  1.00\r\n",
      "  \"Double Cheeseburgerx\"                                    2.00 \r\n",
      "  \"McDoublex\"                                               2.00\r\n",
      "  \"Bacon McDoublex\"                                         1.99\r\n",
      "  \"Daily Doublex\"                                           1.59\r\n",
      "  \"Ranch Snack Wrap (Crispy)x\"                              1.59\r\n",
      "  \"Ranch Snack Wrap (Grilled)x\"                             1.59\r\n",
      "  \"Mac Snack Wrapx\"                                         2.00\r\n",
      "  \"Jalapenio Doublex\"                                       3.89\r\n",
      "  \"Premium Crispy Chicken Deluxe Sandwichx\"                 3.99\r\n",
      "  \"Quarter Pounder Deluxex\"                                 4.39\r\n",
      "  \"Artisan Grilled Chicken Sandwichx\"                       4.39\r\n",
      "  \"Buttermilk Crispy Chicken Sandwichx\"                     4.19\r\n",
      "  \"Premium Asian Sald with Crispy Chickenx\"                 4.59\r\n",
      "  \"Premium Asian Sald with Grilled Chickenx\"                4.29\r\n",
      "  \"Bacon Cheddar McChickenx\"                                4.59\r\n",
      "  \"Chicken McNuggetsx\"                                      1.69\r\n",
      "  \"Ranch Snack Wrapx\"                                       1.39\r\n",
      "  \"Small French Friesx\"                                     1.39\r\n",
      "  \"Premium Bacon Ranch Salad with Crispy Chickenx\"          4.59\r\n",
      "  \"Baked Mozzarella Sticksx\"                                1.19   ;\r\n",
      " \r\n",
      "\r\n",
      "# Max and Min for each Nutrient\r\n",
      "param:  N:       Nmin   Nmax    :=\r\n",
      "        Cal      200      2250\r\n",
      "        Fat      0        300\r\n",
      "        T        0        65\r\n",
      "        Chol     55       300\r\n",
      "        Na       0        1700\r\n",
      "        Car      0        75\r\n",
      "        F        0        100\r\n",
      "        S        0        50\r\n",
      "        P        30       .\r\n",
      "        VA       0        .\r\n",
      "        VC       10       .\r\n",
      "        Ca       10       .\r\n",
      "        I        10       .    ;\r\n",
      "\r\n",
      "# Cal = Calories\r\n",
      "#Fat = Calories from Fat\r\n",
      "#T = Total Fat (g)\r\n",
      "#Chol = Cholesterol (mg)\r\n",
      "#Na = Sodium (mg)\r\n",
      "#C = Carbohydrates (g)\r\n",
      "#F = Fiber (g)\r\n",
      "#S = Sugar (g)\r\n",
      "#P = Proteine (g)\r\n",
      "#A = Vitamine A\r\n",
      "#C = Vitamine C\r\n",
      "#Ca = Calcium\r\n",
      "#I = Iron\r\n",
      "\r\n",
      "# Amount of nutrient\r\n",
      "\r\n",
      "param a:\r\n",
      "                               \t\t\t\t\t\t\t\t             Cal   Fat   T    Chol   Na    Car   F   S    P   VA   VC   Ca  I  :=\r\n",
      "  \"Bacon Clubhouse Burgerx\" \t\t\t\t\t\t\t\t               740   370   41   125   1480  51   4   14   40   8    25   30  25\r\n",
      "  \"Bacon Clubhouse Grilled Chicken Sandwichx\"              610   230   26   125   1750  50   3   14   45   8    30   35  15\r\n",
      "  \"Bacon Clubhouse Crispy Chicken Sandwichx\"               750   340   38   90    1720  65   4   16   36   8    25   30  15             \r\n",
      "  \"McChickenx\"                                             370   150   17   40    650   40   2   5    14   2    0    10  15\r\n",
      "  \"Buffalo Ranch McChickenx\"                               370   150   17   40    850   41   2   5    14   2    0    15  15             \r\n",
      "  \"Bacon Buffalo Ranch McChickenx\"                         440   190   21   55    1120  41   2   6    20   2    10   15  15             \r\n",
      "  \"Southern Style Buttermilk Crispy Chicken Sandwichx\"     490   220   25   70    1120  43   2   6    22   4    10   20  15  \r\n",
      "  \"Filet-O-Fishx\"                                          470   190   21   60    810   46   2   5    25   4    8    15  20             \r\n",
      "  \"McRibx\"                                                 390   170   19   40    590   39   2   5    15   2    0    15  10       \r\n",
      "  \"Premium McWrap Chicken & Bacon (Crispy)x\"               500   240   26   70    980   44   3   11   22   2    2    15  20\r\n",
      "  \"Premium McWrap Chicken & Bacon (Grilled)x\"              640   290   32   80    1550  56   4   7    33   100  30   20  25\r\n",
      "  \"Premium McWrap Chicken & Ranch (Crispy)x\"               500   180   19   115   1570  41   3   5    41   100  30   25  20             \r\n",
      "  \"Premium McWrap Chicken & Ranch (Grilled)x\"              610   280   31   65    1350  56   4   7    27   100  20   20  20     \r\n",
      "  \"Premium McWrap Chicken & Sweet Chili (Crispy)x\"         470   170   19   100   1370  41   3   5    35   100  25   25  20\r\n",
      "  \"Premium McWrap Chicken & Sweet Chili (Grilled)x\"        540   200   23   50    1260  61   4   13   24   100  20   10  20 \r\n",
      "  \"Big Macx\"                                               400   90    10   80    1250  46   3   11   31   100  25   15  20            \r\n",
      "  \"Quarter Pounder with Cheesex\"                           540   250   28   80    970   47   3   9    25   6    2    25  25      \r\n",
      "  \"Double Quarter Pounder with Cheesex\"                    540   250   28   100   1110  42   3   10   31   10   4    30  25  \r\n",
      "  \"Hamburguerx\"                                            780   410   45   175   1310  43   3   10   50   10   4    30  40\r\n",
      "  \"Cheeseburgerx\"                                          250   70    8    30    490   32   1   6    12   2    2    10  15\r\n",
      "  \"BBQ Ranch Burgerx\"                                      300   110   12   40    680   33   2   7    15   6    2    20  15\r\n",
      "  \"Grilled Onion Cheddarx\"                                 350   140   15   45    670   37   3   7    15   4    0    20  15\r\n",
      "  \"Double Cheeseburgerx\"                                   310   120   13   45    640   32   2   6    15   2    2    20  15  \r\n",
      "  \"McDoublex\"                                              440   200   22   85    1050  35   2   7    25   10   2    30  20\r\n",
      "  \"Bacon McDoublex\"                                        390   160   18   70    850   34   2   7    22   6    2    20  20\r\n",
      "  \"Daily Doublex\"                                          460   210   23   85    1120  34   2   7    28   6    10   20  20\r\n",
      "  \"Ranch Snack Wrap (Crispy)x\"                             440   210   24   75    770   34   2   7    22   8    6    20  20\r\n",
      "  \"Ranch Snack Wrap (Grilled)x\"                            360   180   20   40    810   32   1   3    15   2    0    10  10 \r\n",
      "  \"Mac Snack Wrapx\"                                        290   120   13   55    820   25   1   2    19   2    2    15  10\r\n",
      "  \"Jalapenio Doublex\"                                      330   170   19   45    670   26   1   3    14   2    0    8   15\r\n",
      "  \"Premium Crispy Chicken Deluxe Sandwichx\"                440   210   24   75    990   35   2   6    23   6    8    20  20\r\n",
      "  \"Quarter Pounder Deluxex\"                                530   200   22   45    1000  59   3   13   25   6    10   20  15\r\n",
      "  \"Artisan Grilled Chicken Sandwichx\"                      600   300   33   105   1200  44   3   11   31   15   10   30  25\r\n",
      "  \"Buttermilk Crispy Chicken Sandwichx\"                    360   50    6    75    960   43   3   10   33   4    15   25  15\r\n",
      "  \"Premium Asian Sald with Crispy Chickenx\"                610   230   26   125   1750  50   3   14   45   8    30   35  15\r\n",
      "  \"Premium Asian Sald with Grilled Chickenx\"               410   200   22   45    740   32   5   12   23   180  70   15  15\r\n",
      "  \"Bacon Cheddar McChickenx\"                               440   190   21   55    1120  41   2   6    20   2    10   15  15\r\n",
      "  \"Chicken McNuggetsx\"                                     470   190   21   60    810   46   2   5    25   4    8    15  20\r\n",
      "  \"Ranch Snack Wrapx\"                                      360   180   20   40    810   32   1   3    15   2    0    10  10\r\n",
      "  \"Small French Friesx\"                                    230   100   11   0     130   30   2   0    2    0    30   0   4\r\n",
      "  \"Premium Bacon Ranch Salad with Crispy Chickenx\"         470   210   24   60    890   40   7   11   24   180  35   20  15\r\n",
      "  \"Baked Mozzarella Sticksx\"                               200   90    10   20    560   8    1   1    9    4    0    25  4   ;"
     ]
    }
   ],
   "source": [
    "#Data\n",
    "!cat diet.dat\n",
    "\n",
    "#To show the data we can use !cat (or !type for windows) commands"
   ]
  },
  {
   "cell_type": "markdown",
   "metadata": {},
   "source": [
    "### Solving"
   ]
  },
  {
   "cell_type": "markdown",
   "metadata": {},
   "source": [
    "#### 3. Model"
   ]
  },
  {
   "cell_type": "code",
   "execution_count": 54,
   "metadata": {
    "collapsed": true
   },
   "outputs": [],
   "source": [
    "# Creation of a Concrete Model\n",
    "model = AbstractModel()\n"
   ]
  },
  {
   "cell_type": "markdown",
   "metadata": {},
   "source": [
    "#### 4. Sets"
   ]
  },
  {
   "cell_type": "code",
   "execution_count": 55,
   "metadata": {
    "collapsed": true
   },
   "outputs": [],
   "source": [
    "#DEFINE SETS\n",
    "\n",
    "# Products\n",
    "model.F = Set()\n",
    "# Nutrients\n",
    "model.N = Set()"
   ]
  },
  {
   "cell_type": "markdown",
   "metadata": {},
   "source": [
    "#### 5. Parameters"
   ]
  },
  {
   "cell_type": "code",
   "execution_count": 56,
   "metadata": {
    "collapsed": false
   },
   "outputs": [],
   "source": [
    "# DEFINE PARAMETERS\n",
    "\n",
    "# Cost\n",
    "model.c = Param(model.F, within = PositiveReals)\n",
    "\n",
    "# Amount of nutrient\n",
    "model.a    = Param(model.F, model.N, within = NonNegativeReals)\n",
    "\n",
    "# Max and Min for each Nutrient\n",
    "model.Nmin = Param(model.N, within = NonNegativeReals, default = 0.0)\n",
    "model.Nmax = Param(model.N, within = NonNegativeReals, default = infinity)\n"
   ]
  },
  {
   "cell_type": "markdown",
   "metadata": {},
   "source": [
    "#### 6. Variables"
   ]
  },
  {
   "cell_type": "code",
   "execution_count": 57,
   "metadata": {
    "collapsed": false,
    "scrolled": true
   },
   "outputs": [],
   "source": [
    "# Number of servings\n",
    "model.x = Var(model.F, within = NonNegativeIntegers)\n"
   ]
  },
  {
   "cell_type": "markdown",
   "metadata": {},
   "source": [
    "#### 7. Objective"
   ]
  },
  {
   "cell_type": "code",
   "execution_count": 58,
   "metadata": {
    "collapsed": false,
    "scrolled": true
   },
   "outputs": [],
   "source": [
    "# Minimize z(cost)\n",
    "def cost(model):\n",
    "    return sum(model.c[i] * model.x[i] for i in model.F)\n",
    "model.cost = Objective(rule=cost)\n"
   ]
  },
  {
   "cell_type": "markdown",
   "metadata": {},
   "source": [
    "#### 8. Constrains"
   ]
  },
  {
   "cell_type": "code",
   "execution_count": 59,
   "metadata": {
    "collapsed": false,
    "scrolled": true
   },
   "outputs": [],
   "source": [
    "#CONSTRAINS\n",
    "\n",
    "#Max\n",
    "def nutrients_max(model, j):\n",
    "    value = sum(model.a[i,j] * model.x[i] for i in model.F)\n",
    "    return value <= model.Nmax[j]\n",
    "model.nutrient_limit_max = Constraint(model.N, rule=nutrients_max)\n",
    "#Min\n",
    "def nutrient_min(model, j):\n",
    "    value = sum(model.a[i,j] * model.x[i] for i in model.F)\n",
    "    return model.Nmin[j] <= value \n",
    "model.nutrient_limit_min = Constraint(model.N, rule=nutrient_min)"
   ]
  },
  {
   "cell_type": "markdown",
   "metadata": {},
   "source": [
    "#### 9. Solution"
   ]
  },
  {
   "cell_type": "code",
   "execution_count": 60,
   "metadata": {
    "collapsed": false
   },
   "outputs": [
    {
     "name": "stdout",
     "output_type": "stream",
     "text": [
      "[    0.00] Setting up Pyomo environment\n",
      "[    0.00] Applying Pyomo preprocessing actions\n",
      "[    0.00] Creating model\n",
      "[    0.06] Applying solver\n",
      "[    0.09] Processing results\n",
      "    Number of solutions: 1\n",
      "    Solution Information\n",
      "      Gap: 0.0\n",
      "      Status: optimal\n",
      "      Function Value: 2.0\n",
      "    Solver results file: results.yml\n",
      "[    0.09] Applying Pyomo postprocessing actions\n",
      "[    0.09] Pyomo Finished\n"
     ]
    }
   ],
   "source": [
    "#Get our Solution:\n",
    "\n",
    "!pyomo solve --solver=glpk code.py diet.dat"
   ]
  },
  {
   "cell_type": "markdown",
   "metadata": {},
   "source": [
    "#### 10. Results"
   ]
  },
  {
   "cell_type": "code",
   "execution_count": 61,
   "metadata": {
    "collapsed": false
   },
   "outputs": [
    {
     "name": "stdout",
     "output_type": "stream",
     "text": [
      "# ==========================================================\r\n",
      "# = Solver Results                                         =\r\n",
      "# ==========================================================\r\n",
      "# ----------------------------------------------------------\r\n",
      "#   Problem Information\r\n",
      "# ----------------------------------------------------------\r\n",
      "Problem: \r\n",
      "- Name: unknown\r\n",
      "  Lower bound: 2.0\r\n",
      "  Upper bound: 2.0\r\n",
      "  Number of objectives: 1\r\n",
      "  Number of constraints: 22\r\n",
      "  Number of variables: 43\r\n",
      "  Number of nonzeros: 869\r\n",
      "  Sense: minimize\r\n",
      "# ----------------------------------------------------------\r\n",
      "#   Solver Information\r\n",
      "# ----------------------------------------------------------\r\n",
      "Solver: \r\n",
      "- Status: ok\r\n",
      "  Termination condition: optimal\r\n",
      "  Statistics: \r\n",
      "    Branch and bound: \r\n",
      "      Number of bounded subproblems: 19\r\n",
      "      Number of created subproblems: 19\r\n",
      "  Error rc: 0\r\n",
      "  Time: 0.011977434158325195\r\n",
      "# ----------------------------------------------------------\r\n",
      "#   Solution Information\r\n",
      "# ----------------------------------------------------------\r\n",
      "Solution: \r\n",
      "- number of solutions: 1\r\n",
      "  number of solutions displayed: 1\r\n",
      "- Gap: 0.0\r\n",
      "  Status: optimal\r\n",
      "  Message: None\r\n",
      "  Objective:\r\n",
      "    cost:\r\n",
      "      Value: 2\r\n",
      "  Variable:\r\n",
      "    x[Cheeseburgerx]:\r\n",
      "      Value: 1\r\n",
      "    x[Bacon Buffalo Ranch McChickenx]:\r\n",
      "      Value: 1\r\n",
      "  Constraint: No values\r\n"
     ]
    }
   ],
   "source": [
    "#Results\n",
    "!cat results.yml"
   ]
  }
 ],
 "metadata": {
  "kernelspec": {
   "display_name": "Python 3",
   "language": "python",
   "name": "python3"
  },
  "language_info": {
   "codemirror_mode": {
    "name": "ipython",
    "version": 3
   },
   "file_extension": ".py",
   "mimetype": "text/x-python",
   "name": "python",
   "nbconvert_exporter": "python",
   "pygments_lexer": "ipython3",
   "version": "3.5.1"
  }
 },
 "nbformat": 4,
 "nbformat_minor": 0
}
