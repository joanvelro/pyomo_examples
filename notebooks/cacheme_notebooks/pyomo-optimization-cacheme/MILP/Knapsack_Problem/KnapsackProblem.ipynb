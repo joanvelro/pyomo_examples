{
 "cells": [
  {
   "cell_type": "markdown",
   "metadata": {},
   "source": [
    "# Knapsack Problem"
   ]
  },
  {
   "cell_type": "markdown",
   "metadata": {},
   "source": [
    "*Zuria Bauer Hartwig and Daniel Domene López* ( [CAChemE](http://cacheme.org))"
   ]
  },
  {
   "cell_type": "markdown",
   "metadata": {},
   "source": [
    "Original Problem: [Knapsack problem](https://en.wikipedia.org/wiki/Knapsack_problem)\n",
    "\n",
    "Based on the Examples from the Optimization Course = [Taller-Optimizacion-Python-Pyomo](https://github.com/CAChemE/Taller-Optimizacion-Python-Pyomo) from [CAChemE.org](http://cacheme.org/optimizacion-programacion-matematica-con-python-pyomo/)\n",
    "\n",
    "Example from the Subject: Simulation, Otimization and Design of Chemical Processes - University of Alicante"
   ]
  },
  {
   "cell_type": "markdown",
   "metadata": {},
   "source": [
    "### SUMMARY"
   ]
  },
  {
   "cell_type": "markdown",
   "metadata": {},
   "source": [
    "The knapsack problem or rucksack problem is a problem in combinatorial optimization: Given a set of items, each with a Weight, a Volume, a Cost, and the Quantity of each of them; and determine the number of each item to include in a collection so that the total weight and volumen is less than or equal to a given limit and the total value is as large as possible. It derives its name from the problem faced by someone who is constrained by a fixed-size knapsack and must fill it with the most valuable items."
   ]
  },
  {
   "cell_type": "markdown",
   "metadata": {},
   "source": [
    "#### 1. Import"
   ]
  },
  {
   "cell_type": "code",
   "execution_count": 7,
   "metadata": {
    "collapsed": false
   },
   "outputs": [],
   "source": [
    "# Loading pyomo\n",
    "from pyomo.environ import *\n",
    "infinity = float('inf')"
   ]
  },
  {
   "cell_type": "markdown",
   "metadata": {},
   "source": [
    "#### 2. Data"
   ]
  },
  {
   "cell_type": "code",
   "execution_count": 11,
   "metadata": {
    "collapsed": false
   },
   "outputs": [
    {
     "name": "stdout",
     "output_type": "stream",
     "text": [
      "#SETS\r",
      "\r\n",
      "\r",
      "\r\n",
      "set ITEMS := Chest Ring Necklase Mirror Bracelet Ruby Perfume Diamond Cup Saffron ;\r",
      "\r\n",
      "\r",
      "\r\n",
      "#v = Volume\r",
      "\r\n",
      "#w = Weight\r",
      "\r\n",
      "#c = Cost\r",
      "\r\n",
      "#u = Quantity of each fo them\r",
      "\r\n",
      "\r",
      "\r\n",
      "#PARAMETERS\r",
      "\r\n",
      "param :\t\t\tv     w     c   u   :=\r",
      "\r\n",
      "    Chest       1000  2000  50  1\r",
      "\r\n",
      "    Ring        2     20    5   10\r",
      "\r\n",
      "    Necklase    10    300   3   1\r",
      "\r\n",
      "    Mirror      500   1000  20  1      \r",
      "\r\n",
      "    Bracelet    15    300   16  15\r",
      "\r\n",
      "    Ruby        3     75    5   1\r",
      "\r\n",
      "    Perfume     100   100   1   1   \r",
      "\r\n",
      "    Diamond     5     50    30  1\r",
      "\r\n",
      "    Cup         250   500   12  1\r",
      "\r\n",
      "    Saffron     100   100   40  1    ;\r",
      "\r\n",
      "\r",
      "\r\n",
      "# Limit Value for the Volume in cm3\r",
      "\r\n",
      "param limitV := 2000;\r",
      "\r\n",
      "\r",
      "\r\n",
      "# Limit Value for the Weight in g\r",
      "\r\n",
      "param limitW := 2500;"
     ]
    }
   ],
   "source": [
    "#Data\n",
    "!cat Knapsack.dat\n",
    "\n",
    "#To show the data we can use !cat (or !type for windows) commands"
   ]
  },
  {
   "cell_type": "markdown",
   "metadata": {},
   "source": [
    "### Solving"
   ]
  },
  {
   "cell_type": "markdown",
   "metadata": {},
   "source": [
    "#### 3. Model"
   ]
  },
  {
   "cell_type": "code",
   "execution_count": 12,
   "metadata": {
    "collapsed": true
   },
   "outputs": [],
   "source": [
    "# Creation of a Concrete Model\n",
    "model = AbstractModel()\n"
   ]
  },
  {
   "cell_type": "markdown",
   "metadata": {},
   "source": [
    "#### 4. Sets"
   ]
  },
  {
   "cell_type": "code",
   "execution_count": 13,
   "metadata": {
    "collapsed": true
   },
   "outputs": [],
   "source": [
    "# DEFINE SETS\n",
    "\n",
    "# ITEMS: Chest Ring Necklase Mirror Bracelet Ruby Perfume Diamond Cup Saffron\n",
    "model.ITEMS = Set()"
   ]
  },
  {
   "cell_type": "markdown",
   "metadata": {},
   "source": [
    "#### 5. Parameters"
   ]
  },
  {
   "cell_type": "code",
   "execution_count": 56,
   "metadata": {
    "collapsed": false
   },
   "outputs": [],
   "source": [
    "# DEFINE PARAMETERS\n",
    "\n",
    "#Volume\n",
    "model.v = Param(model.ITEMS, within=PositiveReals)\n",
    "\n",
    "#Weight\n",
    "model.w = Param(model.ITEMS, within=PositiveReals)\n",
    "\n",
    "#Cost\n",
    "model.c = Param(model.ITEMS, within=PositiveReals)\n",
    "\n",
    "#Quantity\n",
    "model.u = Param(model.ITEMS, within=PositiveReals)\n"
   ]
  },
  {
   "cell_type": "markdown",
   "metadata": {},
   "source": [
    "#### 6. Variables"
   ]
  },
  {
   "cell_type": "code",
   "execution_count": 14,
   "metadata": {
    "collapsed": false,
    "scrolled": true
   },
   "outputs": [],
   "source": [
    "model.x = Var(model.ITEMS, within=Binary)\n"
   ]
  },
  {
   "cell_type": "markdown",
   "metadata": {},
   "source": [
    "#### 7. Objective"
   ]
  },
  {
   "cell_type": "code",
   "execution_count": 15,
   "metadata": {
    "collapsed": false,
    "scrolled": true
   },
   "outputs": [],
   "source": [
    "#FO\n",
    "\n",
    "def value_rule(model):\n",
    "    return sum(model.c[i]*model.x[i] for i in model.ITEMS)\n",
    "model.value = Objective(sense=maximize, rule=value_rule)\n"
   ]
  },
  {
   "cell_type": "markdown",
   "metadata": {},
   "source": [
    "#### 8. Constrains"
   ]
  },
  {
   "cell_type": "code",
   "execution_count": 16,
   "metadata": {
    "collapsed": false,
    "scrolled": true
   },
   "outputs": [],
   "source": [
    "#CONSTRAINS\n",
    "\n",
    "def weight_rule(model):\n",
    "    return sum(model.w[i]*model.x[i] for i in model.ITEMS) <= model.limitW\n",
    "model.weight = Constraint(rule=weight_rule)\n",
    "\n",
    "def volum_rule(model):\n",
    "    return sum(model.v[i]*model.x[i] for i in model.ITEMS) <= model.limitV\n",
    "model.volum = Constraint(rule=volum_rule)"
   ]
  },
  {
   "cell_type": "markdown",
   "metadata": {},
   "source": [
    "#### 9. Solution"
   ]
  },
  {
   "cell_type": "code",
   "execution_count": 18,
   "metadata": {
    "collapsed": false
   },
   "outputs": [
    {
     "name": "stdout",
     "output_type": "stream",
     "text": [
      "[    0.00] Setting up Pyomo environment\n",
      "[    0.00] Applying Pyomo preprocessing actions\n",
      "[    0.03] Creating model\n",
      "[    0.05] Applying solver\n",
      "[    0.06] Processing results\n",
      "    Number of solutions: 1\n",
      "    Solution Information\n",
      "      Gap: 0.0\n",
      "      Status: optimal\n",
      "      Function Value: 141.0\n",
      "    Solver results file: results.yml\n",
      "[    0.07] Applying Pyomo postprocessing actions\n",
      "[    0.07] Pyomo Finished\n"
     ]
    }
   ],
   "source": [
    "#Get our Solution:\n",
    "\n",
    "!pyomo solve --solver=glpk Knapsack.py Knapsack.dat"
   ]
  },
  {
   "cell_type": "markdown",
   "metadata": {},
   "source": [
    "#### 10. Results"
   ]
  },
  {
   "cell_type": "code",
   "execution_count": 19,
   "metadata": {
    "collapsed": false
   },
   "outputs": [
    {
     "name": "stdout",
     "output_type": "stream",
     "text": [
      "# ==========================================================\r\n",
      "# = Solver Results                                         =\r\n",
      "# ==========================================================\r\n",
      "# ----------------------------------------------------------\r\n",
      "#   Problem Information\r\n",
      "# ----------------------------------------------------------\r\n",
      "Problem: \r\n",
      "- Name: unknown\r\n",
      "  Lower bound: 141.0\r\n",
      "  Upper bound: 141.0\r\n",
      "  Number of objectives: 1\r\n",
      "  Number of constraints: 3\r\n",
      "  Number of variables: 11\r\n",
      "  Number of nonzeros: 21\r\n",
      "  Sense: maximize\r\n",
      "# ----------------------------------------------------------\r\n",
      "#   Solver Information\r\n",
      "# ----------------------------------------------------------\r\n",
      "Solver: \r\n",
      "- Status: ok\r\n",
      "  Termination condition: optimal\r\n",
      "  Statistics: \r\n",
      "    Branch and bound: \r\n",
      "      Number of bounded subproblems: 3\r\n",
      "      Number of created subproblems: 3\r\n",
      "  Error rc: 0\r\n",
      "  Time: 0.0077250003814697266\r\n",
      "# ----------------------------------------------------------\r\n",
      "#   Solution Information\r\n",
      "# ----------------------------------------------------------\r\n",
      "Solution: \r\n",
      "- number of solutions: 1\r\n",
      "  number of solutions displayed: 1\r\n",
      "- Gap: 0.0\r\n",
      "  Status: optimal\r\n",
      "  Message: None\r\n",
      "  Objective:\r\n",
      "    value:\r\n",
      "      Value: 141\r\n",
      "  Variable:\r\n",
      "    x[Saffron]:\r\n",
      "      Value: 1\r\n",
      "    x[Bracelet]:\r\n",
      "      Value: 1\r\n",
      "    x[Ring]:\r\n",
      "      Value: 1\r\n",
      "    x[Chest]:\r\n",
      "      Value: 1\r\n",
      "    x[Diamond]:\r\n",
      "      Value: 1\r\n",
      "  Constraint: No values\r\n"
     ]
    }
   ],
   "source": [
    "#Results\n",
    "!cat results.yml"
   ]
  }
 ],
 "metadata": {
  "kernelspec": {
   "display_name": "Python 3",
   "language": "python",
   "name": "python3"
  },
  "language_info": {
   "codemirror_mode": {
    "name": "ipython",
    "version": 3
   },
   "file_extension": ".py",
   "mimetype": "text/x-python",
   "name": "python",
   "nbconvert_exporter": "python",
   "pygments_lexer": "ipython3",
   "version": "3.5.1"
  }
 },
 "nbformat": 4,
 "nbformat_minor": 0
}
