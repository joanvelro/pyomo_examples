{
 "cells": [
  {
   "cell_type": "markdown",
   "metadata": {
    "nbpages": {
     "level": 0,
     "link": "[](https://jckantor.github.io/ND-Pyomo-Cookbook/06.00-Differential-Algebraic-Equations.html)",
     "section": ""
    }
   },
   "source": [
    "<!--NOTEBOOK_HEADER-->\n",
    "*This notebook contains material from [ND-Pyomo-Cookbook](https://jckantor.github.io/ND-Pyomo-Cookbook);\n",
    "content is available [on Github](https://github.com/jckantor/ND-Pyomo-Cookbook.git).*\n",
    "*The text is released under the [CC-BY-NC-ND-4.0 license](https://creativecommons.org/licenses/by-nc-nd/4.0/legalcode),\n",
    "and code is released under the [MIT license](https://opensource.org/licenses/MIT).*"
   ]
  },
  {
   "cell_type": "markdown",
   "metadata": {
    "nbpages": {
     "level": 0,
     "link": "[](https://jckantor.github.io/ND-Pyomo-Cookbook/06.00-Differential-Algebraic-Equations.html)",
     "section": ""
    }
   },
   "source": [
    "<!--NAVIGATION-->\n",
    "< [5.3 Transient Heat Conduction in Various Geometries](https://jckantor.github.io/ND-Pyomo-Cookbook/05.03-Heat_Conduction_in_Various_Geometries.html) | [Contents](toc.html) | [Tag Index](tag_index.html) | [6.1 Unconstrained Scalar Optimization](https://jckantor.github.io/ND-Pyomo-Cookbook/06.01-Unconstrained-Scalar-Optimization.html) ><p><a href=\"https://colab.research.google.com/github/jckantor/ND-Pyomo-Cookbook/blob/master/docs/06.00-Differential-Algebraic-Equations.ipynb\"> <img align=\"left\" src=\"https://colab.research.google.com/assets/colab-badge.svg\" alt=\"Open in Colab\" title=\"Open in Google Colaboratory\"></a><p><a href=\"https://jckantor.github.io/ND-Pyomo-Cookbook/06.00-Differential-Algebraic-Equations.ipynb\"> <img align=\"left\" src=\"https://img.shields.io/badge/Github-Download-blue.svg\" alt=\"Download\" title=\"Download Notebook\"></a>"
   ]
  },
  {
   "cell_type": "markdown",
   "metadata": {
    "nbpages": {
     "level": 1,
     "link": "[6.0 Differential-Algebraic Equations](https://jckantor.github.io/ND-Pyomo-Cookbook/06.00-Differential-Algebraic-Equations.html#6.0-Differential-Algebraic-Equations)",
     "section": "6.0 Differential-Algebraic Equations"
    }
   },
   "source": [
    "# 6.0 Differential-Algebraic Equations"
   ]
  },
  {
   "cell_type": "markdown",
   "metadata": {
    "nbpages": {
     "level": 1,
     "link": "[6.0 Differential-Algebraic Equations](https://jckantor.github.io/ND-Pyomo-Cookbook/06.00-Differential-Algebraic-Equations.html#6.0-Differential-Algebraic-Equations)",
     "section": "6.0 Differential-Algebraic Equations"
    }
   },
   "source": [
    "<!--NAVIGATION-->\n",
    "< [5.3 Transient Heat Conduction in Various Geometries](https://jckantor.github.io/ND-Pyomo-Cookbook/05.03-Heat_Conduction_in_Various_Geometries.html) | [Contents](toc.html) | [Tag Index](tag_index.html) | [6.1 Unconstrained Scalar Optimization](https://jckantor.github.io/ND-Pyomo-Cookbook/06.01-Unconstrained-Scalar-Optimization.html) ><p><a href=\"https://colab.research.google.com/github/jckantor/ND-Pyomo-Cookbook/blob/master/docs/06.00-Differential-Algebraic-Equations.ipynb\"> <img align=\"left\" src=\"https://colab.research.google.com/assets/colab-badge.svg\" alt=\"Open in Colab\" title=\"Open in Google Colaboratory\"></a><p><a href=\"https://jckantor.github.io/ND-Pyomo-Cookbook/06.00-Differential-Algebraic-Equations.ipynb\"> <img align=\"left\" src=\"https://img.shields.io/badge/Github-Download-blue.svg\" alt=\"Download\" title=\"Download Notebook\"></a>"
   ]
  }
 ],
 "metadata": {
  "kernelspec": {
   "display_name": "Python 3",
   "language": "python",
   "name": "python3"
  },
  "language_info": {
   "codemirror_mode": {
    "name": "ipython",
    "version": 3
   },
   "file_extension": ".py",
   "mimetype": "text/x-python",
   "name": "python",
   "nbconvert_exporter": "python",
   "pygments_lexer": "ipython3",
   "version": "3.7.3"
  }
 },
 "nbformat": 4,
 "nbformat_minor": 2
}
