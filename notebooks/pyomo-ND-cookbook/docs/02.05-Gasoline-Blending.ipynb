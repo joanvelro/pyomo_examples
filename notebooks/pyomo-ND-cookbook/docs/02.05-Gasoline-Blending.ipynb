{
 "cells": [
  {
   "cell_type": "markdown",
   "metadata": {
    "colab_type": "text",
    "id": "rj3tK_zs5UF1",
    "nbpages": {
     "level": 0,
     "link": "[](https://jckantor.github.io/ND-Pyomo-Cookbook/02.05-Gasoline-Blending.html)",
     "section": ""
    },
    "pycharm": {}
   },
   "source": [
    "<!--NOTEBOOK_HEADER-->\n",
    "*This notebook contains material from [ND-Pyomo-Cookbook](https://jckantor.github.io/ND-Pyomo-Cookbook);\n",
    "content is available [on Github](https://github.com/jckantor/ND-Pyomo-Cookbook.git).*\n",
    "*The text is released under the [CC-BY-NC-ND-4.0 license](https://creativecommons.org/licenses/by-nc-nd/4.0/legalcode),\n",
    "and code is released under the [MIT license](https://opensource.org/licenses/MIT).*"
   ]
  },
  {
   "cell_type": "markdown",
   "metadata": {
    "colab_type": "text",
    "id": "4HDKhKHj5UF2",
    "nbpages": {
     "level": 0,
     "link": "[](https://jckantor.github.io/ND-Pyomo-Cookbook/02.05-Gasoline-Blending.html)",
     "section": ""
    },
    "pycharm": {}
   },
   "source": [
    "<!--NAVIGATION-->\n",
    "< [2.4 Design of a Cold Weather Fuel for a Camping Stove](https://jckantor.github.io/ND-Pyomo-Cookbook/02.04-Mixture-Design-Cold-Weather-Fuel.html) | [Contents](toc.html) | [Tag Index](tag_index.html) | [2.6 Model Predictive Control of a Double Integrator](https://jckantor.github.io/ND-Pyomo-Cookbook/02.06-Model-Predictive-Control-of-a-Double-Integrator.html) ><p><a href=\"https://colab.research.google.com/github/jckantor/ND-Pyomo-Cookbook/blob/master/docs/02.05-Gasoline-Blending.ipynb\"> <img align=\"left\" src=\"https://colab.research.google.com/assets/colab-badge.svg\" alt=\"Open in Colab\" title=\"Open in Google Colaboratory\"></a><p><a href=\"https://jckantor.github.io/ND-Pyomo-Cookbook/02.05-Gasoline-Blending.ipynb\"> <img align=\"left\" src=\"https://img.shields.io/badge/Github-Download-blue.svg\" alt=\"Download\" title=\"Download Notebook\"></a>"
   ]
  },
  {
   "cell_type": "markdown",
   "metadata": {
    "colab_type": "text",
    "id": "VN2oaj65lsCr",
    "nbpages": {
     "level": 1,
     "link": "[2.5 Gasoline Blending](https://jckantor.github.io/ND-Pyomo-Cookbook/02.05-Gasoline-Blending.html#2.5-Gasoline-Blending)",
     "section": "2.5 Gasoline Blending"
    },
    "pycharm": {}
   },
   "source": [
    "# 2.5 Gasoline Blending\n",
    "\n",
    "Keywords: blending, cbc usage\n",
    "\n",
    "The task is to determine the most profitable blend of gasoline products from given set of refinery streams.\n",
    "\n",
    "![CEP-refinery-diagram](https://github.com/jckantor/ND-Pyomo-Cookbook/blob/master/notebooks/figures/CEP-refinery-diagram.png?raw=1)\n",
    "\n",
    "Source: Olsen, T. (2014, May). An Oil Refinery Walk-Through. _Chemical Engineering Progress, 34-40._ [pdf available here.](https://www.aiche.org/system/files/cep/20140534_1.pdf)"
   ]
  },
  {
   "cell_type": "markdown",
   "metadata": {
    "nbpages": {
     "level": 2,
     "link": "[2.5.1 Imports](https://jckantor.github.io/ND-Pyomo-Cookbook/02.05-Gasoline-Blending.html#2.5.1-Imports)",
     "section": "2.5.1 Imports"
    }
   },
   "source": [
    "## 2.5.1 Imports"
   ]
  },
  {
   "cell_type": "code",
   "execution_count": 1,
   "metadata": {
    "colab": {},
    "colab_type": "code",
    "id": "atl0gy7elxWx",
    "nbpages": {
     "level": 2,
     "link": "[2.5.1 Imports](https://jckantor.github.io/ND-Pyomo-Cookbook/02.05-Gasoline-Blending.html#2.5.1-Imports)",
     "section": "2.5.1 Imports"
    },
    "pycharm": {}
   },
   "outputs": [],
   "source": [
    "import pandas as pd\n",
    "\n",
    "import shutil\n",
    "import sys\n",
    "import os.path\n",
    "\n",
    "if not shutil.which(\"pyomo\"):\n",
    "    !pip install -q pyomo\n",
    "    assert(shutil.which(\"pyomo\"))\n",
    "\n",
    "if not (shutil.which(\"cbc\") or os.path.isfile(\"cbc\")):\n",
    "    if \"google.colab\" in sys.modules:\n",
    "        !apt-get install -y -qq coinor-cbc\n",
    "    else:\n",
    "        try:\n",
    "            !conda install -c conda-forge coincbc \n",
    "        except:\n",
    "            pass\n",
    "\n",
    "assert(shutil.which(\"cbc\") or os.path.isfile(\"cbc\"))\n",
    "\n",
    "import pyomo.environ as pyomo"
   ]
  },
  {
   "cell_type": "markdown",
   "metadata": {
    "colab_type": "text",
    "id": "qeUMOVB2lsC0",
    "nbpages": {
     "level": 2,
     "link": "[2.5.2 Gasoline product specifications](https://jckantor.github.io/ND-Pyomo-Cookbook/02.05-Gasoline-Blending.html#2.5.2-Gasoline-product-specifications)",
     "section": "2.5.2 Gasoline product specifications"
    },
    "pycharm": {}
   },
   "source": [
    "## 2.5.2 Gasoline product specifications\n",
    "\n",
    "The gasoline products include regular and premium gasoline. In addition to the current price, the specifications include\n",
    "\n",
    "* **octane** the minimum road octane number.  Road octane is the computed as the average of the Research Octane Number (RON) and Motor Octane Number (MON).\n",
    "* **Reid Vapor Pressure** Upper and lower limits are specified for the Reid vapor pressure. The Reid vapor pressure is the absolute pressure exerted by the liquid at 100°F.\n",
    "* **benzene** the maximum volume percentage of benzene allowed in the final product. Benzene helps to increase octane rating, but is also a treacherous environmental contaminant.\n"
   ]
  },
  {
   "cell_type": "code",
   "execution_count": 2,
   "metadata": {
    "colab": {
     "base_uri": "https://localhost:8080/",
     "height": 68
    },
    "colab_type": "code",
    "executionInfo": {
     "elapsed": 6329,
     "status": "ok",
     "timestamp": 1555699213767,
     "user": {
      "displayName": "Jeffrey Kantor",
      "photoUrl": "https://lh5.googleusercontent.com/-8zK5aAW5RMQ/AAAAAAAAAAI/AAAAAAAAKB0/kssUQyz8DTQ/s64/photo.jpg",
      "userId": "09038942003589296665"
     },
     "user_tz": 240
    },
    "id": "hpeLCVQjlsC2",
    "nbpages": {
     "level": 2,
     "link": "[2.5.2 Gasoline product specifications](https://jckantor.github.io/ND-Pyomo-Cookbook/02.05-Gasoline-Blending.html#2.5.2-Gasoline-product-specifications)",
     "section": "2.5.2 Gasoline product specifications"
    },
    "outputId": "212d5092-57bc-4490-b001-5d20cb723718",
    "pycharm": {}
   },
   "outputs": [
    {
     "name": "stdout",
     "output_type": "stream",
     "text": [
      "         RVPmax  RVPmin  benzene  octane  price\n",
      "Regular    15.0     0.0      1.1    87.0   2.75\n",
      "Premium    15.0     0.0      1.1    91.0   2.85\n"
     ]
    }
   ],
   "source": [
    "products = {\n",
    "    'Regular' : {'price': 2.75, 'octane': 87, 'RVPmin': 0.0, 'RVPmax': 15.0, 'benzene': 1.1},\n",
    "    'Premium' : {'price': 2.85, 'octane': 91, 'RVPmin': 0.0, 'RVPmax': 15.0, 'benzene': 1.1},\n",
    "}\n",
    "\n",
    "print(pd.DataFrame.from_dict(products).T)"
   ]
  },
  {
   "cell_type": "markdown",
   "metadata": {
    "colab_type": "text",
    "id": "UsrS8AASlsDB",
    "nbpages": {
     "level": 2,
     "link": "[2.5.3 Stream specifications](https://jckantor.github.io/ND-Pyomo-Cookbook/02.05-Gasoline-Blending.html#2.5.3-Stream-specifications)",
     "section": "2.5.3 Stream specifications"
    },
    "pycharm": {}
   },
   "source": [
    "## 2.5.3 Stream specifications\n",
    "\n",
    "A typical refinery produces many intermediate streams that can be incorporated in a blended gasoline product. Here we provide data on seven streams that include:\n",
    "\n",
    "* **Butane** n-butane is a C4 product stream produced from the light components of the crude being processed by the refinery. Butane is a highly volatile of gasoline.\n",
    "* **LSR** Light straight run naptha is a 90°F to 190°F cut from the crude distillation column primarily consisting of straight chain C5-C6 hydrocarbons.\n",
    "* **Isomerate** is the result of isomerizing LSR to produce branched molecules that results in higher octane number.\n",
    "* **Reformate** is result of catalytic reforming heavy straight run napthenes to produce a high octane blending component, as well by-product hydrogen used elsewhere in the refinery for hydro-treating.\n",
    "* **Reformate LB** is a is a low benzene variant of reformate.\n",
    "* **FCC Naphta** is the product of a fluidized catalytic cracking unit designed to produce gasoline blending components from long chain hydrocarbons present in the crude oil being processed by the refinery.\n",
    "* **Alkylate** The alkylation unit reacts iso-butane with low-molecular weight alkenes to produce a high octane blending component for gasoline.\n",
    "\n",
    "The stream specifications include research octane and motor octane numbers for each blending component, the Reid vapor pressure, the benzene content, cost, and availability (in gallons per day). The road octane number is computed as the average of the RON and MON."
   ]
  },
  {
   "cell_type": "code",
   "execution_count": 3,
   "metadata": {
    "colab": {
     "base_uri": "https://localhost:8080/",
     "height": 153
    },
    "colab_type": "code",
    "executionInfo": {
     "elapsed": 6320,
     "status": "ok",
     "timestamp": 1555699213768,
     "user": {
      "displayName": "Jeffrey Kantor",
      "photoUrl": "https://lh5.googleusercontent.com/-8zK5aAW5RMQ/AAAAAAAAAAI/AAAAAAAAKB0/kssUQyz8DTQ/s64/photo.jpg",
      "userId": "09038942003589296665"
     },
     "user_tz": 240
    },
    "id": "6odRt6FxlsDC",
    "nbpages": {
     "level": 2,
     "link": "[2.5.3 Stream specifications](https://jckantor.github.io/ND-Pyomo-Cookbook/02.05-Gasoline-Blending.html#2.5.3-Stream-specifications)",
     "section": "2.5.3 Stream specifications"
    },
    "outputId": "7b6e38d1-ce42-4a0b-a420-22f9c55f94b9",
    "pycharm": {}
   },
   "outputs": [
    {
     "name": "stdout",
     "output_type": "stream",
     "text": [
      "               MON    RON   RVP    avail  benzene  cost  octane\n",
      "Butane        92.0   93.0  54.0  30000.0     0.00  0.85   92.50\n",
      "LSR           76.0   78.0  11.2  35000.0     0.73  2.05   77.00\n",
      "Isomerate     81.1   83.0  13.5      0.0     0.00  2.20   82.05\n",
      "Reformate     88.2  100.0   3.2  60000.0     1.85  2.80   94.10\n",
      "Reformate LB  84.0   93.7   2.8      0.0     0.12  2.75   88.85\n",
      "FCC Naphtha   77.1   92.1   1.4  70000.0     1.06  2.60   84.60\n",
      "Alkylate      95.9   97.3   4.6  40000.0     0.00  2.75   96.60\n"
     ]
    }
   ],
   "source": [
    "streams = {\n",
    "    'Butane'       : {'RON': 93.0, 'MON': 92.0, 'RVP': 54.0, 'benzene': 0.00, 'cost': 0.85, 'avail': 30000},\n",
    "    'LSR'          : {'RON': 78.0, 'MON': 76.0, 'RVP': 11.2, 'benzene': 0.73, 'cost': 2.05, 'avail': 35000},\n",
    "    'Isomerate'    : {'RON': 83.0, 'MON': 81.1, 'RVP': 13.5, 'benzene': 0.00, 'cost': 2.20, 'avail': 0},\n",
    "    'Reformate'    : {'RON':100.0, 'MON': 88.2, 'RVP':  3.2, 'benzene': 1.85, 'cost': 2.80, 'avail': 60000},\n",
    "    'Reformate LB' : {'RON': 93.7, 'MON': 84.0, 'RVP':  2.8, 'benzene': 0.12, 'cost': 2.75, 'avail': 0},\n",
    "    'FCC Naphtha'  : {'RON': 92.1, 'MON': 77.1, 'RVP':  1.4, 'benzene': 1.06, 'cost': 2.60, 'avail': 70000},\n",
    "    'Alkylate'     : {'RON': 97.3, 'MON': 95.9, 'RVP':  4.6, 'benzene': 0.00, 'cost': 2.75, 'avail': 40000},\n",
    "}\n",
    "\n",
    "# calculate road octane as (R+M)/2\n",
    "for s in streams.keys():\n",
    "    streams[s]['octane'] = (streams[s]['RON'] + streams[s]['MON'])/2\n",
    "    \n",
    "# display feed information\n",
    "print(pd.DataFrame.from_dict(streams).T)"
   ]
  },
  {
   "cell_type": "markdown",
   "metadata": {
    "colab_type": "text",
    "id": "n_lJpvMDlsDX",
    "nbpages": {
     "level": 2,
     "link": "[2.5.4 Blending model](https://jckantor.github.io/ND-Pyomo-Cookbook/02.05-Gasoline-Blending.html#2.5.4-Blending-model)",
     "section": "2.5.4 Blending model"
    },
    "pycharm": {}
   },
   "source": [
    "## 2.5.4 Blending model\n",
    "\n",
    "This simplified blending model assumes the product attributes can be computed as linear volume weighted averages of the component properties. Let the decision variable $x_{s,p} \\geq 0$ be the volume, in gallons, of blending component $s \\in S$ used in the final product $p \\in P$.\n",
    "\n",
    "The objective is maximize profit, which is the difference between product revenue and stream costs. \n",
    "\n",
    "\\begin{align}\n",
    "\\mbox{profit} & = \\max_{x_{s,p}}\\left( \\sum_{p\\in P} \\mbox{Price}_p \\sum_{s\\in S} x_{s,p}\n",
    "- \\sum_{s\\in S} \\mbox{Cost}_s \\sum_{p\\in P} x_{s,p}\\right)\n",
    "\\end{align}\n",
    "or\n",
    "\\begin{align}\n",
    "\\mbox{profit} & = \\max_{x_{s,p}}\\left( \\sum_{p\\in P}  \\sum_{s\\in S} x_{s,p}\\mbox{Price}_p - \\sum_{p\\in P}  \\sum_{s\\in S} x_{s,p}\\mbox{Cost}_s \\right)\n",
    "\\end{align}\n",
    "\n",
    "The blending constraint for octane can be written as \n",
    "\n",
    "\\begin{align}\n",
    "\\frac{\\sum_{s \\in S} x_{s,p} \\mbox{Octane}_s}{\\sum_{s \\in S} x_{s,p}} & \\geq \\mbox{Octane}_p & \\forall p \\in P\n",
    "\\end{align}\n",
    "\n",
    "where $\\mbox{Octane}_s$ refers to the octane rating of stream $s$, whereas $\\mbox{Octane}_p$ refers to the octane rating of product $p$. Multiplying through by the denominator, and consolidating terms gives\n",
    "\n",
    "\\begin{align}\n",
    "\\sum_{s \\in S} x_{s,p}\\left(\\mbox{Octane}_s - \\mbox{Octane}_p\\right) & \\geq  0 & \\forall p \\in P\n",
    "\\end{align}\n",
    "\n",
    "The same assumptions and development apply to the benzene constraint\n",
    "\n",
    "\\begin{align}\n",
    "\\sum_{s \\in S} x_{s,p}\\left(\\mbox{Benzene}_s - \\mbox{Benzene}_p\\right) & \\leq  0 & \\forall p \\in P\n",
    "\\end{align}\n",
    "\n",
    "Reid vapor pressure, however, follows a somewhat different mixing rule.  For the Reid vapor pressure we have\n",
    "\n",
    "\\begin{align}\n",
    "\\sum_{s \\in S} x_{s,p}\\left(\\mbox{RVP}_s^{1.25} - \\mbox{RVP}_{min,p}^{1.25}\\right) & \\geq  0 & \\forall p \\in P \\\\\n",
    "\\sum_{s \\in S} x_{s,p}\\left(\\mbox{RVP}_s^{1.25} - \\mbox{RVP}_{max,p}^{1.25}\\right) & \\leq  0 & \\forall p \\in P\n",
    "\\end{align}"
   ]
  },
  {
   "cell_type": "markdown",
   "metadata": {
    "colab_type": "text",
    "id": "n_lJpvMDlsDX",
    "nbpages": {
     "level": 2,
     "link": "[2.5.5 Pyomo implementation](https://jckantor.github.io/ND-Pyomo-Cookbook/02.05-Gasoline-Blending.html#2.5.5-Pyomo-implementation)",
     "section": "2.5.5 Pyomo implementation"
    },
    "pycharm": {}
   },
   "source": [
    "## 2.5.5 Pyomo implementation\n",
    "\n",
    "This model is implemented in the following cell."
   ]
  },
  {
   "cell_type": "code",
   "execution_count": 4,
   "metadata": {
    "colab": {
     "base_uri": "https://localhost:8080/",
     "height": 68
    },
    "colab_type": "code",
    "executionInfo": {
     "elapsed": 6419,
     "status": "ok",
     "timestamp": 1555699213882,
     "user": {
      "displayName": "Jeffrey Kantor",
      "photoUrl": "https://lh5.googleusercontent.com/-8zK5aAW5RMQ/AAAAAAAAAAI/AAAAAAAAKB0/kssUQyz8DTQ/s64/photo.jpg",
      "userId": "09038942003589296665"
     },
     "user_tz": 240
    },
    "id": "GO5Cxd95lsDY",
    "nbpages": {
     "level": 2,
     "link": "[2.5.5 Pyomo implementation](https://jckantor.github.io/ND-Pyomo-Cookbook/02.05-Gasoline-Blending.html#2.5.5-Pyomo-implementation)",
     "section": "2.5.5 Pyomo implementation"
    },
    "outputId": "cc9629e1-4e3d-4752-e1be-15a1362651ed",
    "pycharm": {}
   },
   "outputs": [
    {
     "name": "stdout",
     "output_type": "stream",
     "text": [
      "Total Volume = 235000.0 gallons.\n",
      "Total Profit = 100425.0 dollars.\n",
      "Profit = 42.7 cents per gallon.\n"
     ]
    }
   ],
   "source": [
    "# create model\n",
    "m = pyomo.ConcreteModel()\n",
    "\n",
    "# create decision variables\n",
    "S = streams.keys()\n",
    "P = products.keys()\n",
    "m.x = pyomo.Var(S,P, domain=pyomo.NonNegativeReals)\n",
    "    \n",
    "# objective\n",
    "revenue = sum(sum(m.x[s,p]*products[p]['price'] for s in S) for p in P)\n",
    "cost = sum(sum(m.x[s,p]*streams[s]['cost'] for s in S) for p in P)\n",
    "m.profit = pyomo.Objective(expr = revenue - cost, sense=pyomo.maximize)\n",
    "\n",
    "# constraints\n",
    "m.cons = pyomo.ConstraintList()\n",
    "for s in S:\n",
    "    m.cons.add(sum(m.x[s,p] for p in P) <= streams[s]['avail'])\n",
    "for p in P:\n",
    "    m.cons.add(sum(m.x[s,p]*(streams[s]['octane'] -    products[p]['octane'])       for s in S) >= 0)\n",
    "    m.cons.add(sum(m.x[s,p]*(streams[s]['RVP']**1.25 - products[p]['RVPmin']**1.25) for s in S) >= 0)\n",
    "    m.cons.add(sum(m.x[s,p]*(streams[s]['RVP']**1.25 - products[p]['RVPmax']**1.25) for s in S) <= 0)\n",
    "    m.cons.add(sum(m.x[s,p]*(streams[s]['benzene'] -   products[p]['benzene'])      for s in S) <= 0)\n",
    "\n",
    "# solve\n",
    "solver = pyomo.SolverFactory('cbc')\n",
    "solver.solve(m)\n",
    "\n",
    "# display results\n",
    "vol = sum(m.x[s,p]() for s in S for p in P)\n",
    "print(\"Total Volume =\", round(vol, 1), \"gallons.\")\n",
    "print(\"Total Profit =\", round(m.profit(), 1), \"dollars.\")\n",
    "print(\"Profit =\", round(100*m.profit()/vol,1), \"cents per gallon.\")"
   ]
  },
  {
   "cell_type": "markdown",
   "metadata": {
    "colab_type": "text",
    "id": "j4ruXOKhlsDd",
    "nbpages": {
     "level": 2,
     "link": "[2.5.6 Displaying the solution](https://jckantor.github.io/ND-Pyomo-Cookbook/02.05-Gasoline-Blending.html#2.5.6-Displaying-the-solution)",
     "section": "2.5.6 Displaying the solution"
    },
    "pycharm": {}
   },
   "source": [
    "## 2.5.6 Displaying the solution"
   ]
  },
  {
   "cell_type": "markdown",
   "metadata": {
    "colab_type": "text",
    "id": "cADVWW9wlsDf",
    "nbpages": {
     "level": 3,
     "link": "[2.5.6.1 by refinery stream](https://jckantor.github.io/ND-Pyomo-Cookbook/02.05-Gasoline-Blending.html#2.5.6.1-by-refinery-stream)",
     "section": "2.5.6.1 by refinery stream"
    },
    "pycharm": {}
   },
   "source": [
    "### 2.5.6.1 by refinery stream"
   ]
  },
  {
   "cell_type": "code",
   "execution_count": 5,
   "metadata": {
    "colab": {
     "base_uri": "https://localhost:8080/",
     "height": 153
    },
    "colab_type": "code",
    "executionInfo": {
     "elapsed": 6700,
     "status": "ok",
     "timestamp": 1555699214175,
     "user": {
      "displayName": "Jeffrey Kantor",
      "photoUrl": "https://lh5.googleusercontent.com/-8zK5aAW5RMQ/AAAAAAAAAAI/AAAAAAAAKB0/kssUQyz8DTQ/s64/photo.jpg",
      "userId": "09038942003589296665"
     },
     "user_tz": 240
    },
    "id": "dCkr49qNlsDg",
    "nbpages": {
     "level": 3,
     "link": "[2.5.6.1 by refinery stream](https://jckantor.github.io/ND-Pyomo-Cookbook/02.05-Gasoline-Blending.html#2.5.6.1-by-refinery-stream)",
     "section": "2.5.6.1 by refinery stream"
    },
    "outputId": "6000a924-8ce1-4601-a75a-fc9d7d587b3a",
    "pycharm": {}
   },
   "outputs": [
    {
     "name": "stdout",
     "output_type": "stream",
     "text": [
      "              Regular  Premium    Total  Available  Unused (Slack)\n",
      "Butane        21754.6   8245.4  30000.0    30000.0             0.0\n",
      "LSR            9211.6  25788.4  35000.0    35000.0             0.0\n",
      "Isomerate         0.0      0.0      0.0        0.0             0.0\n",
      "Reformate     19783.9  40216.1  60000.0    60000.0             0.0\n",
      "Reformate LB      0.0      0.0      0.0        0.0             0.0\n",
      "FCC Naphtha   70000.0      0.0  70000.0    70000.0             0.0\n",
      "Alkylate         -0.0  40000.0  40000.0    40000.0             0.0\n"
     ]
    }
   ],
   "source": [
    "stream_results = pd.DataFrame()\n",
    "for s in S:\n",
    "    for p in P:\n",
    "        stream_results.loc[s,p] = round(m.x[s,p](), 1)\n",
    "    stream_results.loc[s,'Total'] = round(sum(m.x[s,p]() for p in P), 1)\n",
    "    stream_results.loc[s,'Available'] = streams[s]['avail']\n",
    "    \n",
    "stream_results['Unused (Slack)'] = stream_results['Available'] - stream_results['Total']\n",
    "print(stream_results)"
   ]
  },
  {
   "cell_type": "markdown",
   "metadata": {
    "colab_type": "text",
    "id": "vwTa8meslsDi",
    "nbpages": {
     "level": 3,
     "link": "[2.5.6.2 by refinery product](https://jckantor.github.io/ND-Pyomo-Cookbook/02.05-Gasoline-Blending.html#2.5.6.2-by-refinery-product)",
     "section": "2.5.6.2 by refinery product"
    },
    "pycharm": {}
   },
   "source": [
    "### 2.5.6.2 by refinery product"
   ]
  },
  {
   "cell_type": "code",
   "execution_count": 6,
   "metadata": {
    "colab": {
     "base_uri": "https://localhost:8080/",
     "height": 68
    },
    "colab_type": "code",
    "executionInfo": {
     "elapsed": 6694,
     "status": "ok",
     "timestamp": 1555699214176,
     "user": {
      "displayName": "Jeffrey Kantor",
      "photoUrl": "https://lh5.googleusercontent.com/-8zK5aAW5RMQ/AAAAAAAAAAI/AAAAAAAAKB0/kssUQyz8DTQ/s64/photo.jpg",
      "userId": "09038942003589296665"
     },
     "user_tz": 240
    },
    "id": "G-4TcSQolsDj",
    "nbpages": {
     "level": 3,
     "link": "[2.5.6.2 by refinery product](https://jckantor.github.io/ND-Pyomo-Cookbook/02.05-Gasoline-Blending.html#2.5.6.2-by-refinery-product)",
     "section": "2.5.6.2 by refinery product"
    },
    "outputId": "c3739ca9-d50f-48a2-ea3a-d46a1d825a6d",
    "pycharm": {}
   },
   "outputs": [
    {
     "name": "stdout",
     "output_type": "stream",
     "text": [
      "           Volume  octane   RVP  benzene\n",
      "Regular  120750.0    87.0  15.0      1.0\n",
      "Premium  114250.0    91.0  10.6      0.8\n"
     ]
    }
   ],
   "source": [
    "product_results = pd.DataFrame()\n",
    "for p in P:\n",
    "    product_results.loc[p,'Volume'] = round(sum(m.x[s,p]() for s in S), 1)\n",
    "    product_results.loc[p,'octane'] = round(sum(m.x[s,p]()*streams[s]['octane'] for s in S)\n",
    "                                            /product_results.loc[p,'Volume'], 1)\n",
    "    product_results.loc[p,'RVP'] = round((sum(m.x[s,p]()*streams[s]['RVP']**1.25 for s in S)\n",
    "                                            /product_results.loc[p,'Volume'])**0.8, 1)\n",
    "    product_results.loc[p,'benzene'] = round(sum(m.x[s,p]()*streams[s]['benzene'] for s in S)\n",
    "                                            /product_results.loc[p,'Volume'], 1)\n",
    "print(product_results)"
   ]
  },
  {
   "cell_type": "markdown",
   "metadata": {
    "nbpages": {
     "level": 2,
     "link": "[2.5.7 Exercises](https://jckantor.github.io/ND-Pyomo-Cookbook/02.05-Gasoline-Blending.html#2.5.7-Exercises)",
     "section": "2.5.7 Exercises"
    },
    "pycharm": {}
   },
   "source": [
    "## 2.5.7 Exercises"
   ]
  },
  {
   "cell_type": "markdown",
   "metadata": {
    "colab_type": "text",
    "id": "8SnElYPIlsDo",
    "nbpages": {
     "level": 3,
     "link": "[2.5.7.1 1. Expand product list with mid-grade gasoline](https://jckantor.github.io/ND-Pyomo-Cookbook/02.05-Gasoline-Blending.html#2.5.7.1-1.-Expand-product-list-with-mid-grade-gasoline)",
     "section": "2.5.7.1 1. Expand product list with mid-grade gasoline"
    },
    "pycharm": {}
   },
   "source": [
    "### 2.5.7.1 1. Expand product list with mid-grade gasoline\n",
    "\n",
    "The marketing team says there is an opportunity to create a mid-grade gasoline product with a road octane number of 89 that would sell for $2.82/gallon, and with all other specifications the same. Could an additional profit be created?\n",
    "\n",
    "Create a new cell (or cells) below to compute a solution to this exercise."
   ]
  },
  {
   "cell_type": "code",
   "execution_count": null,
   "metadata": {
    "colab": {},
    "colab_type": "code",
    "id": "7dkqH9c0lsDq",
    "nbpages": {
     "level": 3,
     "link": "[2.5.7.1 1. Expand product list with mid-grade gasoline](https://jckantor.github.io/ND-Pyomo-Cookbook/02.05-Gasoline-Blending.html#2.5.7.1-1.-Expand-product-list-with-mid-grade-gasoline)",
     "section": "2.5.7.1 1. Expand product list with mid-grade gasoline"
    },
    "pycharm": {}
   },
   "outputs": [],
   "source": []
  },
  {
   "cell_type": "markdown",
   "metadata": {
    "colab_type": "text",
    "id": "IK4FNWX0lsDs",
    "nbpages": {
     "level": 3,
     "link": "[2.5.7.2 2. Impact of regulatory change](https://jckantor.github.io/ND-Pyomo-Cookbook/02.05-Gasoline-Blending.html#2.5.7.2-2.-Impact-of-regulatory-change)",
     "section": "2.5.7.2 2. Impact of regulatory change"
    },
    "pycharm": {}
   },
   "source": [
    "### 2.5.7.2 2. Impact of regulatory change\n",
    "\n",
    "New environmental regulations have reduced the allowable benzene levels from 1.1 vol% to 0.62 vol%, and the maximum Reid vapor pressure from 15.0 to 9.0.\n",
    "\n",
    "Compared to the base case (i.e., without the midgrade product), how does this change profitability? "
   ]
  },
  {
   "cell_type": "code",
   "execution_count": null,
   "metadata": {
    "colab": {},
    "colab_type": "code",
    "id": "i96Y-Mg1lsDt",
    "nbpages": {
     "level": 3,
     "link": "[2.5.7.2 2. Impact of regulatory change](https://jckantor.github.io/ND-Pyomo-Cookbook/02.05-Gasoline-Blending.html#2.5.7.2-2.-Impact-of-regulatory-change)",
     "section": "2.5.7.2 2. Impact of regulatory change"
    },
    "pycharm": {}
   },
   "outputs": [],
   "source": []
  },
  {
   "cell_type": "markdown",
   "metadata": {
    "colab_type": "text",
    "id": "F6XCUZrSlsDw",
    "nbpages": {
     "level": 3,
     "link": "[2.5.7.3 3. Impact of a change in refinery operations](https://jckantor.github.io/ND-Pyomo-Cookbook/02.05-Gasoline-Blending.html#2.5.7.3-3.-Impact-of-a-change-in-refinery-operations)",
     "section": "2.5.7.3 3. Impact of a change in refinery operations"
    },
    "pycharm": {}
   },
   "source": [
    "### 2.5.7.3 3. Impact of a change in refinery operations\n",
    "\n",
    "Given the new product specifications in Exercise 2, let's consider using different refinery streams. In place of Reformate, the refinery could produce Reformate LB. (That is, one or the other of the two streams could be 60000 gallons per day, but not both).  Same for LSR and Isomerate.  How should the refinery be operated to maximize profitability?  (Hint: You will need to introduce at least two extra decision variables corresponding to the decisions to use the alternative processes.)"
   ]
  },
  {
   "cell_type": "code",
   "execution_count": null,
   "metadata": {
    "colab": {},
    "colab_type": "code",
    "id": "KqkYdSbplsDz",
    "nbpages": {
     "level": 3,
     "link": "[2.5.7.3 3. Impact of a change in refinery operations](https://jckantor.github.io/ND-Pyomo-Cookbook/02.05-Gasoline-Blending.html#2.5.7.3-3.-Impact-of-a-change-in-refinery-operations)",
     "section": "2.5.7.3 3. Impact of a change in refinery operations"
    },
    "pycharm": {}
   },
   "outputs": [],
   "source": []
  },
  {
   "cell_type": "markdown",
   "metadata": {
    "nbpages": {
     "level": 3,
     "link": "[2.5.7.4 Mini-Project: Transfer Pricing (Sensitivity Analysis)](https://jckantor.github.io/ND-Pyomo-Cookbook/02.05-Gasoline-Blending.html#2.5.7.4-Mini-Project:-Transfer-Pricing-(Sensitivity-Analysis))",
     "section": "2.5.7.4 Mini-Project: Transfer Pricing (Sensitivity Analysis)"
    }
   },
   "source": [
    "### 2.5.7.4 Mini-Project: Transfer Pricing (Sensitivity Analysis)\n",
    "\n",
    "The profitability of this refinery is determined by the amount of each blending stream that is available. It may be possible to purchase additional quantities of each stream in the market. Assume the pre-conditions of exercises 1, 2, and 3 are all in effect. Also assume that all seven streams could be available for purchase and blending even if they are not produced in the refinery. \n",
    "\n",
    "What is the maximum price you would be willing to pay for each of the seven streams?"
   ]
  },
  {
   "cell_type": "code",
   "execution_count": null,
   "metadata": {
    "nbpages": {
     "level": 3,
     "link": "[2.5.7.4 Mini-Project: Transfer Pricing (Sensitivity Analysis)](https://jckantor.github.io/ND-Pyomo-Cookbook/02.05-Gasoline-Blending.html#2.5.7.4-Mini-Project:-Transfer-Pricing-(Sensitivity-Analysis))",
     "section": "2.5.7.4 Mini-Project: Transfer Pricing (Sensitivity Analysis)"
    }
   },
   "outputs": [],
   "source": []
  },
  {
   "cell_type": "markdown",
   "metadata": {
    "colab_type": "text",
    "id": "M06wqA845UGc",
    "nbpages": {
     "level": 3,
     "link": "[2.5.7.4 Mini-Project: Transfer Pricing (Sensitivity Analysis)](https://jckantor.github.io/ND-Pyomo-Cookbook/02.05-Gasoline-Blending.html#2.5.7.4-Mini-Project:-Transfer-Pricing-(Sensitivity-Analysis))",
     "section": "2.5.7.4 Mini-Project: Transfer Pricing (Sensitivity Analysis)"
    },
    "pycharm": {}
   },
   "source": [
    "<!--NAVIGATION-->\n",
    "< [2.4 Design of a Cold Weather Fuel for a Camping Stove](https://jckantor.github.io/ND-Pyomo-Cookbook/02.04-Mixture-Design-Cold-Weather-Fuel.html) | [Contents](toc.html) | [Tag Index](tag_index.html) | [2.6 Model Predictive Control of a Double Integrator](https://jckantor.github.io/ND-Pyomo-Cookbook/02.06-Model-Predictive-Control-of-a-Double-Integrator.html) ><p><a href=\"https://colab.research.google.com/github/jckantor/ND-Pyomo-Cookbook/blob/master/docs/02.05-Gasoline-Blending.ipynb\"> <img align=\"left\" src=\"https://colab.research.google.com/assets/colab-badge.svg\" alt=\"Open in Colab\" title=\"Open in Google Colaboratory\"></a><p><a href=\"https://jckantor.github.io/ND-Pyomo-Cookbook/02.05-Gasoline-Blending.ipynb\"> <img align=\"left\" src=\"https://img.shields.io/badge/Github-Download-blue.svg\" alt=\"Download\" title=\"Download Notebook\"></a>"
   ]
  }
 ],
 "metadata": {
  "colab": {
   "collapsed_sections": [],
   "name": "02.04-Gasoline-Blending.ipynb",
   "provenance": [],
   "version": "0.3.2"
  },
  "kernelspec": {
   "display_name": "Python 3",
   "language": "python",
   "name": "python3"
  },
  "language_info": {
   "codemirror_mode": {
    "name": "ipython",
    "version": 3
   },
   "file_extension": ".py",
   "mimetype": "text/x-python",
   "name": "python",
   "nbconvert_exporter": "python",
   "pygments_lexer": "ipython3",
   "version": "3.7.4"
  }
 },
 "nbformat": 4,
 "nbformat_minor": 4
}
