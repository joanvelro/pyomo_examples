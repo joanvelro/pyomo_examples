{
 "cells": [
  {
   "cell_type": "markdown",
   "metadata": {
    "nbpages": {
     "level": 0,
     "link": "[](https://jckantor.github.io/ND-Pyomo-Cookbook/01.04-Cross-Platform-Installation-of-Pyomo-and-Solvers.html)",
     "section": ""
    }
   },
   "source": [
    "<!--NOTEBOOK_HEADER-->\n",
    "*This notebook contains material from [ND-Pyomo-Cookbook](https://jckantor.github.io/ND-Pyomo-Cookbook);\n",
    "content is available [on Github](https://github.com/jckantor/ND-Pyomo-Cookbook.git).*\n",
    "*The text is released under the [CC-BY-NC-ND-4.0 license](https://creativecommons.org/licenses/by-nc-nd/4.0/legalcode),\n",
    "and code is released under the [MIT license](https://opensource.org/licenses/MIT).*"
   ]
  },
  {
   "cell_type": "markdown",
   "metadata": {
    "nbpages": {
     "level": 0,
     "link": "[](https://jckantor.github.io/ND-Pyomo-Cookbook/01.04-Cross-Platform-Installation-of-Pyomo-and-Solvers.html)",
     "section": ""
    }
   },
   "source": [
    "<!--NAVIGATION-->\n",
    "< [1.3 Running Pyomo on the Notre Dame CRC Cluster](https://jckantor.github.io/ND-Pyomo-Cookbook/01.03-Running-Pyomo-on-the-Notre-Dame-CRC-Cluster.html) | [Contents](toc.html) | [Tag Index](tag_index.html) | [2.0 Linear Programming](https://jckantor.github.io/ND-Pyomo-Cookbook/02.00-Linear-Programming.html) ><p><a href=\"https://colab.research.google.com/github/jckantor/ND-Pyomo-Cookbook/blob/master/docs/01.04-Cross-Platform-Installation-of-Pyomo-and-Solvers.ipynb\"> <img align=\"left\" src=\"https://colab.research.google.com/assets/colab-badge.svg\" alt=\"Open in Colab\" title=\"Open in Google Colaboratory\"></a><p><a href=\"https://jckantor.github.io/ND-Pyomo-Cookbook/01.04-Cross-Platform-Installation-of-Pyomo-and-Solvers.ipynb\"> <img align=\"left\" src=\"https://img.shields.io/badge/Github-Download-blue.svg\" alt=\"Download\" title=\"Download Notebook\"></a>"
   ]
  },
  {
   "cell_type": "markdown",
   "metadata": {
    "nbpages": {
     "level": 1,
     "link": "[1.4 Cross-Platform Installation of Pyomo and Solvers](https://jckantor.github.io/ND-Pyomo-Cookbook/01.04-Cross-Platform-Installation-of-Pyomo-and-Solvers.html#1.4-Cross-Platform-Installation-of-Pyomo-and-Solvers)",
     "section": "1.4 Cross-Platform Installation of Pyomo and Solvers"
    }
   },
   "source": [
    "# 1.4 Cross-Platform Installation of Pyomo and Solvers"
   ]
  },
  {
   "cell_type": "markdown",
   "metadata": {
    "nbpages": {
     "level": 1,
     "link": "[1.4 Cross-Platform Installation of Pyomo and Solvers](https://jckantor.github.io/ND-Pyomo-Cookbook/01.04-Cross-Platform-Installation-of-Pyomo-and-Solvers.html#1.4-Cross-Platform-Installation-of-Pyomo-and-Solvers)",
     "section": "1.4 Cross-Platform Installation of Pyomo and Solvers"
    }
   },
   "source": [
    "The are significant differences on the installation and import of Pyomo and associated solvers on different platforms. While it is difficult to anticipate all situations, the following code snippets sho how to write Python/Pyomo code that will run on multiple platforms."
   ]
  },
  {
   "cell_type": "markdown",
   "metadata": {
    "nbpages": {
     "level": 2,
     "link": "[1.4.1 Imports](https://jckantor.github.io/ND-Pyomo-Cookbook/01.04-Cross-Platform-Installation-of-Pyomo-and-Solvers.html#1.4.1-Imports)",
     "section": "1.4.1 Imports"
    }
   },
   "source": [
    "## 1.4.1 Imports\n",
    "\n",
    "The following cell can be included in a Jupyter notebook to provide cross-platform use of the ipopt solver. With the exception of use on Google Colaboratory, the code assumes ipopt has been previously installed and accessible on the system path. In the case of Google Colaboratory, ipopt is installed."
   ]
  },
  {
   "cell_type": "code",
   "execution_count": 3,
   "metadata": {
    "nbpages": {
     "level": 2,
     "link": "[1.4.1 Imports](https://jckantor.github.io/ND-Pyomo-Cookbook/01.04-Cross-Platform-Installation-of-Pyomo-and-Solvers.html#1.4.1-Imports)",
     "section": "1.4.1 Imports"
    }
   },
   "outputs": [],
   "source": [
    "import shutil\n",
    "import sys\n",
    "import os.path\n",
    "\n",
    "# check if pyomo has been installed. If not, install with pip\n",
    "if not shutil.which(\"pyomo\"):\n",
    "    !pip install -q pyomo\n",
    "assert(shutil.which(\"pyomo\"))\n",
    "\n",
    "# check if ipopt is installed. If not, install.\n",
    "if not (shutil.which(\"ipopt\") or os.path.isfile(\"ipopt\")):\n",
    "    if \"google.colab\" in sys.modules:\n",
    "        !wget -N -q \"https://ampl.com/dl/open/ipopt/ipopt-linux64.zip\"\n",
    "        !unzip -o -q ipopt-linux64\n",
    "    else:\n",
    "        try:\n",
    "            !conda install -c conda-forge ipopt \n",
    "        except:\n",
    "            pass\n",
    "assert(shutil.which(\"ipopt\") or os.path.isfile(\"ipopt\"))\n",
    "\n",
    "# check if COIN-OR CBC is installed. If not, install.\n",
    "if not (shutil.which(\"cbc\") or os.path.isfile(\"cbc\")):\n",
    "    if \"google.colab\" in sys.modules:\n",
    "        !apt-get install -y -qq coinor-cbc\n",
    "    else:\n",
    "        try:\n",
    "            !conda install -c conda-forge coincbc \n",
    "        except:\n",
    "            pass\n",
    "assert(shutil.which(\"cbc\") or os.path.isfile(\"cbc\"))\n",
    "\n",
    "import pyomo.environ as aml"
   ]
  },
  {
   "cell_type": "code",
   "execution_count": null,
   "metadata": {
    "nbpages": {
     "level": 2,
     "link": "[1.4.1 Imports](https://jckantor.github.io/ND-Pyomo-Cookbook/01.04-Cross-Platform-Installation-of-Pyomo-and-Solvers.html#1.4.1-Imports)",
     "section": "1.4.1 Imports"
    }
   },
   "outputs": [],
   "source": []
  },
  {
   "cell_type": "markdown",
   "metadata": {
    "nbpages": {
     "level": 2,
     "link": "[1.4.1 Imports](https://jckantor.github.io/ND-Pyomo-Cookbook/01.04-Cross-Platform-Installation-of-Pyomo-and-Solvers.html#1.4.1-Imports)",
     "section": "1.4.1 Imports"
    }
   },
   "source": [
    "<!--NAVIGATION-->\n",
    "< [1.3 Running Pyomo on the Notre Dame CRC Cluster](https://jckantor.github.io/ND-Pyomo-Cookbook/01.03-Running-Pyomo-on-the-Notre-Dame-CRC-Cluster.html) | [Contents](toc.html) | [Tag Index](tag_index.html) | [2.0 Linear Programming](https://jckantor.github.io/ND-Pyomo-Cookbook/02.00-Linear-Programming.html) ><p><a href=\"https://colab.research.google.com/github/jckantor/ND-Pyomo-Cookbook/blob/master/docs/01.04-Cross-Platform-Installation-of-Pyomo-and-Solvers.ipynb\"> <img align=\"left\" src=\"https://colab.research.google.com/assets/colab-badge.svg\" alt=\"Open in Colab\" title=\"Open in Google Colaboratory\"></a><p><a href=\"https://jckantor.github.io/ND-Pyomo-Cookbook/01.04-Cross-Platform-Installation-of-Pyomo-and-Solvers.ipynb\"> <img align=\"left\" src=\"https://img.shields.io/badge/Github-Download-blue.svg\" alt=\"Download\" title=\"Download Notebook\"></a>"
   ]
  }
 ],
 "metadata": {
  "kernelspec": {
   "display_name": "Python 3",
   "language": "python",
   "name": "python3"
  },
  "language_info": {
   "codemirror_mode": {
    "name": "ipython",
    "version": 3
   },
   "file_extension": ".py",
   "mimetype": "text/x-python",
   "name": "python",
   "nbconvert_exporter": "python",
   "pygments_lexer": "ipython3",
   "version": "3.7.3"
  }
 },
 "nbformat": 4,
 "nbformat_minor": 2
}
