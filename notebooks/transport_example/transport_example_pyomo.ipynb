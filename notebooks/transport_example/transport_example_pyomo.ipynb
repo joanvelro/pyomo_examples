{
 "cells": [
  {
   "cell_type": "markdown",
   "metadata": {},
   "source": [
    "# Transport Example with Pyomo\n",
    "* [Pyomo Documentation](https://pyomo.readthedocs.io/en/latest/)\n",
    "* [Gallery](https://github.com/Pyomo/PyomoGallery/wiki)\n",
    "* [Accessing Pyomo variable values and objective function value](http://hselab.org/pyomo-get-variable-values.html)"
   ]
  },
  {
   "cell_type": "code",
   "execution_count": 29,
   "metadata": {},
   "outputs": [],
   "source": [
    "from pyomo.environ import *\n",
    "from IPython.display import display, Math, Latex # latex equations\n",
    "from IPython.display import Image # images"
   ]
  },
  {
   "cell_type": "markdown",
   "metadata": {},
   "source": [
    "<img src=\"transport.png\" width=\"400\">"
   ]
  },
  {
   "cell_type": "markdown",
   "metadata": {},
   "source": [
    "__Variables__:\n",
    "* $x_{ij}$: quantity of product from factory $i$ to market $j$\n",
    "* $c_{ij}$: cost of send one unit of product from factory $i$ to market $j$\n",
    "* $z$:  total cost of shipment"
   ]
  },
  {
   "cell_type": "markdown",
   "metadata": {},
   "source": [
    "__Objective function__:\n",
    "* (1) $Min: z =  \\sum_{i \\in \\Omega_f} \\sum_{j \\in \\Omega_m} x_{ij}  c_{ij}   $"
   ]
  },
  {
   "cell_type": "markdown",
   "metadata": {},
   "source": [
    "__Constraints__:\n",
    "* Demand supply:\n",
    "(2) $\\sum_{i \\in \\Omega_f} x_{ij} \\geq d_j; \\forall  j \\in \\Omega_m$\n",
    "\n",
    "\n",
    "* Production limits \n",
    "(3) $ \\sum_{j \\in \\Omega_m} x_{ij} \\leq p_i; \\forall  i \\in \\Omega_f$"
   ]
  },
  {
   "cell_type": "markdown",
   "metadata": {},
   "source": [
    "#### Abstract model\n",
    "(no data in the code, only the equations)"
   ]
  },
  {
   "cell_type": "code",
   "execution_count": 30,
   "metadata": {},
   "outputs": [],
   "source": [
    "model = AbstractModel()"
   ]
  },
  {
   "cell_type": "markdown",
   "metadata": {},
   "source": [
    "#### Define the sets\n",
    "\n",
    "Markets: $\\Omega_m = \\{m_1, m_2, \\ldots, m_s\\}$\n",
    "\n",
    "Factories: $\\Omega_f = \\{f_1, f_2, \\ldots, f_r\\}$"
   ]
  },
  {
   "cell_type": "code",
   "execution_count": 31,
   "metadata": {},
   "outputs": [],
   "source": [
    "model.markets = Set()\n",
    "model.factories = Set()"
   ]
  },
  {
   "cell_type": "markdown",
   "metadata": {},
   "source": [
    "#### Define the variables\n",
    "\n",
    "production: $p_{i}= (p_1, p_2, \\ldots, p_r)$\n",
    "\n",
    "demand: $d_{i}= (d_1, d_2, \\ldots, d_s)$"
   ]
  },
  {
   "cell_type": "code",
   "execution_count": 32,
   "metadata": {},
   "outputs": [],
   "source": [
    "model.production = Param(model.factories)\n",
    "model.demand = Param(model.markets)"
   ]
  },
  {
   "cell_type": "markdown",
   "metadata": {},
   "source": [
    "#### Define the matrix $M(f,m)$ factories to markets costs\n",
    "$$\n",
    "M(f,m) = \\begin{bmatrix}\n",
    "    x_{11}       & \\dots & \\dots  & x_{1s} \\\\\n",
    "    x_{21}       & \\dots & \\dots  & x_{2s} \\\\\n",
    "    \\vdots       & \\vdots & \\vdots & \\vdots \\\\\n",
    "    x_{r1}       & \\dots & \\dots & x_{rs}\n",
    "\\end{bmatrix}\n",
    "$$"
   ]
  },
  {
   "cell_type": "code",
   "execution_count": 33,
   "metadata": {},
   "outputs": [],
   "source": [
    "model.costs = Param(model.factories,model.markets)"
   ]
  },
  {
   "cell_type": "markdown",
   "metadata": {},
   "source": [
    "#### Define the variable of units of product from factory $i$ to market $j$ $x_{i,j}$"
   ]
  },
  {
   "cell_type": "code",
   "execution_count": 34,
   "metadata": {},
   "outputs": [],
   "source": [
    "model.units = Var(model.factories, model.markets, within = NonNegativeReals)"
   ]
  },
  {
   "cell_type": "markdown",
   "metadata": {},
   "source": [
    "#### Define objective function (1)"
   ]
  },
  {
   "cell_type": "code",
   "execution_count": 35,
   "metadata": {},
   "outputs": [],
   "source": [
    "def Totalcost(model):\n",
    "    return sum(model.costs[n,i]*model.units[n,i]\n",
    "               for n in model.factories\n",
    "               for i in model.markets)"
   ]
  },
  {
   "cell_type": "markdown",
   "metadata": {},
   "source": [
    "#### Define objective "
   ]
  },
  {
   "cell_type": "code",
   "execution_count": 36,
   "metadata": {},
   "outputs": [],
   "source": [
    "model.finalcost = Objective(rule = Totalcost)"
   ]
  },
  {
   "cell_type": "markdown",
   "metadata": {},
   "source": [
    "#### Define constraint function (2)"
   ]
  },
  {
   "cell_type": "code",
   "execution_count": 37,
   "metadata": {},
   "outputs": [],
   "source": [
    "def MinDemand(model,markets):\n",
    "    return sum(model.units[i,markets] for i in model.factories) >= model.demand[markets]"
   ]
  },
  {
   "cell_type": "markdown",
   "metadata": {},
   "source": [
    "#### Define constraint function (3)"
   ]
  },
  {
   "cell_type": "code",
   "execution_count": 38,
   "metadata": {},
   "outputs": [],
   "source": [
    "def MaxProduction(model,factories):\n",
    "    return sum(model.units[factories,j] for j in model.markets) <= model.production[factories]"
   ]
  },
  {
   "cell_type": "markdown",
   "metadata": {},
   "source": [
    "#### Define constraints "
   ]
  },
  {
   "cell_type": "code",
   "execution_count": 39,
   "metadata": {},
   "outputs": [],
   "source": [
    "model.DemandConstraint = Constraint(model.markets, rule = MinDemand)\n",
    "model.ProductionConstraint = Constraint(model.factories, rule = MaxProduction)"
   ]
  },
  {
   "cell_type": "markdown",
   "metadata": {},
   "source": [
    "#### Now create function to build model  "
   ]
  },
  {
   "cell_type": "code",
   "execution_count": 74,
   "metadata": {},
   "outputs": [],
   "source": [
    "def create_model():\n",
    "    \"\"\" This function create an abstract model for the transport problem\n",
    "    \n",
    "    :return model:\n",
    "    \n",
    "    \"\"\"\n",
    "\n",
    "    from pyomo.environ import *\n",
    "    \n",
    "    model = AbstractModel()\n",
    "    # Define the sets\n",
    "    model.markets = Set()\n",
    "    model.factories = Set()\n",
    "\n",
    "    # Define the variables\n",
    "    model.production = Param(model.factories)\n",
    "    model.demand = Param(model.markets, mutable=True) # mutable to change the values with instance its created\n",
    "\n",
    "    # Define the matrix of cost of send one profuct from factories to markets\n",
    "    model.costs = Param(model.factories,model.markets)\n",
    "\n",
    "    # Define the variable of units of product from factory $i$ to market $j$ $x_{i,j}$\n",
    "    model.units = Var(model.factories, model.markets, bounds=(0,1000))\n",
    "\n",
    "    # Define objective function (1)\n",
    "    def Totalcost(model):\n",
    "        return sum(model.costs[n,i]*model.units[n,i]\n",
    "                   for n in model.factories\n",
    "                   for i in model.markets)\n",
    "\n",
    "    # Define objective\n",
    "    model.finalcost = Objective(rule = Totalcost)\n",
    "\n",
    "    # Define constraint function\n",
    "    def MinDemand(model,markets):\n",
    "        return sum(model.units[i,markets] for i in model.factories) >= model.demand[markets]\n",
    "\n",
    "    # Define constraint function\n",
    "    def MaxProduction(model,factories):\n",
    "        return sum(model.units[factories,j] for j in model.markets) <= model.production[factories]\n",
    "\n",
    "    # Define constraints\n",
    "    model.DemandConstraint = Constraint(model.markets, rule = MinDemand)\n",
    "    model.ProductionConstraint = Constraint(model.factories, rule = MaxProduction)\n",
    "\n",
    "    return model\n",
    "\n",
    "model = create_model()"
   ]
  },
  {
   "cell_type": "markdown",
   "metadata": {},
   "source": [
    "#### instantiate the model with the .dat file and solve it"
   ]
  },
  {
   "cell_type": "code",
   "execution_count": null,
   "metadata": {},
   "outputs": [],
   "source": [
    "# %load transport_data_v1.dat"
   ]
  },
  {
   "cell_type": "code",
   "execution_count": 59,
   "metadata": {},
   "outputs": [],
   "source": [
    "instance = model.create_instance('transport_data_v1.dat')"
   ]
  },
  {
   "cell_type": "markdown",
   "metadata": {},
   "source": [
    "#### modify the demand parameter if you want "
   ]
  },
  {
   "cell_type": "code",
   "execution_count": null,
   "metadata": {},
   "outputs": [],
   "source": [
    "#instance.demand['Alicante'].value = 100\n",
    "#instance.demand['Castellon'] = 80"
   ]
  },
  {
   "cell_type": "markdown",
   "metadata": {},
   "source": [
    "#### choose solver and set options"
   ]
  },
  {
   "cell_type": "code",
   "execution_count": 62,
   "metadata": {},
   "outputs": [],
   "source": [
    "optimizer = SolverFactory('glpk')\n",
    "#optimizer.options['max_iter'] = 100000"
   ]
  },
  {
   "cell_type": "markdown",
   "metadata": {},
   "source": [
    "### solve problem"
   ]
  },
  {
   "cell_type": "code",
   "execution_count": 64,
   "metadata": {},
   "outputs": [
    {
     "name": "stdout",
     "output_type": "stream",
     "text": [
      "GLPSOL: GLPK LP/MIP Solver, v4.65\n",
      "Parameter(s) specified in the command line:\n",
      " --write /var/folders/9k/04pt01hs1ng95lppnvj97vw40000gn/T/tmpztfnsybb.glpk.raw\n",
      " --wglp /var/folders/9k/04pt01hs1ng95lppnvj97vw40000gn/T/tmp5nmc07xb.glpk.glp\n",
      " --cpxlp /var/folders/9k/04pt01hs1ng95lppnvj97vw40000gn/T/tmp8ldguux6.pyomo.lp\n",
      "Reading problem data from '/var/folders/9k/04pt01hs1ng95lppnvj97vw40000gn/T/tmp8ldguux6.pyomo.lp'...\n",
      "10 rows, 21 columns, 41 non-zeros\n",
      "119 lines were read\n",
      "Writing problem data to '/var/folders/9k/04pt01hs1ng95lppnvj97vw40000gn/T/tmp5nmc07xb.glpk.glp'...\n",
      "125 lines were written\n",
      "GLPK Simplex Optimizer, v4.65\n",
      "10 rows, 21 columns, 41 non-zeros\n",
      "Preprocessing...\n",
      "9 rows, 20 columns, 40 non-zeros\n",
      "Scaling...\n",
      " A: min|aij| =  1.000e+00  max|aij| =  1.000e+00  ratio =  1.000e+00\n",
      "Problem data seem to be well scaled\n",
      "Constructing initial basis...\n",
      "Size of triangular part is 9\n",
      "      0: obj =   0.000000000e+00 inf =   7.250e+02 (5)\n",
      "      6: obj =   4.281750000e+03 inf =   0.000e+00 (0)\n",
      "*    11: obj =   2.328750000e+03 inf =   0.000e+00 (0)\n",
      "OPTIMAL LP SOLUTION FOUND\n",
      "Time used:   0.0 secs\n",
      "Memory used: 0.0 Mb (44305 bytes)\n",
      "Writing basic solution to '/var/folders/9k/04pt01hs1ng95lppnvj97vw40000gn/T/tmpztfnsybb.glpk.raw'...\n",
      "40 lines were written\n"
     ]
    }
   ],
   "source": [
    "results = optimizer.solve(instance, tee=True)"
   ]
  },
  {
   "cell_type": "markdown",
   "metadata": {},
   "source": [
    "#### examine results"
   ]
  },
  {
   "cell_type": "code",
   "execution_count": 78,
   "metadata": {},
   "outputs": [
    {
     "name": "stdout",
     "output_type": "stream",
     "text": [
      "\n",
      "Problem: \n",
      "- Name: unknown\n",
      "  Lower bound: 2328.75\n",
      "  Upper bound: 2328.75\n",
      "  Number of objectives: 1\n",
      "  Number of constraints: 10\n",
      "  Number of variables: 21\n",
      "  Number of nonzeros: 41\n",
      "  Sense: minimize\n",
      "Solver: \n",
      "- Status: ok\n",
      "  Termination condition: optimal\n",
      "  Statistics: \n",
      "    Branch and bound: \n",
      "      Number of bounded subproblems: 0\n",
      "      Number of created subproblems: 0\n",
      "  Error rc: 0\n",
      "  Time: 0.04378771781921387\n",
      "Solution: \n",
      "- number of solutions: 0\n",
      "  number of solutions displayed: 0\n",
      "\n",
      "# ==========================================================\n",
      "# = Solver Results                                         =\n",
      "# ==========================================================\n",
      "# ----------------------------------------------------------\n",
      "#   Problem Information\n",
      "# ----------------------------------------------------------\n",
      "Problem: \n",
      "- Name: unknown\n",
      "  Lower bound: 2328.75\n",
      "  Upper bound: 2328.75\n",
      "  Number of objectives: 1\n",
      "  Number of constraints: 10\n",
      "  Number of variables: 21\n",
      "  Number of nonzeros: 41\n",
      "  Sense: minimize\n",
      "# ----------------------------------------------------------\n",
      "#   Solver Information\n",
      "# ----------------------------------------------------------\n",
      "Solver: \n",
      "- Status: ok\n",
      "  Termination condition: optimal\n",
      "  Statistics: \n",
      "    Branch and bound: \n",
      "      Number of bounded subproblems: 0\n",
      "      Number of created subproblems: 0\n",
      "  Error rc: 0\n",
      "  Time: 0.04378771781921387\n",
      "# ----------------------------------------------------------\n",
      "#   Solution Information\n",
      "# ----------------------------------------------------------\n",
      "Solution: \n",
      "- number of solutions: 0\n",
      "  number of solutions displayed: 0\n"
     ]
    }
   ],
   "source": [
    "print(results)\n",
    "results.write() # write results in yml file"
   ]
  },
  {
   "cell_type": "code",
   "execution_count": 68,
   "metadata": {},
   "outputs": [
    {
     "name": "stdout",
     "output_type": "stream",
     "text": [
      "Results\n",
      "From factory Madrid to market Vitoria x: 75.0\n",
      "From factory Madrid to market Caceres x: 175.0\n",
      "From factory Barcelona to market Castellon x: 150.0\n",
      "From factory Barcelona to market Vitoria x: 25.0\n",
      "From factory Almeria to market Alicante x: 150.0\n",
      "From factory Almeria to market Cadiz x: 150.0\n"
     ]
    }
   ],
   "source": [
    "print('Results')\n",
    "for f in instance.factories:\n",
    "    for m in instance.markets:\n",
    "        if instance.units[(f, m)]!=0:\n",
    "            print('From factory',f,'to market',m, 'x:',instance.units[(f, m)].value)"
   ]
  },
  {
   "cell_type": "code",
   "execution_count": 72,
   "metadata": {},
   "outputs": [
    {
     "name": "stdout",
     "output_type": "stream",
     "text": [
      "All Results\n",
      "Variable units\n",
      "    ('Madrid', 'Alicante') 0.0\n",
      "    ('Madrid', 'Castellon') 0.0\n",
      "    ('Madrid', 'Vitoria') 75.0\n",
      "    ('Madrid', 'Cadiz') 0.0\n",
      "    ('Madrid', 'Caceres') 175.0\n",
      "    ('Barcelona', 'Alicante') 0.0\n",
      "    ('Barcelona', 'Castellon') 150.0\n",
      "    ('Barcelona', 'Vitoria') 25.0\n",
      "    ('Barcelona', 'Cadiz') 0.0\n",
      "    ('Barcelona', 'Caceres') 0.0\n",
      "    ('Almeria', 'Alicante') 150.0\n",
      "    ('Almeria', 'Castellon') 0.0\n",
      "    ('Almeria', 'Vitoria') 0.0\n",
      "    ('Almeria', 'Cadiz') 150.0\n",
      "    ('Almeria', 'Caceres') 0.0\n",
      "    ('Coruna', 'Alicante') 0.0\n",
      "    ('Coruna', 'Castellon') 0.0\n",
      "    ('Coruna', 'Vitoria') 0.0\n",
      "    ('Coruna', 'Cadiz') 0.0\n",
      "    ('Coruna', 'Caceres') 0.0\n"
     ]
    }
   ],
   "source": [
    "print('All Results')\n",
    "instance.solutions.load_from(results)\n",
    "for v in instance.component_objects(Var, active=True):\n",
    "    print (\"Variable\",v)\n",
    "    varobject = getattr(instance, str(v))\n",
    "    for index in varobject:\n",
    "        print (\"   \",index, varobject[index].value)"
   ]
  },
  {
   "cell_type": "code",
   "execution_count": 73,
   "metadata": {},
   "outputs": [
    {
     "name": "stdout",
     "output_type": "stream",
     "text": [
      "total cost: 2328.75 euros\n"
     ]
    }
   ],
   "source": [
    "#instance.finalcost.expr()\n",
    "print('total cost:',value(instance.finalcost),'euros')"
   ]
  },
  {
   "cell_type": "markdown",
   "metadata": {
    "collapsed": true
   },
   "source": [
    " #### Alternative include in a .py the model function builder and solve it using:"
   ]
  },
  {
   "cell_type": "code",
   "execution_count": 52,
   "metadata": {},
   "outputs": [],
   "source": [
    "#!pyomo solve transport_example_pyomo.py transport_data.dat --solver=glpk --summary"
   ]
  },
  {
   "cell_type": "markdown",
   "metadata": {},
   "source": [
    "#### or just write all code below in a .py file and execute it"
   ]
  },
  {
   "cell_type": "code",
   "execution_count": null,
   "metadata": {},
   "outputs": [],
   "source": [
    "#!python transport_example_pyomo.py"
   ]
  }
 ],
 "metadata": {
  "kernelspec": {
   "display_name": "Python 3",
   "language": "python",
   "name": "python3"
  },
  "language_info": {
   "codemirror_mode": {
    "name": "ipython",
    "version": 3
   },
   "file_extension": ".py",
   "mimetype": "text/x-python",
   "name": "python",
   "nbconvert_exporter": "python",
   "pygments_lexer": "ipython3",
   "version": "3.7.3"
  }
 },
 "nbformat": 4,
 "nbformat_minor": 1
}
