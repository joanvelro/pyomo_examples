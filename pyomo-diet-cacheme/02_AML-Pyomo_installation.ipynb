{
 "cells": [
  {
   "cell_type": "markdown",
   "metadata": {
    "nbpresent": {
     "id": "8e622420-1015-4085-9c58-573f11e94734"
    },
    "slideshow": {
     "slide_type": "slide"
    }
   },
   "source": [
    "# How to improve your diet and save your money with Python \n",
    "** Zuria Bauer ** , ** Daniel Domene ** ,\n",
    "** Francisco J. Navarro-Brull **\n",
    "- EuroPython Bilbao 2016, PyConES Almería 2016 - [CAChemE.org](http://cacheme.org/)  "
   ]
  },
  {
   "cell_type": "markdown",
   "metadata": {
    "nbpresent": {
     "id": "0b1ce209-c15d-4dda-bc4a-a60cecee4c5f"
    },
    "slideshow": {
     "slide_type": "skip"
    }
   },
   "source": [
    "** English version ** --- ** Part II ** "
   ]
  },
  {
   "cell_type": "markdown",
   "metadata": {
    "nbpresent": {
     "id": "3ad2a3ac-4f64-4447-b274-d8a2a5f8e6c2"
    },
    "slideshow": {
     "slide_type": "subslide"
    }
   },
   "source": [
    "## 0. Index\n",
    "\n",
    ">  1. Solvers and types of AML (*Algebraic Modeling Languages*).    \n",
    ">  2. Why Pyomo ?  \n",
    ">  3. Installing Pyomo.   "
   ]
  },
  {
   "cell_type": "markdown",
   "metadata": {
    "nbpresent": {
     "id": "225c3577-c17d-4a5c-9201-b598be49327e"
    },
    "slideshow": {
     "slide_type": "slide"
    }
   },
   "source": [
    "#### 1. Solvers and types of AML (Algebraic Modeling Languages). "
   ]
  },
  {
   "cell_type": "markdown",
   "metadata": {
    "nbpresent": {
     "id": "96cdaf50-b24d-4e80-99b1-dcb397982bac"
    },
    "slideshow": {
     "slide_type": "skip"
    }
   },
   "source": [
    "Optimization problems can be \n",
    "solved through *solvers*, which are \n",
    "the implementation of the main algorithms\n",
    "to solve the different types of problems. "
   ]
  },
  {
   "cell_type": "markdown",
   "metadata": {
    "nbpresent": {
     "id": "248f1f4b-6b16-47ea-9341-7eec027a7e6d"
    },
    "slideshow": {
     "slide_type": "subslide"
    }
   },
   "source": [
    "Some examples: \n",
    "\n",
    "| Type of problem    |  Solvers available   |\n",
    "|--------------------|----------------------|\n",
    "| Linear Programming | GLPK , Pulp , CVXOPT | \n",
    "| Mixed Integer Programming, and previous | GLPK | \n",
    "| Mixed Integer Linear Programming, and previous | Gurobi|\n",
    "| QP, MIQP, QCP, MIQCP, and previous  | Gurobi|\n",
    "| Non Linear Programming, and previous | IPOPT |\n",
    "| Mixed Integer Non Linear Programming, and previous |  BARON, CPLEX |  "
   ]
  },
  {
   "cell_type": "markdown",
   "metadata": {
    "nbpresent": {
     "id": "c038191c-f68d-4334-b638-24f49cea8b39"
    },
    "slideshow": {
     "slide_type": "skip"
    }
   },
   "source": [
    "We can use these solvers through\n",
    "an Algebraic Modeling Language \n",
    "(**[AML](https://en.wikipedia.org/wiki/Algebraic_modeling_language)**). \n",
    "An AML is a high-level computer \n",
    "programming language that \n",
    "supports the formulation and analysis \n",
    "mathematical models for complex optimization \n",
    "applications.\n"
   ]
  },
  {
   "cell_type": "markdown",
   "metadata": {
    "nbpresent": {
     "id": "96954c3e-d729-4f12-a847-bd0f10e145dc"
    },
    "slideshow": {
     "slide_type": "skip"
    }
   },
   "source": [
    "One particular advantage of some AML is the \n",
    "similarity of their syntax to the mathematical \n",
    "notation. \n",
    "For example: \n",
    "* [** AMPL **](http://ampl.com/)\n",
    "* [** AIMMS **](http://aimms.com/)\n",
    "* [** GAMS **](https://www.gams.com/) \n",
    "* [**PYOMO**](http://www.pyomo.org/) --> allows the formulation of algebraic models in Python and then communicates with the desired solvers (even [NEOS Solver](https://neos-server.org/neos/solvers/))"
   ]
  },
  {
   "cell_type": "markdown",
   "metadata": {
    "nbpresent": {
     "id": "018c96b7-be72-446a-9ba2-2955733541b5"
    },
    "slideshow": {
     "slide_type": "subslide"
    }
   },
   "source": [
    "<img src=\"img/AML1.png\" alt=\"\" style=\"width: 1000px;\"/>"
   ]
  },
  {
   "cell_type": "markdown",
   "metadata": {
    "nbpresent": {
     "id": "53808531-c47f-42b1-94a2-5db964cce745"
    },
    "slideshow": {
     "slide_type": "slide"
    }
   },
   "source": [
    "#### 2. Why Pyomo ? "
   ]
  },
  {
   "cell_type": "markdown",
   "metadata": {
    "nbpresent": {
     "id": "5cbbabbd-80b2-4112-91cb-651dbe4d7012"
    },
    "slideshow": {
     "slide_type": "skip"
    }
   },
   "source": [
    "Pyomo's modeling objects are \n",
    "embedded within Python. Remember that modeling \n",
    "involves the formulation of a simplified\n",
    "representations of a systems (like the diet problem we are working on!)\n"
   ]
  },
  {
   "cell_type": "markdown",
   "metadata": {
    "nbpresent": {
     "id": "c10a928a-ae10-4332-9c8b-4e94e59da673"
    },
    "slideshow": {
     "slide_type": "skip"
    }
   },
   "source": [
    "The following are motivating factors for the development of Pyomo:\n",
    "\n",
    "* ** Open Source ** : Pyomo is developed within Pyomo’s open source project to promote\n",
    "    transparency of the modeling framework and encourage community\n",
    "    development of Pyomo capabilities.\n",
    "\n",
    "* ** Customizable Capability ** : Pyomo supports a customizable capability through the extensive use of plug-ins to modularize software components.\n",
    "\n",
    "* ** Solver Integration ** : Pyomo models can be optimized with solvers that are written either in Python or in compiled, low-level languages.\n",
    "\n",
    "* ** Programming Language ** : Pyomo leverages a high-level programming language, which has several advantages over custom AMLs: a very robust language, extensive documentation, a rich set of standard libraries, support for modern programming features like classes and functions, and portability to many platforms."
   ]
  },
  {
   "cell_type": "markdown",
   "metadata": {
    "nbpresent": {
     "id": "2b772208-6a43-4efe-bd56-6c0da30721da"
    },
    "slideshow": {
     "slide_type": "slide"
    }
   },
   "source": [
    "#### 3. Installing Pyomo"
   ]
  },
  {
   "cell_type": "markdown",
   "metadata": {
    "nbpresent": {
     "id": "ae0d17c0-8808-4ad6-a20a-69c63a79f1c9"
    },
    "slideshow": {
     "slide_type": "skip"
    }
   },
   "source": [
    "Installing pyomo you have to verify that you have installed Python 3.5.1. If not, you have to create a conda environment."
   ]
  },
  {
   "cell_type": "markdown",
   "metadata": {
    "nbpresent": {
     "id": "5c5df0be-f6ab-4d2b-aadc-61e4028bab88"
    },
    "slideshow": {
     "slide_type": "fragment"
    }
   },
   "source": [
    "> **Before going on:** We cannot thank [Juan Luis Cano](https://github.com/Juanlu001) enough for its help building conda recipes for Pyomo."
   ]
  },
  {
   "cell_type": "markdown",
   "metadata": {
    "nbpresent": {
     "id": "7e0a27cb-9b8f-4cfe-af6c-8eba2e49f333"
    },
    "slideshow": {
     "slide_type": "skip"
    }
   },
   "source": [
    "To install Pyomo you should just write the following in the command window (cmd.exe) or terminal (linux or mac). Remember that you must have activated the environment if you had to create in the previous step."
   ]
  },
  {
   "cell_type": "markdown",
   "metadata": {
    "nbpresent": {
     "id": "e856fa39-2eff-43a2-82f0-4ae155d604ec"
    },
    "slideshow": {
     "slide_type": "subslide"
    }
   },
   "source": [
    "```\n",
    " conda install pyomo -c conda-forge\n",
    "```"
   ]
  },
  {
   "cell_type": "markdown",
   "metadata": {
    "nbpresent": {
     "id": "883ee542-cbf4-4c59-b5e4-00d633a4c907"
    },
    "slideshow": {
     "slide_type": "skip"
    }
   },
   "source": [
    "To verify that pyomo is installed correctly, close and open a new command window and type `pyomo`. You should see something like this: \n",
    "\n",
    "```[cmd]\n",
    "C:\\>pyomo\n",
    "usage: pyomo.exe [-h] [--version]\n",
    "                 {check,convert,help,info,run,solve,test-solvers} ...\n",
    "\n",
    "The 'pyomo' command is the top-level command for the Pyomo optimization software\n",
    ".\n",
    "\n",
    "optional arguments:\n",
    "  -h, --help            show this help message and exit\n",
    "  --version             show program's version number and exit\n",
    "\n",
    "subcommands:\n",
    "  {check,convert,help,info,run,solve,test-solvers}\n",
    "    check               Check a model for errors.\n",
    "    convert             Convert a Pyomo model to another format\n",
    "    help                Print help information.\n",
    "    info                Print information about installed packages that\n",
    "                        support Pyomo.\n",
    "    run                 Execute a command from the Pyomo bin (or Scripts)\n",
    "                        directory.\n",
    "    solve               Optimize a model\n",
    "    test-solvers        Test Pyomo solvers\n",
    "\n",
    "-------------------------------------------------------------------------\n",
    "Pyomo supports a variety of modeling and optimization capabilities,\n",
    "which are executed either as subcommands of 'pyomo' or as separate\n",
    "commands.  Use the 'help' subcommand to get information about the\n",
    "capabilities installed with Pyomo.  Additionally, each subcommand\n",
    "supports independent command-line options.  Use the -h option to\n",
    "print details for a subcommand.  For example, type\n",
    "\n",
    "   pyomo solve -h\n",
    "\n",
    "```\n"
   ]
  },
  {
   "cell_type": "markdown",
   "metadata": {
    "nbpresent": {
     "id": "bcef6a90-a379-46e1-9ef9-c359e0e1cba2"
    },
    "slideshow": {
     "slide_type": "subslide"
    }
   },
   "source": [
    "Pyomo, default is not installed solvers, so must be installed separately.\n",
    "You can install GLPK to solve LP and MILP typing:\n",
    "\n",
    "```[cmd]\n",
    "conda install glpk -c conda-forge \n",
    "```\n"
   ]
  },
  {
   "cell_type": "markdown",
   "metadata": {
    "nbpresent": {
     "id": "8f55e760-6099-4824-89a7-8c7caa6f04b1"
    },
    "slideshow": {
     "slide_type": "subslide"
    }
   },
   "source": [
    "To solve NLP problems you can install IPOPT typing:\n",
    "\n",
    "```[cmd]\n",
    "conda install ipopt_bin --channel cachemeorg\n",
    "```"
   ]
  },
  {
   "cell_type": "markdown",
   "metadata": {
    "nbpresent": {
     "id": "e011e88a-fb2b-415a-a179-291e9dd4a5b5"
    },
    "slideshow": {
     "slide_type": "subslide"
    }
   },
   "source": [
    "You can install some extras like \n",
    "[** Neos Server**](https://neos-server.org/neos/),\n",
    "that is a free internet based service for solving \n",
    "numerical optimizations problems. \n",
    "\n",
    "```[cmd]\n",
    "conda install pyomo.extras --channel conda-forge\n",
    "```"
   ]
  }
 ],
 "metadata": {
  "anaconda-cloud": {},
  "celltoolbar": "Slideshow",
  "kernelspec": {
   "display_name": "Python 3",
   "language": "python",
   "name": "python3"
  },
  "language_info": {
   "codemirror_mode": {
    "name": "ipython",
    "version": 3
   },
   "file_extension": ".py",
   "mimetype": "text/x-python",
   "name": "python",
   "nbconvert_exporter": "python",
   "pygments_lexer": "ipython3",
   "version": "3.5.2"
  },
  "nbpresent": {
   "slides": {},
   "themes": {}
  }
 },
 "nbformat": 4,
 "nbformat_minor": 0
}
