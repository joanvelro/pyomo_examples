{
 "cells": [
  {
   "cell_type": "markdown",
   "metadata": {
    "slideshow": {
     "slide_type": "slide"
    }
   },
   "source": [
    "# HOW TO IMPROVE YOUR DIET AND SAVE MONEY WITH PYTHON\n",
    "\n",
    "\n",
    "Authors: Zuria Bauer & Daniel Domene"
   ]
  },
  {
   "cell_type": "markdown",
   "metadata": {
    "slideshow": {
     "slide_type": "slide"
    }
   },
   "source": [
    "<img src=\"img/pycones.png\" alt=\"EP\" style=\"width: 600px;\" position=\"centered\"/>\n",
    "<img src=\"img/logoHD.png\" alt=\"PYL\" style=\"width: 650px;\" position=\"centered\"/>\n",
    "\n"
   ]
  },
  {
   "cell_type": "markdown",
   "metadata": {
    "collapsed": true,
    "slideshow": {
     "slide_type": "slide"
    }
   },
   "source": [
    "## About us"
   ]
  },
  {
   "cell_type": "markdown",
   "metadata": {
    "slideshow": {
     "slide_type": "slide"
    }
   },
   "source": [
    "#### Daniel Domene López\n",
    "\n",
    "<img src=\"img/about-us/Dani.jpg\" alt=\"Dani\" style=\"width: 300px;\" position=\"centered\"/>\n",
    "\n"
   ]
  },
  {
   "cell_type": "markdown",
   "metadata": {
    "slideshow": {
     "slide_type": "subslide"
    }
   },
   "source": [
    "- M.Sc.Chemical Engineering at the University of Alicante\n",
    "- Programming with Python since 2014.\n",
    "- Speaker at the PyConES 2014 in Zaragoza and PyConES 2015 in Valencia.\n",
    "- In love with interactive widgets (Jupyter Notebook).\n",
    "- Active member of [CAChemE.org](http://cacheme.org/)\n",
    "- Experience in modeling and simulation of Chemical Reactors with MATLAB/GNU Octave.\n",
    "- Human languajes: Spanish, English and a litlle bit of French.\n",
    "- Twitter: [@DanielDomeneL](https://twitter.com/DanielDomeneL)"
   ]
  },
  {
   "cell_type": "markdown",
   "metadata": {
    "slideshow": {
     "slide_type": "slide"
    }
   },
   "source": [
    "### Zuria Bauer Hartwig\n",
    "<img src=\"img/about-us/Zuri.jpg\" alt=\"Zuri\" style=\"width: 300px;\" position=\"centered\"/>"
   ]
  },
  {
   "cell_type": "markdown",
   "metadata": {
    "slideshow": {
     "slide_type": "subslide"
    }
   },
   "source": [
    "- Bachelor in Chemical Engineering at the University of Alicante\n",
    "- M.Sc. Robotics and Automation\n",
    "- Programming with Python since 2014\n",
    "- Speaker at the PyConES 2014 in Zaragoza\n",
    "- Speaker at the EuroPython 2016 in Bilbao\n",
    "- *Hates* interactive widgets\n",
    "- Active member of [CAChemE.org](http://cacheme.org/)\n",
    "- Experience in modeling and simulation of Chemical Reactors with MATLAB/GNU Octave\n",
    "- Honor certificate form the MIT course \"Introduction to Computer Science and Programming Using Python\"\n",
    "- Human languages: Spanish, German and English\n",
    "- Twitter: [@zuriich92](https://twitter.com/zuriich92)"
   ]
  },
  {
   "cell_type": "markdown",
   "metadata": {
    "slideshow": {
     "slide_type": "slide"
    }
   },
   "source": [
    "## About this talk"
   ]
  },
  {
   "cell_type": "markdown",
   "metadata": {
    "slideshow": {
     "slide_type": "fragment"
    }
   },
   "source": [
    "<img src=\"img/intro-simple.png\" alt=\"dieta\" style=\"width: 800px;\" position=\"centered\"/>"
   ]
  },
  {
   "cell_type": "markdown",
   "metadata": {
    "slideshow": {
     "slide_type": "slide"
    }
   },
   "source": [
    "## CAChemE"
   ]
  },
  {
   "cell_type": "markdown",
   "metadata": {
    "slideshow": {
     "slide_type": "fragment"
    }
   },
   "source": [
    "[CAChemE](http://cacheme.org/) is an nonprofit association formed by Chemical Engineers (professionals, students, and professors) which tries to encourage the open source software possibilities in Chemical Process Engineering (simulation and optimization).\n",
    "\n",
    "We are located in the Institute of Chemical Engineering Processes at the University of Alicante (Spain)"
   ]
  },
  {
   "cell_type": "markdown",
   "metadata": {
    "slideshow": {
     "slide_type": "slide"
    }
   },
   "source": [
    "<img src=\"img/logoHD.png\" alt=\"cacheme\" style=\"width: 600px;\" position=\"centered\"/>\n",
    "<img src=\"img/about-us/cacheme.png\" alt=\"cacheme\" style=\"width: 600px;\" position=\"centered\"/>\n",
    "\n",
    "Thank you all pythonistas!"
   ]
  }
 ],
 "metadata": {
  "anaconda-cloud": {},
  "celltoolbar": "Slideshow",
  "kernelspec": {
   "display_name": "Python [pyomo35]",
   "language": "python",
   "name": "Python [pyomo35]"
  },
  "language_info": {
   "codemirror_mode": {
    "name": "ipython",
    "version": 3
   },
   "file_extension": ".py",
   "mimetype": "text/x-python",
   "name": "python",
   "nbconvert_exporter": "python",
   "pygments_lexer": "ipython3",
   "version": "3.5.2"
  }
 },
 "nbformat": 4,
 "nbformat_minor": 0
}
