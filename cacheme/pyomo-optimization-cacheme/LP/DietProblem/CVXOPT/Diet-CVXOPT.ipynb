{
 "cells": [
  {
   "cell_type": "markdown",
   "metadata": {},
   "source": [
    "# DIET PROBLEM - CVXOPT"
   ]
  },
  {
   "cell_type": "markdown",
   "metadata": {},
   "source": [
    "*Zuria Bauer Hartwig* ( [CAChemE](http://cacheme.org))"
   ]
  },
  {
   "cell_type": "markdown",
   "metadata": {},
   "source": [
    "Original Problem: [Linear and Integer Programming](https://www.coursera.org/course/linearprogramming) (Coursera Course) - University of Colorado Boulder & University of Colorado System\n",
    "\n",
    "\n",
    "[Neos Guide - The Diet Problem](http://www.neos-guide.org/content/diet-problem)"
   ]
  },
  {
   "cell_type": "markdown",
   "metadata": {},
   "source": [
    "### SUMMARY"
   ]
  },
  {
   "cell_type": "markdown",
   "metadata": {},
   "source": [
    "The goal of the diet problem is to select a set of foods we can get at McDonaldsx,\n",
    "that will satisfy a set of daily nutritional requirement at minimum cost. \n",
    "The problem is formulated as a linear program where the objective is to minimize cost \n",
    "and the constraints are to satisfy the specified nutritional requirements. \n",
    "The diet problem constraints typically regulate the number of calories,\n",
    "the calories from Fat, Total Fat, Cholesterol, Sodium, \n",
    "Carbohydrates, Fiber, Sugar, Proteine, Vitamine A and C,\n",
    "Calcium and Sodium in the diet. \n",
    "While the mathematical formulation is simple, \n",
    "the solution may not be palatable! \n",
    "The nutritional requirements can be met without regard for taste or variety, \n",
    "so consider the output before digging into a meal from an \"optimal\" menu!"
   ]
  },
  {
   "cell_type": "markdown",
   "metadata": {},
   "source": [
    "#### 1. Import"
   ]
  },
  {
   "cell_type": "code",
   "execution_count": 1,
   "metadata": {
    "collapsed": true
   },
   "outputs": [],
   "source": [
    "# Loading cxopt and some libraries\n",
    "from cvxopt import solvers, matrix, spmatrix"
   ]
  },
  {
   "cell_type": "markdown",
   "metadata": {},
   "source": [
    "#### 2. Data"
   ]
  },
  {
   "cell_type": "markdown",
   "metadata": {},
   "source": [
    "Let's get the data:\n",
    "\n",
    "- http://nutrition.mcdonalds.com/getnutrition/nutritionfacts.pdf\n",
    "- http://www.fastfoodmenuprices.com/mcdonalds-prices/\n",
    "\n"
   ]
  },
  {
   "cell_type": "code",
   "execution_count": 32,
   "metadata": {
    "collapsed": true
   },
   "outputs": [],
   "source": [
    "# List with the names of the Products\n",
    "\n",
    "Products = ['Bacon Clubhouse Burgerx',\n",
    "'Bacon Clubhouse Grilled Chicken Sandwichx',\n",
    "'Bacon Clubhouse Crispy Chicken Sandwichx',\n",
    "'McChickenx',\n",
    "'Buffalo Ranch McChickenx',\n",
    "'Bacon Buffalo Ranch McChickenx',\n",
    "'Southern Style Buttermilk Crispy Chicken Sandwichx',\n",
    "'Filet-O-Fishx',\n",
    "'McRibx',\n",
    "'Premium McWrap Chicken & Bacon (Crispy)x',\n",
    "'Premium McWrap Chicken & Bacon (Grilled)x',\n",
    "'Premium McWrap Chicken & Ranch (Crispy)x',\n",
    "'Premium McWrap Chicken & Ranch (Grilled)x',\n",
    "'Premium McWrap Chicken & Sweet Chili (Crispy)x',\n",
    "'Premium McWrap Chicken & Sweet Chili (Grilled)x',\n",
    "'Big Macx',\n",
    "'Quarter Pounder with Cheesex',\n",
    "'Double Quarter Pounder with Cheesex',\n",
    "'Hamburguerx',\n",
    "'Cheeseburgerx',\n",
    "'BBQ Ranch Burgerx',\n",
    "'Grilled Onion Cheddarx',\n",
    "'Double Cheeseburgerx',\n",
    "'McDoublex',\n",
    "'Bacon McDoublex',\n",
    "'Daily Doublex',\n",
    "'Ranch Snack Wrap (Crispy)x',\n",
    "'Ranch Snack Wrap (Grilled)x',\n",
    "'Mac Snack Wrapx',\n",
    "'Jalapenio Doublex',\n",
    "'Premium Crispy Chicken Deluxe Sandwichx',\n",
    "'Quarter Pounder Deluxex',\n",
    "'Artisan Grilled Chicken Sandwichx',\n",
    "'Buttermilk Crispy Chicken Sandwichx',\n",
    "'Bacon Clubhouse Grilled Chicken Sandwichx',\n",
    "'Premium Asian Sald with Crispy Chickenx',\n",
    "'Premium Asian Sald with Grilled Chickenx',\n",
    "'Bacon Clubhouse Crispy Chicken Sandwichx',\n",
    "'McChickenx',\n",
    "'Buffalo Ranch McChickenx',\n",
    "'Bacon Buffalo Ranch McChickenx',\n",
    "'Bacon Cheddar McChickenx',\n",
    "'Southern Style Buttermilk Crispy Chicken Sandwichx',\n",
    "'Chicken McNuggetsx',\n",
    "'Ranch Snack Wrapx',\n",
    "'Small French Friesx',\n",
    "'Premium Bacon Ranch Salad with Crispy Chickenx',\n",
    "'Baked Mozzarella Sticksx']\n",
    "\n",
    "# All Nutrients \n",
    "Nutrients = [\n",
    "'Calories',\n",
    "'Calories From Fat',\n",
    "'Total_Fat(g)',\n",
    "'Cholesterol(mg)',\n",
    "'Sodium(mg)',\n",
    "'Carbohydrates(g)',\n",
    "'Dietary_Fiber(g)',\n",
    "'Sugars(g)',\n",
    "'Protein(g)',\n",
    "'Vitamin A',\n",
    "'Vitamin C',\n",
    "'Calcium',\n",
    "'Iron']"
   ]
  },
  {
   "cell_type": "code",
   "execution_count": 33,
   "metadata": {
    "collapsed": false
   },
   "outputs": [],
   "source": [
    "# Amount of nutrients\n",
    "\n",
    "Nutrients_Am = matrix([[740, 370, 41, 125, 1480, 51, 4, 14, 40, 8, 25, 30, 25],\n",
    "[610, 230, 26, 125, 1750, 50, 3, 14, 45,   8, 30, 35, 15],\n",
    "[750, 340, 38,  90, 1720, 65, 4, 16, 36,   8, 25, 30, 15],\n",
    "[370, 150, 17,  40,  650, 40, 2,  5, 14,   2,  0, 10, 15],\n",
    "[370, 150, 17,  40,  850, 41, 2,  5, 14,   2,  0, 15, 15],\n",
    "[440, 190, 21,  55, 1120, 41, 2,  6, 20,   2, 10, 15, 15],\n",
    "[490, 220, 25,  70, 1120, 43, 2,  6, 22,   4, 10, 20, 15],\n",
    "[470, 190, 21,  60,  810, 46, 2,  5, 25,   4,  8, 15, 20],\n",
    "[390, 170, 19,  40,  590, 39, 2,  5, 15,   2,  0, 15, 10],\n",
    "[500, 240, 26,  70,  980, 44, 3, 11, 22,   2,  2, 15, 20],\n",
    "[640, 290, 32,  80, 1550, 56, 4,  7, 33, 100, 30, 20, 25],\n",
    "[500, 180, 19, 115, 1570, 41, 3,  5, 41, 100, 30, 25, 20],\n",
    "[610, 280, 31,  65, 1350, 56, 4,  7, 27, 100, 20, 20, 20],\n",
    "[470, 170, 19, 100, 1370, 41, 3,  5, 35, 100, 25, 25, 20],\n",
    "[540, 200, 23,  50, 1260, 61, 4, 13, 24, 100, 20, 10, 20],\n",
    "[400,  90, 10,  80, 1250, 46, 3, 11, 31, 100, 25, 15, 20],\n",
    "[540, 250, 28,  80,  970, 47, 3,  9, 25,   6,  2, 25, 25],\n",
    "[540, 250, 28, 100, 1110, 42, 3, 10, 31,  10,  4, 30, 25],\n",
    "[780, 410, 45, 175, 1310, 43, 3, 10, 50,  10,  4, 30, 40],\n",
    "[250,  70,  8,  30,  490, 32, 1,  6, 12,   2,  2, 10, 15],\n",
    "[300, 110, 12,  40,  680, 33, 2,  7, 15,   6,  2, 20, 15],\n",
    "[350, 140, 15,  45,  670, 37, 3,  7, 15,   4,  0, 20, 15],\n",
    "[310, 120, 13,  45,  640, 32, 2,  6, 15,   2,  2, 20, 15],\n",
    "[440, 200, 22,  85, 1050, 35, 2,  7, 25,  10,  2, 30, 20],\n",
    "[390, 160, 18,  70,  850, 34, 2,  7, 22,   6,  2, 20, 20],\n",
    "[460, 210, 23,  85, 1120, 34, 2,  7, 28,   6, 10, 20, 20],\n",
    "[440, 210, 24,  75,  770, 34, 2,  7, 22,   8,  6, 20, 20],\n",
    "[360, 180, 20,  40,  810, 32, 1,  3, 15,   2,  0, 10, 10],\n",
    "[290, 120, 13,  55,  820, 25, 1,  2, 19,   2,  2, 15, 10],\n",
    "[330, 170, 19,  45,  670, 26, 1,  3, 14,   2,  0,  8, 15],\n",
    "[440, 210, 24,  75,  990, 35, 2,  6, 23,   6,  8, 20, 20],\n",
    "[530, 200, 22,  45, 1000, 59, 3, 13, 25,   6, 10, 20, 15],\n",
    "[600, 300, 33, 105, 1200, 44, 3, 11, 31,  15, 10, 30, 25],\n",
    "[360,  50,  6,  75,  960, 43, 3, 10, 33,   4, 15, 25, 15],\n",
    "[580, 220, 24,  65,  900, 62, 4, 11, 29,   6, 20, 20, 20],\n",
    "[610, 230, 26, 125, 1750, 50, 3, 14, 45,   8, 30, 35, 15],\n",
    "[410, 200, 22,  45,  740, 32, 5, 12, 23, 180, 70, 15, 15],\n",
    "[270,  80,  9,  75,  760, 18, 5, 10, 32, 180, 70, 20, 15],\n",
    "[750, 340, 38,  90, 1720, 65, 4, 16, 36,   8, 25, 30, 15],\n",
    "[370, 150, 17,  40,  650, 40, 2,  5, 14,   2,  0, 10, 15],\n",
    "[370, 150, 17,  40,  850, 41, 2,  5, 14,   2,  0, 15, 15],\n",
    "[440, 190, 21,  55, 1120, 41, 2,  6, 20,   2, 10, 15, 15],\n",
    "[490, 220, 25,  70, 1120, 43, 2,  6, 22,   4, 10, 20, 15],\n",
    "[470, 190, 21,  60,  810, 46, 2,  5, 25,   4,  8, 15, 20],\n",
    "[470, 270, 30,  65,  900, 30, 2,  0, 22,   0,  4,  2,  6],\n",
    "[360, 180, 20,  40,  810, 32, 1,  3, 15,   2,  0, 10, 10],\n",
    "[230, 100, 11,   0,  130, 30, 2,  0,  2,   0, 30,  0,  4],\n",
    "[470, 210, 24,  60,  890, 40, 7, 11, 24, 180, 35, 20, 15],\n",
    "[200,  90, 10,  20,  560, 18, 1,  1,  9,   4,  0, 25,  4]], \n",
    "tc='d');"
   ]
  },
  {
   "cell_type": "markdown",
   "metadata": {},
   "source": [
    "### Solving"
   ]
  },
  {
   "cell_type": "markdown",
   "metadata": {},
   "source": [
    "#### 3. Parameters and Constrains"
   ]
  },
  {
   "cell_type": "code",
   "execution_count": 37,
   "metadata": {
    "collapsed": false
   },
   "outputs": [],
   "source": [
    "# Costs\n",
    "Cost = matrix([4.49, 4, 4, 4, 1, 1, 2, 4.79, 3.79, 2.99, 3.99, 3.99, 3.99, 3.99, 3.99, 3.99, 3.99, 3.69, 3.69, 1.29, 1.29, 1.00, 1.29, 1.00, 2, 2, 1.99, 1.59, 1.59, 1.59, 2, 3.89, 3.99, 4.39, 4.39, 4.19, 4.59, 4.59, 4.29, 1, 1, 2, 2, 4.59, 4.49, 1.69, 1.39, 4.59, 1.19], tc='d')\n",
    "\n",
    "# Max and Min for each Nutrient\n",
    "Min_Nutrients = matrix([ 200,   0,   0,   55,     0,    0,   0,  0,  30,   0,   10,   10,   10], tc='d')\n",
    "Max_Nutrients = matrix([2250, 300,  65,  300,  1700,   75, 100, 50, 100, 200,  280,  280,  280], tc='d')\n",
    "\n"
   ]
  },
  {
   "cell_type": "code",
   "execution_count": 38,
   "metadata": {
    "collapsed": false
   },
   "outputs": [],
   "source": [
    "#Identity matrix\n",
    "Id = spmatrix(1.0,range(49),range(49),(49,49))\n",
    "G = matrix([Nutrients_Am,-Nutrients_Am, -Id ])\n",
    "h = matrix([Max_Nutrients,-Min_Nutrients,matrix(0.0,(49,1))])\n"
   ]
  },
  {
   "cell_type": "markdown",
   "metadata": {},
   "source": [
    "#### 4. Solution"
   ]
  },
  {
   "cell_type": "code",
   "execution_count": 39,
   "metadata": {
    "collapsed": false,
    "scrolled": true
   },
   "outputs": [
    {
     "name": "stdout",
     "output_type": "stream",
     "text": [
      "     pcost       dcost       gap    pres   dres   k/t\n",
      " 0: -2.6798e+00 -1.3945e+04  2e+04  3e-02  8e-01  1e+00\n",
      " 1:  2.8583e+00 -6.9620e+03  8e+03  1e-02  4e-01  2e+01\n",
      " 2:  9.6693e+00 -2.0483e+03  2e+03  4e-03  1e-01  7e+00\n",
      " 3:  5.6164e+00 -1.6603e+03  2e+03  3e-03  9e-02  1e+01\n",
      " 4:  8.0338e+00 -5.1887e+02  7e+02  1e-03  3e-02  4e+00\n",
      " 5:  5.3993e+00 -1.7846e+02  3e+02  4e-04  1e-02  2e+00\n",
      " 6:  4.7981e+00 -9.6379e+01  1e+02  2e-04  6e-03  2e+00\n",
      " 7:  3.8240e+00 -7.9910e+00  1e+01  2e-05  6e-04  1e-01\n",
      " 8:  3.1010e+00 -3.3972e-01  4e+00  7e-06  2e-04  3e-02\n",
      " 9:  1.9296e+00  4.9958e-01  2e+00  3e-06  8e-05  2e-02\n",
      "10:  1.4887e+00  1.2541e+00  2e-01  5e-07  1e-05  3e-03\n",
      "11:  1.3980e+00  1.3706e+00  3e-02  6e-08  2e-06  4e-04\n",
      "12:  1.3811e+00  1.3808e+00  3e-04  6e-10  2e-08  4e-06\n",
      "13:  1.3810e+00  1.3810e+00  3e-06  6e-12  2e-10  4e-08\n",
      "14:  1.3810e+00  1.3810e+00  3e-08  6e-14  2e-12  4e-10\n",
      "Optimal solution found.\n"
     ]
    }
   ],
   "source": [
    "#Solvers\n",
    "sol = solvers.lp(Cost, G, h)\n",
    "x = sol['x']\n"
   ]
  },
  {
   "cell_type": "markdown",
   "metadata": {},
   "source": [
    "#### 5. Results"
   ]
  },
  {
   "cell_type": "code",
   "execution_count": 40,
   "metadata": {
    "collapsed": false
   },
   "outputs": [
    {
     "name": "stdout",
     "output_type": "stream",
     "text": [
      "Bacon Buffalo Ranch McChickenx :  0.90\n",
      "McDoublex            :  0.48\n"
     ]
    }
   ],
   "source": [
    "#Get our Solution:\n",
    "for i,xi in enumerate(x):\n",
    "    if xi > 1e-6: print(\"%-20s : %5.2f\" %  (Products[i],xi))\n"
   ]
  }
 ],
 "metadata": {
  "kernelspec": {
   "display_name": "Python 3",
   "language": "python",
   "name": "python3"
  },
  "language_info": {
   "codemirror_mode": {
    "name": "ipython",
    "version": 3
   },
   "file_extension": ".py",
   "mimetype": "text/x-python",
   "name": "python",
   "nbconvert_exporter": "python",
   "pygments_lexer": "ipython3",
   "version": "3.5.1"
  }
 },
 "nbformat": 4,
 "nbformat_minor": 0
}
