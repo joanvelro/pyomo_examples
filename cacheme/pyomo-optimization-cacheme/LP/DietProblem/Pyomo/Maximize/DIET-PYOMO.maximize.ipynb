{
 "cells": [
  {
   "cell_type": "markdown",
   "metadata": {},
   "source": [
    "# DIET PROBLEM - PYOMO"
   ]
  },
  {
   "cell_type": "markdown",
   "metadata": {},
   "source": [
    "*Zuria Bauer Hartwig and David Senén García Hurtado* ( [CAChemE](http://cacheme.org))"
   ]
  },
  {
   "cell_type": "markdown",
   "metadata": {},
   "source": [
    "Original Problem: [Linear and Integer Programming](https://www.coursera.org/course/linearprogramming) (Coursera Course) - University of Colorado Boulder & University of Colorado System\n",
    "\n",
    "Based on the Examples from the Optimization Course = [Taller-Optimizacion-Python-Pyomo](https://github.com/CAChemE/Taller-Optimizacion-Python-Pyomo) from [CAChemE.org](http://cacheme.org/optimizacion-programacion-matematica-con-python-pyomo/)\n",
    "\n",
    "[Neos Guide - The Diet Problem](http://www.neos-guide.org/content/diet-problem)"
   ]
  },
  {
   "cell_type": "markdown",
   "metadata": {},
   "source": [
    "### SUMMARY"
   ]
  },
  {
   "cell_type": "markdown",
   "metadata": {},
   "source": [
    "The goal of the diet problem is to select a set of foods we can get at McDonaldsx,\n",
    "that will satisfy a set of daily nutritional requirement at minimum cost. \n",
    "The problem is formulated as a linear program where the objective is to minimize cost \n",
    "and the constraints are to satisfy the specified nutritional requirements. \n",
    "The diet problem constraints typically regulate the number of calories,\n",
    "the calories from Fat, Total Fat, Cholesterol, Sodium, \n",
    "Carbohydrates, Fiber, Sugar, Proteine, Vitamine A and C,\n",
    "Calcium and Sodium in the diet. \n",
    "While the mathematical formulation is simple, \n",
    "the solution may not be palatable! \n",
    "The nutritional requirements can be met without regard for taste or variety, \n",
    "so consider the output before digging into a meal from an \"optimal\" menu!\n"
   ]
  },
  {
   "cell_type": "markdown",
   "metadata": {},
   "source": [
    "#### 1. Import"
   ]
  },
  {
   "cell_type": "code",
   "execution_count": 12,
   "metadata": {
    "collapsed": true
   },
   "outputs": [],
   "source": [
    "# Loading pyomo\n",
    "from pyomo.environ import *\n",
    "infinity = float('inf')"
   ]
  },
  {
   "cell_type": "markdown",
   "metadata": {},
   "source": [
    "#### 2. Data"
   ]
  },
  {
   "cell_type": "markdown",
   "metadata": {},
   "source": [
    "Let's get the data:\n",
    "\n",
    "- http://nutrition.mcdonalds.com/getnutrition/nutritionfacts.pdf\n",
    "- http://www.fastfoodmenuprices.com/mcdonalds-prices/\n",
    "\n"
   ]
  },
  {
   "cell_type": "code",
   "execution_count": 30,
   "metadata": {
    "collapsed": false
   },
   "outputs": [
    {
     "name": "stdout",
     "output_type": "stream",
     "text": [
      "# http://nutrition.mcdonalds.com/getnutrition/nutritionfacts.pdf\r\n",
      "# http://www.fastfoodmenuprices.com/mcdonalds-prices/\r\n",
      "\r\n",
      "#Food + Cost\r\n",
      "\r\n",
      "param:  F:                                                 Cal  :=\r\n",
      "  \"Bacon Clubhouse Burgerx\"                                740\r\n",
      "  \"Bacon Clubhouse Grilled Chicken Sandwichx\"              610\r\n",
      "  \"Bacon Clubhouse Crispy Chicken Sandwichx\"               750             \r\n",
      "  \"McChickenx\"                                             370\r\n",
      "  \"Buffalo Ranch McChickenx\"                               370             \r\n",
      "  \"Bacon Buffalo Ranch McChickenx\"                         440             \r\n",
      "  \"Southern Style Buttermilk Crispy Chicken Sandwichx\"     490  \r\n",
      "  \"Filet-O-Fishx\"                                          470             \r\n",
      "  \"McRibx\"                                                 390       \r\n",
      "  \"Premium McWrap Chicken & Bacon (Crispy)x\"               500\r\n",
      "  \"Premium McWrap Chicken & Bacon (Grilled)x\"              640\r\n",
      "  \"Premium McWrap Chicken & Ranch (Crispy)x\"               500             \r\n",
      "  \"Premium McWrap Chicken & Ranch (Grilled)x\"              610     \r\n",
      "  \"Premium McWrap Chicken & Sweet Chili (Crispy)x\"         470\r\n",
      "  \"Premium McWrap Chicken & Sweet Chili (Grilled)x\"        540\r\n",
      "  \"Big Macx\"                                               400            \r\n",
      "  \"Quarter Pounder with Cheesex\"                           540      \r\n",
      "  \"Double Quarter Pounder with Cheesex\"                    540  \r\n",
      "  \"Hamburguerx\"                                            780\r\n",
      "  \"Cheeseburgerx\"                                          250\r\n",
      "  \"BBQ Ranch Burgerx\"                                      300\r\n",
      "  \"Grilled Onion Cheddarx\"                                 350\r\n",
      "  \"Double Cheeseburgerx\"                                   310  \r\n",
      "  \"McDoublex\"                                              440\r\n",
      "  \"Bacon McDoublex\"                                        390\r\n",
      "  \"Daily Doublex\"                                          460\r\n",
      "  \"Ranch Snack Wrap (Crispy)x\"                             440\r\n",
      "  \"Ranch Snack Wrap (Grilled)x\"                            360\r\n",
      "  \"Mac Snack Wrapx\"                                        290\r\n",
      "  \"Jalapenio Doublex\"                                      330\r\n",
      "  \"Premium Crispy Chicken Deluxe Sandwichx\"                440\r\n",
      "  \"Quarter Pounder Deluxex\"                                530\r\n",
      "  \"Artisan Grilled Chicken Sandwichx\"                      600\r\n",
      "  \"Buttermilk Crispy Chicken Sandwichx\"                    360\r\n",
      "  \"Premium Asian Sald with Crispy Chickenx\"                610\r\n",
      "  \"Premium Asian Sald with Grilled Chickenx\"               410\r\n",
      "  \"Bacon Cheddar McChickenx\"                               440\r\n",
      "  \"Chicken McNuggetsx\"                                     470\r\n",
      "  \"Ranch Snack Wrapx\"                                      360\r\n",
      "  \"Small French Friesx\"                                    230\r\n",
      "  \"Premium Bacon Ranch Salad with Crispy Chickenx\"         470\r\n",
      "  \"Baked Mozzarella Sticksx\"                               200  ; \r\n",
      "\r\n",
      "# Max and Min Cost\r\n",
      "param:  N:       Cmin   Cmax    :=\r\n",
      "        Cost     5      10;\r\n",
      "\r\n",
      "\r\n",
      "\r\n",
      "# Amount of nutrient\r\n",
      "\r\n",
      "param a:\r\n",
      "                                                            Cost :=\r\n",
      "  \"Bacon Clubhouse Burgerx\"                                 4.49\r\n",
      "  \"Bacon Clubhouse Grilled Chicken Sandwichx\"               4.00\r\n",
      "  \"Bacon Clubhouse Crispy Chicken Sandwichx\"                4.00\r\n",
      "  \"McChickenx\"                                              4.00\r\n",
      "  \"Buffalo Ranch McChickenx\"                                1.00\r\n",
      "  \"Bacon Buffalo Ranch McChickenx\"                          1.00\r\n",
      "  \"Southern Style Buttermilk Crispy Chicken Sandwichx\"      2.00\r\n",
      "  \"Filet-O-Fishx\"                                           4.79\r\n",
      "  \"McRibx\"                                                  3.79\r\n",
      "  \"Premium McWrap Chicken & Bacon (Crispy)x\"                2.99\r\n",
      "  \"Premium McWrap Chicken & Bacon (Grilled)x\"               3.99\r\n",
      "  \"Premium McWrap Chicken & Ranch (Crispy)x\"                3.99               \r\n",
      "  \"Premium McWrap Chicken & Ranch (Grilled)x\"               3.99\r\n",
      "  \"Premium McWrap Chicken & Sweet Chili (Crispy)x\"          3.99\r\n",
      "  \"Premium McWrap Chicken & Sweet Chili (Grilled)x\"         3.99\r\n",
      "  \"Big Macx\"                                                3.69   \r\n",
      "  \"Quarter Pounder with Cheesex\"                            3.69\r\n",
      "  \"Double Quarter Pounder with Cheesex\"                     1.29  \r\n",
      "  \"Hamburguerx\"                                             1.29\r\n",
      "  \"Cheeseburgerx\"                                           1.00\r\n",
      "  \"BBQ Ranch Burgerx\"                                       1.29\r\n",
      "  \"Grilled Onion Cheddarx\"                                  1.00\r\n",
      "  \"Double Cheeseburgerx\"                                    2.00 \r\n",
      "  \"McDoublex\"                                               2.00\r\n",
      "  \"Bacon McDoublex\"                                         1.99\r\n",
      "  \"Daily Doublex\"                                           1.59\r\n",
      "  \"Ranch Snack Wrap (Crispy)x\"                              1.59\r\n",
      "  \"Ranch Snack Wrap (Grilled)x\"                             1.59\r\n",
      "  \"Mac Snack Wrapx\"                                         2.00\r\n",
      "  \"Jalapenio Doublex\"                                       3.89\r\n",
      "  \"Premium Crispy Chicken Deluxe Sandwichx\"                 3.99\r\n",
      "  \"Quarter Pounder Deluxex\"                                 4.39\r\n",
      "  \"Artisan Grilled Chicken Sandwichx\"                       4.39\r\n",
      "  \"Buttermilk Crispy Chicken Sandwichx\"                     4.19\r\n",
      "  \"Premium Asian Sald with Crispy Chickenx\"                 4.59\r\n",
      "  \"Premium Asian Sald with Grilled Chickenx\"                4.29\r\n",
      "  \"Bacon Cheddar McChickenx\"                                4.59\r\n",
      "  \"Chicken McNuggetsx\"                                      1.69\r\n",
      "  \"Ranch Snack Wrapx\"                                       1.39\r\n",
      "  \"Small French Friesx\"                                     1.39\r\n",
      "  \"Premium Bacon Ranch Salad with Crispy Chickenx\"          4.59\r\n",
      "  \"Baked Mozzarella Sticksx\"                                1.19   ;"
     ]
    }
   ],
   "source": [
    "#Data\n",
    "!cat data1.dat\n",
    "\n",
    "#To show the data we can use !cat (or !type for windows) commands"
   ]
  },
  {
   "cell_type": "markdown",
   "metadata": {},
   "source": [
    "### Solving"
   ]
  },
  {
   "cell_type": "markdown",
   "metadata": {},
   "source": [
    "#### 3. Model"
   ]
  },
  {
   "cell_type": "code",
   "execution_count": 31,
   "metadata": {
    "collapsed": true
   },
   "outputs": [],
   "source": [
    "# Creation of a Concrete Model\n",
    "model = AbstractModel()\n"
   ]
  },
  {
   "cell_type": "markdown",
   "metadata": {},
   "source": [
    "#### 4. Sets"
   ]
  },
  {
   "cell_type": "code",
   "execution_count": 32,
   "metadata": {
    "collapsed": true
   },
   "outputs": [],
   "source": [
    "#DEFINE SETS\n",
    "\n",
    "# Products\n",
    "model.F = Set()\n",
    "# Nutrients\n",
    "model.N = Set()"
   ]
  },
  {
   "cell_type": "markdown",
   "metadata": {},
   "source": [
    "#### 5. Parameters"
   ]
  },
  {
   "cell_type": "code",
   "execution_count": 16,
   "metadata": {
    "collapsed": false
   },
   "outputs": [],
   "source": [
    "# DEFINE PARAMETERS\n",
    "\n",
    "# Calories\n",
    "model.Cal = Param(model.F, within = PositiveReals)\n",
    "\n",
    "# Cost\n",
    "model.a    = Param(model.F, model.N, within = NonNegativeReals)\n",
    "\n",
    "# Max and Min Cost\n",
    "model.Cmin = Param(model.N, within = NonNegativeReals, default = 0.0)\n",
    "model.Cmax = Param(model.N, within = NonNegativeReals, default = infinity)"
   ]
  },
  {
   "cell_type": "markdown",
   "metadata": {},
   "source": [
    "#### 6. Variables"
   ]
  },
  {
   "cell_type": "code",
   "execution_count": 17,
   "metadata": {
    "collapsed": false,
    "scrolled": true
   },
   "outputs": [],
   "source": [
    "# Number of servings\n",
    "model.x = Var(model.F, within = NonNegativeIntegers)\n"
   ]
  },
  {
   "cell_type": "markdown",
   "metadata": {},
   "source": [
    "#### 7. Objective"
   ]
  },
  {
   "cell_type": "code",
   "execution_count": 18,
   "metadata": {
    "collapsed": false,
    "scrolled": true
   },
   "outputs": [],
   "source": [
    "# MAXIMIZE z(calories)\n",
    "def calories(model):\n",
    "    return sum(model.Cal[i] * model.x[i] for i in model.F)\n",
    "model.calories = Objective(rule=calories, sense=maximize)"
   ]
  },
  {
   "cell_type": "markdown",
   "metadata": {},
   "source": [
    "#### 8. Constrains"
   ]
  },
  {
   "cell_type": "code",
   "execution_count": 19,
   "metadata": {
    "collapsed": false,
    "scrolled": true
   },
   "outputs": [],
   "source": [
    "#CONSTRAINS\n",
    "\n",
    "#Max\n",
    "def cost_max(model, j):\n",
    "    value = sum(model.a[i,j] * model.x[i] for i in model.F)\n",
    "    return value <= model.Cmax[j]\n",
    "model.cost_limit_max = Constraint(model.N, rule=cost_max)\n",
    "\n",
    "#Min\n",
    "def cost_min(model, j):\n",
    "    value = sum(model.a[i,j] * model.x[i] for i in model.F)\n",
    "    return model.Cmin[j] <= value \n",
    "model.cost_limit_min = Constraint(model.N, rule=cost_min)"
   ]
  },
  {
   "cell_type": "markdown",
   "metadata": {},
   "source": [
    "#### 9. Solution"
   ]
  },
  {
   "cell_type": "code",
   "execution_count": 34,
   "metadata": {
    "collapsed": false,
    "scrolled": true
   },
   "outputs": [
    {
     "name": "stdout",
     "output_type": "stream",
     "text": [
      "from pyomo.environ import *\r\n",
      "infinity = float('inf')\r\n",
      "\r\n",
      "# Creation of a Concrete Model\r\n",
      "model = AbstractModel()\r\n",
      "\r\n",
      "#DEFINE SETS\r\n",
      "# Products\r\n",
      "model.F = Set()\r\n",
      "# Nutrients\r\n",
      "model.N = Set()\r\n",
      "\r\n",
      "# DEFINE PARAMETERS\r\n",
      "\r\n",
      "# Calories\r\n",
      "model.Cal = Param(model.F, within = PositiveReals)\r\n",
      "\r\n",
      "# Cost\r\n",
      "model.a    = Param(model.F, model.N, within = NonNegativeReals)\r\n",
      "\r\n",
      "# Max and Min Cost\r\n",
      "model.Cmin = Param(model.N, within = NonNegativeReals, default = 0.0)\r\n",
      "model.Cmax = Param(model.N, within = NonNegativeReals, default = infinity)\r\n",
      "\r\n",
      "# Number of servings\r\n",
      "model.x = Var(model.F, within = NonNegativeIntegers)\r\n",
      "\r\n",
      "# MAXIMIZE z(calories)\r\n",
      "def calories(model):\r\n",
      "    return sum(model.Cal[i] * model.x[i] for i in model.F)\r\n",
      "model.calories = Objective(rule=calories, sense=maximize)\r\n",
      "\r\n",
      "\r\n",
      "#CONSTRAINS\r\n",
      "\r\n",
      "#Max\r\n",
      "def cost_max(model, j):\r\n",
      "    value = sum(model.a[i,j] * model.x[i] for i in model.F)\r\n",
      "    return value <= model.Cmax[j]\r\n",
      "model.cost_limit_max = Constraint(model.N, rule=cost_max)\r\n",
      "\r\n",
      "#Min\r\n",
      "def cost_min(model, j):\r\n",
      "    value = sum(model.a[i,j] * model.x[i] for i in model.F)\r\n",
      "    return model.Cmin[j] <= value \r\n",
      "model.cost_limit_min = Constraint(model.N, rule=cost_min)"
     ]
    }
   ],
   "source": [
    "!cat code1.py"
   ]
  },
  {
   "cell_type": "code",
   "execution_count": 35,
   "metadata": {
    "collapsed": false
   },
   "outputs": [
    {
     "name": "stdout",
     "output_type": "stream",
     "text": [
      "[    0.00] Setting up Pyomo environment\n",
      "[    0.00] Applying Pyomo preprocessing actions\n",
      "[    0.00] Creating model\n",
      "[    0.02] Applying solver\n",
      "[    0.04] Processing results\n",
      "    Number of solutions: 1\n",
      "    Solution Information\n",
      "      Gap: 0.0\n",
      "      Status: optimal\n",
      "      Function Value: 5560.0\n",
      "    Solver results file: results.yml\n",
      "[    0.05] Applying Pyomo postprocessing actions\n",
      "[    0.05] Pyomo Finished\n"
     ]
    }
   ],
   "source": [
    "#Get our Solution:\n",
    "\n",
    "!pyomo solve --solver=glpk code1.py data1.dat"
   ]
  },
  {
   "cell_type": "markdown",
   "metadata": {},
   "source": [
    "#### 10. Results"
   ]
  },
  {
   "cell_type": "code",
   "execution_count": 36,
   "metadata": {
    "collapsed": false
   },
   "outputs": [
    {
     "name": "stdout",
     "output_type": "stream",
     "text": [
      "# ==========================================================\r\n",
      "# = Solver Results                                         =\r\n",
      "# ==========================================================\r\n",
      "# ----------------------------------------------------------\r\n",
      "#   Problem Information\r\n",
      "# ----------------------------------------------------------\r\n",
      "Problem: \r\n",
      "- Name: unknown\r\n",
      "  Lower bound: 5560.0\r\n",
      "  Upper bound: 5560.0\r\n",
      "  Number of objectives: 1\r\n",
      "  Number of constraints: 3\r\n",
      "  Number of variables: 43\r\n",
      "  Number of nonzeros: 85\r\n",
      "  Sense: maximize\r\n",
      "# ----------------------------------------------------------\r\n",
      "#   Solver Information\r\n",
      "# ----------------------------------------------------------\r\n",
      "Solver: \r\n",
      "- Status: ok\r\n",
      "  Termination condition: optimal\r\n",
      "  Statistics: \r\n",
      "    Branch and bound: \r\n",
      "      Number of bounded subproblems: 23\r\n",
      "      Number of created subproblems: 23\r\n",
      "  Error rc: 0\r\n",
      "  Time: 0.00930476188659668\r\n",
      "# ----------------------------------------------------------\r\n",
      "#   Solution Information\r\n",
      "# ----------------------------------------------------------\r\n",
      "Solution: \r\n",
      "- number of solutions: 1\r\n",
      "  number of solutions displayed: 1\r\n",
      "- Gap: 0.0\r\n",
      "  Status: optimal\r\n",
      "  Message: None\r\n",
      "  Objective:\r\n",
      "    calories:\r\n",
      "      Value: 5560\r\n",
      "  Variable:\r\n",
      "    x[Hamburguerx]:\r\n",
      "      Value: 6\r\n",
      "    x[Bacon Buffalo Ranch McChickenx]:\r\n",
      "      Value: 2\r\n",
      "  Constraint: No values\r\n"
     ]
    }
   ],
   "source": [
    "#Results\n",
    "!cat results.yml"
   ]
  },
  {
   "cell_type": "markdown",
   "metadata": {},
   "source": [
    "##### Results"
   ]
  },
  {
   "cell_type": "markdown",
   "metadata": {},
   "source": [
    "- Bacon Buffalo Ranch McChickenx = 1€\n",
    "- Hamburguerx = 1.29€"
   ]
  }
 ],
 "metadata": {
  "kernelspec": {
   "display_name": "Python 3",
   "language": "python",
   "name": "python3"
  },
  "language_info": {
   "codemirror_mode": {
    "name": "ipython",
    "version": 3
   },
   "file_extension": ".py",
   "mimetype": "text/x-python",
   "name": "python",
   "nbconvert_exporter": "python",
   "pygments_lexer": "ipython3",
   "version": "3.5.1"
  }
 },
 "nbformat": 4,
 "nbformat_minor": 0
}
