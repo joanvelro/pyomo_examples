{
 "cells": [
  {
   "cell_type": "code",
   "execution_count": 10,
   "metadata": {},
   "outputs": [],
   "source": [
    "from __future__ import division\n",
    "from pyomo.environ import *"
   ]
  },
  {
   "cell_type": "markdown",
   "metadata": {},
   "source": [
    "# 9. Constraints"
   ]
  },
  {
   "cell_type": "markdown",
   "metadata": {},
   "source": [
    "Most constraints are specified using equality or inequality expressions that are created using a rule, which is a Python function. For example, if the variable <span style=\"color:darkblue; font-family:Courier\">model.x</span> has the indexes <span style=\"color:darkblue\">*butter*</span> and <span style=\"color:darkblue\">*scones*</span>, then this constraint limits the sum for them to be exactly three:"
   ]
  },
  {
   "cell_type": "code",
   "execution_count": 11,
   "metadata": {},
   "outputs": [],
   "source": [
    "model = AbstractModel()\n",
    "def teaOKrule(model):\n",
    "    return(model.x['butter'] + model.x['scones'] == 3)\n",
    "model.TeaConst = Constraint( rule=teaOKrule)"
   ]
  },
  {
   "cell_type": "markdown",
   "metadata": {},
   "source": [
    "Instead of expressions involving equality (==) or inequalities (<= or >=), constraints can also be expressed using a 3-tuple if the form (lb, expr, ub) where lb and ub can be <span style=\"color:darkblue; font-family:Courier\">None</span>, which is interpreted as lb <= expr <= ub. Variables can appear only in the middle expr. For example, the following two constraint declarations have the same meaning:"
   ]
  },
  {
   "cell_type": "code",
   "execution_count": 13,
   "metadata": {},
   "outputs": [
    {
     "name": "stdout",
     "output_type": "stream",
     "text": [
      "WARNING: Implicitly replacing the Component attribute x (type=<class\n",
      "    'pyomo.core.base.var.SimpleVar'>) on block unknown with a new Component\n",
      "    (type=<class 'pyomo.core.base.var.SimpleVar'>). This is usually indicative\n",
      "    of a modelling error. To avoid this warning, use block.del_component() and\n",
      "    block.add_component().\n"
     ]
    }
   ],
   "source": [
    "model.x = Var()\n",
    "\n",
    "def aRule(model):\n",
    "   return model.x >= 2\n",
    "Boundx = Constraint(rule=aRule)\n",
    "\n",
    "def bRule(model):\n",
    "   return (2, model.x, None)\n",
    "Boundx = Constraint(rule=bRule)"
   ]
  },
  {
   "cell_type": "markdown",
   "metadata": {},
   "source": [
    "For this simple example, it would also be possible to declare <span style=\"color:darkblue; font-family:Courier\">model.x</span> with a <span style=\"color:darkblue; font-family:Courier\">bound</span> option to accomplish the same thing.\n",
    "\n",
    "Constraints (and objectives) can be indexed by lists or sets. When the declaration contains lists or sets as arguments, the elements are iteratively passed to the rule function. If there is more than one, then the cross product is sent. For example the following constraint could be interpreted as placing a budget of $i$ on the $i th$ item to buy where the cost per item is given by the parameter <span style=\"color:darkblue; font-family:Courier\">model.a</span>:"
   ]
  },
  {
   "cell_type": "code",
   "execution_count": 18,
   "metadata": {},
   "outputs": [
    {
     "name": "stdout",
     "output_type": "stream",
     "text": [
      "WARNING: Implicitly replacing the Component attribute A (type=<class\n",
      "    'pyomo.core.base.rangeset.RangeSet'>) on block unknown with a new\n",
      "    Component (type=<class 'pyomo.core.base.rangeset.RangeSet'>). This is\n",
      "    usually indicative of a modelling error. To avoid this warning, use\n",
      "    block.del_component() and block.add_component().\n",
      "WARNING: Implicitly replacing the Component attribute a (type=<class\n",
      "    'pyomo.core.base.param.IndexedParam'>) on block unknown with a new\n",
      "    Component (type=<class 'pyomo.core.base.param.IndexedParam'>). This is\n",
      "    usually indicative of a modelling error. To avoid this warning, use\n",
      "    block.del_component() and block.add_component().\n",
      "WARNING: Implicitly replacing the Component attribute ToBuy (type=<class\n",
      "    'pyomo.core.base.var.IndexedVar'>) on block unknown with a new Component\n",
      "    (type=<class 'pyomo.core.base.var.IndexedVar'>). This is usually\n",
      "    indicative of a modelling error. To avoid this warning, use\n",
      "    block.del_component() and block.add_component().\n"
     ]
    }
   ],
   "source": [
    "model.A = RangeSet(1,10)\n",
    "model.a = Param(model.A, within='PostiveReals')\n",
    "model.ToBuy = Var(model.A)\n",
    "def bud_rule(model, i):\n",
    "    return model.a[i]*model.ToBuy[i] <= i\n",
    "aBudget = Constraint(model.A)"
   ]
  },
  {
   "cell_type": "markdown",
   "metadata": {},
   "source": [
    ">#####Note:\n",
    ">Python and Pyomo are case sensitive so <span style=\"color:darkblue; font-family:Courier\">model.a</span> is not the same as <span style=\"color:darkblue; font-family:Courier\">model.A</span>."
   ]
  }
 ],
 "metadata": {
  "kernelspec": {
   "display_name": "Python 3",
   "language": "python",
   "name": "python3"
  },
  "language_info": {
   "codemirror_mode": {
    "name": "ipython",
    "version": 3
   },
   "file_extension": ".py",
   "mimetype": "text/x-python",
   "name": "python",
   "nbconvert_exporter": "python",
   "pygments_lexer": "ipython3",
   "version": "3.6.4"
  }
 },
 "nbformat": 4,
 "nbformat_minor": 1
}
