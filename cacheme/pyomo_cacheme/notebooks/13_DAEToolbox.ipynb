{
 "cells": [
  {
   "cell_type": "markdown",
   "metadata": {},
   "source": [
    "#13. DAE Toolbox"
   ]
  },
  {
   "cell_type": "markdown",
   "metadata": {},
   "source": [
    "The DAE toolbox allows users to incorporate differential equations in a Pyomo model. The modeling components in this toolbox are able to represent ordinary or partial differential equations. The differential equations do not have to be written in a particular format and the components are flexible enough to represent higher-order derivatives or mixed partial derivatives. The toolbox also includes model transformations which use a simultaneous discretization approach for transforming a DAE model into an algebraic model.\n",
    "\n",
    "###16.1. DAE Modeling Components\n",
    "The DAE toolbox introduces three new modeling components to Pyomo:\n",
    "\n",
    "- <span style=\"color:darkblue\">ContinuousSet</span>\n",
    "Used to represent bounded continuous domains\n",
    "\n",
    "- <span style=\"color:darkblue\">DerivativeVar</span>\n",
    "Defines how a <span style=\"color:darkblue; font-family:Courier\">Var</span> will be differentiated or the derivatives to be included in the model\n",
    "\n",
    "- <span style=\"color:darkblue\">Integral</span>\n",
    "Defines an integral over a continous domain\n",
    "\n",
    "As will be shown later, differential equations can be declared using using these new DAE modeling components along with the standard Pyomo <span style=\"color:darkblue; font-family:Courier\">Var</span> and <span style=\"color:darkblue; font-family:Courier\">Constraint</span> components.\n",
    "\n",
    "#####16.1.1. ContinuousSet\n",
    "\n",
    "This component is used to define continuous bounded domains (for example <span style=\"color:darkblue\">*spatial*</span> or <span style=\"color:darkblue\">*time*</span> domains). It is similar to a Pyomo <span style=\"color:darkblue; font-family:Courier\">Set</span> component and can be used to index things like variables and constraints. In the current implementation, models with <span style=\"color:darkblue; font-family:Courier\">ContinuousSet</span> components may not be solved until every <span style=\"color:darkblue; font-family:Courier\">ContinuousSet</span> has been discretized. Minimally, a <span style=\"color:darkblue; font-family:Courier\">ContinuousSet</span> must be initialized with two numeric values representing the upper and lower bounds of the continuous domain. A user may also specify additional points in the domain to be used as finite element points in the discretization.\n",
    "\n",
    "The following code snippet shows examples of declaring a <span style=\"color:darkblue; font-family:Courier\">ContinuousSet</span> component on a concrete Pyomo model:\n",
    "\n"
   ]
  },
  {
   "cell_type": "code",
   "execution_count": 1,
   "metadata": {
    "collapsed": true
   },
   "outputs": [],
   "source": [
    "# Required imports\n",
    "from pyomo.environ import *\n",
    "from pyomo.dae import *\n",
    "\n",
    "model = ConcreteModel()\n",
    "\n",
    "# declare by providing bounds\n",
    "model.t = ContinuousSet(bounds=(0,5))\n",
    "\n",
    "# declare by initializing with desired discretization points\n",
    "model.x = ContinuousSet(initialize=[0,1,2,5])"
   ]
  },
  {
   "cell_type": "markdown",
   "metadata": {},
   "source": [
    "The following code snippet shows an example of declaring a <span style=\"color:darkblue; font-family:Courier\">ContinuousSet</span> component on an abstract Pyomo model using the example data file."
   ]
  },
  {
   "cell_type": "code",
   "execution_count": 2,
   "metadata": {
    "collapsed": false
   },
   "outputs": [
    {
     "ename": "SyntaxError",
     "evalue": "invalid syntax (<ipython-input-2-0db11cd07591>, line 1)",
     "output_type": "error",
     "traceback": [
      "\u001b[0;36m  File \u001b[0;32m\"<ipython-input-2-0db11cd07591>\"\u001b[0;36m, line \u001b[0;32m1\u001b[0m\n\u001b[0;31m    set t := 0 0.5 2.25 3.75 5;\u001b[0m\n\u001b[0m        ^\u001b[0m\n\u001b[0;31mSyntaxError\u001b[0m\u001b[0;31m:\u001b[0m invalid syntax\n"
     ]
    }
   ],
   "source": [
    "set t := 0 0.5 2.25 3.75 5;"
   ]
  },
  {
   "cell_type": "code",
   "execution_count": 3,
   "metadata": {
    "collapsed": true
   },
   "outputs": [],
   "source": [
    "# Required imports\n",
    "from pyomo.environ import *\n",
    "from pyomo.dae import *\n",
    "\n",
    "model = AbstractModel()\n",
    "\n",
    "# The ContinuousSet below will be initialized using the points\n",
    "# in the data file when a model instance is created.\n",
    "model.t = ContinuousSet()"
   ]
  },
  {
   "cell_type": "markdown",
   "metadata": {},
   "source": [
    "\n",
    ">#####Note\n",
    ">A <span style=\"color:darkblue; font-family:Courier\">ContinuousSet</span> may not be constructed unless two numeric bounding points are provided.\n",
    " \n",
    "\n",
    ">#####Note\n",
    ">If a separate data file is used to initialize a <span style=\"color:darkblue; font-family:Courier\">ContinuousSet</span>, it is done using the <span style=\"color:darkblue\">*set*</span> command and not <span style=\"color:darkblue\">*continuousset*</span>\n",
    "\n",
    "Most valid ways to declare and initialize a <span style=\"color:darkblue; font-family:Courier\">Set</span> can be used to declare and initialize a <span style=\"color:darkblue; font-family:Courier\">ContinuousSet</span>. See the documentation for <span style=\"color:darkblue; font-family:Courier\">Set</span> for additional options.\n",
    "\n",
    ">#####Warning\n",
    ">Be careful using a ContinuousSet as an implicit index in an expression, i.e. sum(m.v[i] for i in m.myContinuousSet). The expression will be generated using the discretization points contained in the ContinuousSet at the time the expression was constructed and will not be updated if additional points are added to the set.\n",
    "\n",
    "###Summary of non-dict <span style=\"color:darkblue; font-family:Courier\">ContinuousSet</span> methods\n",
    "#####get_finite_elements()\n",
    "If the ContinuousSet has been discretizaed using a collocation scheme, this method will return a list of the finite element discretization points but not the collocation points over each finite element. Otherwise this method returns a list of all the discretization points in the ContinuousSet.\n",
    "\n",
    "#####get_discretization_info()\n",
    "Returns a dictionary containing information on the discretization scheme that has been applied to the ContinuousSet.\n",
    "\n",
    "#####get_changed()\n",
    "Returns \"True\" if additional points were added to the ContinousSet while applying a discretization scheme\n",
    "\n",
    "#####get_upper_element_boundary(value)\n",
    "Returns the first finite element point that is greater than or equal to the value sent to the function.\n",
    "\n",
    "#####get_lower_element_boundary(value)\n",
    "Returns the first finite element point that is less than or equal to the value sent to the function.\n",
    "\n",
    "####13.1.2. DerivativeVar\n",
    "\n",
    "The <span style=\"color:darkblue; font-family:Courier\">DerivativeVar</span> component is used to declare a derivative of a <span style=\"color:darkblue; font-family:Courier\">Var</span>. A <span style=\"color:darkblue; font-family:Courier\">Var</span> may only be differentiated with respect to a <span style=\"color:darkblue; font-family:Courier\">ContinuousSet</span> that it is indexed by. The indexing sets of a <span style=\"color:darkblue; font-family:Courier\">DerivativeVar</span> are identical to those of the <span style=\"color:darkblue; font-family:Courier\">Var</span> it is differentiating.\n",
    "\n",
    "The code snippet below shows examples of declaring <span style=\"color:darkblue; font-family:Courier\">DerivativeVar</span> components on a Pyomo model. In each case, the variable being differentiated is supplied as the only positional argument and the type of derivative is specified using the <span style=\"color:darkblue\">*wrt*</span> (or the more verbose <span style=\"color:darkblue\">*withrespectto*</span>) keyword argument. Any keyword argument that is valid for a Pyomo <span style=\"color:darkblue; font-family:Courier\">Var</span> component may also be specified."
   ]
  },
  {
   "cell_type": "code",
   "execution_count": 4,
   "metadata": {
    "collapsed": false
   },
   "outputs": [
    {
     "ename": "AttributeError",
     "evalue": "'dict' object has no attribute 'has_key'",
     "output_type": "error",
     "traceback": [
      "\u001b[0;31m---------------------------------------------------------------------------\u001b[0m",
      "\u001b[0;31mAttributeError\u001b[0m                            Traceback (most recent call last)",
      "\u001b[0;32m<ipython-input-4-954b3ff85011>\u001b[0m in \u001b[0;36m<module>\u001b[0;34m()\u001b[0m\n\u001b[1;32m     13\u001b[0m \u001b[0;34m\u001b[0m\u001b[0m\n\u001b[1;32m     14\u001b[0m \u001b[0;31m# Declare the first derivative of model.x with respect to model.t\u001b[0m\u001b[0;34m\u001b[0m\u001b[0;34m\u001b[0m\u001b[0m\n\u001b[0;32m---> 15\u001b[0;31m \u001b[0mmodel\u001b[0m\u001b[0;34m.\u001b[0m\u001b[0mdxdt\u001b[0m \u001b[0;34m=\u001b[0m \u001b[0mDerivativeVar\u001b[0m\u001b[0;34m(\u001b[0m\u001b[0mmodel\u001b[0m\u001b[0;34m.\u001b[0m\u001b[0mx\u001b[0m\u001b[0;34m,\u001b[0m \u001b[0mwithrespectto\u001b[0m\u001b[0;34m=\u001b[0m\u001b[0mmodel\u001b[0m\u001b[0;34m.\u001b[0m\u001b[0mt\u001b[0m\u001b[0;34m)\u001b[0m\u001b[0;34m\u001b[0m\u001b[0m\n\u001b[0m\u001b[1;32m     16\u001b[0m \u001b[0;34m\u001b[0m\u001b[0m\n\u001b[1;32m     17\u001b[0m \u001b[0;31m# Declare the second derivative of model.y with respect to model.t\u001b[0m\u001b[0;34m\u001b[0m\u001b[0;34m\u001b[0m\u001b[0m\n",
      "\u001b[0;32m/Users/rhart/src/pyomo/src/pyomo/pyomo/dae/diffvar.py\u001b[0m in \u001b[0;36m__init__\u001b[0;34m(self, sVar, **kwds)\u001b[0m\n\u001b[1;32m    182\u001b[0m             \u001b[0mwrt\u001b[0m \u001b[0;34m=\u001b[0m \u001b[0;34m[\u001b[0m\u001b[0msVar\u001b[0m\u001b[0;34m.\u001b[0m\u001b[0m_contset\u001b[0m\u001b[0;34m.\u001b[0m\u001b[0mkeys\u001b[0m\u001b[0;34m(\u001b[0m\u001b[0;34m)\u001b[0m\u001b[0;34m[\u001b[0m\u001b[0;36m0\u001b[0m\u001b[0;34m]\u001b[0m\u001b[0;34m,\u001b[0m\u001b[0;34m]\u001b[0m\u001b[0;34m\u001b[0m\u001b[0m\n\u001b[1;32m    183\u001b[0m         \u001b[0;32melif\u001b[0m \u001b[0mtype\u001b[0m\u001b[0;34m(\u001b[0m\u001b[0mwrt\u001b[0m\u001b[0;34m)\u001b[0m \u001b[0;32mis\u001b[0m \u001b[0mContinuousSet\u001b[0m\u001b[0;34m:\u001b[0m\u001b[0;34m\u001b[0m\u001b[0m\n\u001b[0;32m--> 184\u001b[0;31m             \u001b[0;32mif\u001b[0m \u001b[0;32mnot\u001b[0m \u001b[0msVar\u001b[0m\u001b[0;34m.\u001b[0m\u001b[0m_contset\u001b[0m\u001b[0;34m.\u001b[0m\u001b[0mhas_key\u001b[0m\u001b[0;34m(\u001b[0m\u001b[0mwrt\u001b[0m\u001b[0;34m)\u001b[0m\u001b[0;34m:\u001b[0m\u001b[0;34m\u001b[0m\u001b[0m\n\u001b[0m\u001b[1;32m    185\u001b[0m                 raise DAE_Error(\n\u001b[1;32m    186\u001b[0m                     \u001b[0;34m\"Invalid derivative: The variable %s is not indexed by \"\u001b[0m\u001b[0;34m\u001b[0m\u001b[0m\n",
      "\u001b[0;31mAttributeError\u001b[0m: 'dict' object has no attribute 'has_key'"
     ]
    }
   ],
   "source": [
    "# Required imports\n",
    "from pyomo.environ import *\n",
    "from pyomo.dae import *\n",
    "\n",
    "model = ConcreteModel()\n",
    "model.s = Set(initialize=['a','b'])\n",
    "model.t = ContinuousSet(bounds=(0,5))\n",
    "model.l = ContinuousSet(bounds=(-10,10))\n",
    "\n",
    "model.x = Var(model.t)\n",
    "model.y = Var(model.s,model.t)\n",
    "model.z = Var(model.t,model.l)\n",
    "\n",
    "# Declare the first derivative of model.x with respect to model.t\n",
    "model.dxdt = DerivativeVar(model.x, withrespectto=model.t)\n",
    "\n",
    "# Declare the second derivative of model.y with respect to model.t\n",
    "# Note that this DerivativeVar will be indexed by both model.s and model.t\n",
    "model.dydt2 = DerivativeVar(model.y, wrt=(model.t,model.t))\n",
    "\n",
    "# Declare the partial derivative of model.z with respect to model.l\n",
    "# Note that this DerivativeVar will be indexed by both model.t and model.l\n",
    "model.dzdl = DerivativeVar(model.z, wrt=(model.l), initialize=0)\n",
    "\n",
    "# Declare the mixed second order partial derivative of model.z with respect\n",
    "# to model.t and model.l and set bounds\n",
    "model.dz2 = DerivativeVar(model.z, wrt=(model.t, model.l), bounds=(-10,10))"
   ]
  },
  {
   "cell_type": "markdown",
   "metadata": {},
   "source": [
    "\n",
    ">#####Note\n",
    ">The <span style=\"color:darkblue\">*initialize*</span> keyword argument will initialize the value of a derivative and is not the same as specifying an initial condition. Initial or boundary conditions should be specified using a <span style=\"color:darkblue; font-family:Courier\">Constraint</span> or <span style=\"color:darkblue; font-family:Courier\">ConstraintList</span>.\n",
    "\n",
    "Another way to use derivatives without explicitly declaring <span style=\"color:darkblue; font-family:Courier\">DerivativeVar</span> components is to use the .derivative() method on a variable within an expression or constraint. For example:"
   ]
  },
  {
   "cell_type": "code",
   "execution_count": 5,
   "metadata": {
    "collapsed": false
   },
   "outputs": [
    {
     "name": "stderr",
     "output_type": "stream",
     "text": [
      "ERROR:pyomo.core:Rule failed when generating expression for constraint diffeq with index 0:\n",
      "AttributeError: 'dict' object has no attribute 'has_key'\n",
      "ERROR:pyomo.core:Constructing component 'diffeq' from data=None failed:\n",
      "AttributeError: 'dict' object has no attribute 'has_key'\n"
     ]
    },
    {
     "name": "stdout",
     "output_type": "stream",
     "text": [
      "ERROR: Rule failed when generating expression for constraint diffeq with index 0:\n",
      "\tAttributeError: 'dict' object has no attribute 'has_key'\n",
      "ERROR: Constructing component 'diffeq' from data=None failed:\n",
      "\tAttributeError: 'dict' object has no attribute 'has_key'\n"
     ]
    },
    {
     "ename": "AttributeError",
     "evalue": "'dict' object has no attribute 'has_key'",
     "output_type": "error",
     "traceback": [
      "\u001b[0;31m---------------------------------------------------------------------------\u001b[0m",
      "\u001b[0;31mKeyError\u001b[0m                                  Traceback (most recent call last)",
      "\u001b[0;32m/Users/rhart/src/pyomo/src/pyomo/pyomo/dae/diffvar.py\u001b[0m in \u001b[0;36mderivative\u001b[0;34m(self, *args)\u001b[0m\n\u001b[1;32m     68\u001b[0m     \u001b[0;32mtry\u001b[0m\u001b[0;34m:\u001b[0m\u001b[0;34m\u001b[0m\u001b[0m\n\u001b[0;32m---> 69\u001b[0;31m         \u001b[0mderiv\u001b[0m \u001b[0;34m=\u001b[0m \u001b[0mself\u001b[0m\u001b[0;34m.\u001b[0m\u001b[0mmodel\u001b[0m\u001b[0;34m(\u001b[0m\u001b[0;34m)\u001b[0m\u001b[0;34m.\u001b[0m\u001b[0mfind_component\u001b[0m\u001b[0;34m(\u001b[0m\u001b[0msvar\u001b[0m\u001b[0;34m.\u001b[0m\u001b[0mget_derivative\u001b[0m\u001b[0;34m(\u001b[0m\u001b[0;34m*\u001b[0m\u001b[0margs\u001b[0m\u001b[0;34m)\u001b[0m\u001b[0;34m)\u001b[0m\u001b[0;34m\u001b[0m\u001b[0m\n\u001b[0m\u001b[1;32m     70\u001b[0m     \u001b[0;32mexcept\u001b[0m\u001b[0;34m:\u001b[0m\u001b[0;34m\u001b[0m\u001b[0m\n",
      "\u001b[0;32m/Users/rhart/src/pyomo/src/pyomo/pyomo/dae/diffvar.py\u001b[0m in \u001b[0;36mget_derivative\u001b[0;34m(self, *args)\u001b[0m\n\u001b[1;32m     96\u001b[0m             \u001b[0mkey\u001b[0m \u001b[0;34m=\u001b[0m \u001b[0mtuple\u001b[0m\u001b[0;34m(\u001b[0m\u001b[0mkey\u001b[0m\u001b[0;34m)\u001b[0m\u001b[0;34m\u001b[0m\u001b[0m\n\u001b[0;32m---> 97\u001b[0;31m             \u001b[0;32mreturn\u001b[0m \u001b[0mself\u001b[0m\u001b[0;34m.\u001b[0m\u001b[0m_derivative\u001b[0m\u001b[0;34m[\u001b[0m\u001b[0mkey\u001b[0m\u001b[0;34m]\u001b[0m\u001b[0;34m(\u001b[0m\u001b[0;34m)\u001b[0m\u001b[0;34m\u001b[0m\u001b[0m\n\u001b[0m\u001b[1;32m     98\u001b[0m     \u001b[0;32mexcept\u001b[0m \u001b[0mAttributeError\u001b[0m\u001b[0;34m:\u001b[0m\u001b[0;34m\u001b[0m\u001b[0m\n",
      "\u001b[0;31mKeyError\u001b[0m: ('t',)",
      "\nDuring handling of the above exception, another exception occurred:\n",
      "\u001b[0;31mAttributeError\u001b[0m                            Traceback (most recent call last)",
      "\u001b[0;32m<ipython-input-5-9715681b0c4d>\u001b[0m in \u001b[0;36m<module>\u001b[0;34m()\u001b[0m\n\u001b[1;32m     11\u001b[0m \u001b[0;32mdef\u001b[0m \u001b[0m_diffeq_rule\u001b[0m\u001b[0;34m(\u001b[0m\u001b[0mm\u001b[0m\u001b[0;34m,\u001b[0m\u001b[0mi\u001b[0m\u001b[0;34m)\u001b[0m\u001b[0;34m:\u001b[0m\u001b[0;34m\u001b[0m\u001b[0m\n\u001b[1;32m     12\u001b[0m     \u001b[0;32mreturn\u001b[0m \u001b[0mm\u001b[0m\u001b[0;34m.\u001b[0m\u001b[0mx\u001b[0m\u001b[0;34m[\u001b[0m\u001b[0mi\u001b[0m\u001b[0;34m]\u001b[0m\u001b[0;34m.\u001b[0m\u001b[0mderivative\u001b[0m\u001b[0;34m(\u001b[0m\u001b[0mm\u001b[0m\u001b[0;34m.\u001b[0m\u001b[0mt\u001b[0m\u001b[0;34m)\u001b[0m \u001b[0;34m==\u001b[0m \u001b[0mm\u001b[0m\u001b[0;34m.\u001b[0m\u001b[0mx\u001b[0m\u001b[0;34m[\u001b[0m\u001b[0mi\u001b[0m\u001b[0;34m]\u001b[0m\u001b[0;34m**\u001b[0m\u001b[0;36m2\u001b[0m\u001b[0;34m\u001b[0m\u001b[0m\n\u001b[0;32m---> 13\u001b[0;31m \u001b[0mmodel\u001b[0m\u001b[0;34m.\u001b[0m\u001b[0mdiffeq\u001b[0m \u001b[0;34m=\u001b[0m \u001b[0mConstraint\u001b[0m\u001b[0;34m(\u001b[0m\u001b[0mmodel\u001b[0m\u001b[0;34m.\u001b[0m\u001b[0mt\u001b[0m\u001b[0;34m,\u001b[0m\u001b[0mrule\u001b[0m\u001b[0;34m=\u001b[0m\u001b[0m_diffeq_rule\u001b[0m\u001b[0;34m)\u001b[0m\u001b[0;34m\u001b[0m\u001b[0m\n\u001b[0m",
      "\u001b[0;32m/Users/rhart/src/pyomo/src/pyomo/pyomo/core/base/block.py\u001b[0m in \u001b[0;36m__setattr__\u001b[0;34m(self, name, val)\u001b[0m\n\u001b[1;32m    442\u001b[0m                 \u001b[0;31m# Pyomo components are added with the add_component method.\u001b[0m\u001b[0;34m\u001b[0m\u001b[0;34m\u001b[0m\u001b[0m\n\u001b[1;32m    443\u001b[0m                 \u001b[0;31m#\u001b[0m\u001b[0;34m\u001b[0m\u001b[0;34m\u001b[0m\u001b[0m\n\u001b[0;32m--> 444\u001b[0;31m                 \u001b[0mself\u001b[0m\u001b[0;34m.\u001b[0m\u001b[0madd_component\u001b[0m\u001b[0;34m(\u001b[0m\u001b[0mname\u001b[0m\u001b[0;34m,\u001b[0m \u001b[0mval\u001b[0m\u001b[0;34m)\u001b[0m\u001b[0;34m\u001b[0m\u001b[0m\n\u001b[0m\u001b[1;32m    445\u001b[0m             \u001b[0;32melse\u001b[0m\u001b[0;34m:\u001b[0m\u001b[0;34m\u001b[0m\u001b[0m\n\u001b[1;32m    446\u001b[0m                 \u001b[0;31m#\u001b[0m\u001b[0;34m\u001b[0m\u001b[0;34m\u001b[0m\u001b[0m\n",
      "\u001b[0;32m/Users/rhart/src/pyomo/src/pyomo/pyomo/core/base/block.py\u001b[0m in \u001b[0;36madd_component\u001b[0;34m(self, name, val)\u001b[0m\n\u001b[1;32m    774\u001b[0m                               _blockName, str(data) )\n\u001b[1;32m    775\u001b[0m             \u001b[0;32mtry\u001b[0m\u001b[0;34m:\u001b[0m\u001b[0;34m\u001b[0m\u001b[0m\n\u001b[0;32m--> 776\u001b[0;31m                 \u001b[0mval\u001b[0m\u001b[0;34m.\u001b[0m\u001b[0mconstruct\u001b[0m\u001b[0;34m(\u001b[0m\u001b[0mdata\u001b[0m\u001b[0;34m)\u001b[0m\u001b[0;34m\u001b[0m\u001b[0m\n\u001b[0m\u001b[1;32m    777\u001b[0m             \u001b[0;32mexcept\u001b[0m\u001b[0;34m:\u001b[0m\u001b[0;34m\u001b[0m\u001b[0m\n\u001b[1;32m    778\u001b[0m                 \u001b[0merr\u001b[0m \u001b[0;34m=\u001b[0m \u001b[0msys\u001b[0m\u001b[0;34m.\u001b[0m\u001b[0mexc_info\u001b[0m\u001b[0;34m(\u001b[0m\u001b[0;34m)\u001b[0m\u001b[0;34m[\u001b[0m\u001b[0;36m1\u001b[0m\u001b[0;34m]\u001b[0m\u001b[0;34m\u001b[0m\u001b[0m\n",
      "\u001b[0;32m/Users/rhart/src/pyomo/src/pyomo/pyomo/core/base/constraint.py\u001b[0m in \u001b[0;36mconstruct\u001b[0;34m(self, data)\u001b[0m\n\u001b[1;32m    341\u001b[0m             \u001b[0;32mfor\u001b[0m \u001b[0mval\u001b[0m \u001b[0;32min\u001b[0m \u001b[0mself\u001b[0m\u001b[0;34m.\u001b[0m\u001b[0m_index\u001b[0m\u001b[0;34m:\u001b[0m\u001b[0;34m\u001b[0m\u001b[0m\n\u001b[1;32m    342\u001b[0m                 \u001b[0;32mtry\u001b[0m\u001b[0;34m:\u001b[0m\u001b[0;34m\u001b[0m\u001b[0m\n\u001b[0;32m--> 343\u001b[0;31m                     \u001b[0mtmp\u001b[0m \u001b[0;34m=\u001b[0m \u001b[0mapply_indexed_rule\u001b[0m\u001b[0;34m(\u001b[0m\u001b[0mself\u001b[0m\u001b[0;34m,\u001b[0m \u001b[0m_self_rule\u001b[0m\u001b[0;34m,\u001b[0m \u001b[0m_self_parent\u001b[0m\u001b[0;34m,\u001b[0m \u001b[0mval\u001b[0m\u001b[0;34m)\u001b[0m\u001b[0;34m\u001b[0m\u001b[0m\n\u001b[0m\u001b[1;32m    344\u001b[0m                 \u001b[0;32mexcept\u001b[0m \u001b[0mException\u001b[0m\u001b[0;34m:\u001b[0m\u001b[0;34m\u001b[0m\u001b[0m\n\u001b[1;32m    345\u001b[0m                     \u001b[0merr\u001b[0m \u001b[0;34m=\u001b[0m \u001b[0msys\u001b[0m\u001b[0;34m.\u001b[0m\u001b[0mexc_info\u001b[0m\u001b[0;34m(\u001b[0m\u001b[0;34m)\u001b[0m\u001b[0;34m[\u001b[0m\u001b[0;36m1\u001b[0m\u001b[0;34m]\u001b[0m\u001b[0;34m\u001b[0m\u001b[0m\n",
      "\u001b[0;32m/Users/rhart/src/pyomo/src/pyomo/pyomo/core/base/misc.py\u001b[0m in \u001b[0;36mapply_indexed_rule\u001b[0;34m(obj, rule, model, index, options)\u001b[0m\n\u001b[1;32m     57\u001b[0m                 \u001b[0;32mreturn\u001b[0m \u001b[0mrule\u001b[0m\u001b[0;34m(\u001b[0m\u001b[0mmodel\u001b[0m\u001b[0;34m)\u001b[0m\u001b[0;34m\u001b[0m\u001b[0m\n\u001b[1;32m     58\u001b[0m             \u001b[0;32melse\u001b[0m\u001b[0;34m:\u001b[0m\u001b[0;34m\u001b[0m\u001b[0m\n\u001b[0;32m---> 59\u001b[0;31m                 \u001b[0;32mreturn\u001b[0m \u001b[0mrule\u001b[0m\u001b[0;34m(\u001b[0m\u001b[0mmodel\u001b[0m\u001b[0;34m,\u001b[0m \u001b[0mindex\u001b[0m\u001b[0;34m)\u001b[0m\u001b[0;34m\u001b[0m\u001b[0m\n\u001b[0m\u001b[1;32m     60\u001b[0m         \u001b[0;32melse\u001b[0m\u001b[0;34m:\u001b[0m\u001b[0;34m\u001b[0m\u001b[0m\n\u001b[1;32m     61\u001b[0m             \u001b[0;32mif\u001b[0m \u001b[0mindex\u001b[0m\u001b[0;34m.\u001b[0m\u001b[0m__class__\u001b[0m \u001b[0;32mis\u001b[0m \u001b[0mtuple\u001b[0m\u001b[0;34m:\u001b[0m\u001b[0;34m\u001b[0m\u001b[0m\n",
      "\u001b[0;32m<ipython-input-5-9715681b0c4d>\u001b[0m in \u001b[0;36m_diffeq_rule\u001b[0;34m(m, i)\u001b[0m\n\u001b[1;32m     10\u001b[0m \u001b[0;31m# within a constraint rule.\u001b[0m\u001b[0;34m\u001b[0m\u001b[0;34m\u001b[0m\u001b[0m\n\u001b[1;32m     11\u001b[0m \u001b[0;32mdef\u001b[0m \u001b[0m_diffeq_rule\u001b[0m\u001b[0;34m(\u001b[0m\u001b[0mm\u001b[0m\u001b[0;34m,\u001b[0m\u001b[0mi\u001b[0m\u001b[0;34m)\u001b[0m\u001b[0;34m:\u001b[0m\u001b[0;34m\u001b[0m\u001b[0m\n\u001b[0;32m---> 12\u001b[0;31m     \u001b[0;32mreturn\u001b[0m \u001b[0mm\u001b[0m\u001b[0;34m.\u001b[0m\u001b[0mx\u001b[0m\u001b[0;34m[\u001b[0m\u001b[0mi\u001b[0m\u001b[0;34m]\u001b[0m\u001b[0;34m.\u001b[0m\u001b[0mderivative\u001b[0m\u001b[0;34m(\u001b[0m\u001b[0mm\u001b[0m\u001b[0;34m.\u001b[0m\u001b[0mt\u001b[0m\u001b[0;34m)\u001b[0m \u001b[0;34m==\u001b[0m \u001b[0mm\u001b[0m\u001b[0;34m.\u001b[0m\u001b[0mx\u001b[0m\u001b[0;34m[\u001b[0m\u001b[0mi\u001b[0m\u001b[0;34m]\u001b[0m\u001b[0;34m**\u001b[0m\u001b[0;36m2\u001b[0m\u001b[0;34m\u001b[0m\u001b[0m\n\u001b[0m\u001b[1;32m     13\u001b[0m \u001b[0mmodel\u001b[0m\u001b[0;34m.\u001b[0m\u001b[0mdiffeq\u001b[0m \u001b[0;34m=\u001b[0m \u001b[0mConstraint\u001b[0m\u001b[0;34m(\u001b[0m\u001b[0mmodel\u001b[0m\u001b[0;34m.\u001b[0m\u001b[0mt\u001b[0m\u001b[0;34m,\u001b[0m\u001b[0mrule\u001b[0m\u001b[0;34m=\u001b[0m\u001b[0m_diffeq_rule\u001b[0m\u001b[0;34m)\u001b[0m\u001b[0;34m\u001b[0m\u001b[0m\n",
      "\u001b[0;32m/Users/rhart/src/pyomo/src/pyomo/pyomo/dae/diffvar.py\u001b[0m in \u001b[0;36mderivative\u001b[0;34m(self, *args)\u001b[0m\n\u001b[1;32m     72\u001b[0m         \u001b[0;32mfor\u001b[0m \u001b[0mi\u001b[0m \u001b[0;32min\u001b[0m \u001b[0margs\u001b[0m\u001b[0;34m:\u001b[0m\u001b[0;34m\u001b[0m\u001b[0m\n\u001b[1;32m     73\u001b[0m             \u001b[0mnme\u001b[0m \u001b[0;34m=\u001b[0m \u001b[0mnme\u001b[0m\u001b[0;34m+\u001b[0m\u001b[0;34m'd'\u001b[0m\u001b[0;34m+\u001b[0m\u001b[0mi\u001b[0m\u001b[0;34m.\u001b[0m\u001b[0mname\u001b[0m\u001b[0;34m\u001b[0m\u001b[0m\n\u001b[0;32m---> 74\u001b[0;31m         \u001b[0mself\u001b[0m\u001b[0;34m.\u001b[0m\u001b[0mmodel\u001b[0m\u001b[0;34m(\u001b[0m\u001b[0;34m)\u001b[0m\u001b[0;34m.\u001b[0m\u001b[0madd_component\u001b[0m\u001b[0;34m(\u001b[0m\u001b[0;34m'd'\u001b[0m\u001b[0;34m+\u001b[0m\u001b[0msvar\u001b[0m\u001b[0;34m.\u001b[0m\u001b[0mname\u001b[0m\u001b[0;34m+\u001b[0m\u001b[0mnme\u001b[0m\u001b[0;34m,\u001b[0m\u001b[0mDerivativeVar\u001b[0m\u001b[0;34m(\u001b[0m\u001b[0msvar\u001b[0m\u001b[0;34m,\u001b[0m\u001b[0mwrt\u001b[0m\u001b[0;34m=\u001b[0m\u001b[0margs\u001b[0m\u001b[0;34m)\u001b[0m\u001b[0;34m)\u001b[0m\u001b[0;34m\u001b[0m\u001b[0m\n\u001b[0m\u001b[1;32m     75\u001b[0m         \u001b[0mderiv\u001b[0m \u001b[0;34m=\u001b[0m \u001b[0msvar\u001b[0m\u001b[0;34m.\u001b[0m\u001b[0mget_derivative\u001b[0m\u001b[0;34m(\u001b[0m\u001b[0;34m*\u001b[0m\u001b[0margs\u001b[0m\u001b[0;34m)\u001b[0m\u001b[0;34m\u001b[0m\u001b[0m\n\u001b[1;32m     76\u001b[0m \u001b[0;34m\u001b[0m\u001b[0m\n",
      "\u001b[0;32m/Users/rhart/src/pyomo/src/pyomo/pyomo/dae/diffvar.py\u001b[0m in \u001b[0;36m__init__\u001b[0;34m(self, sVar, **kwds)\u001b[0m\n\u001b[1;32m    193\u001b[0m                         \u001b[0;34m\"Cannot take the derivative with respect to %s. \"\u001b[0m\u001b[0;34m\u001b[0m\u001b[0m\n\u001b[1;32m    194\u001b[0m                         \"Expected a ContinuousSet or a tuple of ContinuousSets\"% (i))\n\u001b[0;32m--> 195\u001b[0;31m                 \u001b[0;32mif\u001b[0m \u001b[0;32mnot\u001b[0m \u001b[0msVar\u001b[0m\u001b[0;34m.\u001b[0m\u001b[0m_contset\u001b[0m\u001b[0;34m.\u001b[0m\u001b[0mhas_key\u001b[0m\u001b[0;34m(\u001b[0m\u001b[0mi\u001b[0m\u001b[0;34m)\u001b[0m\u001b[0;34m:\u001b[0m\u001b[0;34m\u001b[0m\u001b[0m\n\u001b[0m\u001b[1;32m    196\u001b[0m                     raise DAE_Error(\n\u001b[1;32m    197\u001b[0m                         \u001b[0;34m\"Invalid derivative: The variable %s is not indexed by \"\u001b[0m\u001b[0;34m\u001b[0m\u001b[0m\n",
      "\u001b[0;31mAttributeError\u001b[0m: 'dict' object has no attribute 'has_key'"
     ]
    }
   ],
   "source": [
    "# Required imports\n",
    "from pyomo.environ import *\n",
    "from pyomo.dae import *\n",
    "\n",
    "model = ConcreteModel()\n",
    "model.t = ContinuousSet(bounds=(0,5))\n",
    "model.x = Var(model.t)\n",
    "\n",
    "# Create the first derivative of model.x with respect to model.t\n",
    "# within a constraint rule.\n",
    "def _diffeq_rule(m,i):\n",
    "    return m.x[i].derivative(m.t) == m.x[i]**2\n",
    "model.diffeq = Constraint(model.t,rule=_diffeq_rule)"
   ]
  },
  {
   "cell_type": "markdown",
   "metadata": {},
   "source": [
    "In the above example a <span style=\"color:darkblue; font-family:Courier\">DerivatveVar</span> component representing the desired derivative will automatically be added to the Pyomo model when the constraint is constructed. The .derivative() method accepts positional arguments representing what the derivative is being taken with respect to.\n",
    "\n",
    ">#####Note\n",
    ">If a variable is indexed by a single <span style=\"color:darkblue; font-family:Courier\">ContinuousSet</span> then the .derivative() method with no positional arguments may be used to specify the first derivative of that variable with respect to the <span style=\"color:darkblue; font-family:Courier\">ContinuousSet</span>.\n",
    "\n",
    "###13.2. Declaring Differential Equations\n",
    "\n",
    "A differential equations is declared as a standard Pyomo <span style=\"color:darkblue; font-family:Courier\">Constraint</span> and is not required to have any particular form. The following code snippet shows how one might declare an ordinary or partial differential equation.\n",
    "\n"
   ]
  },
  {
   "cell_type": "code",
   "execution_count": 6,
   "metadata": {
    "collapsed": false
   },
   "outputs": [
    {
     "ename": "AttributeError",
     "evalue": "'dict' object has no attribute 'has_key'",
     "output_type": "error",
     "traceback": [
      "\u001b[0;31m---------------------------------------------------------------------------\u001b[0m",
      "\u001b[0;31mAttributeError\u001b[0m                            Traceback (most recent call last)",
      "\u001b[0;32m<ipython-input-6-ed5b3043ae42>\u001b[0m in \u001b[0;36m<module>\u001b[0;34m()\u001b[0m\n\u001b[1;32m     10\u001b[0m \u001b[0mmodel\u001b[0m\u001b[0;34m.\u001b[0m\u001b[0mx\u001b[0m \u001b[0;34m=\u001b[0m \u001b[0mVar\u001b[0m\u001b[0;34m(\u001b[0m\u001b[0mmodel\u001b[0m\u001b[0;34m.\u001b[0m\u001b[0ms\u001b[0m\u001b[0;34m,\u001b[0m\u001b[0mmodel\u001b[0m\u001b[0;34m.\u001b[0m\u001b[0mt\u001b[0m\u001b[0;34m)\u001b[0m\u001b[0;34m\u001b[0m\u001b[0m\n\u001b[1;32m     11\u001b[0m \u001b[0mmodel\u001b[0m\u001b[0;34m.\u001b[0m\u001b[0my\u001b[0m \u001b[0;34m=\u001b[0m \u001b[0mVar\u001b[0m\u001b[0;34m(\u001b[0m\u001b[0mmodel\u001b[0m\u001b[0;34m.\u001b[0m\u001b[0mt\u001b[0m\u001b[0;34m,\u001b[0m\u001b[0mmodel\u001b[0m\u001b[0;34m.\u001b[0m\u001b[0ml\u001b[0m\u001b[0;34m)\u001b[0m\u001b[0;34m\u001b[0m\u001b[0m\n\u001b[0;32m---> 12\u001b[0;31m \u001b[0mmodel\u001b[0m\u001b[0;34m.\u001b[0m\u001b[0mdydt\u001b[0m \u001b[0;34m=\u001b[0m \u001b[0mDerivativeVar\u001b[0m\u001b[0;34m(\u001b[0m\u001b[0mmodel\u001b[0m\u001b[0;34m.\u001b[0m\u001b[0my\u001b[0m\u001b[0;34m,\u001b[0m \u001b[0mwrt\u001b[0m\u001b[0;34m=\u001b[0m\u001b[0mmodel\u001b[0m\u001b[0;34m.\u001b[0m\u001b[0mt\u001b[0m\u001b[0;34m)\u001b[0m\u001b[0;34m\u001b[0m\u001b[0m\n\u001b[0m\u001b[1;32m     13\u001b[0m \u001b[0mmodel\u001b[0m\u001b[0;34m.\u001b[0m\u001b[0mdydl2\u001b[0m \u001b[0;34m=\u001b[0m \u001b[0mDerivativeVar\u001b[0m\u001b[0;34m(\u001b[0m\u001b[0mmodel\u001b[0m\u001b[0;34m.\u001b[0m\u001b[0my\u001b[0m\u001b[0;34m,\u001b[0m \u001b[0mwrt\u001b[0m\u001b[0;34m=\u001b[0m\u001b[0;34m(\u001b[0m\u001b[0mmodel\u001b[0m\u001b[0;34m.\u001b[0m\u001b[0ml\u001b[0m\u001b[0;34m,\u001b[0m\u001b[0mmodel\u001b[0m\u001b[0;34m.\u001b[0m\u001b[0ml\u001b[0m\u001b[0;34m)\u001b[0m\u001b[0;34m)\u001b[0m\u001b[0;34m\u001b[0m\u001b[0m\n\u001b[1;32m     14\u001b[0m \u001b[0;34m\u001b[0m\u001b[0m\n",
      "\u001b[0;32m/Users/rhart/src/pyomo/src/pyomo/pyomo/dae/diffvar.py\u001b[0m in \u001b[0;36m__init__\u001b[0;34m(self, sVar, **kwds)\u001b[0m\n\u001b[1;32m    182\u001b[0m             \u001b[0mwrt\u001b[0m \u001b[0;34m=\u001b[0m \u001b[0;34m[\u001b[0m\u001b[0msVar\u001b[0m\u001b[0;34m.\u001b[0m\u001b[0m_contset\u001b[0m\u001b[0;34m.\u001b[0m\u001b[0mkeys\u001b[0m\u001b[0;34m(\u001b[0m\u001b[0;34m)\u001b[0m\u001b[0;34m[\u001b[0m\u001b[0;36m0\u001b[0m\u001b[0;34m]\u001b[0m\u001b[0;34m,\u001b[0m\u001b[0;34m]\u001b[0m\u001b[0;34m\u001b[0m\u001b[0m\n\u001b[1;32m    183\u001b[0m         \u001b[0;32melif\u001b[0m \u001b[0mtype\u001b[0m\u001b[0;34m(\u001b[0m\u001b[0mwrt\u001b[0m\u001b[0;34m)\u001b[0m \u001b[0;32mis\u001b[0m \u001b[0mContinuousSet\u001b[0m\u001b[0;34m:\u001b[0m\u001b[0;34m\u001b[0m\u001b[0m\n\u001b[0;32m--> 184\u001b[0;31m             \u001b[0;32mif\u001b[0m \u001b[0;32mnot\u001b[0m \u001b[0msVar\u001b[0m\u001b[0;34m.\u001b[0m\u001b[0m_contset\u001b[0m\u001b[0;34m.\u001b[0m\u001b[0mhas_key\u001b[0m\u001b[0;34m(\u001b[0m\u001b[0mwrt\u001b[0m\u001b[0;34m)\u001b[0m\u001b[0;34m:\u001b[0m\u001b[0;34m\u001b[0m\u001b[0m\n\u001b[0m\u001b[1;32m    185\u001b[0m                 raise DAE_Error(\n\u001b[1;32m    186\u001b[0m                     \u001b[0;34m\"Invalid derivative: The variable %s is not indexed by \"\u001b[0m\u001b[0;34m\u001b[0m\u001b[0m\n",
      "\u001b[0;31mAttributeError\u001b[0m: 'dict' object has no attribute 'has_key'"
     ]
    }
   ],
   "source": [
    "# Required imports\n",
    "from pyomo.environ import *\n",
    "from pyomo.dae import *\n",
    "\n",
    "model = ConcreteModel()\n",
    "model.s = Set(initialize=['a','b'])\n",
    "model.t = ContinuousSet(bounds=(0,5))\n",
    "model.l = ContinuousSet(bounds=(-10,10))\n",
    "\n",
    "model.x = Var(model.s,model.t)\n",
    "model.y = Var(model.t,model.l)\n",
    "model.dydt = DerivativeVar(model.y, wrt=model.t)\n",
    "model.dydl2 = DerivativeVar(model.y, wrt=(model.l,model.l))\n",
    "\n",
    "# An ordinary differential equation\n",
    "def _ode_rule(m,i,j):\n",
    "    if j == 0:\n",
    "        return Constraint.Skip\n",
    "    return m.x[i].derivative(m.t) == m.x[i]**2\n",
    "model.ode = Constraint(model.s,model.t,rule=_ode_rule)\n",
    "\n",
    "# A partial differential equation\n",
    "def _pde_rule(m,i,j):\n",
    "    if i == 0 or j == -10 or j == 10:\n",
    "        return Constraint.Skip\n",
    "    return m.dydt[i,j] == m.dydl2[i,j]\n",
    "model.pde = Constraint(model.t,model.l,rule=_pde_rule)"
   ]
  },
  {
   "cell_type": "markdown",
   "metadata": {},
   "source": [
    "\n",
    ">#####Note\n",
    ">Often a modeler does not want to apply a differential equation at one or both boundaries of a continuous domain. This must be addressed explicitly in the <span style=\"color:darkblue; font-family:Courier\">Constraint</span> declaration using <span style=\"color:darkblue\">*Constraint.Skip*</span> as shown above. By default, a <span style=\"color:darkblue; font-family:Courier\">Constraint</span> declared over a <span style=\"color:darkblue; font-family:Courier\">ContinuousSet</span> will be applied at every discretization point contained in the set.\n",
    "###13.3. Declaring Integrals\n",
    "The <span style=\"color:darkblue; font-family:Courier\">Integral</span> component is still under development but some basic functionality is available in the current Pyomo release. Integrals must be taken over the entire domain of a <span style=\"color:darkblue; font-family:Courier\">ContinuousSet</span>. Once every <span style=\"color:darkblue; font-family:Courier\">ContinuousSet</span><span style=\"color:darkblue; font-family:Courier\"> in a model has been discretized, any integrals in the model will be converted to algebraic equations using the trapezoid rule. Future releases of this tool will include more sophisticated numerical integration methods.\n",
    "\n",
    "Declaring an <span style=\"color:darkblue; font-family:Courier\">Integral</span> component is similar to declaring an <span style=\"color:darkblue; font-family:Courier\">Expression</span> component. A simple example is shown below:"
   ]
  },
  {
   "cell_type": "code",
   "execution_count": 7,
   "metadata": {
    "collapsed": false
   },
   "outputs": [
    {
     "ename": "AttributeError",
     "evalue": "'ConcreteModel' object has no attribute 'time'",
     "output_type": "error",
     "traceback": [
      "\u001b[0;31m---------------------------------------------------------------------------\u001b[0m",
      "\u001b[0;31mAttributeError\u001b[0m                            Traceback (most recent call last)",
      "\u001b[0;32m<ipython-input-7-770f2b6d73bf>\u001b[0m in \u001b[0;36m<module>\u001b[0;34m()\u001b[0m\n\u001b[1;32m      1\u001b[0m \u001b[0;32mdef\u001b[0m \u001b[0m_intX\u001b[0m\u001b[0;34m(\u001b[0m\u001b[0mm\u001b[0m\u001b[0;34m,\u001b[0m\u001b[0mi\u001b[0m\u001b[0;34m)\u001b[0m\u001b[0;34m:\u001b[0m\u001b[0;34m\u001b[0m\u001b[0m\n\u001b[1;32m      2\u001b[0m     \u001b[0;32mreturn\u001b[0m \u001b[0;34m(\u001b[0m\u001b[0mm\u001b[0m\u001b[0;34m.\u001b[0m\u001b[0mX\u001b[0m\u001b[0;34m[\u001b[0m\u001b[0mi\u001b[0m\u001b[0;34m]\u001b[0m\u001b[0;34m-\u001b[0m\u001b[0mm\u001b[0m\u001b[0;34m.\u001b[0m\u001b[0mX_desired\u001b[0m\u001b[0;34m)\u001b[0m\u001b[0;34m**\u001b[0m\u001b[0;36m2\u001b[0m\u001b[0;34m\u001b[0m\u001b[0m\n\u001b[0;32m----> 3\u001b[0;31m \u001b[0mmodel\u001b[0m\u001b[0;34m.\u001b[0m\u001b[0mintX\u001b[0m \u001b[0;34m=\u001b[0m \u001b[0mIntegral\u001b[0m\u001b[0;34m(\u001b[0m\u001b[0mmodel\u001b[0m\u001b[0;34m.\u001b[0m\u001b[0mtime\u001b[0m\u001b[0;34m,\u001b[0m\u001b[0mwrt\u001b[0m\u001b[0;34m=\u001b[0m\u001b[0mmodel\u001b[0m\u001b[0;34m.\u001b[0m\u001b[0mtime\u001b[0m\u001b[0;34m,\u001b[0m\u001b[0mrule\u001b[0m\u001b[0;34m=\u001b[0m\u001b[0m_intX\u001b[0m\u001b[0;34m)\u001b[0m\u001b[0;34m\u001b[0m\u001b[0m\n\u001b[0m\u001b[1;32m      4\u001b[0m \u001b[0;34m\u001b[0m\u001b[0m\n\u001b[1;32m      5\u001b[0m \u001b[0;32mdef\u001b[0m \u001b[0m_obj\u001b[0m\u001b[0;34m(\u001b[0m\u001b[0mm\u001b[0m\u001b[0;34m)\u001b[0m\u001b[0;34m:\u001b[0m\u001b[0;34m\u001b[0m\u001b[0m\n",
      "\u001b[0;31mAttributeError\u001b[0m: 'ConcreteModel' object has no attribute 'time'"
     ]
    }
   ],
   "source": [
    "def _intX(m,i):\n",
    "    return (m.X[i]-m.X_desired)**2\n",
    "model.intX = Integral(model.time,wrt=model.time,rule=_intX)\n",
    "\n",
    "def _obj(m):\n",
    "    return m.scale*m.intX\n",
    "model.obj = Objective(rule=_obj)"
   ]
  },
  {
   "cell_type": "markdown",
   "metadata": {},
   "source": [
    "Notice that the positional arguments supplied to the <span style=\"color:darkblue; font-family:Courier\">Integral</span> declaration must include all indices needed to evaluate the integral expression. The integral expression is defined in a function and supplied to the <span style=\"color:darkblue\">*rule*</span> keyword argument. Finally, a user must specify a <span style=\"color:darkblue; font-family:Courier\">ContinuousSet</span> that the integral is being evaluated over. This is done using the <span style=\"color:darkblue\">*wrt*</span> keyword argument.\n",
    "\n",
    ">#####Note\n",
    ">The <span style=\"color:darkblue; font-family:Courier\">ContinousSet</span> specified using the <span style=\"color:darkblue\">*wrt*</span> keyword argument must be explicitly specified as one of the indexing sets (meaning it must be supplied as a positional argument)\n",
    "\n",
    "After an <span style=\"color:darkblue; font-family:Courier\">Integral</span> has been declared, it can be used just like a Pyomo <span style=\"color:darkblue; font-family:Courier\">Expression</span> component and can be included in constraints or the objective function as shown above.\n",
    "\n",
    "If an <span style=\"color:darkblue; font-family:Courier\">Integral</span> is specified with multiple positional arguments, i.e. multiple indexing sets, the final component will be indexed by all of those sets except for the <span style=\"color:darkblue; font-family:Courier\">ContinuousSet</span> that the integral was taken over. In other words, the <span style=\"color:darkblue; font-family:Courier\">ContinuousSet</span> specified with the <span style=\"color:darkblue\">*wrt*</span> keyword argument is removed from the indexing sets of the <span style=\"color:darkblue; font-family:Courier\">Integral</span> even though it must be specified as a positional argument. The reason for this is to keep track of the order of the indexing sets. This logic should become more clear with the following example showing a double integral over the <span style=\"color:darkblue; font-family:Courier\">ContinuousSet</span> components <span style=\"color:darkblue\">*t1*</span> and <span style=\"color:darkblue\">*t2*</span>. In addition, the expression is also indexed by the <span style=\"color:darkblue; font-family:Courier\">Set</span> <span style=\"color:darkblue\">*s*</span>."
   ]
  },
  {
   "cell_type": "code",
   "execution_count": 8,
   "metadata": {
    "collapsed": false
   },
   "outputs": [
    {
     "ename": "AttributeError",
     "evalue": "'ConcreteModel' object has no attribute 't1'",
     "output_type": "error",
     "traceback": [
      "\u001b[0;31m---------------------------------------------------------------------------\u001b[0m",
      "\u001b[0;31mAttributeError\u001b[0m                            Traceback (most recent call last)",
      "\u001b[0;32m<ipython-input-8-c9d42c0c9ae8>\u001b[0m in \u001b[0;36m<module>\u001b[0;34m()\u001b[0m\n\u001b[1;32m      1\u001b[0m \u001b[0;32mdef\u001b[0m \u001b[0m_intX1\u001b[0m\u001b[0;34m(\u001b[0m\u001b[0mm\u001b[0m\u001b[0;34m,\u001b[0m\u001b[0mi\u001b[0m\u001b[0;34m,\u001b[0m\u001b[0mj\u001b[0m\u001b[0;34m,\u001b[0m\u001b[0ms\u001b[0m\u001b[0;34m)\u001b[0m\u001b[0;34m:\u001b[0m\u001b[0;34m\u001b[0m\u001b[0m\n\u001b[1;32m      2\u001b[0m     \u001b[0;32mreturn\u001b[0m \u001b[0;34m(\u001b[0m\u001b[0mm\u001b[0m\u001b[0;34m.\u001b[0m\u001b[0mX\u001b[0m\u001b[0;34m[\u001b[0m\u001b[0mi\u001b[0m\u001b[0;34m,\u001b[0m\u001b[0mj\u001b[0m\u001b[0;34m,\u001b[0m\u001b[0ms\u001b[0m\u001b[0;34m]\u001b[0m\u001b[0;34m-\u001b[0m\u001b[0mm\u001b[0m\u001b[0;34m.\u001b[0m\u001b[0mX_desired\u001b[0m\u001b[0;34m[\u001b[0m\u001b[0mj\u001b[0m\u001b[0;34m,\u001b[0m\u001b[0ms\u001b[0m\u001b[0;34m]\u001b[0m\u001b[0;34m)\u001b[0m\u001b[0;34m**\u001b[0m\u001b[0;36m2\u001b[0m\u001b[0;34m\u001b[0m\u001b[0m\n\u001b[0;32m----> 3\u001b[0;31m \u001b[0mmodel\u001b[0m\u001b[0;34m.\u001b[0m\u001b[0mintX1\u001b[0m \u001b[0;34m=\u001b[0m \u001b[0mIntegral\u001b[0m\u001b[0;34m(\u001b[0m\u001b[0mmodel\u001b[0m\u001b[0;34m.\u001b[0m\u001b[0mt1\u001b[0m\u001b[0;34m,\u001b[0m\u001b[0mmodel\u001b[0m\u001b[0;34m.\u001b[0m\u001b[0mt2\u001b[0m\u001b[0;34m,\u001b[0m\u001b[0mmodel\u001b[0m\u001b[0;34m.\u001b[0m\u001b[0ms\u001b[0m\u001b[0;34m,\u001b[0m\u001b[0mwrt\u001b[0m\u001b[0;34m=\u001b[0m\u001b[0mmodel\u001b[0m\u001b[0;34m.\u001b[0m\u001b[0mt1\u001b[0m\u001b[0;34m,\u001b[0m\u001b[0mrule\u001b[0m\u001b[0;34m=\u001b[0m\u001b[0m_intX1\u001b[0m\u001b[0;34m)\u001b[0m\u001b[0;34m\u001b[0m\u001b[0m\n\u001b[0m\u001b[1;32m      4\u001b[0m \u001b[0;34m\u001b[0m\u001b[0m\n\u001b[1;32m      5\u001b[0m \u001b[0;32mdef\u001b[0m \u001b[0m_intX2\u001b[0m\u001b[0;34m(\u001b[0m\u001b[0mm\u001b[0m\u001b[0;34m,\u001b[0m\u001b[0mj\u001b[0m\u001b[0;34m,\u001b[0m\u001b[0ms\u001b[0m\u001b[0;34m)\u001b[0m\u001b[0;34m:\u001b[0m\u001b[0;34m\u001b[0m\u001b[0m\n",
      "\u001b[0;31mAttributeError\u001b[0m: 'ConcreteModel' object has no attribute 't1'"
     ]
    }
   ],
   "source": [
    "def _intX1(m,i,j,s):\n",
    "    return (m.X[i,j,s]-m.X_desired[j,s])**2\n",
    "model.intX1 = Integral(model.t1,model.t2,model.s,wrt=model.t1,rule=_intX1)\n",
    "\n",
    "def _intX2(m,j,s):\n",
    "    return (m.intX1[j,s]-m.X_desired[s])**2\n",
    "model.intX2 = Integral(model.t2,model.s,wrt=model.t2,rule=_intX2)\n",
    "\n",
    "def _obj(m):\n",
    "    return sum(model.intX2[k] for k in m.s)\n",
    "model.obj = Objective(rule=_obj)"
   ]
  },
  {
   "cell_type": "markdown",
   "metadata": {},
   "source": [
    "###13.4 Discretization Transformation\n",
    "\n",
    "Before a Pyomo model with DerivativeVar or Integral components can be sent to a solver it must first be sent through a discretization transformation. These transformations approximate any derivatives or integrals in the model by using some numerical method. The numerical methods currently included in this tool discretize the continuous domains in the problem and introduce equality constraints which approximate the derivatives and integrals at the discretization points. Two families of discretization schemes have been implemented in Pyomo, Finite Difference and Collocation. These schemes are described in more detail below.\n",
    "\n",
    ">#####Note\n",
    ">The schemes described here are for derivatives only. All integrals will be transformed using the trapezoid rule.\n",
    "\n",
    "The user must write a Python script in order to use these discretizations, they have not been tested on the pyomo command line. Example scripts are shown below for each of the discretization schemes. The transformations return Pyomo models which can be further manipulated before being sent to a solver. Examples of this are also shown below.\n",
    "\n",
    "#####13.4.1. Finite Difference Transformation\n",
    "\n",
    "This transformation includes implementations of several finite difference methods. For example, the Backward Difference method (also called Implicit or Backward Euler) has been implemented. The discretization equations for this method are shown below:\n",
    "\n",
    "$$Given dx/dt =f(t,x) and x(t0) = x_0 $$\n",
    "$$ discretize t and x such that $$\n",
    "$$x(t0+kh) = x_k$$\n",
    "$$x_k+1 = x_k + h*f(t_k+1,x_k+1)$$\n",
    "$$t_k+1=t_k + h $$\n",
    "\n",
    "where $h$ is the step size between discretization points or the size of each finite element. These equations are generated automatically as <span style=\"color:darkblue; font-family:Courier\">Constraint</span> components when the backward difference method is applied to a Pyomo model.\n",
    "\n",
    "There are several discretization options available to a <span style=\"color:darkblue; font-family:Courier\">Finite_Difference_Transformation</span> which can be specified as keyword arguments to the .apply() function of the transformation object. These keywords are summarized below:\n",
    "\n",
    "###Keyword arguments for applying a finite difference transformation.\n",
    "#####*nfe*\n",
    "The desired number of finite element points to be included in the discretization. The default value is 10.\n",
    "\n",
    "#####<span style=\"color:darkblue\">*wrt*</span>\n",
    "Indicates which ContinuousSet the transformation should be applied to. If this keyword argument is not specified then the same scheme will be applied to all ContinuousSets.\n",
    "\n",
    "#####<span style=\"color:darkblue\">*scheme*</span>\n",
    "Indicates which finite difference method to apply. Options are <span style=\"color:darkblue\">*BACKWARD*</span>, <span style=\"color:darkblue\">*CENTRAL*</span>, or <span style=\"color:darkblue\">*FORWARD*</span>. The default scheme is the backward difference method.\n",
    "\n",
    "#####<span style=\"color:darkblue\">*inplace*</span>\n",
    "Indicates whether the transformation should be applied to a copy of the model or the model itself. The default value is True.\n",
    "\n",
    "If the existing number of finite element points in a <span style=\"color:darkblue; font-family:Courier\">ContinuousSet</span> is less than the desired number, new discretization points will be added to the set. If a user specifies a number of finite element points which is less than the number of points already included in the <span style=\"color:darkblue; font-family:Courier\">ContinuousSet</span> then the transformation will ignore the specified number and proceed with the larger set of points. Discretization points will never be removed from a <span style=\"color:darkblue; font-family:Courier\">ContinousSet</span> during the discretization.\n",
    "\n",
    "The following code is a Python script applying the backward difference method. The code also shows how to add a constraint to a discretized model.\n",
    "\n"
   ]
  },
  {
   "cell_type": "code",
   "execution_count": 9,
   "metadata": {
    "collapsed": false
   },
   "outputs": [
    {
     "ename": "ImportError",
     "evalue": "No module named 'pyomoExample'",
     "output_type": "error",
     "traceback": [
      "\u001b[0;31m---------------------------------------------------------------------------\u001b[0m",
      "\u001b[0;31mImportError\u001b[0m                               Traceback (most recent call last)",
      "\u001b[0;32m<ipython-input-9-92fe9a6308d1>\u001b[0m in \u001b[0;36m<module>\u001b[0;34m()\u001b[0m\n\u001b[1;32m      5\u001b[0m \u001b[0;34m\u001b[0m\u001b[0m\n\u001b[1;32m      6\u001b[0m \u001b[0;31m# Import Pyomo model\u001b[0m\u001b[0;34m\u001b[0m\u001b[0;34m\u001b[0m\u001b[0m\n\u001b[0;32m----> 7\u001b[0;31m \u001b[0;32mfrom\u001b[0m \u001b[0mpyomoExample\u001b[0m \u001b[0;32mimport\u001b[0m \u001b[0mmodel\u001b[0m\u001b[0;34m\u001b[0m\u001b[0m\n\u001b[0m\u001b[1;32m      8\u001b[0m \u001b[0;34m\u001b[0m\u001b[0m\n\u001b[1;32m      9\u001b[0m \u001b[0;31m# Create model\u001b[0m\u001b[0;34m\u001b[0m\u001b[0;34m\u001b[0m\u001b[0m\n",
      "\u001b[0;31mImportError\u001b[0m: No module named 'pyomoExample'"
     ]
    }
   ],
   "source": [
    "from pyomo.environ import *\n",
    "from pyomo.dae import *\n",
    "from pyomo.opt import SolverFactory\n",
    "from pyomo.dae.plugins.finitedifference import Finite_Difference_Transformation\n",
    "\n",
    "# Import Pyomo model\n",
    "from pyomoExample import model\n",
    "\n",
    "# Create model\n",
    "instance = model.create()\n",
    "\n",
    "# Discretize model using Backward Difference method\n",
    "discretize = Finite_Difference_Transformation()\n",
    "disc_instance = discretize.apply(instance,nfe=20,wrt=instance.time,scheme='BACKWARD')\n",
    "\n",
    "# Add another constraint to discretized model\n",
    "def _sum_limit(model):\n",
    "    return sum(model.x1[i] for i in model.time) <= 50\n",
    "disc_instance.con_sum_limit = Constraint(rule=_sum_limit)\n",
    "\n",
    "# Solve discretized model\n",
    "opt = SolverFactory('ipopt')\n",
    "results = opt.solve(disc_instance)\n",
    "\n",
    "# Load Results\n",
    "disc_instance.load(results)"
   ]
  },
  {
   "cell_type": "markdown",
   "metadata": {},
   "source": [
    "#####13.4.2. Collocation Transformation\n",
    "\n",
    "This transformation uses orthogonal collocation to discretize the differential equations in the model. Currently, two types of collocation have been implemented. They both use Lagrange polynomials with either Gauss-Radau roots or Gauss-Legendre roots. For more information on orthogonal collocation and the discretization equations associated with this method please see chapter 10 of the book \"Nonlinear Programming: Concepts, Algorithms, and Applications to Chemical Processes\" by L.T. Biegler.\n",
    "\n",
    "The discretization options available to a <span style=\"color:darkblue; font-family:Courier\">Collocation_Discretization_Transformation</span> are the same as those described above for the +Finite_Difference_Transformation with different available schemes and the addition of the ncp option.\n",
    "\n",
    "####Additional keyword arguments for collocation discretizations\n",
    "#####<span style=\"color:darkblue\">*scheme*</span>\n",
    "The desired collocation scheme, either <span style=\"color:darkblue\">*LAGRANGE-RADAU*</span> or <span style=\"color:darkblue\">*LAGRANGE-LEGENDRE*</span>. The default is <span style=\"color:darkblue\">*LAGRANGE-RADAU*</span>.\n",
    "\n",
    "######<span style=\"color:darkblue\">*ncp*</span>\n",
    "The number of collocation points within each finite element. The default value is 3.\n",
    "\n",
    ">####Note\n",
    ">If the user’s version of Python has access to the package Numpy then any number of collocation points may be specified, otherwise the maximum number is 10.\n",
    "\n",
    ">####Note\n",
    ">Any points that exist in a ContinuousSet before discretization will be used as finite element boundaries and not as collocation points. The locations of the collocation points cannot be specified by the user, they must be generated by the transformation.\n",
    "\n",
    "The following code is a Python script applying collocation with Lagrange polynomials and Radau roots. The code also shows how to add an objective function to a discretized model.\n",
    "\n"
   ]
  },
  {
   "cell_type": "code",
   "execution_count": 10,
   "metadata": {
    "collapsed": false
   },
   "outputs": [
    {
     "ename": "ImportError",
     "evalue": "No module named 'pyomoExample2'",
     "output_type": "error",
     "traceback": [
      "\u001b[0;31m---------------------------------------------------------------------------\u001b[0m",
      "\u001b[0;31mImportError\u001b[0m                               Traceback (most recent call last)",
      "\u001b[0;32m<ipython-input-10-206840f054f3>\u001b[0m in \u001b[0;36m<module>\u001b[0;34m()\u001b[0m\n\u001b[1;32m      5\u001b[0m \u001b[0;34m\u001b[0m\u001b[0m\n\u001b[1;32m      6\u001b[0m \u001b[0;31m# Import Pyomo model\u001b[0m\u001b[0;34m\u001b[0m\u001b[0;34m\u001b[0m\u001b[0m\n\u001b[0;32m----> 7\u001b[0;31m \u001b[0;32mfrom\u001b[0m \u001b[0mpyomoExample2\u001b[0m \u001b[0;32mimport\u001b[0m \u001b[0mmodel\u001b[0m\u001b[0;34m\u001b[0m\u001b[0m\n\u001b[0m\u001b[1;32m      8\u001b[0m \u001b[0;34m\u001b[0m\u001b[0m\n\u001b[1;32m      9\u001b[0m \u001b[0;31m# Create model\u001b[0m\u001b[0;34m\u001b[0m\u001b[0;34m\u001b[0m\u001b[0m\n",
      "\u001b[0;31mImportError\u001b[0m: No module named 'pyomoExample2'"
     ]
    }
   ],
   "source": [
    "from pyomo.environ import *\n",
    "from pyomo.dae import *\n",
    "from pyomo.opt import SolverFactory\n",
    "from pyomo.dae.plugins.colloc import Collocation_Discretization_Transformation\n",
    "\n",
    "# Import Pyomo model\n",
    "from pyomoExample2 import model\n",
    "\n",
    "# Create model\n",
    "instance = model.create()\n",
    "\n",
    "# Discretize model using Radau Collocation\n",
    "discretize = Collocation_Discretization_Transformation()\n",
    "disc_instance = discretize.apply(instance,nfe=20,ncp=6,scheme='LAGRANGE-RADAU')\n",
    "\n",
    "# Add objective function after model has been discretized\n",
    "def obj_rule(model):\n",
    "    return sum((model.x[i]-model.x_ref)**2 for i in model.time)\n",
    "disc_instance.obj = Objective(rule=obj_rule)\n",
    "\n",
    "# Solve discretized model\n",
    "opt = SolverFactory('ipopt')\n",
    "results = opt.solve(disc_instance)\n",
    "\n",
    "# Load Results\n",
    "disc_instance.load(results)"
   ]
  },
  {
   "cell_type": "markdown",
   "metadata": {},
   "source": [
    "#####13.4.3. Applying Multiple Discretization Transformations\n",
    "\n",
    "Discretizations can be applied independently to each <span style=\"color:darkblue; font-family:Courier\">ContinuousSet</span> in a model. This allows the user great flexibility in discretizing their model. For example the same numerical method can be applied with different resolutions:"
   ]
  },
  {
   "cell_type": "code",
   "execution_count": 12,
   "metadata": {
    "collapsed": false
   },
   "outputs": [
    {
     "ename": "NameError",
     "evalue": "name 'instance' is not defined",
     "output_type": "error",
     "traceback": [
      "\u001b[0;31m---------------------------------------------------------------------------\u001b[0m",
      "\u001b[0;31mNameError\u001b[0m                                 Traceback (most recent call last)",
      "\u001b[0;32m<ipython-input-12-aed567144430>\u001b[0m in \u001b[0;36m<module>\u001b[0;34m()\u001b[0m\n\u001b[1;32m      1\u001b[0m \u001b[0mdiscretize\u001b[0m \u001b[0;34m=\u001b[0m \u001b[0mFinite_Difference_Transformation\u001b[0m\u001b[0;34m(\u001b[0m\u001b[0;34m)\u001b[0m\u001b[0;34m\u001b[0m\u001b[0m\n\u001b[0;32m----> 2\u001b[0;31m \u001b[0mdisc_instance\u001b[0m \u001b[0;34m=\u001b[0m \u001b[0mdiscretize\u001b[0m\u001b[0;34m.\u001b[0m\u001b[0mapply\u001b[0m\u001b[0;34m(\u001b[0m\u001b[0minstance\u001b[0m\u001b[0;34m,\u001b[0m\u001b[0mwrt\u001b[0m\u001b[0;34m=\u001b[0m\u001b[0minstance\u001b[0m\u001b[0;34m.\u001b[0m\u001b[0mt1\u001b[0m\u001b[0;34m,\u001b[0m\u001b[0mnfe\u001b[0m\u001b[0;34m=\u001b[0m\u001b[0;36m10\u001b[0m\u001b[0;34m)\u001b[0m\u001b[0;34m\u001b[0m\u001b[0m\n\u001b[0m\u001b[1;32m      3\u001b[0m \u001b[0mdisc_instance\u001b[0m \u001b[0;34m=\u001b[0m \u001b[0mdiscretize\u001b[0m\u001b[0;34m.\u001b[0m\u001b[0mapply\u001b[0m\u001b[0;34m(\u001b[0m\u001b[0minstance\u001b[0m\u001b[0;34m,\u001b[0m\u001b[0mwrt\u001b[0m\u001b[0;34m=\u001b[0m\u001b[0minstance\u001b[0m\u001b[0;34m.\u001b[0m\u001b[0mt2\u001b[0m\u001b[0;34m,\u001b[0m\u001b[0mnfe\u001b[0m\u001b[0;34m=\u001b[0m\u001b[0;36m100\u001b[0m\u001b[0;34m)\u001b[0m\u001b[0;34m\u001b[0m\u001b[0m\n",
      "\u001b[0;31mNameError\u001b[0m: name 'instance' is not defined"
     ]
    }
   ],
   "source": [
    "discretize = Finite_Difference_Transformation()\n",
    "disc_instance = discretize.apply(instance,wrt=instance.t1,nfe=10)\n",
    "disc_instance = discretize.apply(instance,wrt=instance.t2,nfe=100)"
   ]
  },
  {
   "cell_type": "markdown",
   "metadata": {},
   "source": [
    "This also allows the user to combine different methods. For example, applying the forward difference method to one <span style=\"color:darkblue; font-family:Courier\">ContinuousSet</span> and the central finite difference method to another <span style=\"color:darkblue; font-family:Courier\">ContinuousSet</span>:"
   ]
  },
  {
   "cell_type": "code",
   "execution_count": 13,
   "metadata": {
    "collapsed": false
   },
   "outputs": [
    {
     "ename": "NameError",
     "evalue": "name 'instance' is not defined",
     "output_type": "error",
     "traceback": [
      "\u001b[0;31m---------------------------------------------------------------------------\u001b[0m",
      "\u001b[0;31mNameError\u001b[0m                                 Traceback (most recent call last)",
      "\u001b[0;32m<ipython-input-13-1c0f8710121d>\u001b[0m in \u001b[0;36m<module>\u001b[0;34m()\u001b[0m\n\u001b[1;32m      1\u001b[0m \u001b[0mdiscretize\u001b[0m \u001b[0;34m=\u001b[0m \u001b[0mFinite_Difference_Transformation\u001b[0m\u001b[0;34m(\u001b[0m\u001b[0;34m)\u001b[0m\u001b[0;34m\u001b[0m\u001b[0m\n\u001b[0;32m----> 2\u001b[0;31m \u001b[0mdisc_instance\u001b[0m \u001b[0;34m=\u001b[0m \u001b[0mdiscretize\u001b[0m\u001b[0;34m.\u001b[0m\u001b[0mapply\u001b[0m\u001b[0;34m(\u001b[0m\u001b[0minstance\u001b[0m\u001b[0;34m,\u001b[0m\u001b[0mwrt\u001b[0m\u001b[0;34m=\u001b[0m\u001b[0minstance\u001b[0m\u001b[0;34m.\u001b[0m\u001b[0mt1\u001b[0m\u001b[0;34m,\u001b[0m\u001b[0mscheme\u001b[0m\u001b[0;34m=\u001b[0m\u001b[0;34m'FORWARD'\u001b[0m\u001b[0;34m)\u001b[0m\u001b[0;34m\u001b[0m\u001b[0m\n\u001b[0m\u001b[1;32m      3\u001b[0m \u001b[0mdisc_instance\u001b[0m \u001b[0;34m=\u001b[0m \u001b[0mdiscretize\u001b[0m\u001b[0;34m.\u001b[0m\u001b[0mapply\u001b[0m\u001b[0;34m(\u001b[0m\u001b[0minstance\u001b[0m\u001b[0;34m,\u001b[0m\u001b[0mwrt\u001b[0m\u001b[0;34m=\u001b[0m\u001b[0minstance\u001b[0m\u001b[0;34m.\u001b[0m\u001b[0mt2\u001b[0m\u001b[0;34m,\u001b[0m\u001b[0mscheme\u001b[0m\u001b[0;34m=\u001b[0m\u001b[0;34m'CENTRAL'\u001b[0m\u001b[0;34m)\u001b[0m\u001b[0;34m\u001b[0m\u001b[0m\n",
      "\u001b[0;31mNameError\u001b[0m: name 'instance' is not defined"
     ]
    }
   ],
   "source": [
    "discretize = Finite_Difference_Transformation()\n",
    "disc_instance = discretize.apply(instance,wrt=instance.t1,scheme='FORWARD')\n",
    "disc_instance = discretize.apply(instance,wrt=instance.t2,scheme='CENTRAL')"
   ]
  },
  {
   "cell_type": "markdown",
   "metadata": {},
   "source": [
    "In addition, the user may combine finite difference and collocation discretizations. For example:"
   ]
  },
  {
   "cell_type": "code",
   "execution_count": 14,
   "metadata": {
    "collapsed": false
   },
   "outputs": [
    {
     "ename": "NameError",
     "evalue": "name 'instance' is not defined",
     "output_type": "error",
     "traceback": [
      "\u001b[0;31m---------------------------------------------------------------------------\u001b[0m",
      "\u001b[0;31mNameError\u001b[0m                                 Traceback (most recent call last)",
      "\u001b[0;32m<ipython-input-14-c916f46ecd8e>\u001b[0m in \u001b[0;36m<module>\u001b[0;34m()\u001b[0m\n\u001b[1;32m      1\u001b[0m \u001b[0mdisc_fe\u001b[0m \u001b[0;34m=\u001b[0m \u001b[0mFinite_Difference_Transformation\u001b[0m\u001b[0;34m(\u001b[0m\u001b[0;34m)\u001b[0m\u001b[0;34m\u001b[0m\u001b[0m\n\u001b[0;32m----> 2\u001b[0;31m \u001b[0mdisc_instance\u001b[0m \u001b[0;34m=\u001b[0m \u001b[0mdisc_fe\u001b[0m\u001b[0;34m.\u001b[0m\u001b[0mapply\u001b[0m\u001b[0;34m(\u001b[0m\u001b[0minstance\u001b[0m\u001b[0;34m,\u001b[0m\u001b[0mwrt\u001b[0m\u001b[0;34m=\u001b[0m\u001b[0minstance\u001b[0m\u001b[0;34m.\u001b[0m\u001b[0mt1\u001b[0m\u001b[0;34m,\u001b[0m\u001b[0mnfe\u001b[0m\u001b[0;34m=\u001b[0m\u001b[0;36m10\u001b[0m\u001b[0;34m)\u001b[0m\u001b[0;34m\u001b[0m\u001b[0m\n\u001b[0m\u001b[1;32m      3\u001b[0m \u001b[0mdisc_col\u001b[0m \u001b[0;34m=\u001b[0m \u001b[0mCollocation_Discretization_Transformation\u001b[0m\u001b[0;34m(\u001b[0m\u001b[0;34m)\u001b[0m\u001b[0;34m\u001b[0m\u001b[0m\n\u001b[1;32m      4\u001b[0m \u001b[0mdisc_instance\u001b[0m \u001b[0;34m=\u001b[0m \u001b[0mdisc_col\u001b[0m\u001b[0;34m.\u001b[0m\u001b[0mapply\u001b[0m\u001b[0;34m(\u001b[0m\u001b[0minstance\u001b[0m\u001b[0;34m,\u001b[0m\u001b[0mwrt\u001b[0m\u001b[0;34m=\u001b[0m\u001b[0minstance\u001b[0m\u001b[0;34m.\u001b[0m\u001b[0mt2\u001b[0m\u001b[0;34m,\u001b[0m\u001b[0mnfe\u001b[0m\u001b[0;34m=\u001b[0m\u001b[0;36m10\u001b[0m\u001b[0;34m,\u001b[0m\u001b[0mncp\u001b[0m\u001b[0;34m=\u001b[0m\u001b[0;36m5\u001b[0m\u001b[0;34m)\u001b[0m\u001b[0;34m\u001b[0m\u001b[0m\n",
      "\u001b[0;31mNameError\u001b[0m: name 'instance' is not defined"
     ]
    }
   ],
   "source": [
    "disc_fe = Finite_Difference_Transformation()\n",
    "disc_instance = disc_fe.apply(instance,wrt=instance.t1,nfe=10)\n",
    "disc_col = Collocation_Discretization_Transformation()\n",
    "disc_instance = disc_col.apply(instance,wrt=instance.t2,nfe=10,ncp=5)"
   ]
  },
  {
   "cell_type": "markdown",
   "metadata": {},
   "source": [
    "If the user would like to apply the same discretization to all <span style=\"color:darkblue; font-family:Courier\">ContinuousSet</span> components in a model, just specify the discretization once without the <span style=\"color:darkblue\">*wrt*</span> keyword argument. This will apply that scheme to all <span style=\"color:darkblue; font-family:Courier\">ContinuousSet</span> components in the model that haven’t already been discretized.\n",
    "\n",
    "#####13.4.4. Custom Discretization Schemes\n",
    "\n",
    "A transformation framework along with certain utility functions has been created so that advanced users may easily implement custom discretization schemes other than those listed above. The trasnformation framework consists of the following steps:\n",
    "\n",
    "1. Specify Discretization Options\n",
    "\n",
    "2. Discretize the ContinuousSet(s)\n",
    "\n",
    "3. Update Model Components\n",
    "\n",
    "4. Add Discretization Equations\n",
    "\n",
    "5. Return Discretized Model\n",
    "\n",
    "If a user would like to create a custom finite difference scheme then they only have to worry about step (4) in the framework. The discretization equations for a particular scheme have been isolated from of the rest of the code for implementing the transformation. The function containing these discretization equations can be found at the top of the source code file for the transformation. For example, below is the function for the forward difference method:\n",
    "\n"
   ]
  },
  {
   "cell_type": "code",
   "execution_count": 15,
   "metadata": {
    "collapsed": true
   },
   "outputs": [],
   "source": [
    "def _forward_transform(v,s):\n",
    "    \"\"\"\n",
    "    Applies the Forward Difference formula of order O(h) for first derivatives\n",
    "    \"\"\"\n",
    "    def _fwd_fun(i):\n",
    "        tmp = sorted(s)\n",
    "        idx = tmp.index(i)\n",
    "        return 1/(tmp[idx+1]-tmp[idx])*(v(tmp[idx+1])-v(tmp[idx]))\n",
    "    return _fwd_fun"
   ]
  },
  {
   "cell_type": "markdown",
   "metadata": {},
   "source": [
    "In this function, <span style=\"color:darkblue\">*v*</span> represents the continuous variable or function that the method is being applied to. <span style=\"color:darkblue\">*s*</span> represents the set of discrete points in the continuous domain. In order to implement a custom finite difference method, a user would have to copy the above function and just replace the equation next to the first return statement with their method.\n",
    "\n",
    "After implementing a custom finite difference method using the above function template, the only other change that must be made is to add the custom method to the <span style=\"color:darkblue; font-family:Courier\">all_schemes</span> dictionary in the Finite_Difference_Transformation class.\n",
    "\n",
    "In the case of a custom collocation method, changes will have to be made in steps (2) and (4) of the transformation framework. In addition to implementing the discretization equations, the user would also have to ensure that the desired collocation points are added to the ContinuousSet being discretized.\n",
    "\n"
   ]
  }
 ],
 "metadata": {
  "kernelspec": {
   "display_name": "Python 3",
   "language": "python",
   "name": "python3"
  },
  "language_info": {
   "codemirror_mode": {
    "name": "ipython",
    "version": 3
   },
   "file_extension": ".py",
   "mimetype": "text/x-python",
   "name": "python",
   "nbconvert_exporter": "python",
   "pygments_lexer": "ipython3",
   "version": "3.4.3"
  }
 },
 "nbformat": 4,
 "nbformat_minor": 0
}
