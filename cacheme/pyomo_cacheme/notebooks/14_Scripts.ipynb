{
 "cells": [
  {
   "cell_type": "markdown",
   "metadata": {},
   "source": [
    "# 14 Scripts\n",
    "\n",
    "There are two main ways to add scripting for Pyomo models: using Python scripts and using callbacks for the <span style=\"color:darkblue; font-family:Courier\">pyomo</span> command that alter or supplement its workflow.\n",
    "\n",
    ">##### Note\n",
    ">The examples are written to conform with the Python version 3 print function. If executed with Python version 2, the output from print statements may not look as nice.\n",
    "\n",
    "### 14.1. Python Scripts\n",
    "##### 14.1.1. Iterative Example\n",
    "\n",
    "To illustrate Python scripts for Pyomo we consider an example that is in the file <span style=\"color:darkblue; font-family:Courier\">iterative1.py</span> and is executed using the command"
   ]
  },
  {
   "cell_type": "code",
   "execution_count": 2,
   "metadata": {},
   "outputs": [
    {
     "name": "stdout",
     "output_type": "stream",
     "text": [
      "WARNING: Empty constraint block written in LP format - solver may error\n",
      "\n",
      "Problem: \n",
      "- Name: unknown\n",
      "  Lower bound: 0.0\n",
      "  Upper bound: 0.0\n",
      "  Number of objectives: 1\n",
      "  Number of constraints: 1\n",
      "  Number of variables: 5\n",
      "  Number of nonzeros: 1\n",
      "  Sense: minimize\n",
      "Solver: \n",
      "- Status: ok\n",
      "  Termination condition: optimal\n",
      "  Statistics: \n",
      "    Branch and bound: \n",
      "      Number of bounded subproblems: 0\n",
      "      Number of created subproblems: 0\n",
      "  Error rc: 0\n",
      "  Time: 0.01320505142211914\n",
      "Solution: \n",
      "- number of solutions: 0\n",
      "  number of solutions displayed: 0\n",
      "\n",
      "\n",
      "Problem: \n",
      "- Name: unknown\n",
      "  Lower bound: 1.0\n",
      "  Upper bound: 1.0\n",
      "  Number of objectives: 1\n",
      "  Number of constraints: 2\n",
      "  Number of variables: 5\n",
      "  Number of nonzeros: 5\n",
      "  Sense: minimize\n",
      "Solver: \n",
      "- Status: ok\n",
      "  Termination condition: optimal\n",
      "  Statistics: \n",
      "    Branch and bound: \n",
      "      Number of bounded subproblems: 1\n",
      "      Number of created subproblems: 1\n",
      "  Error rc: 0\n",
      "  Time: 0.015824317932128906\n",
      "Solution: \n",
      "- number of solutions: 0\n",
      "  number of solutions displayed: 0\n",
      "\n",
      "\n",
      "Problem: \n",
      "- Name: unknown\n",
      "  Lower bound: 1.0\n",
      "  Upper bound: 1.0\n",
      "  Number of objectives: 1\n",
      "  Number of constraints: 3\n",
      "  Number of variables: 5\n",
      "  Number of nonzeros: 9\n",
      "  Sense: minimize\n",
      "Solver: \n",
      "- Status: ok\n",
      "  Termination condition: optimal\n",
      "  Statistics: \n",
      "    Branch and bound: \n",
      "      Number of bounded subproblems: 1\n",
      "      Number of created subproblems: 1\n",
      "  Error rc: 0\n",
      "  Time: 0.014344930648803711\n",
      "Solution: \n",
      "- number of solutions: 0\n",
      "  number of solutions displayed: 0\n",
      "\n",
      "\n",
      "Problem: \n",
      "- Name: unknown\n",
      "  Lower bound: 1.0\n",
      "  Upper bound: 1.0\n",
      "  Number of objectives: 1\n",
      "  Number of constraints: 4\n",
      "  Number of variables: 5\n",
      "  Number of nonzeros: 13\n",
      "  Sense: minimize\n",
      "Solver: \n",
      "- Status: ok\n",
      "  Termination condition: optimal\n",
      "  Statistics: \n",
      "    Branch and bound: \n",
      "      Number of bounded subproblems: 1\n",
      "      Number of created subproblems: 1\n",
      "  Error rc: 0\n",
      "  Time: 0.015320777893066406\n",
      "Solution: \n",
      "- number of solutions: 0\n",
      "  number of solutions displayed: 0\n",
      "\n",
      "\n",
      "Problem: \n",
      "- Name: unknown\n",
      "  Lower bound: 1.0\n",
      "  Upper bound: 1.0\n",
      "  Number of objectives: 1\n",
      "  Number of constraints: 5\n",
      "  Number of variables: 5\n",
      "  Number of nonzeros: 17\n",
      "  Sense: minimize\n",
      "Solver: \n",
      "- Status: ok\n",
      "  Termination condition: optimal\n",
      "  Statistics: \n",
      "    Branch and bound: \n",
      "      Number of bounded subproblems: 1\n",
      "      Number of created subproblems: 1\n",
      "  Error rc: 0\n",
      "  Time: 0.01306295394897461\n",
      "Solution: \n",
      "- number of solutions: 0\n",
      "  number of solutions displayed: 0\n",
      "\n",
      "\n",
      "Problem: \n",
      "- Name: unknown\n",
      "  Lower bound: 2.0\n",
      "  Upper bound: 2.0\n",
      "  Number of objectives: 1\n",
      "  Number of constraints: 6\n",
      "  Number of variables: 5\n",
      "  Number of nonzeros: 21\n",
      "  Sense: minimize\n",
      "Solver: \n",
      "- Status: ok\n",
      "  Termination condition: optimal\n",
      "  Statistics: \n",
      "    Branch and bound: \n",
      "      Number of bounded subproblems: 1\n",
      "      Number of created subproblems: 1\n",
      "  Error rc: 0\n",
      "  Time: 0.015233993530273438\n",
      "Solution: \n",
      "- number of solutions: 0\n",
      "  number of solutions displayed: 0\n",
      "\n"
     ]
    }
   ],
   "source": [
    "!python iterative1.py"
   ]
  },
  {
   "cell_type": "markdown",
   "metadata": {},
   "source": [
    ">##### Note\n",
    ">This is a Python script that contains elements of Pyomo, so it is executed using the python command. The pyomo command can be used, but then there will be some strange messages at the end when Pyomo finishes the script and attempts to send the results to a solver, which is what the <span style=\"color:darkblue; font-family:Courier\">pyomo</span> command does.\n",
    "\n",
    "This script creates a model, solves it, and then adds a constraint to preclude the solution just found. This process is repeated, so the script finds and prints multiple solutions. The particular model it creates is just the sum of four binary variables. One does not need a computer to solve the problem or even to iterate over solutions. This example is provided just to illustrate some elementary aspects of scripting.\n",
    "\n",
    ">##### Note\n",
    ">\tThe built-in code for printing solutions prints only non-zero variable values. So if you run this code, no variable values will be output for the first solution found because all of the variables are zero. However, other information about the solution, such as the objective value, will be displayed.\n"
   ]
  },
  {
   "cell_type": "code",
   "execution_count": null,
   "metadata": {
    "collapsed": true
   },
   "outputs": [],
   "source": [
    "# iterative1.py\n",
    "\n",
    "from pyomo.environ import *\n",
    "from pyomo.opt import SolverFactory\n",
    "\n",
    "# Create a solver\n",
    "opt = SolverFactory('glpk')\n",
    "\n",
    "#\n",
    "# A simple model with binary variables and\n",
    "# an empty constraint list.\n",
    "#\n",
    "model = AbstractModel()\n",
    "model.n = Param(default=4)\n",
    "model.x = Var(RangeSet(model.n), within=Binary)\n",
    "def o_rule(model):\n",
    "    return summation(model.x)\n",
    "model.o = Objective(rule=o_rule)\n",
    "model.c = ConstraintList()\n",
    "\n",
    "# Create a model instance and optimize\n",
    "instance = model.create_instance()\n",
    "results = opt.solve(instance)\n",
    "print(results)\n",
    "\n",
    "# Iterate to eliminate the previously found solution\n",
    "for i in range(5):\n",
    "    instance.solutions.load_from(results)\n",
    "\n",
    "    expr = 0\n",
    "    for j in instance.x:\n",
    "        if instance.x[j].value == 0:\n",
    "            expr += instance.x[j]\n",
    "        else:\n",
    "            expr += (1-instance.x[j])\n",
    "    instance.c.add( expr >= 1 )\n",
    "\n",
    "    results = opt.solve(instance)\n",
    "    print(results)"
   ]
  },
  {
   "cell_type": "markdown",
   "metadata": {},
   "source": [
    "Let us now analyze this script. The first line is a comment that happens to give the name of the file. This is followed by two lines that import symbols for Pyomo:\n",
    "\n"
   ]
  },
  {
   "cell_type": "code",
   "execution_count": 3,
   "metadata": {},
   "outputs": [],
   "source": [
    "# iterative1.py\n",
    "from pyomo.environ import *\n",
    "from pyomo.opt import SolverFactory"
   ]
  },
  {
   "cell_type": "markdown",
   "metadata": {},
   "source": [
    "An object to perform optimization is created by calling <span style=\"color:darkblue; font-family:Courier\">SolverFactory</span> with an argument giving the name of the solver.t The argument would be <span style=\"color:darkblue; font-family:Courier\">*gurobi*</span> if, e.g., Gurobi was desired instead of glpk:"
   ]
  },
  {
   "cell_type": "code",
   "execution_count": 4,
   "metadata": {},
   "outputs": [],
   "source": [
    "# Create a solver\n",
    "opt = SolverFactory('glpk')"
   ]
  },
  {
   "cell_type": "markdown",
   "metadata": {},
   "source": [
    "The next lines after a comment create a model. For our discussion here, we will refer to this as the base model because it will be extended by adding constraints later. (The words \"base model\" are not reserved words, they are just being introduced for the discussion of this example). There are no constraints in the base model, but that is just to keep it simple. Constraints could be present in the base model. Even though it is an abstract model, the base model is fully specified by these commands because it requires no external data:\n",
    "\n"
   ]
  },
  {
   "cell_type": "code",
   "execution_count": 5,
   "metadata": {},
   "outputs": [],
   "source": [
    "model = AbstractModel()\n",
    "model.n = Param(default=4)\n",
    "model.x = Var(RangeSet(model.n), within=Binary)\n",
    "def o_rule(model):\n",
    "    return summation(model.x)\n",
    "model.o = Objective(rule=o_rule)"
   ]
  },
  {
   "cell_type": "markdown",
   "metadata": {},
   "source": [
    "The next line is not part of the base model specification. It creates an empty constraint list that the script will use to add constraints.\n",
    "\n"
   ]
  },
  {
   "cell_type": "code",
   "execution_count": 6,
   "metadata": {},
   "outputs": [],
   "source": [
    "model.c = ConstraintList()"
   ]
  },
  {
   "cell_type": "markdown",
   "metadata": {},
   "source": [
    "The next non-comment line creates the instantiated model and refers to the instance object with a Python variable <span style=\"color:darkblue; font-family:Courier\">instance</span>. Models run using the <span style=\"color:darkblue; font-family:Courier\">pyomo</span> script do not typically contain this line because model instantiation is done by the <span style=\"color:darkblue; font-family:Courier\">pyomo</span> script. In this example, the <span style=\"color:darkblue; font-family:Courier\">create</span> function is called without arguments because none are needed; however, the name of a file with data commands is given as an argument in many scripts.\n",
    "\n"
   ]
  },
  {
   "cell_type": "code",
   "execution_count": 7,
   "metadata": {},
   "outputs": [],
   "source": [
    "instance = model.create_instance()"
   ]
  },
  {
   "cell_type": "markdown",
   "metadata": {},
   "source": [
    "The next line invokes the solver and refers to the object contain results with the Python variable <span style=\"color:darkblue; font-family:Courier\">results</span>."
   ]
  },
  {
   "cell_type": "code",
   "execution_count": 8,
   "metadata": {},
   "outputs": [
    {
     "name": "stdout",
     "output_type": "stream",
     "text": [
      "WARNING: Empty constraint block written in LP format - solver may error\n"
     ]
    }
   ],
   "source": [
    "results = opt.solve(instance)"
   ]
  },
  {
   "cell_type": "markdown",
   "metadata": {},
   "source": [
    "The print method of the results object is invoked by the Python <span style=\"color:darkblue; font-family:Courier\">print</span> command:"
   ]
  },
  {
   "cell_type": "code",
   "execution_count": 9,
   "metadata": {},
   "outputs": [
    {
     "name": "stdout",
     "output_type": "stream",
     "text": [
      "\n",
      "Problem: \n",
      "- Name: unknown\n",
      "  Lower bound: 0.0\n",
      "  Upper bound: 0.0\n",
      "  Number of objectives: 1\n",
      "  Number of constraints: 1\n",
      "  Number of variables: 5\n",
      "  Number of nonzeros: 1\n",
      "  Sense: minimize\n",
      "Solver: \n",
      "- Status: ok\n",
      "  Termination condition: optimal\n",
      "  Statistics: \n",
      "    Branch and bound: \n",
      "      Number of bounded subproblems: 0\n",
      "      Number of created subproblems: 0\n",
      "  Error rc: 0\n",
      "  Time: 0.020111083984375\n",
      "Solution: \n",
      "- number of solutions: 0\n",
      "  number of solutions displayed: 0\n",
      "\n"
     ]
    }
   ],
   "source": [
    "print(results)"
   ]
  },
  {
   "cell_type": "markdown",
   "metadata": {},
   "source": [
    "The next non-comment line is a Python iteration command that will successively assign the integers from 0 to 4 to the Python variable i, although that variable is not used in script. This loop is what causes the script to generate five more solutions:\n",
    "\n"
   ]
  },
  {
   "cell_type": "code",
   "execution_count": 10,
   "metadata": {},
   "outputs": [
    {
     "ename": "SyntaxError",
     "evalue": "unexpected EOF while parsing (<ipython-input-10-aa82eeb25f1e>, line 1)",
     "output_type": "error",
     "traceback": [
      "\u001b[0;36m  File \u001b[0;32m\"<ipython-input-10-aa82eeb25f1e>\"\u001b[0;36m, line \u001b[0;32m1\u001b[0m\n\u001b[0;31m    for i in range(5):\u001b[0m\n\u001b[0m                      ^\u001b[0m\n\u001b[0;31mSyntaxError\u001b[0m\u001b[0;31m:\u001b[0m unexpected EOF while parsing\n"
     ]
    }
   ],
   "source": [
    "for i in range(5):"
   ]
  },
  {
   "cell_type": "markdown",
   "metadata": {},
   "source": [
    "The next line associates the results obtained with the instance. This then enables direct queries of solution values in subsequent lines using variable names contained in the instance:"
   ]
  },
  {
   "cell_type": "code",
   "execution_count": 11,
   "metadata": {},
   "outputs": [],
   "source": [
    "    instance.solutions.load_from(results)"
   ]
  },
  {
   "cell_type": "markdown",
   "metadata": {},
   "source": [
    "An expression is built up in the Python variable named <span style=\"color:darkblue; font-family:Courier\">expr</span>. The Python variable <span style=\"color:darkblue; font-family:Courier\">j</span> will be iteratively assigned all of the indexes of the variable <span style=\"color:darkblue; font-family:Courier\">x</span>. For each index, the value of the variable (which was loaded by the <span style=\"color:darkblue; font-family:Courier\">load</span> method just described) is tested to see if it is zero and the expression in <span style=\"color:darkblue; font-family:Courier\">expr</span> is augmented accordingly. Although <span style=\"color:darkblue; font-family:Courier\">expr</span> is initialized to 0 (an integer), its type will change to be a Pyomo expression when it is assigned expressions involving Pyomo variable objects:\n",
    "\n"
   ]
  },
  {
   "cell_type": "code",
   "execution_count": null,
   "metadata": {
    "collapsed": true
   },
   "outputs": [],
   "source": [
    "    expr = 0\n",
    "    for j in instance.x:\n",
    "        if instance.x[j].value == 0:\n",
    "            expr += instance.x[j]\n",
    "        else:\n",
    "            expr += (1-instance.x[j])"
   ]
  },
  {
   "cell_type": "markdown",
   "metadata": {},
   "source": [
    "During the first iteration (when <span style=\"color:darkblue; font-family:Courier\">i</span> is 0), we know that all values of <span style=\"color:darkblue; font-family:Courier\">x</span> will be 0, so we can anticipate what the expression will look like. We know that x is indexed by the integers from 1 to 4 so we know that <span style=\"color:darkblue; font-family:Courier\">j</span> will take on the values from 1 to 4 and we also know that all value of <span style=\"color:darkblue; font-family:Courier\">x</span> will be zero for all indexes so we know that the value of <span style=\"color:darkblue; font-family:Courier\">expr</span> will be something like"
   ]
  },
  {
   "cell_type": "code",
   "execution_count": null,
   "metadata": {
    "collapsed": true
   },
   "outputs": [],
   "source": [
    "0 + instance.x[1] + instance.x[2] + instance.x[3] + instance.x[4]"
   ]
  },
  {
   "cell_type": "markdown",
   "metadata": {},
   "source": [
    "The value of <span style=\"color:darkblue; font-family:Courier\">j</span> will be evaluated because it is a Python variable; however, because it is a Pyomo variable, the value of <span style=\"color:darkblue; font-family:Courier\">instance.x[j]</span> not be used, instead the variable object will appear in the expression. That is exactly what we want in this case. When we wanted to use the current value in the <span style=\"color:darkblue; font-family:Courier\">if</span> statement, we used the <span style=\"color:darkblue; font-family:Courier\">value</span> method to get it.\n",
    "\n",
    "The next line adds to the constaint list called <span style=\"color:darkblue; font-family:Courier\">c</span> the requirement that the expression be greater than or equal to one:"
   ]
  },
  {
   "cell_type": "code",
   "execution_count": null,
   "metadata": {
    "collapsed": true
   },
   "outputs": [],
   "source": [
    "    instance.c.add( expr >= 1 )"
   ]
  },
  {
   "cell_type": "markdown",
   "metadata": {},
   "source": [
    "The proof that this precludes the last solution is left as an exerise for the reader.\n",
    "\n",
    "The final lines in the outer for loop find a solution and display it:"
   ]
  },
  {
   "cell_type": "code",
   "execution_count": null,
   "metadata": {
    "collapsed": true
   },
   "outputs": [],
   "source": [
    "    results = opt.solve(instance)\n",
    "    print results"
   ]
  },
  {
   "cell_type": "markdown",
   "metadata": {},
   "source": [
    "### 14.2 Changing the Model or Data and Re-solving\n",
    "The <span style=\"color:darkblue; font-family:Courier\">iterative1.py</span> example illustrates how a model can be changed and then re-solved. In that example, the model is changed by adding a constraint, but the model could also be changed by altering the values of parameters. Note, however, that in these examples, we make the changes to the <span style=\"color:darkblue; font-family:Courier\">instance</span> object rather than the <span style=\"color:darkblue; font-family:Courier\">model</span> object so that we do not have to create a new <span style=\"color:darkblue; font-family:Courier\">model</span> object. Here is the basic idea:\n",
    "\n",
    "1 Create an <span style=\"color:darkblue; font-family:Courier\">AbstractModel</span> (suppose it is called <span style=\"color:darkblue; font-family:Courier\">model</span>)\n",
    "\n",
    "2 Call <span style=\"color:darkblue; font-family:Courier\">model.create_instance()</span> to create an instance (suppose it is called <span style=\"color:darkblue; font-family:Courier\">instance</span>)\n",
    "\n",
    "Solve instance\n",
    "\n",
    "Change someting in instance\n",
    "\n",
    "Call presolve\n",
    "\n",
    "Solve instance again\n",
    "\n",
    "If instance has a parameter whose name is in ParamName with an index that is in idx, the the value in NewVal can be assigned to it using"
   ]
  },
  {
   "cell_type": "code",
   "execution_count": null,
   "metadata": {},
   "outputs": [],
   "source": []
  }
 ],
 "metadata": {
  "kernelspec": {
   "display_name": "Python 3",
   "language": "python",
   "name": "python3"
  },
  "language_info": {
   "codemirror_mode": {
    "name": "ipython",
    "version": 3
   },
   "file_extension": ".py",
   "mimetype": "text/x-python",
   "name": "python",
   "nbconvert_exporter": "python",
   "pygments_lexer": "ipython3",
   "version": "3.7.3"
  }
 },
 "nbformat": 4,
 "nbformat_minor": 1
}
