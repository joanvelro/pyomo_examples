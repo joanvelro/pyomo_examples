{
 "cells": [
  {
   "cell_type": "markdown",
   "metadata": {},
   "source": [
    "#12. <span style=\"color:darkblue; font-family:Courier\">BuildAction</span> and <span style=\"color:darkblue; font-family:Courier\">BuildCheck</span>"
   ]
  },
  {
   "cell_type": "markdown",
   "metadata": {},
   "source": [
    "This is a somewhat advanced topic. In some cases, it is desirable to trigger actions to be done as part of the model building process. The <span style=\"color:darkblue; font-family:Courier\">BuildAction</span> function provides this capability in a Pyomo model. It takes as arguments optional index sets and a function to peform the action. For example,"
   ]
  },
  {
   "cell_type": "code",
   "execution_count": 2,
   "metadata": {
    "collapsed": false
   },
   "outputs": [
    {
     "ename": "NameError",
     "evalue": "name 'BuildAction' is not defined",
     "output_type": "error",
     "traceback": [
      "\u001b[0;31m---------------------------------------------------------------------------\u001b[0m",
      "\u001b[0;31mNameError\u001b[0m                                 Traceback (most recent call last)",
      "\u001b[0;32m<ipython-input-2-2630602cfe7d>\u001b[0m in \u001b[0;36m<module>\u001b[0;34m()\u001b[0m\n\u001b[0;32m----> 1\u001b[0;31m \u001b[0mmodel\u001b[0m\u001b[0;34m.\u001b[0m\u001b[0mBuildBpts\u001b[0m \u001b[0;34m=\u001b[0m \u001b[0mBuildAction\u001b[0m\u001b[0;34m(\u001b[0m\u001b[0mmodel\u001b[0m\u001b[0;34m.\u001b[0m\u001b[0mJ\u001b[0m\u001b[0;34m,\u001b[0m \u001b[0mrule\u001b[0m\u001b[0;34m=\u001b[0m\u001b[0mbpts_build\u001b[0m\u001b[0;34m)\u001b[0m\u001b[0;34m\u001b[0m\u001b[0m\n\u001b[0m",
      "\u001b[0;31mNameError\u001b[0m: name 'BuildAction' is not defined"
     ]
    }
   ],
   "source": [
    "model.BuildBpts = BuildAction(model.J, rule=bpts_build)"
   ]
  },
  {
   "cell_type": "markdown",
   "metadata": {},
   "source": [
    "calls the function <span style=\"color:darkblue; font-family:Courier\">bpts_build</span> for each member of <span style=\"color:darkblue; font-family:Courier\">model.J</span>. The function <span style=\"color:darkblue; font-family:Courier\">bpts_build</span> should have the model and a variable for the members of <span style=\"color:darkblue; font-family:Courier\">model.J</span> as formal arguments. In this example, the following would be a valid declaration for the function:"
   ]
  },
  {
   "cell_type": "code",
   "execution_count": 3,
   "metadata": {
    "collapsed": false
   },
   "outputs": [
    {
     "ename": "SyntaxError",
     "evalue": "unexpected EOF while parsing (<ipython-input-3-21def2ea90d9>, line 1)",
     "output_type": "error",
     "traceback": [
      "\u001b[0;36m  File \u001b[0;32m\"<ipython-input-3-21def2ea90d9>\"\u001b[0;36m, line \u001b[0;32m1\u001b[0m\n\u001b[0;31m    def bpts_build(model, j):\u001b[0m\n\u001b[0m                             ^\u001b[0m\n\u001b[0;31mSyntaxError\u001b[0m\u001b[0;31m:\u001b[0m unexpected EOF while parsing\n"
     ]
    }
   ],
   "source": [
    "def bpts_build(model, j):"
   ]
  },
  {
   "cell_type": "markdown",
   "metadata": {},
   "source": [
    "A full example, which extends the [abstract2.py](https://software.sandia.gov/downloads/pub/pyomo/PyomoOnlineDocs.html#abstract2.py) and [abstract2piece.py](https://software.sandia.gov/downloads/pub/pyomo/PyomoOnlineDocs.html#abstract2piece.py) examples, is"
   ]
  },
  {
   "cell_type": "code",
   "execution_count": 4,
   "metadata": {
    "collapsed": true
   },
   "outputs": [],
   "source": [
    "# abstract2piecebuild.py\n",
    "# Similar to abstract2piece.py, but the breakpoints are created using a build action\n",
    "\n",
    "from pyomo.environ import *\n",
    "\n",
    "model = AbstractModel()\n",
    "\n",
    "model.I = Set()\n",
    "model.J = Set()\n",
    "\n",
    "model.a = Param(model.I, model.J)\n",
    "model.b = Param(model.I)\n",
    "model.c = Param(model.J)\n",
    "\n",
    "model.Topx = Param(default=6.1) # range of x variables\n",
    "model.PieceCnt = Param(default=100)\n",
    "\n",
    "# the next line declares a variable indexed by the set J\n",
    "model.x = Var(model.J, domain=NonNegativeReals, bounds=(0,model.Topx))\n",
    "model.y = Var(model.J, domain=NonNegativeReals)\n",
    "\n",
    "# to avoid warnings, we set breakpoints beyond the bounds\n",
    "# we are using a dictionary so that we can have different\n",
    "# breakpoints for each index. But we won't.\n",
    "model.bpts = {}\n",
    "def bpts_build(model, j):\n",
    "    model.bpts[j] = []\n",
    "    for i in range(model.PieceCnt+2):\n",
    "        model.bpts[j].append(float((i*model.Topx)/model.PieceCnt))\n",
    "# The object model.BuildBpts is not refered to again;\n",
    "# the only goal is to trigger the action at build time\n",
    "model.BuildBpts = BuildAction(model.J, rule=bpts_build)\n",
    "\n",
    "def f4(model, j, xp):\n",
    "    # we not need j in this example, but it is passed as the index for the constraint\n",
    "    return xp**4\n",
    "\n",
    "model.ComputePieces = Piecewise(model.J, model.y, model.x, pw_pts=model.bpts, pw_constr_type='EQ', f_rule=f4)\n",
    "\n",
    "def obj_expression(model):\n",
    "    return summation(model.c, model.y)\n",
    "\n",
    "model.OBJ = Objective(rule=obj_expression)\n",
    "\n",
    "def ax_constraint_rule(model, i):\n",
    "    # return the expression for the constraint for i\n",
    "    return sum(model.a[i,j] * model.x[j] for j in model.J) >= model.b[i]\n",
    "\n",
    "# the next line creates one constraint for each member of the set model.I\n",
    "model.AxbConstraint = Constraint(model.I, rule=ax_constraint_rule)"
   ]
  },
  {
   "cell_type": "markdown",
   "metadata": {},
   "source": [
    "This example uses the build action to create a model component with breakpoints for a [piecewise](https://software.sandia.gov/downloads/pub/pyomo/PyomoOnlineDocs.html#piecewise) function. The <span style=\"color:darkblue; font-family:Courier\">BuildAction</span> is triggered by the assignment to <span style=\"color:darkblue; font-family:Courier\">model.BuildBpts</span>. This object is not referenced again, the only goal is to cause the execution of <span style=\"color:darkblue; font-family:Courier\">bpts_build</span>, which places data in the <span style=\"color:darkblue; font-family:Courier\">model.bpts</span> dictionary. Note that if <span style=\"color:darkblue; font-family:Courier\">model.bpts</span> had been a <span style=\"color:darkblue; font-family:Courier\">Set</span>, then it could have been created with an initialize argument to the <span style=\"color:darkblue; font-family:Courier\">Set</span> declaration. Since it is a special-purpose dictionary to support the [piecewise](https://software.sandia.gov/downloads/pub/pyomo/PyomoOnlineDocs.html#piecewise) functionality in Pyomo, we use a <span style=\"color:darkblue; font-family:Courier\">BuildAction</span>.\n",
    "\n",
    "Another application of <span style=\"color:darkblue; font-family:Courier\">BuildAction</span> can be intialization of Pyomo model data from Python data structures, or efficient initialization of Pyomo model data from other Pyomo model data. Consider the [Isinglecomm.py](https://software.sandia.gov/downloads/pub/pyomo/PyomoOnlineDocs.html#Isinglecomm.py) example. Rather than using an initialization for each list of sets <span style=\"color:darkblue; font-family:Courier\">NodesIn</span> and <span style=\"color:darkblue; font-family:Courier\">NodesOut</span> separately using <span style=\"color:darkblue; font-family:Courier\">initialize</span>, it is a little more efficient and probably a little clearer, to use a build action.\n",
    "\n",
    "The full model is :"
   ]
  },
  {
   "cell_type": "code",
   "execution_count": 6,
   "metadata": {
    "collapsed": true
   },
   "outputs": [],
   "source": [
    "# Isinglecomm.py\n",
    "# NodesIn and NodesOut are created by a build action using the Arcs\n",
    "from pyomo.environ import *\n",
    "\n",
    "model = AbstractModel()\n",
    "\n",
    "model.Nodes = Set()\n",
    "model.Arcs = Set(dimen=2)\n",
    "\n",
    "model.NodesOut = Set(model.Nodes, within=model.Nodes, initialize=[])\n",
    "model.NodesIn = Set(model.Nodes, within=model.Nodes, initialize=[])\n",
    "\n",
    "def Populate_In_and_Out(model):\n",
    "    # loop over the arcs and put the end points in the appropriate places\n",
    "    for (i,j) in model.Arcs:\n",
    "        model.NodesIn[j].add(i)\n",
    "        model.NodesOut[i].add(j)\n",
    "\n",
    "model.In_n_Out = BuildAction(rule = Populate_In_and_Out)\n",
    "\n",
    "model.Flow = Var(model.Arcs, domain=NonNegativeReals)\n",
    "model.FlowCost = Param(model.Arcs)\n",
    "\n",
    "model.Demand = Param(model.Nodes)\n",
    "model.Supply = Param(model.Nodes)\n",
    "\n",
    "def Obj_rule(model):\n",
    "    return summation(model.FlowCost, model.Flow)\n",
    "model.Obj = Objective(rule=Obj_rule, sense=minimize)\n",
    "\n",
    "def FlowBalance_rule(model, node):\n",
    "    return model.Supply[node] \\\n",
    "     + sum(model.Flow[i, node] for i in model.NodesIn[node]) \\\n",
    "     - model.Demand[node] \\\n",
    "     - sum(model.Flow[node, j] for j in model.NodesOut[node]) \\\n",
    "     == 0\n",
    "model.FlowBalance = Constraint(model.Nodes, rule=FlowBalance_rule)"
   ]
  },
  {
   "cell_type": "markdown",
   "metadata": {},
   "source": [
    "for this model, the same data file can be used as for [Isinglecomm.py](https://software.sandia.gov/downloads/pub/pyomo/PyomoOnlineDocs.html#Isinglecomm.py) such as the toy data file:"
   ]
  },
  {
   "cell_type": "code",
   "execution_count": 7,
   "metadata": {
    "collapsed": false
   },
   "outputs": [
    {
     "ename": "SyntaxError",
     "evalue": "invalid syntax (<ipython-input-7-3f129f2ffb10>, line 3)",
     "output_type": "error",
     "traceback": [
      "\u001b[0;36m  File \u001b[0;32m\"<ipython-input-7-3f129f2ffb10>\"\u001b[0;36m, line \u001b[0;32m3\u001b[0m\n\u001b[0;31m    set Nodes := CityA CityB CityC ;\u001b[0m\n\u001b[0m            ^\u001b[0m\n\u001b[0;31mSyntaxError\u001b[0m\u001b[0;31m:\u001b[0m invalid syntax\n"
     ]
    }
   ],
   "source": [
    "# Isinglecomm.dat: data for Isinglecomm.py\n",
    "\n",
    "set Nodes := CityA CityB CityC ;\n",
    "\n",
    "set Arcs :=\n",
    "CityA CityB\n",
    "CityA CityC\n",
    "CityC CityB\n",
    ";\n",
    "\n",
    "param : FlowCost :=\n",
    "CityA CityB 1.4\n",
    "CityA CityC 2.7\n",
    "CityC CityB 1.6\n",
    " ;\n",
    "\n",
    "param Demand :=\n",
    "CityA 0\n",
    "CityB 1\n",
    "CityC 1\n",
    ";\n",
    "\n",
    "param Supply :=\n",
    "CityA 2\n",
    "CityB 0\n",
    "CityC 0\n",
    ";"
   ]
  },
  {
   "cell_type": "markdown",
   "metadata": {},
   "source": [
    "Build actions can also be a way to implement data validation, particularly when multiple Sets or Parameters must be analyzed. However, the the <span style=\"color:darkblue; font-family:Courier\">BuildCheck</span> component is prefered for this purpose. It executes its rule just like a <span style=\"color:darkblue; font-family:Courier\">BuildAction</span> but will terminate the construction of the model instance if the rule returns <span style=\"color:darkblue; font-family:Courier\">False</span>."
   ]
  }
 ],
 "metadata": {
  "kernelspec": {
   "display_name": "Python 3",
   "language": "python",
   "name": "python3"
  },
  "language_info": {
   "codemirror_mode": {
    "name": "ipython",
    "version": 3
   },
   "file_extension": ".py",
   "mimetype": "text/x-python",
   "name": "python",
   "nbconvert_exporter": "python",
   "pygments_lexer": "ipython3",
   "version": "3.4.3"
  }
 },
 "nbformat": 4,
 "nbformat_minor": 0
}
