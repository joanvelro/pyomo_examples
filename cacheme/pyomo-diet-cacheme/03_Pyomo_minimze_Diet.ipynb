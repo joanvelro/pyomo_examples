{
 "cells": [
  {
   "cell_type": "markdown",
   "metadata": {
    "nbpresent": {
     "id": "2e4fb60c-5225-4a97-b107-0d109e7402e1"
    },
    "slideshow": {
     "slide_type": "slide"
    }
   },
   "source": [
    "# DIET PROBLEM - PYOMO\n",
    "\n",
    "**Zuria Bauer Hartwig, FJ Navarro-Brull** ([CAChemE](http://cacheme.org))"
   ]
  },
  {
   "cell_type": "markdown",
   "metadata": {
    "nbpresent": {
     "id": "239b7429-60c6-4846-9d95-76d9d394382f"
    },
    "slideshow": {
     "slide_type": "subslide"
    }
   },
   "source": [
    "Sources:\n",
    "\n",
    "* Original Problem: [Linear and Integer Programming](https://www.coursera.org/course/linearprogramming) (Coursera Course) - University of Colorado Boulder & University of Colorado System\n",
    "\n",
    "* Based on the Examples from CAChemE's Optimization Workshop = [Taller-Optimizacion-Python-Pyomo](https://github.com/CAChemE/Taller-Optimizacion-Python-Pyomo) from [CAChemE.org](http://cacheme.org/optimizacion-programacion-matematica-con-python-pyomo/)\n",
    "\n",
    "* [Neos Guide - The Diet Problem](http://www.neos-guide.org/content/diet-problem)"
   ]
  },
  {
   "cell_type": "markdown",
   "metadata": {
    "nbpresent": {
     "id": "cb0e4758-2b39-4f3c-8adf-3f708b5cef5d"
    },
    "slideshow": {
     "slide_type": "slide"
    }
   },
   "source": [
    "## Big picture"
   ]
  },
  {
   "cell_type": "markdown",
   "metadata": {
    "nbpresent": {
     "id": "3dbb5e1a-b781-4a0a-b6f6-c828e0c46b79"
    },
    "slideshow": {
     "slide_type": "subslide"
    }
   },
   "source": [
    "<img src=\"img/intro.png\" alt=\"Dieta\" style=\"width: 1500px;\"/>"
   ]
  },
  {
   "cell_type": "markdown",
   "metadata": {
    "nbpresent": {
     "id": "1b0316b0-76ac-4851-92b8-e465af0b267e"
    },
    "slideshow": {
     "slide_type": "skip"
    }
   },
   "source": [
    "The goal of the diet problem is to select a set of foods we can get at a famous fast food restaurant,\n",
    "that will satisfy a set of daily nutritional requirement at minimum cost. \n",
    "The problem is formulated as a linear program where the objective is to minimize cost \n",
    "and the constraints are to satisfy the specified nutritional requirements. \n",
    "The diet problem constraints typically regulate the number of calories,\n",
    "the calories from Fat, Total Fat, Cholesterol, Sodium, \n",
    "Carbohydrates, Fiber, Sugar, Proteine, Vitamine A and C,\n",
    "Calcium and Sodium in the diet. \n",
    "While the mathematical formulation is simple, \n",
    "the solution may not be palatable! \n",
    "The nutritional requirements can be met without regard for taste or variety, \n",
    "so consider the output before digging into a meal from an \"optimal\" menu!"
   ]
  },
  {
   "cell_type": "markdown",
   "metadata": {
    "nbpresent": {
     "id": "a3c42cb9-6b86-430f-a3b6-20ebf0dde409"
    },
    "slideshow": {
     "slide_type": "skip"
    }
   },
   "source": [
    "You can have a look in here:\n",
    "https://www.mcdonalds.com/us/en-us/about-our-food/nutrition-calculator.html"
   ]
  },
  {
   "cell_type": "markdown",
   "metadata": {
    "nbpresent": {
     "id": "cc5f5200-d932-4557-967e-55ed57826aa3"
    },
    "slideshow": {
     "slide_type": "slide"
    }
   },
   "source": [
    "**GDAs (Guideline Daily Amounts)** indicate the daily input of calories and nutrients (protein, fat, saturated fat , carbohydrates , sugars , salt and fiber) necessary for the daily diet of an adult or a child.\n"
   ]
  },
  {
   "cell_type": "markdown",
   "metadata": {
    "slideshow": {
     "slide_type": "skip"
    }
   },
   "source": [
    "On the next figure you can see the recommended quantities for and adult, shown in solid color. It's also shown the quantities in one of the meals with which we are going to solve the diet problem."
   ]
  },
  {
   "cell_type": "markdown",
   "metadata": {
    "nbpresent": {
     "id": "3159405c-9758-406e-9367-caa6a4de0294"
    },
    "slideshow": {
     "slide_type": "slide"
    }
   },
   "source": [
    "<a href=\"http://www.foodlabel.org.uk/label/gda_values.aspx \" target=\"_blank\"><img src=\"img/GDA-table.png\" alt=\"GDA-values\" style=\"width: 800px;\"/></a>"
   ]
  },
  {
   "cell_type": "markdown",
   "metadata": {
    "slideshow": {
     "slide_type": "slide"
    }
   },
   "source": [
    "## Pyomo AML MODEL"
   ]
  },
  {
   "cell_type": "markdown",
   "metadata": {
    "nbpresent": {
     "id": "a77eb097-8660-47e4-9c6a-9e29fec754e0"
    },
    "slideshow": {
     "slide_type": "slide"
    }
   },
   "source": [
    "#### 1. Import\n"
   ]
  },
  {
   "cell_type": "code",
   "execution_count": 2,
   "metadata": {
    "collapsed": false,
    "slideshow": {
     "slide_type": "fragment"
    }
   },
   "outputs": [],
   "source": [
    "from pyomo.environ import *\n",
    "infinity = float('inf')\n",
    "\n",
    "# We are importing Pyomo library to our Python enviroment\n",
    "\n",
    "# Side-note:\n",
    "# Usually importing all (*) the library is a VERY BAD idea\n",
    "# By convention Pyomo documentation does that so here we are"
   ]
  },
  {
   "cell_type": "markdown",
   "metadata": {
    "slideshow": {
     "slide_type": "slide"
    }
   },
   "source": [
    "#### 2. Data"
   ]
  },
  {
   "cell_type": "markdown",
   "metadata": {
    "nbpresent": {
     "id": "4bf5e73f-1f23-4074-baf3-fde6de78ac66"
    },
    "slideshow": {
     "slide_type": "subslide"
    }
   },
   "source": [
    "We can use the following data:\n",
    "\n",
    "- http://fastfoodnutrition.org/mcdonalds/chart\n",
    "- http://www.fastfoodmenuprices.com/mcdonalds-prices/"
   ]
  },
  {
   "cell_type": "code",
   "execution_count": 3,
   "metadata": {
    "collapsed": false,
    "nbpresent": {
     "id": "1b95b2da-5b6e-417c-ada0-d96524d98194"
    },
    "scrolled": false,
    "slideshow": {
     "slide_type": "slide"
    }
   },
   "outputs": [
    {
     "name": "stdout",
     "output_type": "stream",
     "text": [
      "# http://fastfoodnutrition.org/mcdonalds/chart\r\n",
      "# http://www.fastfoodmenuprices.com/mcdonalds-prices/\r\n",
      "\r\n",
      "#Food + Cost\r\n",
      "\r\n",
      "param:  F:                                                  c  :=\r\n",
      "\"1 Low Fat Milk Jug\"                                        1  \r\n",
      "\"Blueberry Pomegranate Smoothie\"                            3.39  \r\n",
      "\"Coca-Cola Classic\"                                         1.49  \r\n",
      "\"Dasani© Water\"                                             1  \r\n",
      "\"Diet Coke\"                                                 1.32  \r\n",
      "\"Diet Dr Pepper\"                                            1.99  \r\n",
      "\"Dr Pepper\"                                                 1.99  \r\n",
      "\"Fat Free Chocolate Milk Jug\"                               2.29  \r\n",
      "\"Hi-C Orange Lavaburst\"                                     1.59  \r\n",
      "\"Iced Tea\"                                                  1  \r\n",
      "\"Mango Pineapple Smoothie\"                                  2.39  \r\n",
      "\"McCafe Classic Lemonade\"                                   1.79  \r\n",
      "\"Minute Maid Apple Juice Box\"                               2.09  \r\n",
      "\"Minute Maid® Orange Juice\"                                 2.09  \r\n",
      "\"POWERade Mountain Berry Blast\"                             2  \r\n",
      "\"Red Flash Extra Small\"                                     1.59  \r\n",
      "\"Red Flash Large\"                                           2.3  \r\n",
      "\"Red Flash Medium\"                                          2.1  \r\n",
      "\"Red Flash Small\"                                           1.89  \r\n",
      "\"Sprite\"                                                    1  \r\n",
      "\"Strawberry Banana Smoothie\"                                2.39  \r\n",
      "\"Sweet Tea\"                                                 1.49  \r\n",
      "\"Bacon  Egg & Cheese Bagel\"                                 3.29  \r\n",
      "\"Bacon  Egg & Cheese Bagel w/ Egg Whites\"                   4.99  \r\n",
      "\"Bacon  Egg & Cheese Biscuit\"                               1.39  \r\n",
      "\"Bacon  Egg & Cheese Biscuit w/ Egg Whites\"                 1.69  \r\n",
      "\"Bacon  Egg & Cheese McGriddles\"                            3.29  \r\n",
      "\"Bacon  Egg & Cheese McGriddles w/ Egg Whites\"              4.49  \r\n",
      "\"Big Breakfast w/ Egg Whites\"                               4.42  \r\n",
      "\"Big Breakfast w/ Hotcakes & Egg Whites\"                    5.49  \r\n",
      "\"Big Breakfast with Hotcakes\"                               6.1  \r\n",
      "\"Big Breakfast®\"                                            3.69  \r\n",
      "\"Cinnamon Melts\"                                            1.69  \r\n",
      "\"Egg McMuffin\"                                              2.79  \r\n",
      "\"Egg White Delight McMuffin\"                                2.79  \r\n",
      "\"Fruit & Maple Oatmeal w/ Brown Sugar\"                      1.99  \r\n",
      "\"Fruit & Maple Oatmeal w/o Brown Sugar\"                     1.99  \r\n",
      "\"Hash Brown\"                                                1.09  \r\n",
      "\"Hotcakes\"                                                  2.49  \r\n",
      "\"Hotcakes and Sausage\"                                      3.19  \r\n",
      "\"Sausage Biscuit\"                                           1.19  \r\n",
      "\"Sausage Biscuit w/ Egg Whites\"                             1.3  \r\n",
      "\"Sausage Biscuit with Egg\"                                  2.79  \r\n",
      "\"Sausage Burrito\"                                           1.29  \r\n",
      "\"Sausage McGriddles®\"                                       3.29  \r\n",
      "\"Sausage McMuffin w/ Egg Whites\"                            4.49  \r\n",
      "\"Sausage McMuffin®\"                                         1.19  \r\n",
      "\"Sausage McMuffin® with Egg\"                                1.39  \r\n",
      "\"Sausage  Egg & Cheese McGriddles\"                          3.29  \r\n",
      "\"Sausage  Egg & Cheese McGriddles Egg Whites\"               4.49  \r\n",
      "\"Southern Style Chicken Biscuit\"                            2.29  \r\n",
      "\"Steak & Egg Biscuit\"                                       3.99  \r\n",
      "\"Artisan Grilled Chicken Sandwich\"                          4.39  \r\n",
      "\"Bacon & Cheese Sirloin Third Pound Burger\"                 5  \r\n",
      "\"Bacon Buffalo Ranch McChicken\"                             2  \r\n",
      "\"Bacon Cheddar McChicken\"                                   2  \r\n",
      "\"Bacon Clubhouse Burger\"                                    4.49  \r\n",
      "\"Bacon Clubhouse Chicken Sandwich wC/ Chicken\"              4.19  \r\n",
      "\"Bacon Clubhouse Chicken Sandwich wG/ Chicken\"              4.19  \r\n",
      "\"Bacon McDouble\"                                            2  \r\n",
      "\"BBQ Ranch Burger\"                                          1  \r\n",
      "\"Big Mac\"                                                   3.99  \r\n",
      "\"Buffalo Ranch McChicken\"                                   1  \r\n",
      "\"Cheeseburger\"                                              2  \r\n",
      "\"Daily Double\"                                              1.39  \r\n",
      "\"Double Cheeseburger\"                                       1.69  \r\n",
      "\"Double Quarter Pounder® with Cheese\"                       3.79  \r\n",
      "\"Filet-O-Fish®\"                                             3.79  \r\n",
      "\"Grilled Onion Cheddar Burger\"                              1  \r\n",
      "\"Hamburger\"                                                 2.49  \r\n",
      "\"Jalapeño Double\"                                           2  \r\n",
      "\"Lettuce & Tomato Sirloin Third Pound Burger\"               4.99  \r\n",
      "\"McChicken\"                                                 2  \r\n",
      "\"McDouble\"                                                  2  \r\n",
      "\"McRib\"                                                     2.99  \r\n",
      "\"Old Bay Filet-O-Fish\"                                      3.79  \r\n",
      "\"Premium Buttermilk CrispyChicken DeluxeSandw\"             5  \r\n",
      "\"Premium Crispy Chicken Deluxe Sandwich\"                    5  \r\n",
      "\"Premium McWrap Chicken & Bacon wC/ Chicken\"                4.39  \r\n",
      "\"Premium McWrap Chicken & Bacon wG/ Chicken\"                4.39  \r\n",
      "\"Premium McWrap Chicken & Ranch wC/ Chicken\"                4.39  \r\n",
      "\"Premium McWrap Chicken & Ranch wG/ Chicken\"                4.39  \r\n",
      "\"Premium McWrap Chicken SweetChili wC/ Chicken\"             4.39  \r\n",
      "\"Premium McWrap Chicken SweetChili wG/ Chicken\"             4.39  \r\n",
      "\"Premium McWrap Southwest Chicken wC/ Chicken\"              4.99  \r\n",
      "\"Premium McWrap Southwest Chicken wG/ Chicken\"              4.99  \r\n",
      "\"Quarter Pounder Bacon & Cheese\"                            3.79  \r\n",
      "\"Quarter Pounder Deluxe\"                                    4.09  \r\n",
      "\"Quarter Pounder® with Cheese\"                              3.79  \r\n",
      "\"Southern Style Crispy Chicken Sandwich\"                    3.39  \r\n",
      "\"Steakhouse Sirloin Third Pound Burger\"                     5.19  \r\n",
      "\"Baked Hot Apple Pie\"                                       0.89  \r\n",
      "\"Chocolate Chip Cookie\"                                     0.39  \r\n",
      "\"Chocolate McCafe Shake\"                                    2.99  \r\n",
      "\"Fried Cherry Pie\"                                          0.89  \r\n",
      "\"Hot Caramel Sundae\"                                        1.19  \r\n",
      "\"Hot Fudge Sundae\"                                          1.19  \r\n",
      "\"Kiddie Ice Cream Cone\"                                     1  \r\n",
      "\"McCafe Shamrock Shake\"                                     1.79  \r\n",
      "\"McFlurry w/ M&M's Candies\"                                 2.39  \r\n",
      "\"McFlurry w/ OREO Cookies\"                                  2.39  \r\n",
      "\"Oatmeal Raisin Cookie\"                                     1.99  \r\n",
      "\"Pumpkin and Creme Pie\"                                     0.89  \r\n",
      "\"Strawberry & Creme Pie\"                                    0.89  \r\n",
      "\"Strawberry McCafe Shake\"                                   2.99  \r\n",
      "\"Strawberry Sundae\"                                         1.19  \r\n",
      "\"Premium Asian Salad w/ Crispy Chicken\"                     4.39  \r\n",
      "\"Premium Asian Salad w/ Grilled Chicken\"                    4.39  \r\n",
      "\"Premium Asian Salad w/o Chicken\"                           4.39  \r\n",
      "\"Premium Bacon Ranch Salad w/ Crispy Chicken\"               4.59  \r\n",
      "\"Premium Bacon Ranch Salad w/ Grilled Chicken\"              4.59  \r\n",
      "\"Premium Bacon Ranch Salad w/o Chicken\"                     4.59  \r\n",
      "\"Premium Southwest Salad w/ Crispy Chicken\"                 4.79  \r\n",
      "\"Premium Southwest Salad w/ Grilled Chicken\"                4.79  \r\n",
      "\"Premium Southwest Salad w/o Chicken\"                       4.79  \r\n",
      "\r\n",
      "  ;\r\n",
      " \r\n",
      "\r\n",
      "# Max and Min for each Nutrient\r\n",
      "#param:  N:       Nmin   Nmax    :=\r\n",
      "#        Cal      800     2500\r\n",
      "#        Fat      0       95\r\n",
      "#        T        0       65\r\n",
      "#        SatF     0       30\r\n",
      "#        TransF   0       30\r\n",
      "#        Chol     0       300\r\n",
      "#        Na       0       6000\r\n",
      "#        Car      100       300\r\n",
      "#        F        0       25\r\n",
      "#        S        0       120\r\n",
      "#        P        18       55\r\n",
      "#        VA       0        .\r\n",
      "#        VC       10       .\r\n",
      "#        Ca       10       .\r\n",
      "#        I        10       .    ;\r\n",
      "\r\n",
      "# Max and Min for each Nutrient\r\n",
      "param:  N:       Nmin   Nmax    :=\r\n",
      "        Cal      800     2500\r\n",
      "        Fat      32      95\r\n",
      "        T        0       65\r\n",
      "        SatF     0       30\r\n",
      "        TransF   0       30\r\n",
      "        Chol     0       300\r\n",
      "        Na       0       6000\r\n",
      "        Car      100     300\r\n",
      "        F        8       25\r\n",
      "        S        40      120\r\n",
      "        P        18      55\r\n",
      "        VA       0        .\r\n",
      "        VC       10       .\r\n",
      "        Ca       10       .\r\n",
      "        I        10       .    ;\r\n",
      "\r\n",
      "#Cal = kCalories\r\n",
      "#Fat = kCalories from Fat\r\n",
      "#T = Total Fat (g)\r\n",
      "#Chol = Cholesterol (mg)\r\n",
      "#Na = Sodium (mg)\r\n",
      "#Car = Carbohydrates (g)\r\n",
      "#F = Fiber (g)\r\n",
      "#S = Sugar (g)\r\n",
      "#P = Proteine (g)\r\n",
      "#VA = Vitamine A\r\n",
      "#VC = Vitamine C\r\n",
      "#Ca = Calcium\r\n",
      "#I = Iron\r\n",
      "\r\n",
      "# Amount of nutrient\r\n",
      "\r\n",
      "param a:\r\n",
      "                                               Cal   Fat   T   SatF   TransF   Chol   Na   Car   F   S   P   VA   VC   Ca   I:=\r\n",
      "\"1 Low Fat Milk Jug\"                           100   20    3   2      0        10     125  12    0   12  8   10   4    30   0  \r\n",
      "\"Blueberry Pomegranate Smoothie\"               220   5     0   0      0        5      40   50    3   44  2   0    2    6    2  \r\n",
      "\"Coca-Cola Classic\"                            210   0     0   0      0        0      15   58    0   58  0   0    0    0    0  \r\n",
      "\"Dasani© Water\"                                0     0     0   0      0        0      0    0     0   0   0   0    0    0    0  \r\n",
      "\"Diet Coke\"                                    0     0     0   0      0        0      30   0     0   0   0   0    0    0    0  \r\n",
      "\"Diet Dr Pepper\"                               0     0     0   0      0        0      75   0     0   0   0   0    0    0    0  \r\n",
      "\"Dr Pepper\"                                    210   0     0   0      0        0      75   56    0   56  0   0    0    0    0  \r\n",
      "\"Fat Free Chocolate Milk Jug\"                  130   0     0   0      0        5      135  23    0   22  9   10   0    30   8  \r\n",
      "\"Hi-C Orange Lavaburst\"                        240   0     0   0      0        0      10   64    0   64  0   0    210  0    0  \r\n",
      "\"Iced Tea\"                                     0     0     0   0      0        0      15   0     0   0   0   0    0    0    0  \r\n",
      "\"Mango Pineapple Smoothie\"                     220   10    1   0.5    0        5      45   49    2   47  3   35   30   8    2  \r\n",
      "\"McCafe Classic Lemonade\"                      100   0     0   0      0        0      10   25    1   21  0   0    35   2    0  \r\n",
      "\"Minute Maid Apple Juice Box\"                  100   0     0   0      0        0      15   23    0   22  0   0    100  10   0  \r\n",
      "\"Minute Maid® Orange Juice\"                    190   0     0   0      0        0      0    39    0   39  3   0    180  4    0  \r\n",
      "\"POWERade Mountain Berry Blast\"                150   0     0   0      0        0      130  39    0   31  0   0    0    0    0  \r\n",
      "\"Red Flash Extra Small\"                        110   0     0   0      0        0      0    29    0   29  0   0    0    0    0  \r\n",
      "\"Red Flash Large\"                              300   0     0   0      0        0      0    81    0   80  0   0    0    0    0  \r\n",
      "\"Red Flash Medium\"                             220   0     0   0      0        0      0    58    0   58  0   0    0    0    0  \r\n",
      "\"Red Flash Small\"                              150   0     0   0      0        0      0    41    0   41  0   0    0    0    0  \r\n",
      "\"Sprite\"                                       210   0     0   0      0        0      55   56    0   56  0   0    0    0    0  \r\n",
      "\"Strawberry Banana Smoothie\"                   210   5     1   0      0        5      50   47    3   44  3   0    30   8    2  \r\n",
      "\"Sweet Tea\"                                    180   0     0   0      0        0      10   45    0   45  1   0    0    0    0  \r\n",
      "\"Bacon  Egg & Cheese Bagel\"                    560   240   27  9      1        260    1300 56    3   7   24  20   2    20  20  \r\n",
      "\"Bacon  Egg & Cheese Bagel w/ Egg Whites\"      510   190   21  7      0.5      45     1230 55    3   7   25  10   2    20  15  \r\n",
      "\"Bacon  Egg & Cheese Biscuit\"                  420   210   23  12     0        235    1160 37    2   3   15  10   0    15  15  \r\n",
      "\"Bacon  Egg & Cheese Biscuit w/ Egg Whites\"    360   160   17  10     0        20     1130 36    2   3   16  2    0    15  10  \r\n",
      "\"Bacon  Egg & Cheese McGriddles\"               420   160   18  8      0        240    1110 48    2   15  15  10   0    20  15  \r\n",
      "\"Bacon  Egg & Cheese McGriddles w/ Egg Whites\" 360   110   12  6      0        25     1080 46    2   15  16  2    0    15  10  \r\n",
      "\"Big Breakfast w/ Egg Whites\"                  640   330   37  14     0        35     1590 50    3   3   26  0    2    10  15  \r\n",
      "\"Big Breakfast w/ Hotcakes & Egg Whites\"       990   410   46  16     0        55     2170 110   6   17  35  0    2    25  30  \r\n",
      "\"Big Breakfast with Hotcakes\"                  1090  510   56  19     0        575    2150 111   6   17  36  15   2    25  40  \r\n",
      "\"Big Breakfast®\"                               740   430   48  17     0        555    1560 51    3   3   28  15   2    15  25  \r\n",
      "\"Cinnamon Melts\"                               460   170   19  9      0        15     370  66    3   32  6   4    0    6  15  \r\n",
      "\"Egg McMuffin\"                                 300   110   12  5      0        260    820  30    2   3   18  10   0    30  20  \r\n",
      "\"Egg White Delight McMuffin\"                   250   60    7   3      0        25     800  32    5   3   18  4    0    25  10  \r\n",
      "\"Fruit & Maple Oatmeal w/ Brown Sugar\"         290   40    5   2      0        10     160  57    5   32  5   2    130  10  10  \r\n",
      "\"Fruit & Maple Oatmeal w/o Brown Sugar\"        260   40    5   2      0        10     115  48    5   18  5   2    130  6  10  \r\n",
      "\"Hash Brown\"                                   150   80    9   2      0        0      310  15    2   0   1   0    2    0  2  \r\n",
      "\"Hotcakes\"                                     350   80    9   2      0        20     590  60    3   14  8   0    0    15  15  \r\n",
      "\"Hotcakes and Sausage\"                         520   210   24  7      0        50     930  61    3   14  15  0    0    15  15  \r\n",
      "\"Sausage Biscuit\"                              430   240   27  12     0        30     1080 34    2   2   11  0    0    6   15  \r\n",
      "\"Sausage Biscuit w/ Egg Whites\"                460   250   27  12     0        35     1180 34    2   3   18  0    0    8   15  \r\n",
      "\"Sausage Biscuit with Egg\"                     510   290   33  14     0        250    1170 36    2   2   18  6    0    10  20  \r\n",
      "\"Sausage Burrito\"                              300   140   16  7      0        115    830  26    1   2   12  10   2    15  15  \r\n",
      "\"Sausage McGriddles®\"                          420   200   22  8      0        35     1030 44    2   15  11  0    0    8   10  \r\n",
      "\"Sausage McMuffin w/ Egg Whites\"               400   200   22  8      0        50     910  31    5   2   22  4    0    25  10  \r\n",
      "\"Sausage McMuffin®\"                            370   200   22  8      0        45     850  29    2   2   14  6    2    25  15  \r\n",
      "\"Sausage McMuffin® with Egg\"                   450   250   27  10     0        285    920  30    2   2   21  10   2    30  20  \r\n",
      "\"Sausage  Egg & Cheese McGriddles\"             560   290   32  12     0        265    1360 48    2   15  20  10   0    20  15  \r\n",
      "\"Sausage  Egg & Cheese McGriddles Egg Whites\"  500   230   26  10     0        50     1320 46    2   15  21  2    0    20  10  \r\n",
      "\"Southern Style Chicken Biscuit\"               410   180   20  8      0        30     1180 41    2   3   17  0    2    6   15  \r\n",
      "\"Steak & Egg Biscuit\"                          540   290   32  16     1        280    1470 38    2   3   25  10   2    20  25  \r\n",
      "\"Artisan Grilled Chicken Sandwich\"             360   50    6  1.5     0        80     930  43    3   11  32  4    15   20  10  \r\n",
      "\"Bacon & Cheese Sirloin Third Pound Burger\"    810   370   41  18     2        155    2060 65    4   13  47  10   15   25  35  \r\n",
      "\"Bacon Buffalo Ranch McChicken\"                420   180   20  4.5    0        50     1250 41    2   6   20  2    10   15  15  \r\n",
      "\"Bacon Cheddar McChicken\"                      480   220   24  7      0        65     1260 43    2   6   22  4    10   20  15  \r\n",
      "\"Bacon Clubhouse Burger\"                       720   360   40  15     1.5      115    1470 51    4   14  39  8    25   30  25  \r\n",
      "\"Bacon Clubhouse Chicken Sandwich wC/ Chicken\" 750   340   38  10     0.5      90     1720 65    4   16  36  8    25   30  15  \r\n",
      "\"Bacon Clubhouse Chicken Sandwich wG/ Chicken\" 590   230   25  8      0        110    1560 51    4   14  40  8    30   30  15  \r\n",
      "\"Bacon McDouble\"                               460   210   24  10     1        85     1120 34    2   7   28  6    10   20  20  \r\n",
      "\"BBQ Ranch Burger\"                             350   140   16  6      0.5      45     680  37    3   7   16  4    0    20  15  \r\n",
      "\"Big Mac\"                                      540   260   29  10     2        75     1040 45    3   9   25  6    2    25  25  \r\n",
      "\"Buffalo Ranch McChicken\"                      350   130   15  3      0        35     980  40    2   5   14  2    2    15  15  \r\n",
      "\"Cheeseburger\"                                 300   110   12  6      1        40     750  33    2   6   15  6    2    20  15  \r\n",
      "\"Daily Double\"                                 440   220   24  9      1.5      70     770  33    2   7   23  6    6    20  20  \r\n",
      "\"Double Cheeseburger\"                          440   210   23  11     2        80     1150 34    2   7   25  10   2    25  20  \r\n",
      "\"Double Quarter Pounder® with Cheese\"          740   380   42  19     3        155    1380 40    3   9   48  10   4    30  35  \r\n",
      "\"Filet-O-Fish®\"                                380   170   18  4      0        40     640  38    2   5   15  2    0    15  10  \r\n",
      "\"Grilled Onion Cheddar Burger\"                 310   120   13  6      0.5      40     660  33    2   7   15  2    0    20  15  \r\n",
      "\"Hamburger\"                                    250   80    9   4      1        25     520  31    2   6   12  0    2    10  15  \r\n",
      "\"Jalapeño Double\"                              430   210   23  9      1        80     1030 35    2   6   22  6    8    20  20  \r\n",
      "\"Lettuce & Tomato Sirloin Third Pound Burger\"  750   350   39  16     2        135    1590 62    4   10  39  15   8    25  35  \r\n",
      "\"McChicken\"                                    360   150   16  3      0        35     830  40    2   5   14  0    2    10  15  \r\n",
      "\"McDouble\"                                     390   170   19  8      1        65     920  33    2   7   22  6    2    20  20  \r\n",
      "\"McRib\"                                        500   240   26  10     0        70     980  44    3   11  22  2    2    15  20  \r\n",
      "\"Old Bay Filet-O-Fish\"                         390   170   19  4      0        40     590  39    2   5   15  2    0    15  10  \r\n",
      "\"Premium Buttermilk CrispyChicken DeluxeSandw\" 580   220   24  4.5    0        65     900  62    4   16  29  6    20   20  20  \r\n",
      "\"Premium Crispy Chicken Deluxe Sandwich\"       530   200   22  4      0        45     1000 59    3   13  25  6    10   20  15  \r\n",
      "\"Premium McWrap Chicken & Bacon wC/ Chicken\"   600   270   30  8      0.5      70     1420 54    3   7   30  15   10   15  20  \r\n",
      "\"Premium McWrap Chicken & Bacon wG/ Chicken\"   440   150   16  6      0        90     1250 40    3   5   33  15   15   15  20  \r\n",
      "\"Premium McWrap Chicken & Ranch wC/ Chicken\"   590   260   29  8      0.5      60     1300 56    3   8   26  15   15   20  20  \r\n",
      "\"Premium McWrap Chicken & Ranch wG/ Chicken\"   430   140   16  6      0        80     1130 42    3   6   30  15   15   15  20  \r\n",
      "\"Premium McWrap Chicken SweetChili wC/ Chicken\" 520  200   22  4.5    0        45     1200 58    3   12  23  10   6    8   20  \r\n",
      "\"Premium McWrap Chicken SweetChili wG/ Chicken\" 360  80    9   2.5    0        65     1030 44    2   10  27  10   8    8   20  \r\n",
      "\"Premium McWrap Southwest Chicken wC/ Chicken\" 680   300   33  8      0.5      65     1470 68    4   12  27  15   15   20  20  \r\n",
      "\"Premium McWrap Southwest Chicken wG/ Chicken\" 520   180   20  6      0.5      80     1300 54    4   10  31  15   15   20  20  \r\n",
      "\"Quarter Pounder Bacon & Cheese\"               600   260   29  13     1.5      105    1440 48    3   12  37  6    15   25  30  \r\n",
      "\"Quarter Pounder Deluxe\"                       540   250   27  11     1.5      85     960  45    3   9   29  10   8    25  30  \r\n",
      "\"Quarter Pounder® with Cheese\"                 510   230   26  12     2        90     1190 40    3   9   29  10   4    30  25  \r\n",
      "\"Southern Style Crispy Chicken Sandwich\"       420   170   19  3      0        45     930  43    2   7   21  2    2    15  15  \r\n",
      "\"Steakhouse Sirloin Third Pound Burger\"        730   320   36  16     2        135    1560 62    4   10  39  8    2    25  35  \r\n",
      "\"Baked Hot Apple Pie\"                          250   110   13  7      0        0      170  32    4   13  2   4    25   2   6  \r\n",
      "\"Chocolate Chip Cookie\"                        160   70    8   3.5    0        10     90   21    1   15  2   2    0    2   8  \r\n",
      "\"Chocolate McCafe Shake\"                       560   150   16  10     1        60     240  91    1   77  12  20   0    40  8  \r\n",
      "\"Fried Cherry Pie\"                             230   90    10  3.5    0        0      135  33    1   15  2   6    0    2   6  \r\n",
      "\"Hot Caramel Sundae\"                           340   70    8   5      0        30     150  60    0   43  7   10   0    25  0  \r\n",
      "\"Hot Fudge Sundae\"                             330   80    9   7      0        25     170  53    1   48  8   8    0    25  8  \r\n",
      "\"Kiddie Ice Cream Cone\"                        45    10    2   1      0        5      20   7     0   6   1   2    0    4   0  \r\n",
      "\"McCafe Shamrock Shake\"                        530   140   15  10     1        60     160  86    0   73  11  20   0    40  0  \r\n",
      "\"McFlurry w/ M&M's Candies\"                    650   210   23  14     0.5      50     180  96    1   89  13  15   0    45  8  \r\n",
      "\"McFlurry w/ OREO Cookies\"                     510   150   17  9      0.5      45     280  80    1   64  12  15   0    40  8  \r\n",
      "\"Oatmeal Raisin Cookie\"                        150   50    6   2.5    0        10     135  22    1   13  2   2    0    2   6  \r\n",
      "\"Pumpkin and Creme Pie\"                        270   130   15  8      0        10     160  32    2   12  3   25   0    4   8  \r\n",
      "\"Strawberry & Creme Pie\"                       310   150   17  9      0        10     180  36    1   15  4   6    6    4   6  \r\n",
      "\"Strawberry McCafe Shake\"                      550   150   16  10     1        60     160  90    0   79  12  20   0    40  0  \r\n",
      "\"Strawberry Sundae\"                            280   60    6   4      0        25     85   49    0   45  6   8    4    20  0  \r\n",
      "\"Premium Asian Salad w/ Crispy Chicken\"        410   200   22  3      0        45     740  32    5   12  23  180  70   15  15  \r\n",
      "\"Premium Asian Salad w/ Grilled Chicken\"       270   80    9   1      0        80     740  18    5   10  31  180  70   10  15  \r\n",
      "\"Premium Asian Salad w/o Chicken\"              140   70    7   0.5    0        0      20   13    5   7   7   180  45   10  15  \r\n",
      "\"Premium Bacon Ranch Salad w/ Crispy Chicken\"  390   190   22  6      0        70     870  24    4   7   26  160  35   15  10  \r\n",
      "\"Premium Bacon Ranch Salad w/ Grilled Chicken\" 230   80    9   4      0        85     700  10    4   5   30  160  35   15  10  \r\n",
      "\"Premium Bacon Ranch Salad w/o Chicken\"        140   70    7   4      0        25     300  10    3   4   9   160  30   15  8  \r\n",
      "\"Premium Southwest Salad w/ Crispy Chicken\"    450   190   21  5      0        50     820  42    7   13  23  160  30   15  15  \r\n",
      "\"Premium Southwest Salad w/ Grilled Chicken\"   290   70    8   3      0        70     650  28    7   11  27  160  35   15  15  \r\n",
      "\"Premium Southwest Salad w/o Chicken\"          140   40    5   2      0        10     150  20    6   6   6   160  25   15  10\r\n",
      ";\r\n"
     ]
    }
   ],
   "source": [
    "# Let's have a look to the data:\n",
    "# Mac or Linux ('!' meaning to be run through the terminal)\n",
    "!cat data/foodmin1.dat\n",
    "\n",
    "# Windows via cmd.exe\n",
    "#!type data\\foodmin.dat"
   ]
  },
  {
   "cell_type": "markdown",
   "metadata": {
    "slideshow": {
     "slide_type": "skip"
    }
   },
   "source": [
    "**Note**: Window's users can use `!type data\\foodmin.dat` command instead of `!cat data/foodmin.dat`"
   ]
  },
  {
   "cell_type": "markdown",
   "metadata": {
    "nbpresent": {
     "id": "d8fba60f-f670-442b-8a9d-42480d45e41b"
    },
    "slideshow": {
     "slide_type": "slide"
    }
   },
   "source": [
    "## Solving"
   ]
  },
  {
   "cell_type": "markdown",
   "metadata": {
    "nbpresent": {
     "id": "622683dd-f209-4dd9-8b73-4c12ed985510"
    },
    "slideshow": {
     "slide_type": "slide"
    }
   },
   "source": [
    "#### 3. Model"
   ]
  },
  {
   "cell_type": "code",
   "execution_count": 4,
   "metadata": {
    "collapsed": false,
    "nbpresent": {
     "id": "b36cc066-2490-46ea-92b4-494e9ab28a1a"
    },
    "slideshow": {
     "slide_type": "fragment"
    }
   },
   "outputs": [],
   "source": [
    "# The AbstractModel class provides a context for defining and initializing abstract optimization models in Pyomo\n",
    "\n",
    "model = AbstractModel()"
   ]
  },
  {
   "cell_type": "markdown",
   "metadata": {
    "nbpresent": {
     "id": "cc943701-e6c1-4f98-b832-01720d7b3e74"
    },
    "slideshow": {
     "slide_type": "slide"
    }
   },
   "source": [
    "#### 4. Sets"
   ]
  },
  {
   "cell_type": "code",
   "execution_count": 5,
   "metadata": {
    "collapsed": true,
    "nbpresent": {
     "id": "97b2e529-ec85-4625-983a-bf41d844aabd"
    },
    "slideshow": {
     "slide_type": "fragment"
    }
   },
   "outputs": [],
   "source": [
    "## DEFINE SETS\n",
    "# Set data that is used to define a model instance\n",
    "\n",
    "# Products\n",
    "model.F = Set()\n",
    "# Nutrients\n",
    "model.N = Set()"
   ]
  },
  {
   "cell_type": "markdown",
   "metadata": {
    "nbpresent": {
     "id": "2e154902-291d-4593-b4ae-16029c4f66af"
    },
    "slideshow": {
     "slide_type": "slide"
    }
   },
   "source": [
    "#### 5. Parameters"
   ]
  },
  {
   "cell_type": "code",
   "execution_count": 6,
   "metadata": {
    "collapsed": false,
    "nbpresent": {
     "id": "30abff24-cfe5-4adf-b304-72a2f87df474"
    },
    "slideshow": {
     "slide_type": "fragment"
    }
   },
   "outputs": [],
   "source": [
    "## DEFINE PARAMETERS\n",
    "# Parameter data that is used to define a model instance\n",
    "\n",
    "# Cost\n",
    "model.c = Param(model.F, within = PositiveReals)\n",
    "\n",
    "# Amount of nutrient\n",
    "model.a    = Param(model.F, model.N, within = NonNegativeReals)\n",
    "\n",
    "# Max and Min for each Nutrient\n",
    "model.Nmin = Param(model.N, within = NonNegativeReals, default = 0.0)\n",
    "model.Nmax = Param(model.N, within = NonNegativeReals, default = infinity)"
   ]
  },
  {
   "cell_type": "markdown",
   "metadata": {
    "nbpresent": {
     "id": "643b7340-4ea9-4ca0-b200-5658be6a12df"
    },
    "slideshow": {
     "slide_type": "slide"
    }
   },
   "source": [
    "#### 6. Variables"
   ]
  },
  {
   "cell_type": "code",
   "execution_count": 7,
   "metadata": {
    "collapsed": false,
    "nbpresent": {
     "id": "d072c23c-ddf7-48da-81c0-103c66fa1d71"
    },
    "scrolled": true,
    "slideshow": {
     "slide_type": "fragment"
    }
   },
   "outputs": [],
   "source": [
    "## VARIABLES\n",
    "# Decision variables in a model\n",
    "\n",
    "# Number of servings (notice we are using integers)\n",
    "model.x = Var(model.F, within = NonNegativeIntegers)"
   ]
  },
  {
   "cell_type": "markdown",
   "metadata": {
    "nbpresent": {
     "id": "79718eb5-94eb-4467-b6c0-9defea065589"
    },
    "slideshow": {
     "slide_type": "slide"
    }
   },
   "source": [
    "#### 7. Objective"
   ]
  },
  {
   "cell_type": "code",
   "execution_count": 8,
   "metadata": {
    "collapsed": false,
    "nbpresent": {
     "id": "96395026-b33f-4c76-b6f6-5b40e0d165a2"
    },
    "scrolled": true,
    "slideshow": {
     "slide_type": "fragment"
    }
   },
   "outputs": [],
   "source": [
    "## OBJECTIVE\n",
    "# Expressions that are minimized or maximized in a model\n",
    "\n",
    "# Minimize z(cost)\n",
    "def cost(model):\n",
    "    return sum(model.c[i] * model.x[i] for i in model.F)\n",
    "model.cost = Objective(rule=cost)"
   ]
  },
  {
   "cell_type": "markdown",
   "metadata": {
    "nbpresent": {
     "id": "67286808-17b0-45a8-9b50-754eda838545"
    },
    "slideshow": {
     "slide_type": "slide"
    }
   },
   "source": [
    "#### 8. Constraints"
   ]
  },
  {
   "cell_type": "code",
   "execution_count": 9,
   "metadata": {
    "collapsed": false,
    "nbpresent": {
     "id": "046b2829-6922-4492-806e-ea96602aaee0"
    },
    "scrolled": true,
    "slideshow": {
     "slide_type": "fragment"
    }
   },
   "outputs": [],
   "source": [
    "## CONSTRAINTS\n",
    "# Constraint expressions that impose restrictions on variable values in a model\n",
    "\n",
    "#Max\n",
    "def nutrients_max(model, j):\n",
    "    value = sum(model.a[i,j] * model.x[i] for i in model.F)\n",
    "    return value <= model.Nmax[j]\n",
    "model.nutrient_limit_max = Constraint(model.N, rule=nutrients_max)\n",
    "\n",
    "#Min\n",
    "def nutrient_min(model, j):\n",
    "    value = sum(model.a[i,j] * model.x[i] for i in model.F)\n",
    "    return model.Nmin[j] <= value \n",
    "model.nutrient_limit_min = Constraint(model.N, rule=nutrient_min)"
   ]
  },
  {
   "cell_type": "markdown",
   "metadata": {
    "nbpresent": {
     "id": "831ffd83-c3ba-447e-933a-49d6e2182e19"
    },
    "slideshow": {
     "slide_type": "slide"
    }
   },
   "source": [
    "## Solving a model"
   ]
  },
  {
   "cell_type": "markdown",
   "metadata": {
    "slideshow": {
     "slide_type": "subslide"
    }
   },
   "source": [
    "Solving the problem with the day-intake as maximum and as minimum 1/3 of the recommended values, we get the following answer:"
   ]
  },
  {
   "cell_type": "markdown",
   "metadata": {
    "collapsed": true,
    "slideshow": {
     "slide_type": "slide"
    }
   },
   "source": [
    "<img src=\"img/Selection_082.png\" alt=\"Inf\" style=\"width: 700px;\"/>\n"
   ]
  },
  {
   "cell_type": "markdown",
   "metadata": {
    "slideshow": {
     "slide_type": "slide"
    }
   },
   "source": [
    "<img src=\"img/Selection_083.png\" alt=\"Inf\" style=\"width: 800px;\"/>"
   ]
  },
  {
   "cell_type": "markdown",
   "metadata": {
    "slideshow": {
     "slide_type": "slide"
    }
   },
   "source": [
    "Now we are going to change the constraints. We are only setting minimum values for the **Calories**, **Fat**, **Carbohydrates**, **Fiber**, **Sugar** and **Proteins**"
   ]
  },
  {
   "cell_type": "code",
   "execution_count": 10,
   "metadata": {
    "collapsed": false,
    "nbpresent": {
     "id": "32b43d5f-b621-4b3a-8400-8d7e8b2147c3"
    },
    "scrolled": true,
    "slideshow": {
     "slide_type": "subslide"
    }
   },
   "outputs": [
    {
     "name": "stdout",
     "output_type": "stream",
     "text": [
      "[    0.00] Setting up Pyomo environment\n",
      "[    0.00] Applying Pyomo preprocessing actions\n",
      "[    0.14] Creating model\n",
      "[    0.30] Applying solver\n",
      "[    0.34] Processing results\n",
      "    Number of solutions: 1\n",
      "    Solution Information\n",
      "      Gap: 0.0\n",
      "      Status: optimal\n",
      "      Function Value: 7.2700000000000005\n",
      "    Solver results file: results.yml\n",
      "[    0.34] Applying Pyomo postprocessing actions\n",
      "[    0.34] Pyomo Finished\n"
     ]
    }
   ],
   "source": [
    "#To get a solution:\n",
    "\n",
    "# Mac or Linux ('!' meaning to be run through the terminal)\n",
    "!pyomo solve --solver=glpk problems/diet-minimize/minimizecost.py data/foodmin1.dat\n",
    "\n",
    "# windows:\n",
    "#!pyomo solve --solver=glpk problems\\diet-minimize\\minimizecost.py data\\foodmin.dat"
   ]
  },
  {
   "cell_type": "markdown",
   "metadata": {
    "nbpresent": {
     "id": "5505f380-4b53-4c01-8418-95ba767d4828"
    },
    "slideshow": {
     "slide_type": "slide"
    }
   },
   "source": [
    "##  Results"
   ]
  },
  {
   "cell_type": "markdown",
   "metadata": {
    "slideshow": {
     "slide_type": "fragment"
    }
   },
   "source": [
    "Lets have a look to the results now since...\n",
    "**We are HUNGRY!**"
   ]
  },
  {
   "cell_type": "code",
   "execution_count": 11,
   "metadata": {
    "collapsed": false,
    "nbpresent": {
     "id": "88221456-df6f-46a0-a3e3-1f64d9caf78f"
    },
    "scrolled": false,
    "slideshow": {
     "slide_type": "slide"
    }
   },
   "outputs": [
    {
     "name": "stdout",
     "output_type": "stream",
     "text": [
      "# ==========================================================\r\n",
      "# = Solver Results                                         =\r\n",
      "# ==========================================================\r\n",
      "# ----------------------------------------------------------\r\n",
      "#   Problem Information\r\n",
      "# ----------------------------------------------------------\r\n",
      "Problem: \r\n",
      "- Name: unknown\r\n",
      "  Lower bound: 7.27\r\n",
      "  Upper bound: 7.27\r\n",
      "  Number of objectives: 1\r\n",
      "  Number of constraints: 27\r\n",
      "  Number of variables: 116\r\n",
      "  Number of nonzeros: 2439\r\n",
      "  Sense: minimize\r\n",
      "# ----------------------------------------------------------\r\n",
      "#   Solver Information\r\n",
      "# ----------------------------------------------------------\r\n",
      "Solver: \r\n",
      "- Status: ok\r\n",
      "  Termination condition: optimal\r\n",
      "  Statistics: \r\n",
      "    Branch and bound: \r\n",
      "      Number of bounded subproblems: 113\r\n",
      "      Number of created subproblems: 113\r\n",
      "  Error rc: 0\r\n",
      "  Time: 0.014110803604125977\r\n",
      "# ----------------------------------------------------------\r\n",
      "#   Solution Information\r\n",
      "# ----------------------------------------------------------\r\n",
      "Solution: \r\n",
      "- number of solutions: 1\r\n",
      "  number of solutions displayed: 1\r\n",
      "- Gap: 0.0\r\n",
      "  Status: optimal\r\n",
      "  Message: None\r\n",
      "  Objective:\r\n",
      "    cost:\r\n",
      "      Value: 7.2700000000000005\r\n",
      "  Variable:\r\n",
      "    x[Fruit & Maple Oatmeal w/o Brown Sugar]:\r\n",
      "      Value: 2\r\n",
      "    x[Sprite]:\r\n",
      "      Value: 1\r\n",
      "    x[Fat Free Chocolate Milk Jug]:\r\n",
      "      Value: 1\r\n",
      "  Constraint: No values\r\n"
     ]
    }
   ],
   "source": [
    "# Mac or Linux ('!' meaning to be run through the terminal)\n",
    "!cat results.yml"
   ]
  },
  {
   "cell_type": "markdown",
   "metadata": {
    "nbpresent": {
     "id": "5b6b5b39-ea46-4558-9734-1e27195c1db2"
    },
    "slideshow": {
     "slide_type": "slide"
    }
   },
   "source": [
    "The solution we have obtained using Pyomo is a **Fat Free Chocolate Milk Jug**, a **Sprite** and **2 Fruit & Maple Oatmeal w/o Brown Sugar** costing $7.27"
   ]
  },
  {
   "cell_type": "markdown",
   "metadata": {
    "nbpresent": {
     "id": "113bdd5d-d832-465b-b89e-376dd6e8415e"
    },
    "slideshow": {
     "slide_type": "slide"
    }
   },
   "source": [
    "<img src=\"img/dietproblem.png\" style=\"width: 900px;\"/>\n"
   ]
  }
 ],
 "metadata": {
  "anaconda-cloud": {},
  "celltoolbar": "Slideshow",
  "kernelspec": {
   "display_name": "Python 3",
   "language": "python",
   "name": "python3"
  },
  "language_info": {
   "codemirror_mode": {
    "name": "ipython",
    "version": 3
   },
   "file_extension": ".py",
   "mimetype": "text/x-python",
   "name": "python",
   "nbconvert_exporter": "python",
   "pygments_lexer": "ipython3",
   "version": "3.5.2"
  },
  "nbpresent": {
   "slides": {
    "f6e29940-c3fa-43d9-85f2-075f75bbb843": {
     "id": "f6e29940-c3fa-43d9-85f2-075f75bbb843",
     "layout": "manual",
     "prev": "fddfa8b7-b1a4-4a27-aa78-d93c53d70c55",
     "regions": {
      "00d9bd16-7c00-43f3-8a42-8bfec9943a82": {
       "attrs": {
        "height": 0.8591016548463358,
        "width": 0.9023936170212766,
        "x": 0.0566489361702128,
        "y": 0.07765957446808516
       },
       "content": {
        "cell": "239b7429-60c6-4846-9d95-76d9d394382f",
        "part": "source"
       },
       "id": "00d9bd16-7c00-43f3-8a42-8bfec9943a82",
       "width": 0.8,
       "x": 0.4,
       "y": 0.4
      }
     }
    },
    "fddfa8b7-b1a4-4a27-aa78-d93c53d70c55": {
     "id": "fddfa8b7-b1a4-4a27-aa78-d93c53d70c55",
     "prev": null,
     "regions": {
      "f344628c-f354-420f-843a-e40733a3ace1": {
       "attrs": {
        "height": 0.8,
        "width": 0.8,
        "x": 0.1,
        "y": 0.1
       },
       "content": {
        "cell": "2e4fb60c-5225-4a97-b107-0d109e7402e1",
        "part": "source"
       },
       "id": "f344628c-f354-420f-843a-e40733a3ace1",
       "x": 0.8,
       "y": 0.8
      }
     }
    }
   },
   "themes": {
    "default": "8cc5bf27-52f9-44e9-b427-f1d70fff4a5a",
    "theme": {
     "8cc5bf27-52f9-44e9-b427-f1d70fff4a5a": {
      "backgrounds": {
       "backgroundColor": {
        "background-color": "backgroundColor",
        "id": "backgroundColor"
       }
      },
      "id": "8cc5bf27-52f9-44e9-b427-f1d70fff4a5a",
      "palette": {
       "backgroundColor": {
        "id": "backgroundColor",
        "rgb": [
         247,
         251,
         252
        ]
       },
       "headingColor": {
        "id": "headingColor",
        "rgb": [
         51,
         51,
         51
        ]
       },
       "linkColor": {
        "id": "linkColor",
        "rgb": [
         59,
         117,
         158
        ]
       },
       "mainColor": {
        "id": "mainColor",
        "rgb": [
         51,
         51,
         51
        ]
       }
      },
      "rules": {
       "a": {
        "color": "linkColor"
       },
       "h1": {
        "color": "headingColor",
        "font-family": "Quicksand",
        "font-size": 7
       },
       "h2": {
        "color": "headingColor",
        "font-family": "Quicksand",
        "font-size": 5
       },
       "h3": {
        "color": "headingColor",
        "font-family": "Quicksand",
        "font-size": 3.75
       },
       "h4": {
        "color": "headingColor",
        "font-family": "Quicksand",
        "font-size": 3
       },
       "h5": {
        "color": "headingColor",
        "font-family": "Quicksand"
       },
       "h6": {
        "color": "headingColor",
        "font-family": "Quicksand"
       },
       "h7": {
        "color": "headingColor",
        "font-family": "Quicksand"
       },
       "li": {
        "color": "mainColor",
        "font-family": "Open Sans",
        "font-size": 5
       },
       "p": {
        "color": "mainColor",
        "font-family": "Open Sans",
        "font-size": 5
       }
      },
      "text-base": {
       "color": "mainColor",
       "font-family": "Open Sans",
       "font-size": 5
      }
     },
     "da3fb2b2-d033-467b-b37e-07215272b6ca": {
      "backgrounds": {
       "backgroundColor": {
        "background-color": "backgroundColor",
        "id": "backgroundColor"
       }
      },
      "id": "da3fb2b2-d033-467b-b37e-07215272b6ca",
      "palette": {
       "backgroundColor": {
        "id": "backgroundColor",
        "rgb": [
         256,
         256,
         256
        ]
       },
       "headingColor": {
        "id": "headingColor",
        "rgb": [
         34,
         34,
         34
        ]
       },
       "linkColor": {
        "id": "linkColor",
        "rgb": [
         42,
         118,
         221
        ]
       },
       "mainColor": {
        "id": "mainColor",
        "rgb": [
         34,
         34,
         34
        ]
       }
      },
      "rules": {
       "a": {
        "color": "linkColor"
       },
       "h1": {
        "color": "headingColor",
        "font-family": "Source Sans Pro",
        "font-size": 5.25
       },
       "h2": {
        "color": "headingColor",
        "font-family": "Source Sans Pro",
        "font-size": 4
       },
       "h3": {
        "color": "headingColor",
        "font-family": "Source Sans Pro",
        "font-size": 3.5
       },
       "h4": {
        "color": "headingColor",
        "font-family": "Source Sans Pro",
        "font-size": 3
       },
       "h5": {
        "color": "headingColor",
        "font-family": "Source Sans Pro"
       },
       "h6": {
        "color": "headingColor",
        "font-family": "Source Sans Pro"
       },
       "h7": {
        "color": "headingColor",
        "font-family": "Source Sans Pro"
       },
       "li": {
        "color": "mainColor",
        "font-family": "Source Sans Pro",
        "font-size": 6
       },
       "p": {
        "color": "mainColor",
        "font-family": "Source Sans Pro",
        "font-size": 6
       }
      },
      "text-base": {
       "color": "mainColor",
       "font-family": "Source Sans Pro",
       "font-size": 6
      }
     }
    }
   }
  }
 },
 "nbformat": 4,
 "nbformat_minor": 0
}
