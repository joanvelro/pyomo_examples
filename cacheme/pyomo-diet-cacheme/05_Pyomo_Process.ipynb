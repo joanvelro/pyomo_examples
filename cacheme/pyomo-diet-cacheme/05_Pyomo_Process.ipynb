{
 "cells": [
  {
   "cell_type": "markdown",
   "metadata": {
    "slideshow": {
     "slide_type": "slide"
    }
   },
   "source": [
    "# Optimization in Process Engineering (example)"
   ]
  },
  {
   "cell_type": "markdown",
   "metadata": {
    "slideshow": {
     "slide_type": "slide"
    }
   },
   "source": [
    "As chemical engineers we usually work with process simulators and optimizers. We use the former to calculate accurate predictions of chemical processes and the later to optimize their operating conditions and obtain the maximum economic benefit with the minimum environmental impact."
   ]
  },
  {
   "cell_type": "markdown",
   "metadata": {
    "slideshow": {
     "slide_type": "fragment"
    }
   },
   "source": [
    "Due to the limitations in time, lets have a crash course of chemical process engineering:"
   ]
  },
  {
   "cell_type": "markdown",
   "metadata": {
    "slideshow": {
     "slide_type": "slide"
    }
   },
   "source": [
    "![img](img/ChemE/chemical-engineering-beer-nutshell.png)"
   ]
  },
  {
   "cell_type": "markdown",
   "metadata": {
    "slideshow": {
     "slide_type": "slide"
    }
   },
   "source": [
    "<img src=\"img/ChemE/chemical-engineering-nutshell.png\" alt=\"talking\" style=\"width: 800px;\"/>"
   ]
  },
  {
   "cell_type": "markdown",
   "metadata": {
    "slideshow": {
     "slide_type": "slide"
    }
   },
   "source": [
    "Now we are ready to use a \"super-structure\" of a process that contains all the possibilities."
   ]
  },
  {
   "cell_type": "markdown",
   "metadata": {
    "slideshow": {
     "slide_type": "skip"
    }
   },
   "source": [
    "***This problem has been adapted from the lectures of the subject \"Simulation and optimization of Chemical Processes\" taught at the University of Alicante for Chemical Engineer undergrad students. Professors J.A. Caballero and R. Ruiz.***\n",
    "\n",
    "A company want to produce a chemical product called \"B\". This product is obtained from a reagent called \"A\". In turn, the product B can be decomposed according to the following reaction scheme (D solvent behaves as an inert and does not react):\n",
    "\n",
    "$$ A \\rightarrow B \\rightarrow C $$\n",
    "Where from A to B the Coeficient for the reaction is called $k_1$ and for the reaction from B to C it's called $k_2$\n",
    "\n",
    "\n",
    "The company receives a stream of a mixture of A with a solvent (D), (100 kmol / h of A and 100 kmol / h of C). This mixture together with a recirculation A + D (see figure) is introduced into a plug flow reactor. At the exit the compounds will be separeted completely using distillation columns according to as shown figure.\n",
    "\n",
    "Raise an optimization problem that maximizes the total annual profit and determine the optimum operating conditions.\n",
    "\n",
    "The cost of the columns can be expressed as a fixed cost and a variable cost. The variable cost consists of two terms, the first is proportional to the total flux and the second molar flow of light key component enters the column, such that:"
   ]
  },
  {
   "cell_type": "markdown",
   "metadata": {
    "slideshow": {
     "slide_type": "skip"
    }
   },
   "source": [
    "$${Column\\_Cost}_{Total} = CF + {Molar\\_Flow}_{Feed}  CV_1 + {Molar\\_Flow}_{Key\\_Component} CV_2 $$\n",
    "\n",
    "|  Column  | Fix Cost (€) | $CV_1$ (€ h/kmol) | $CV_2$ (€ h/kmol)|\n",
    "|:--------:|:------------:|:-----------------:|:----------------:|\n",
    "|     1    |     2000     |          5        |         6        |\n",
    "|     2    |     2000     |          5        |         1        |\n",
    "|     3    |     2000     |          5        |         1        |\n",
    "|     4    |     2000     |          5        |         6        |"
   ]
  },
  {
   "cell_type": "markdown",
   "metadata": {
    "slideshow": {
     "slide_type": "skip"
    }
   },
   "source": [
    "- The chemical product A it's purchased from 0.125 € /kmol.\n",
    "- The chemical product B it's sold at 0.625 €/kmol.\n",
    "- The chemical product C and the solvent D don't have any comercial value.\n",
    "- The plant operates 8000 hours per year.\n",
    "\n",
    "### Notes\n",
    "For the reactor consider the following:\n",
    "\n",
    "- Because there are no change in the total number of moles of the total molar flow stream E is the same as the current S.\n",
    "- For the reactor you can use the following integrated equations of the individual mole flows and residence times.\n",
    "- The maximum molar flow that can enter any of the columns is 20000 kmol / h.\n"
   ]
  },
  {
   "cell_type": "markdown",
   "metadata": {
    "slideshow": {
     "slide_type": "skip"
    }
   },
   "source": [
    "$$ n_{S}^{A} = n_{E}^{A} · exp(-k_1 \\tau)$$\n",
    "$$ n_{S}^{B} = \\frac{k_1}{k_1-k_2}·[exp(-k_2 \\tau)·n_{E}^{A} - n_{S}^{A} ]  $$\n",
    "$$ n_{S}^{C} = n_{E}^{A} - n_{S}^{A} - n_{S}^{B} $$\n",
    "$$ k_1 = 2·h-1 $$\n",
    "$$ k_2 = 3·h-1 $$\n",
    "\n",
    "$$n_{E}^{i} = Molar{\\phantom{m}}flow{\\phantom{m}}of{\\phantom{m}}i{\\phantom{m}}in{\\phantom{m}}the{\\phantom{m}}stream{\\phantom{m}}E $$\n",
    "$$n_{S}^{i} = Molar{\\phantom{m}}flow{\\phantom{m}}of{\\phantom{m}}i{\\phantom{m}}in{\\phantom{m}}the{\\phantom{m}}stream{\\phantom{m}}S $$"
   ]
  },
  {
   "cell_type": "markdown",
   "metadata": {
    "slideshow": {
     "slide_type": "slide"
    }
   },
   "source": [
    "$$ A \\rightarrow B \\rightarrow C $$\n",
    "\n",
    "![img](img/ChemE/Flow.png/)"
   ]
  },
  {
   "cell_type": "markdown",
   "metadata": {
    "slideshow": {
     "slide_type": "slide"
    }
   },
   "source": [
    "This problem is MINLP and can be solved using the convex hull.\n",
    "\n",
    "Here some of the equations (material balances) we need to deal with:\n",
    "\n",
    "- Plug Flow Reactor (PFR):\n",
    "$$ n_{A,s} = n_{A,E} · exp(-k_1 \\tau)$$\n",
    "$$ n_{B,s} = \\frac{k_1}{k_1-k_2}·[exp(-k_2 \\tau)·n_{A,E} - n_{A,s} ]  $$\n",
    "$$ n_{C,s} = n_{A,E} - n_{A,s} - n_{B,s} $$\n",
    "$$ n_{D,s} = n_{D,E} $$\n",
    "\n",
    "- Balance to the separator, first node:\n",
    "$$ S n_{i,F_1} = F_1 n_{i,s} \\forall i$$\n",
    "$$ S n_{i,F_2} = F_2 n_{i,s} \\forall i$$\n",
    "$$ n_{i,S} = n_{i,F_1} + n_{i,F_2} \\forall i$$"
   ]
  },
  {
   "cell_type": "markdown",
   "metadata": {
    "slideshow": {
     "slide_type": "subslide"
    }
   },
   "source": [
    "- Columns:\n",
    "\n",
    "$$ n_{i,F_1} = n_{i,D_1} + n_{i,F_3} \\forall i $$\n",
    "$$ n_{i,F_2} = n_{i,F_4} + n_{i,R_2} \\forall i $$\n",
    "$$ n_{i,F_3} = n_{i,D_3} + n_{i,R_3} \\forall i $$\n",
    "$$ n_{i,F_4} = n_{i,D_4} + n_{i,R_4} \\forall i $$\n",
    "\n",
    "- Balance at the mixer, second node:\n",
    "$$ n_{i,F_5} = n_{i,D_4} + n_{i,D_2} \\forall i $$\n",
    "\n",
    "- Balance at the flash separator:\n",
    "$$ n_{i,F_5} = n_{i,P_5} + n_{i,B_5} \\forall i $$\n",
    "\n",
    "- Balance at the initial mixer, third node:\n",
    "$$ n_{i,E} = n_{i,F_0} + n_{i,B_5} \\forall i $$"
   ]
  },
  {
   "cell_type": "markdown",
   "metadata": {
    "slideshow": {
     "slide_type": "skip"
    }
   },
   "source": [
    "All balances are defined for all components. Not for all  currents it flow the 4 so in the section of the fixed dimensions they are worth 0."
   ]
  },
  {
   "cell_type": "markdown",
   "metadata": {
    "slideshow": {
     "slide_type": "slide"
    }
   },
   "source": [
    "After obtaining the material balances we need to formulate the disjunctions. We need choose whether or not use a column:\n",
    "<img src=\"img/ChemE/Disyuncones.png\" alt=\"Disy\" style=\"width: 500px;\"/>\n",
    "\n",
    "AC refers to the inflow to each column and AL to the molar flow for the lighter component at the input of each column, that is in all cases D, less in column 3 which is B."
   ]
  },
  {
   "cell_type": "markdown",
   "metadata": {
    "slideshow": {
     "slide_type": "subslide"
    }
   },
   "source": [
    "Reformulating the disjuntions into algebraic equations with binary variables  we get:\n",
    "<img src=\"img/ChemE/disyunciones2.png\" alt=\"dis2\" style=\"width: 500px;\"/>"
   ]
  },
  {
   "cell_type": "markdown",
   "metadata": {
    "slideshow": {
     "slide_type": "slide"
    }
   },
   "source": [
    "Finally the objective function will be:\n",
    "$$ z = (D_3 + R_4) B_{price}  OperationTime - \\sum Cost - n_{A,F_o} A_{price}  OperationTime $$ "
   ]
  },
  {
   "cell_type": "markdown",
   "metadata": {
    "collapsed": true,
    "slideshow": {
     "slide_type": "slide"
    }
   },
   "source": [
    "### Results"
   ]
  },
  {
   "cell_type": "markdown",
   "metadata": {
    "slideshow": {
     "slide_type": "skip"
    }
   },
   "source": [
    "The obtained result is shown in the next table:\n",
    "- Results for the different Variables\n",
    "![img](img/ChemE/Table.png)"
   ]
  },
  {
   "cell_type": "markdown",
   "metadata": {
    "slideshow": {
     "slide_type": "skip"
    }
   },
   "source": [
    "- Costs for each Column\n",
    "![img](img/ChemE/cost.png)\n",
    "- Value of the residence time and the objetive function\n",
    "![img](img/ChemE/FO.png)"
   ]
  },
  {
   "cell_type": "markdown",
   "metadata": {
    "slideshow": {
     "slide_type": "skip"
    }
   },
   "source": [
    "So the \"optimal process\" would be this:"
   ]
  },
  {
   "cell_type": "markdown",
   "metadata": {
    "slideshow": {
     "slide_type": "slide"
    }
   },
   "source": [
    "![img](img/ChemE/Result.png)"
   ]
  },
  {
   "cell_type": "markdown",
   "metadata": {
    "slideshow": {
     "slide_type": "skip"
    }
   },
   "source": [
    "Figure made by María San Román Maciá"
   ]
  }
 ],
 "metadata": {
  "anaconda-cloud": {},
  "celltoolbar": "Slideshow",
  "kernelspec": {
   "display_name": "Python 3",
   "language": "python",
   "name": "python3"
  },
  "language_info": {
   "codemirror_mode": {
    "name": "ipython",
    "version": 3
   },
   "file_extension": ".py",
   "mimetype": "text/x-python",
   "name": "python",
   "nbconvert_exporter": "python",
   "pygments_lexer": "ipython3",
   "version": "3.5.2"
  }
 },
 "nbformat": 4,
 "nbformat_minor": 0
}
