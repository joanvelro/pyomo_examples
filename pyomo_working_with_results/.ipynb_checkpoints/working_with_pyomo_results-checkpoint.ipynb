{
 "cells": [
  {
   "cell_type": "markdown",
   "metadata": {},
   "source": [
    "#### Accessing Pyomo variable values and objective function value"
   ]
  },
  {
   "cell_type": "code",
   "execution_count": 1,
   "metadata": {},
   "outputs": [],
   "source": [
    "from pyomo.environ import *\n",
    "from pyomo.opt import SolverFactory\n",
    "from pyomo.core import Var"
   ]
  },
  {
   "cell_type": "code",
   "execution_count": 2,
   "metadata": {},
   "outputs": [
    {
     "data": {
      "application/json": {
       "cell": {
        "!": "OSMagics",
        "HTML": "Other",
        "SVG": "Other",
        "bash": "Other",
        "capture": "ExecutionMagics",
        "debug": "ExecutionMagics",
        "file": "Other",
        "html": "DisplayMagics",
        "javascript": "DisplayMagics",
        "js": "DisplayMagics",
        "latex": "DisplayMagics",
        "markdown": "DisplayMagics",
        "perl": "Other",
        "prun": "ExecutionMagics",
        "pypy": "Other",
        "python": "Other",
        "python2": "Other",
        "python3": "Other",
        "ruby": "Other",
        "script": "ScriptMagics",
        "sh": "Other",
        "svg": "DisplayMagics",
        "sx": "OSMagics",
        "system": "OSMagics",
        "time": "ExecutionMagics",
        "timeit": "ExecutionMagics",
        "writefile": "OSMagics"
       },
       "line": {
        "alias": "OSMagics",
        "alias_magic": "BasicMagics",
        "autoawait": "AsyncMagics",
        "autocall": "AutoMagics",
        "automagic": "AutoMagics",
        "autosave": "KernelMagics",
        "bookmark": "OSMagics",
        "cat": "Other",
        "cd": "OSMagics",
        "clear": "KernelMagics",
        "colors": "BasicMagics",
        "conda": "PackagingMagics",
        "config": "ConfigMagics",
        "connect_info": "KernelMagics",
        "cp": "Other",
        "debug": "ExecutionMagics",
        "dhist": "OSMagics",
        "dirs": "OSMagics",
        "doctest_mode": "BasicMagics",
        "ed": "Other",
        "edit": "KernelMagics",
        "env": "OSMagics",
        "gui": "BasicMagics",
        "hist": "Other",
        "history": "HistoryMagics",
        "killbgscripts": "ScriptMagics",
        "ldir": "Other",
        "less": "KernelMagics",
        "lf": "Other",
        "lk": "Other",
        "ll": "Other",
        "load": "CodeMagics",
        "load_ext": "ExtensionMagics",
        "loadpy": "CodeMagics",
        "logoff": "LoggingMagics",
        "logon": "LoggingMagics",
        "logstart": "LoggingMagics",
        "logstate": "LoggingMagics",
        "logstop": "LoggingMagics",
        "ls": "Other",
        "lsmagic": "BasicMagics",
        "lx": "Other",
        "macro": "ExecutionMagics",
        "magic": "BasicMagics",
        "man": "KernelMagics",
        "matplotlib": "PylabMagics",
        "mkdir": "Other",
        "more": "KernelMagics",
        "mv": "Other",
        "notebook": "BasicMagics",
        "page": "BasicMagics",
        "pastebin": "CodeMagics",
        "pdb": "ExecutionMagics",
        "pdef": "NamespaceMagics",
        "pdoc": "NamespaceMagics",
        "pfile": "NamespaceMagics",
        "pinfo": "NamespaceMagics",
        "pinfo2": "NamespaceMagics",
        "pip": "PackagingMagics",
        "popd": "OSMagics",
        "pprint": "BasicMagics",
        "precision": "BasicMagics",
        "prun": "ExecutionMagics",
        "psearch": "NamespaceMagics",
        "psource": "NamespaceMagics",
        "pushd": "OSMagics",
        "pwd": "OSMagics",
        "pycat": "OSMagics",
        "pylab": "PylabMagics",
        "qtconsole": "KernelMagics",
        "quickref": "BasicMagics",
        "recall": "HistoryMagics",
        "rehashx": "OSMagics",
        "reload_ext": "ExtensionMagics",
        "rep": "Other",
        "rerun": "HistoryMagics",
        "reset": "NamespaceMagics",
        "reset_selective": "NamespaceMagics",
        "rm": "Other",
        "rmdir": "Other",
        "run": "ExecutionMagics",
        "save": "CodeMagics",
        "sc": "OSMagics",
        "set_env": "OSMagics",
        "store": "StoreMagics",
        "sx": "OSMagics",
        "system": "OSMagics",
        "tb": "ExecutionMagics",
        "time": "ExecutionMagics",
        "timeit": "ExecutionMagics",
        "unalias": "OSMagics",
        "unload_ext": "ExtensionMagics",
        "who": "NamespaceMagics",
        "who_ls": "NamespaceMagics",
        "whos": "NamespaceMagics",
        "xdel": "NamespaceMagics",
        "xmode": "BasicMagics"
       }
      },
      "text/plain": [
       "Available line magics:\n",
       "%alias  %alias_magic  %autoawait  %autocall  %automagic  %autosave  %bookmark  %cat  %cd  %clear  %colors  %conda  %config  %connect_info  %cp  %debug  %dhist  %dirs  %doctest_mode  %ed  %edit  %env  %gui  %hist  %history  %killbgscripts  %ldir  %less  %lf  %lk  %ll  %load  %load_ext  %loadpy  %logoff  %logon  %logstart  %logstate  %logstop  %ls  %lsmagic  %lx  %macro  %magic  %man  %matplotlib  %mkdir  %more  %mv  %notebook  %page  %pastebin  %pdb  %pdef  %pdoc  %pfile  %pinfo  %pinfo2  %pip  %popd  %pprint  %precision  %prun  %psearch  %psource  %pushd  %pwd  %pycat  %pylab  %qtconsole  %quickref  %recall  %rehashx  %reload_ext  %rep  %rerun  %reset  %reset_selective  %rm  %rmdir  %run  %save  %sc  %set_env  %store  %sx  %system  %tb  %time  %timeit  %unalias  %unload_ext  %who  %who_ls  %whos  %xdel  %xmode\n",
       "\n",
       "Available cell magics:\n",
       "%%!  %%HTML  %%SVG  %%bash  %%capture  %%debug  %%file  %%html  %%javascript  %%js  %%latex  %%markdown  %%perl  %%prun  %%pypy  %%python  %%python2  %%python3  %%ruby  %%script  %%sh  %%svg  %%sx  %%system  %%time  %%timeit  %%writefile\n",
       "\n",
       "Automagic is ON, % prefix IS NOT needed for line magics."
      ]
     },
     "execution_count": 2,
     "metadata": {},
     "output_type": "execute_result"
    }
   ],
   "source": [
    "%lsmagic"
   ]
  },
  {
   "cell_type": "markdown",
   "metadata": {},
   "source": [
    "#### Abstract model"
   ]
  },
  {
   "cell_type": "code",
   "execution_count": 3,
   "metadata": {},
   "outputs": [],
   "source": [
    "# Transport problem\n",
    "model = AbstractModel()\n",
    "# Define the sets\n",
    "model.markets = Set()\n",
    "model.factories = Set()\n",
    "# Define the variables\n",
    "model.production = Param(model.factories)\n",
    "model.demand = Param(model.markets)\n",
    "# Define the matrix of cost of send one profuct from factories to markets \n",
    "model.costs = Param(model.factories,model.markets)\n",
    "# Define the variable of units of product from factory $i$ to market $j$ $x_{i,j}$\n",
    "model.units = Var(model.factories, model.markets, within = NonNegativeReals)\n",
    "# Define objective function (1)\n",
    "def Totalcost(model):\n",
    "    return sum(model.costs[n,i]*model.units[n,i]\n",
    "               for n in model.factories\n",
    "               for i in model.markets)\n",
    "# Define objective \n",
    "model.finalcost = Objective(rule = Totalcost)\n",
    "# Define constraint function \n",
    "def MinDemand(model,markets):\n",
    "    return sum(model.units[i,markets] for i in model.factories) >= model.demand[markets]\n",
    "# Define constraint function \n",
    "def MaxProduction(model,factories):\n",
    "    return sum(model.units[factories,j] for j in model.markets) <= model.production[factories]\n",
    "# Define constraints \n",
    "model.DemandConstraint = Constraint(model.markets, rule = MinDemand)\n",
    "model.ProductionConstraint = Constraint(model.factories, rule = MaxProduction)"
   ]
  },
  {
   "cell_type": "code",
   "execution_count": 4,
   "metadata": {},
   "outputs": [],
   "source": [
    "opt = SolverFactory('glpk')"
   ]
  },
  {
   "cell_type": "code",
   "execution_count": 5,
   "metadata": {},
   "outputs": [],
   "source": [
    "instance = model.create_instance('data.dat') "
   ]
  },
  {
   "cell_type": "code",
   "execution_count": 6,
   "metadata": {},
   "outputs": [
    {
     "name": "stdout",
     "output_type": "stream",
     "text": [
      "GLPSOL: GLPK LP/MIP Solver, v4.65\n",
      "Parameter(s) specified in the command line:\n",
      " --write /var/folders/9k/04pt01hs1ng95lppnvj97vw40000gn/T/tmpizlvmt45.glpk.raw\n",
      " --wglp /var/folders/9k/04pt01hs1ng95lppnvj97vw40000gn/T/tmpi_790k8_.glpk.glp\n",
      " --cpxlp /var/folders/9k/04pt01hs1ng95lppnvj97vw40000gn/T/tmps9hbrlsu.pyomo.lp\n",
      "Reading problem data from '/var/folders/9k/04pt01hs1ng95lppnvj97vw40000gn/T/tmps9hbrlsu.pyomo.lp'...\n",
      "10 rows, 21 columns, 41 non-zeros\n",
      "119 lines were read\n",
      "Writing problem data to '/var/folders/9k/04pt01hs1ng95lppnvj97vw40000gn/T/tmpi_790k8_.glpk.glp'...\n",
      "105 lines were written\n",
      "GLPK Simplex Optimizer, v4.65\n",
      "10 rows, 21 columns, 41 non-zeros\n",
      "Preprocessing...\n",
      "9 rows, 20 columns, 40 non-zeros\n",
      "Scaling...\n",
      " A: min|aij| =  1.000e+00  max|aij| =  1.000e+00  ratio =  1.000e+00\n",
      "Problem data seem to be well scaled\n",
      "Constructing initial basis...\n",
      "Size of triangular part is 9\n",
      "      0: obj =   0.000000000e+00 inf =   7.250e+02 (5)\n",
      "      6: obj =   4.281750000e+03 inf =   0.000e+00 (0)\n",
      "*    11: obj =   2.328750000e+03 inf =   0.000e+00 (0)\n",
      "OPTIMAL LP SOLUTION FOUND\n",
      "Time used:   0.0 secs\n",
      "Memory used: 0.0 Mb (44305 bytes)\n",
      "Writing basic solution to '/var/folders/9k/04pt01hs1ng95lppnvj97vw40000gn/T/tmpizlvmt45.glpk.raw'...\n",
      "40 lines were written\n"
     ]
    }
   ],
   "source": [
    "results = opt.solve(instance, tee=True)"
   ]
  },
  {
   "cell_type": "code",
   "execution_count": 7,
   "metadata": {},
   "outputs": [
    {
     "name": "stdout",
     "output_type": "stream",
     "text": [
      "\n",
      "Problem: \n",
      "- Name: unknown\n",
      "  Lower bound: 2328.75\n",
      "  Upper bound: 2328.75\n",
      "  Number of objectives: 1\n",
      "  Number of constraints: 10\n",
      "  Number of variables: 21\n",
      "  Number of nonzeros: 41\n",
      "  Sense: minimize\n",
      "Solver: \n",
      "- Status: ok\n",
      "  Termination condition: optimal\n",
      "  Statistics: \n",
      "    Branch and bound: \n",
      "      Number of bounded subproblems: 0\n",
      "      Number of created subproblems: 0\n",
      "  Error rc: 0\n",
      "  Time: 0.04532670974731445\n",
      "Solution: \n",
      "- number of solutions: 0\n",
      "  number of solutions displayed: 0\n",
      "\n"
     ]
    }
   ],
   "source": [
    "print(results)"
   ]
  },
  {
   "cell_type": "code",
   "execution_count": 8,
   "metadata": {},
   "outputs": [
    {
     "name": "stdout",
     "output_type": "stream",
     "text": [
      "# ==========================================================\n",
      "# = Solver Results                                         =\n",
      "# ==========================================================\n",
      "# ----------------------------------------------------------\n",
      "#   Problem Information\n",
      "# ----------------------------------------------------------\n",
      "Problem: \n",
      "- Name: unknown\n",
      "  Lower bound: 2328.75\n",
      "  Upper bound: 2328.75\n",
      "  Number of objectives: 1\n",
      "  Number of constraints: 10\n",
      "  Number of variables: 21\n",
      "  Number of nonzeros: 41\n",
      "  Sense: minimize\n",
      "# ----------------------------------------------------------\n",
      "#   Solver Information\n",
      "# ----------------------------------------------------------\n",
      "Solver: \n",
      "- Status: ok\n",
      "  Termination condition: optimal\n",
      "  Statistics: \n",
      "    Branch and bound: \n",
      "      Number of bounded subproblems: 0\n",
      "      Number of created subproblems: 0\n",
      "  Error rc: 0\n",
      "  Time: 0.04532670974731445\n",
      "# ----------------------------------------------------------\n",
      "#   Solution Information\n",
      "# ----------------------------------------------------------\n",
      "Solution: \n",
      "- number of solutions: 0\n",
      "  number of solutions displayed: 0\n"
     ]
    }
   ],
   "source": [
    "results.write()"
   ]
  },
  {
   "cell_type": "code",
   "execution_count": 9,
   "metadata": {},
   "outputs": [
    {
     "name": "stdout",
     "output_type": "stream",
     "text": [
      "Variable units\n",
      "    ('Madrid', 'Alicante') 0.0\n",
      "    ('Madrid', 'Castellon') 0.0\n",
      "    ('Madrid', 'Vitoria') 75.0\n",
      "    ('Madrid', 'Cadiz') 0.0\n",
      "    ('Madrid', 'Caceres') 175.0\n",
      "    ('Barcelona', 'Alicante') 0.0\n",
      "    ('Barcelona', 'Castellon') 150.0\n",
      "    ('Barcelona', 'Vitoria') 25.0\n",
      "    ('Barcelona', 'Cadiz') 0.0\n",
      "    ('Barcelona', 'Caceres') 0.0\n",
      "    ('Almeria', 'Alicante') 150.0\n",
      "    ('Almeria', 'Castellon') 0.0\n",
      "    ('Almeria', 'Vitoria') 0.0\n",
      "    ('Almeria', 'Cadiz') 150.0\n",
      "    ('Almeria', 'Caceres') 0.0\n",
      "    ('Coruna', 'Alicante') 0.0\n",
      "    ('Coruna', 'Castellon') 0.0\n",
      "    ('Coruna', 'Vitoria') 0.0\n",
      "    ('Coruna', 'Cadiz') 0.0\n",
      "    ('Coruna', 'Caceres') 0.0\n"
     ]
    }
   ],
   "source": [
    "instance.solutions.load_from(results)\n",
    "for v in instance.component_objects(Var, active=True):\n",
    "    print (\"Variable\",v)\n",
    "    varobject = getattr(instance, str(v))\n",
    "    for index in varobject:\n",
    "        print (\"   \",index, varobject[index].value)"
   ]
  },
  {
   "cell_type": "code",
   "execution_count": null,
   "metadata": {},
   "outputs": [],
   "source": []
  },
  {
   "cell_type": "code",
   "execution_count": null,
   "metadata": {},
   "outputs": [],
   "source": []
  }
 ],
 "metadata": {
  "kernelspec": {
   "display_name": "Python 3",
   "language": "python",
   "name": "python3"
  },
  "language_info": {
   "codemirror_mode": {
    "name": "ipython",
    "version": 3
   },
   "file_extension": ".py",
   "mimetype": "text/x-python",
   "name": "python",
   "nbconvert_exporter": "python",
   "pygments_lexer": "ipython3",
   "version": "3.7.3"
  }
 },
 "nbformat": 4,
 "nbformat_minor": 2
}
