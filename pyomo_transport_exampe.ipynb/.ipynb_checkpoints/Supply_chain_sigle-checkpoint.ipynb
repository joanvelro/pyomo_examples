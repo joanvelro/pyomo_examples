{
 "cells": [
  {
   "cell_type": "markdown",
   "metadata": {},
   "source": [
    "## Supply chain Problem\n",
    "* [Pyomo Documentation](https://pyomo.readthedocs.io/en/latest/)\n",
    "\n",
    "* [Gallery](https://github.com/Pyomo/PyomoGallery/wiki)\n",
    "\n",
    "* [Accessing Pyomo variable values and objective function value](http://hselab.org/pyomo-get-variable-values.html)\n",
    "\n",
    "* [latex symbols](https://oeis.org/wiki/List_of_LaTeX_mathematical_symbols)\n",
    "* [latex math](https://www.overleaf.com/learn/latex/Matrices)"
   ]
  },
  {
   "cell_type": "code",
   "execution_count": null,
   "metadata": {},
   "outputs": [],
   "source": [
    "# from IPython.display import display, Math, Latex # latex equations\n",
    "from IPython.display import Image # images"
   ]
  },
  {
   "cell_type": "markdown",
   "metadata": {},
   "source": [
    "## 1.1 Simple model (single lot optimization)\n",
    "    (1) no distinction betweee UCO staff and UCO warehouse\n",
    "    (2) no distinction betweenn prime articles and sustitute articles \n",
    "    (3) only consider 1 requesting UCO at time"
   ]
  },
  {
   "cell_type": "markdown",
   "metadata": {},
   "source": [
    "<img src=\"model.png\" height = \"900\" width=\"600\">"
   ]
  },
  {
   "cell_type": "markdown",
   "metadata": {},
   "source": [
    "__Sets__\n",
    "* $V$ $(\\equiv)$ __Requesting UCOs $\\{v_1\\}$__ ; $[i]$  $ \\hspace{1cm} \\Rightarrow$ __(!) single lot optimization!__\n",
    "* $U$ $(\\equiv)$ __Suplier UCOs__ $\\{u_1, \\ldots, u_n\\}$ $[k]$\n",
    "* $M$ $(\\equiv)$  __Articles Lot__ $\\{m_1, \\ldots, m_m \\}$ $[r]$"
   ]
  },
  {
   "cell_type": "markdown",
   "metadata": {},
   "source": [
    "__Variables__\n",
    "* __$x_{r, j}$__ $(\\equiv)$ ammount of article $r$ (integer) that __suplier UCO $j$__  ships to __requesting UCO__ $\\forall j\\in U $, $\\forall r\\in M $\n",
    "\n",
    "    \n",
    "\\begin{equation}\n",
    "x_{r, j} = \\begin{pmatrix}\n",
    "x_{1,1}  & \\ldots & x_{1, n}  \\\\\n",
    "\\vdots & \\vdots & \\vdots\\\\\n",
    "x_{m,1}  & \\ldots & x_{m,n}\n",
    "\\end{pmatrix}  \\in \\mathbb{R}_{mxn} \\ge 0\n",
    "\\end{equation}\n",
    "\n",
    " \n",
    "* $z$ $(\\equiv)$  total cost of lot shipment\n"
   ]
  },
  {
   "cell_type": "markdown",
   "metadata": {},
   "source": [
    "__Parameters__\n",
    "* __demand__\n",
    "$D $ $(\\equiv)$ demand of article __$r$__ by the requesting UCO ; $\\forall r\\in M$\n",
    "\n",
    "$$\n",
    "D = (d_1, \\ldots, d_m) \\in \\mathbb{R}_{1xm}\n",
    "$$\n",
    "* __distances__\n",
    "$L$ $(\\equiv)$ distance (km) between __suplier UCOs $k$__  and __requesting UCO__ ; $\\forall j\\in U$\n",
    "\n",
    "$$\n",
    "L= (l_{1}, \\ldots, l_{n}) \\in \\mathbb{R}_{1xn}\n",
    "$$\n",
    "\n",
    "* __shipment cost__\n",
    "$c_{r, k}$ $(\\equiv)$ cost (€/km) of send one unit of any article from __suplier UCO $k$__ to __requesting UCO__  ; $\\forall k\\in U $\n",
    "\n",
    "\\begin{equation}\n",
    "c_{r, k} = \\begin{pmatrix}\n",
    "c_{1,1}  & \\ldots & c_{1, n}  \\\\\n",
    "\\vdots & \\vdots & \\vdots\\\\\n",
    "c_{m,1}  & \\ldots & c_{m,n}\n",
    "\\end{pmatrix}  \\in \\mathbb{R}_{mxn}\n",
    "\\end{equation}\n",
    "\n",
    "* __minimum stock__\n",
    "$s^{min}_{r,k}$ $(\\equiv)$ minimum stock of article $r$ in __supplier UCO $k$__;  $\\forall r\\in\\ M$, $\\forall k\\in U$\n",
    "\n",
    "\\begin{equation}\n",
    "s^{min}_{r,k} = \\begin{pmatrix}\n",
    "s^{min}_{1,1} & \\ldots & s^{min}_{1,n} \\\\\n",
    "\\vdots & \\vdots & \\vdots\\\\\n",
    "s^{min}_{m,1} & \\ldots & s^{min}_{m,n}\n",
    "\\end{pmatrix}  \\in \\mathbb{R}_{mxn}\n",
    "\\end{equation}\n",
    "\n",
    "* __initial stock__\n",
    "$s^{0}_{r,k}$ $(\\equiv)$ Initial stock of articles $r$ in __supplier UCO $j$__;  $\\forall r\\in M $, $\\forall k\\in U$\n",
    "\n",
    "\n",
    "\\begin{equation}\n",
    "s^{0}_{r,k} = \\begin{pmatrix}\n",
    "s^{0}_{1,1} & \\ldots & s^{0}_{1,n} \\\\\n",
    "\\vdots & \\vdots & \\vdots\\\\\n",
    "s^{0}_{m,1} & \\ldots & s^{0}_{m,n}\n",
    "\\end{pmatrix}  \\in \\mathbb{R}_{mxn}\n",
    "\\end{equation}\n"
   ]
  },
  {
   "cell_type": "markdown",
   "metadata": {},
   "source": [
    "__Objective function__\n",
    "* minimize cost of shipment:\n",
    "\n",
    "$Min$  $z \\doteq  { \\sum_{r \\in M} \\sum_{k \\in U} x_{r, k} \\cdot c_{k}  \\cdot l_{k}   } $    $\\hspace{2cm}(1)$"
   ]
  },
  {
   "cell_type": "markdown",
   "metadata": {},
   "source": [
    "__Constraints__\n",
    "* Demand supply per article\n",
    "\n",
    "$\\sum_{k \\in U} x_{r, k} = d_r \\hspace{0.5cm} ;  \\forall  r \\in M $ $\\hspace{4.5cm}(2)$ \n",
    "\n",
    "* minimum stock per supplier UCO \n",
    "\n",
    "$ \\sum_{r \\in M} x_{r, k} \\ge s^{min}_{r,k} \\hspace{0.5cm} ;  \\forall  k \\in U $ $\\hspace{4.5cm}(3)$"
   ]
  },
  {
   "cell_type": "markdown",
   "metadata": {},
   "source": [
    "## 1.2) Pyomo model"
   ]
  },
  {
   "cell_type": "markdown",
   "metadata": {},
   "source": [
    "#### Define Abstract pyomo model\n",
    "(no data in the code, only the equations)"
   ]
  },
  {
   "cell_type": "code",
   "execution_count": null,
   "metadata": {},
   "outputs": [],
   "source": [
    "#%pip install pyomo"
   ]
  },
  {
   "cell_type": "code",
   "execution_count": 33,
   "metadata": {},
   "outputs": [],
   "source": [
    "from pyomo.environ import *"
   ]
  },
  {
   "cell_type": "code",
   "execution_count": 34,
   "metadata": {},
   "outputs": [],
   "source": [
    "model = AbstractModel()"
   ]
  },
  {
   "cell_type": "markdown",
   "metadata": {},
   "source": [
    "#### Define sets"
   ]
  },
  {
   "cell_type": "code",
   "execution_count": 35,
   "metadata": {},
   "outputs": [],
   "source": [
    "#model.destination = Set()  # requesting UCO\n",
    "model.origin = Set()       # Supplier UCOs\n",
    "model.articles = Set()     # Articles"
   ]
  },
  {
   "cell_type": "markdown",
   "metadata": {},
   "source": [
    "#### Define Parameters (vectos and matrices)"
   ]
  },
  {
   "cell_type": "code",
   "execution_count": 36,
   "metadata": {},
   "outputs": [],
   "source": [
    "model.demand = Param(model.articles)   # demand (lot composition)\n",
    "model.cost = Param(model.articles, model.origin)       # shipment cost from each supplier UCO to the requesting UCO\n",
    "model.distance = Param(model.origin)   # distances per supplier UCO to the requesting UCO\n",
    "#model.stock_min = Param(model.origin)  # minimum per supplier UCO and article\n",
    "#model.stock_init = Param(model.origin) # initial stock per supplier UCO and article"
   ]
  },
  {
   "cell_type": "markdown",
   "metadata": {},
   "source": [
    "#### Define variables"
   ]
  },
  {
   "cell_type": "code",
   "execution_count": 37,
   "metadata": {},
   "outputs": [],
   "source": [
    "model.units = Var(model.articles, model.origin, within = NonNegativeReals, bounds=(0,1000)) "
   ]
  },
  {
   "cell_type": "markdown",
   "metadata": {},
   "source": [
    "#### Define objective function (1)"
   ]
  },
  {
   "cell_type": "code",
   "execution_count": 38,
   "metadata": {},
   "outputs": [],
   "source": [
    "def Totalcost(model):\n",
    "    \"\"\" total shipment cost \n",
    "    :param model: \n",
    "    \"\"\"\n",
    "    return sum(model.cost[r,k]*model.units[r,k]\n",
    "               for r in model.articles\n",
    "               for k in model.origin)"
   ]
  },
  {
   "cell_type": "markdown",
   "metadata": {},
   "source": [
    "#### Define objective "
   ]
  },
  {
   "cell_type": "code",
   "execution_count": 39,
   "metadata": {},
   "outputs": [],
   "source": [
    "model.finalcost = Objective(rule = Totalcost)"
   ]
  },
  {
   "cell_type": "markdown",
   "metadata": {},
   "source": [
    "#### Define constraint function (2)"
   ]
  },
  {
   "cell_type": "code",
   "execution_count": 40,
   "metadata": {},
   "outputs": [],
   "source": [
    "def cons_demand(model, articles):\n",
    "    \"\"\" constraint that guarantee demand of articles\n",
    "    \"\"\"\n",
    "    return sum(model.units[articles, k] for k in model.origin) == model.demand[articles]"
   ]
  },
  {
   "cell_type": "markdown",
   "metadata": {},
   "source": [
    "#### Define constraint function (3)"
   ]
  },
  {
   "cell_type": "code",
   "execution_count": 41,
   "metadata": {},
   "outputs": [],
   "source": [
    "def cons_stock_min(model, origin):\n",
    "    \"\"\" constraint that guarantee minimum stock\n",
    "    \"\"\"\n",
    "    return sum(model.units[r, origin] for r in model.articles) >= model.stock_min[origin]"
   ]
  },
  {
   "cell_type": "markdown",
   "metadata": {},
   "source": [
    "#### Define constraints "
   ]
  },
  {
   "cell_type": "code",
   "execution_count": 42,
   "metadata": {},
   "outputs": [],
   "source": [
    "model.cons_demand = Constraint(model.articles, rule = cons_demand)\n",
    "#model.cons_stock_min = Constraint(model.origin, rule = cons_stock_min)"
   ]
  },
  {
   "cell_type": "code",
   "execution_count": 83,
   "metadata": {},
   "outputs": [],
   "source": [
    "#### define function that builds the model"
   ]
  },
  {
   "cell_type": "code",
   "execution_count": 89,
   "metadata": {},
   "outputs": [],
   "source": [
    "def create_simple_model():\n",
    "\n",
    "    model = AbstractModel()\n",
    "    # Define the sets\n",
    "    model.origin = Set(dimen=1)       # Supplier UCOs\n",
    "    model.articles = Set(dimen=1)     # Articles\n",
    "\n",
    "    # Define the variables\n",
    "    model.demand = Param(model.articles)   # demand (lot composition)\n",
    "    model.cost = Param(model.articles, model.origin)       # shipment cost from each supplier UCO to the requesting UCO\n",
    "    model.distance = Param(model.origin)   # distances per supplier UCO to the requesting UCO\n",
    "\n",
    "\n",
    "\n",
    "    # Define the variable of units of product from factory $i$ to market $j$ $x_{i,j}$\n",
    "    model.units = Var(model.articles, model.origin, within = NonNegativeReals, bounds=(0,1000)) \n",
    "\n",
    "    # Define objective function (1)\n",
    "    def Totalcost(model):\n",
    "        \"\"\" total shipment cost \n",
    "        :param model: \n",
    "        \"\"\"\n",
    "        return sum(model.cost[r,k]*model.units[r,k]\n",
    "                   for r in model.articles\n",
    "                   for k in model.origin)\n",
    "\n",
    "    # Define objective\n",
    "    model.finalcost = Objective(rule = Totalcost)\n",
    "\n",
    "    # Define constraint function\n",
    "    def cons_demand(model, articles):\n",
    "        \"\"\" constraint that guarantee demand of articles\n",
    "        \"\"\"\n",
    "        return sum(model.units[articles, k] for k in model.origin) == model.demand[articles]\n",
    "\n",
    "\n",
    "    # Define constraints\n",
    "    model.cons_demand = Constraint(model.articles, rule = cons_demand)\n",
    "   \n",
    "\n",
    "    return model"
   ]
  },
  {
   "cell_type": "markdown",
   "metadata": {},
   "source": [
    "#### instantiate model with data"
   ]
  },
  {
   "cell_type": "code",
   "execution_count": null,
   "metadata": {},
   "outputs": [],
   "source": [
    "# %load sigle_simple_model_data_v2.dat"
   ]
  },
  {
   "cell_type": "code",
   "execution_count": 129,
   "metadata": {},
   "outputs": [],
   "source": [
    "#instance = model.create_instance('sigle_simple_model_data_v1.dat')# from CSV file\n",
    "instance = model.create_instance('sigle_simple_model_data_v2.dat')# Written at hand"
   ]
  },
  {
   "cell_type": "code",
   "execution_count": 130,
   "metadata": {},
   "outputs": [
    {
     "data": {
      "text/plain": [
       "(1, 2, 3, 4)"
      ]
     },
     "execution_count": 130,
     "metadata": {},
     "output_type": "execute_result"
    }
   ],
   "source": [
    "instance.origin.data()"
   ]
  },
  {
   "cell_type": "code",
   "execution_count": 131,
   "metadata": {},
   "outputs": [
    {
     "data": {
      "text/plain": [
       "('a', 'b', 'c')"
      ]
     },
     "execution_count": 131,
     "metadata": {},
     "output_type": "execute_result"
    }
   ],
   "source": [
    "instance.articles.data()"
   ]
  },
  {
   "cell_type": "code",
   "execution_count": 134,
   "metadata": {},
   "outputs": [
    {
     "data": {
      "text/plain": [
       "30"
      ]
     },
     "execution_count": 134,
     "metadata": {},
     "output_type": "execute_result"
    }
   ],
   "source": [
    "instance.demand[('a')]"
   ]
  },
  {
   "cell_type": "code",
   "execution_count": 137,
   "metadata": {},
   "outputs": [
    {
     "data": {
      "text/plain": [
       "20"
      ]
     },
     "execution_count": 137,
     "metadata": {},
     "output_type": "execute_result"
    }
   ],
   "source": [
    "instance.cost[('a',2)]"
   ]
  },
  {
   "cell_type": "code",
   "execution_count": 136,
   "metadata": {},
   "outputs": [
    {
     "name": "stdout",
     "output_type": "stream",
     "text": [
      "None\n"
     ]
    }
   ],
   "source": [
    "print(instance.units[('a',2)].value)"
   ]
  },
  {
   "cell_type": "markdown",
   "metadata": {},
   "source": [
    "#### define solver\n",
    "Pyomo supports a wide variety of solvers. Pyomo has specialized interfaces to some solvers (for example, BARON, CBC, CPLEX, and Gurobi)\n",
    "* __glpk__ (GNU Linear Programming Kit) package for solving large-scale __Linea Programming (LP)__ and __Mixed-Integer Programming (MIP)__. Under GNU license.\n",
    "* __ipopt__  (Interior Point OPTimizer) package for solving large-scale __Non-Linear Programming (NLP)__. Under the Eclipse Public License (EPL)."
   ]
  },
  {
   "cell_type": "code",
   "execution_count": 117,
   "metadata": {},
   "outputs": [],
   "source": [
    "#%conda install -c conda-forge glpk"
   ]
  },
  {
   "cell_type": "code",
   "execution_count": 138,
   "metadata": {},
   "outputs": [],
   "source": [
    "opt = SolverFactory('glpk') "
   ]
  },
  {
   "cell_type": "markdown",
   "metadata": {},
   "source": [
    "#### solve"
   ]
  },
  {
   "cell_type": "code",
   "execution_count": 139,
   "metadata": {},
   "outputs": [
    {
     "name": "stdout",
     "output_type": "stream",
     "text": [
      "GLPSOL: GLPK LP/MIP Solver, v4.65\n",
      "Parameter(s) specified in the command line:\n",
      " --write /var/folders/9k/04pt01hs1ng95lppnvj97vw40000gn/T/tmps3bgf8bu.glpk.raw\n",
      " --wglp /var/folders/9k/04pt01hs1ng95lppnvj97vw40000gn/T/tmp2ch1pu7r.glpk.glp\n",
      " --cpxlp /var/folders/9k/04pt01hs1ng95lppnvj97vw40000gn/T/tmpg6cisnax.pyomo.lp\n",
      "Reading problem data from '/var/folders/9k/04pt01hs1ng95lppnvj97vw40000gn/T/tmpg6cisnax.pyomo.lp'...\n",
      "4 rows, 13 columns, 13 non-zeros\n",
      "57 lines were read\n",
      "Writing problem data to '/var/folders/9k/04pt01hs1ng95lppnvj97vw40000gn/T/tmp2ch1pu7r.glpk.glp'...\n",
      "61 lines were written\n",
      "GLPK Simplex Optimizer, v4.65\n",
      "4 rows, 13 columns, 13 non-zeros\n",
      "Preprocessing...\n",
      "3 rows, 9 columns, 9 non-zeros\n",
      "Scaling...\n",
      " A: min|aij| =  1.000e+00  max|aij| =  1.000e+00  ratio =  1.000e+00\n",
      "Problem data seem to be well scaled\n",
      "Constructing initial basis...\n",
      "Size of triangular part is 3\n",
      "*     0: obj =   2.900000000e+03 inf =   0.000e+00 (2)\n",
      "*     2: obj =   2.550000000e+03 inf =   0.000e+00 (0)\n",
      "OPTIMAL LP SOLUTION FOUND\n",
      "Time used:   0.0 secs\n",
      "Memory used: 0.0 Mb (40432 bytes)\n",
      "Writing basic solution to '/var/folders/9k/04pt01hs1ng95lppnvj97vw40000gn/T/tmps3bgf8bu.glpk.raw'...\n",
      "26 lines were written\n"
     ]
    }
   ],
   "source": [
    "results = opt.solve(instance, tee=True) # tee is a option to plot process"
   ]
  },
  {
   "cell_type": "code",
   "execution_count": 140,
   "metadata": {},
   "outputs": [
    {
     "name": "stdout",
     "output_type": "stream",
     "text": [
      "\n",
      "Problem: \n",
      "- Name: unknown\n",
      "  Lower bound: 2550.0\n",
      "  Upper bound: 2550.0\n",
      "  Number of objectives: 1\n",
      "  Number of constraints: 4\n",
      "  Number of variables: 13\n",
      "  Number of nonzeros: 13\n",
      "  Sense: minimize\n",
      "Solver: \n",
      "- Status: ok\n",
      "  Termination condition: optimal\n",
      "  Statistics: \n",
      "    Branch and bound: \n",
      "      Number of bounded subproblems: 0\n",
      "      Number of created subproblems: 0\n",
      "  Error rc: 0\n",
      "  Time: 0.03952622413635254\n",
      "Solution: \n",
      "- number of solutions: 0\n",
      "  number of solutions displayed: 0\n",
      "\n",
      "# ==========================================================\n",
      "# = Solver Results                                         =\n",
      "# ==========================================================\n",
      "# ----------------------------------------------------------\n",
      "#   Problem Information\n",
      "# ----------------------------------------------------------\n",
      "Problem: \n",
      "- Name: unknown\n",
      "  Lower bound: 2550.0\n",
      "  Upper bound: 2550.0\n",
      "  Number of objectives: 1\n",
      "  Number of constraints: 4\n",
      "  Number of variables: 13\n",
      "  Number of nonzeros: 13\n",
      "  Sense: minimize\n",
      "# ----------------------------------------------------------\n",
      "#   Solver Information\n",
      "# ----------------------------------------------------------\n",
      "Solver: \n",
      "- Status: ok\n",
      "  Termination condition: optimal\n",
      "  Statistics: \n",
      "    Branch and bound: \n",
      "      Number of bounded subproblems: 0\n",
      "      Number of created subproblems: 0\n",
      "  Error rc: 0\n",
      "  Time: 0.03952622413635254\n",
      "# ----------------------------------------------------------\n",
      "#   Solution Information\n",
      "# ----------------------------------------------------------\n",
      "Solution: \n",
      "- number of solutions: 0\n",
      "  number of solutions displayed: 0\n"
     ]
    }
   ],
   "source": [
    "print(results)\n",
    "results.write() # write results in yml file"
   ]
  },
  {
   "cell_type": "markdown",
   "metadata": {},
   "source": [
    "#### check results"
   ]
  },
  {
   "cell_type": "code",
   "execution_count": 141,
   "metadata": {},
   "outputs": [
    {
     "name": "stdout",
     "output_type": "stream",
     "text": [
      "Results\n",
      "Shipping...\n",
      "From origin 1 article a x: 0.0\n",
      "From origin 1 article b x: 50.0\n",
      "From origin 1 article c x: 20.0\n",
      "From origin 2 article a x: 30.0\n",
      "From origin 2 article b x: 0.0\n",
      "From origin 2 article c x: 0.0\n",
      "From origin 3 article a x: 0.0\n",
      "From origin 3 article b x: 0.0\n",
      "From origin 3 article c x: 0.0\n",
      "From origin 4 article a x: 0.0\n",
      "From origin 4 article b x: 0.0\n",
      "From origin 4 article c x: 0.0\n"
     ]
    }
   ],
   "source": [
    "print('Results')\n",
    "print('Shipping...')\n",
    "for k in instance.origin:\n",
    "    for r in instance.articles:\n",
    "        #if instance.units[(r, k)]!=0:\n",
    "        print('From origin',k,'article',r, 'x:',instance.units[(r, k)].value)"
   ]
  },
  {
   "cell_type": "code",
   "execution_count": 128,
   "metadata": {},
   "outputs": [
    {
     "name": "stdout",
     "output_type": "stream",
     "text": [
      "total cost: 2550.0 euros\n"
     ]
    }
   ],
   "source": [
    "#instance.finalcost.expr()\n",
    "print('total cost:', value(instance.finalcost),'euros')"
   ]
  },
  {
   "cell_type": "code",
   "execution_count": 65,
   "metadata": {},
   "outputs": [
    {
     "name": "stdout",
     "output_type": "stream",
     "text": [
      "\n",
      "Problem: \n",
      "- Name: unknown\n",
      "  Lower bound: 2550.0\n",
      "  Upper bound: 2550.0\n",
      "  Number of objectives: 1\n",
      "  Number of constraints: 4\n",
      "  Number of variables: 10\n",
      "  Number of nonzeros: 10\n",
      "  Sense: minimize\n",
      "Solver: \n",
      "- Status: ok\n",
      "  Termination condition: optimal\n",
      "  Statistics: \n",
      "    Branch and bound: \n",
      "      Number of bounded subproblems: 0\n",
      "      Number of created subproblems: 0\n",
      "  Error rc: 0\n",
      "  Time: 0.044905900955200195\n",
      "Solution: \n",
      "- number of solutions: 0\n",
      "  number of solutions displayed: 0\n",
      "\n"
     ]
    }
   ],
   "source": [
    "print(results)\n",
    "#reasults.write()"
   ]
  },
  {
   "cell_type": "code",
   "execution_count": 70,
   "metadata": {},
   "outputs": [
    {
     "name": "stdout",
     "output_type": "stream",
     "text": [
      "botas\n",
      "cascos\n",
      "fusiles\n"
     ]
    }
   ],
   "source": [
    "for k in instance.articles:\n",
    "    print(k)"
   ]
  },
  {
   "cell_type": "code",
   "execution_count": 76,
   "metadata": {},
   "outputs": [
    {
     "name": "stdout",
     "output_type": "stream",
     "text": [
      "madrid\n",
      "valencia\n",
      "barcelona\n"
     ]
    }
   ],
   "source": [
    "for k in instance.origin:\n",
    "    print(k)"
   ]
  },
  {
   "cell_type": "code",
   "execution_count": 77,
   "metadata": {},
   "outputs": [
    {
     "ename": "KeyError",
     "evalue": "\"Index '('madrid', 'botas')' is not valid for indexed component 'units'\"",
     "output_type": "error",
     "traceback": [
      "\u001b[0;31m---------------------------------------------------------------------------\u001b[0m",
      "\u001b[0;31mKeyError\u001b[0m                                  Traceback (most recent call last)",
      "\u001b[0;32m<ipython-input-77-0d41454e690a>\u001b[0m in \u001b[0;36m<module>\u001b[0;34m\u001b[0m\n\u001b[0;32m----> 1\u001b[0;31m \u001b[0minstance\u001b[0m\u001b[0;34m.\u001b[0m\u001b[0munits\u001b[0m\u001b[0;34m[\u001b[0m\u001b[0;34m(\u001b[0m\u001b[0;34m'madrid'\u001b[0m\u001b[0;34m,\u001b[0m \u001b[0;34m'botas'\u001b[0m\u001b[0;34m)\u001b[0m\u001b[0;34m]\u001b[0m\u001b[0;34m.\u001b[0m\u001b[0mvalue\u001b[0m\u001b[0;34m\u001b[0m\u001b[0;34m\u001b[0m\u001b[0m\n\u001b[0m",
      "\u001b[0;32m~/anaconda3/lib/python3.7/site-packages/pyomo/core/base/indexed_component.py\u001b[0m in \u001b[0;36m__getitem__\u001b[0;34m(self, index)\u001b[0m\n\u001b[1;32m    398\u001b[0m             \u001b[0;32mif\u001b[0m \u001b[0mindex\u001b[0m\u001b[0;34m.\u001b[0m\u001b[0m__class__\u001b[0m \u001b[0;32mis\u001b[0m \u001b[0mEXPR\u001b[0m\u001b[0;34m.\u001b[0m\u001b[0mGetItemExpression\u001b[0m\u001b[0;34m:\u001b[0m\u001b[0;34m\u001b[0m\u001b[0;34m\u001b[0m\u001b[0m\n\u001b[1;32m    399\u001b[0m                 \u001b[0;32mreturn\u001b[0m \u001b[0mindex\u001b[0m\u001b[0;34m\u001b[0m\u001b[0;34m\u001b[0m\u001b[0m\n\u001b[0;32m--> 400\u001b[0;31m             \u001b[0mvalidated_index\u001b[0m \u001b[0;34m=\u001b[0m \u001b[0mself\u001b[0m\u001b[0;34m.\u001b[0m\u001b[0m_validate_index\u001b[0m\u001b[0;34m(\u001b[0m\u001b[0mindex\u001b[0m\u001b[0;34m)\u001b[0m\u001b[0;34m\u001b[0m\u001b[0;34m\u001b[0m\u001b[0m\n\u001b[0m\u001b[1;32m    401\u001b[0m             \u001b[0;32mif\u001b[0m \u001b[0mvalidated_index\u001b[0m \u001b[0;32mis\u001b[0m \u001b[0;32mnot\u001b[0m \u001b[0mindex\u001b[0m\u001b[0;34m:\u001b[0m\u001b[0;34m\u001b[0m\u001b[0;34m\u001b[0m\u001b[0m\n\u001b[1;32m    402\u001b[0m                 \u001b[0mindex\u001b[0m \u001b[0;34m=\u001b[0m \u001b[0mvalidated_index\u001b[0m\u001b[0;34m\u001b[0m\u001b[0;34m\u001b[0m\u001b[0m\n",
      "\u001b[0;32m~/anaconda3/lib/python3.7/site-packages/pyomo/core/base/indexed_component.py\u001b[0m in \u001b[0;36m_validate_index\u001b[0;34m(self, idx)\u001b[0m\n\u001b[1;32m    559\u001b[0m         raise KeyError(\n\u001b[1;32m    560\u001b[0m             \u001b[0;34m\"Index '%s' is not valid for indexed component '%s'\"\u001b[0m\u001b[0;34m\u001b[0m\u001b[0;34m\u001b[0m\u001b[0m\n\u001b[0;32m--> 561\u001b[0;31m             % ( idx, self.name, ))\n\u001b[0m\u001b[1;32m    562\u001b[0m \u001b[0;34m\u001b[0m\u001b[0m\n\u001b[1;32m    563\u001b[0m     \u001b[0;32mdef\u001b[0m \u001b[0m_processUnhashableIndex\u001b[0m\u001b[0;34m(\u001b[0m\u001b[0mself\u001b[0m\u001b[0;34m,\u001b[0m \u001b[0midx\u001b[0m\u001b[0;34m)\u001b[0m\u001b[0;34m:\u001b[0m\u001b[0;34m\u001b[0m\u001b[0;34m\u001b[0m\u001b[0m\n",
      "\u001b[0;31mKeyError\u001b[0m: \"Index '('madrid', 'botas')' is not valid for indexed component 'units'\""
     ]
    }
   ],
   "source": [
    "instance.units[('madrid', 'botas')].value"
   ]
  },
  {
   "cell_type": "code",
   "execution_count": 63,
   "metadata": {},
   "outputs": [
    {
     "name": "stdout",
     "output_type": "stream",
     "text": [
      "\n",
      "Problem: \n",
      "- Name: unknown\n",
      "  Lower bound: 2550.0\n",
      "  Upper bound: 2550.0\n",
      "  Number of objectives: 1\n",
      "  Number of constraints: 4\n",
      "  Number of variables: 10\n",
      "  Number of nonzeros: 10\n",
      "  Sense: minimize\n",
      "Solver: \n",
      "- Status: ok\n",
      "  Termination condition: optimal\n",
      "  Statistics: \n",
      "    Branch and bound: \n",
      "      Number of bounded subproblems: 0\n",
      "      Number of created subproblems: 0\n",
      "  Error rc: 0\n",
      "  Time: 0.044905900955200195\n",
      "Solution: \n",
      "- number of solutions: 0\n",
      "  number of solutions displayed: 0\n",
      "\n",
      "Results\n"
     ]
    },
    {
     "ename": "KeyError",
     "evalue": "\"Index '('madrid', 'cascos')' is not valid for indexed component 'units'\"",
     "output_type": "error",
     "traceback": [
      "\u001b[0;31m---------------------------------------------------------------------------\u001b[0m",
      "\u001b[0;31mKeyError\u001b[0m                                  Traceback (most recent call last)",
      "\u001b[0;32m<ipython-input-63-32251f522d4d>\u001b[0m in \u001b[0;36m<module>\u001b[0;34m\u001b[0m\n\u001b[1;32m      6\u001b[0m     \u001b[0;32mfor\u001b[0m \u001b[0mr\u001b[0m \u001b[0;32min\u001b[0m \u001b[0minstance\u001b[0m\u001b[0;34m.\u001b[0m\u001b[0marticles\u001b[0m\u001b[0;34m:\u001b[0m\u001b[0;34m\u001b[0m\u001b[0;34m\u001b[0m\u001b[0m\n\u001b[1;32m      7\u001b[0m         \u001b[0;32mif\u001b[0m \u001b[0minstance\u001b[0m\u001b[0;34m.\u001b[0m\u001b[0munits\u001b[0m\u001b[0;34m[\u001b[0m\u001b[0;34m(\u001b[0m\u001b[0mr\u001b[0m\u001b[0;34m,\u001b[0m \u001b[0mk\u001b[0m\u001b[0;34m)\u001b[0m\u001b[0;34m]\u001b[0m\u001b[0;34m!=\u001b[0m\u001b[0;36m0\u001b[0m\u001b[0;34m:\u001b[0m\u001b[0;34m\u001b[0m\u001b[0;34m\u001b[0m\u001b[0m\n\u001b[0;32m----> 8\u001b[0;31m             \u001b[0mprint\u001b[0m\u001b[0;34m(\u001b[0m\u001b[0;34m'From origin'\u001b[0m\u001b[0;34m,\u001b[0m\u001b[0mk\u001b[0m\u001b[0;34m,\u001b[0m\u001b[0;34m'for article'\u001b[0m\u001b[0;34m,\u001b[0m\u001b[0mr\u001b[0m\u001b[0;34m,\u001b[0m \u001b[0;34m'x:'\u001b[0m\u001b[0;34m,\u001b[0m\u001b[0minstance\u001b[0m\u001b[0;34m.\u001b[0m\u001b[0munits\u001b[0m\u001b[0;34m[\u001b[0m\u001b[0;34m(\u001b[0m\u001b[0mk\u001b[0m\u001b[0;34m,\u001b[0m \u001b[0mr\u001b[0m\u001b[0;34m)\u001b[0m\u001b[0;34m]\u001b[0m\u001b[0;34m.\u001b[0m\u001b[0mvalue\u001b[0m\u001b[0;34m)\u001b[0m\u001b[0;34m\u001b[0m\u001b[0;34m\u001b[0m\u001b[0m\n\u001b[0m\u001b[1;32m      9\u001b[0m \u001b[0;34m\u001b[0m\u001b[0m\n\u001b[1;32m     10\u001b[0m \u001b[0;31m#instance.finalcost.expr()\u001b[0m\u001b[0;34m\u001b[0m\u001b[0;34m\u001b[0m\u001b[0;34m\u001b[0m\u001b[0m\n",
      "\u001b[0;32m~/anaconda3/lib/python3.7/site-packages/pyomo/core/base/indexed_component.py\u001b[0m in \u001b[0;36m__getitem__\u001b[0;34m(self, index)\u001b[0m\n\u001b[1;32m    398\u001b[0m             \u001b[0;32mif\u001b[0m \u001b[0mindex\u001b[0m\u001b[0;34m.\u001b[0m\u001b[0m__class__\u001b[0m \u001b[0;32mis\u001b[0m \u001b[0mEXPR\u001b[0m\u001b[0;34m.\u001b[0m\u001b[0mGetItemExpression\u001b[0m\u001b[0;34m:\u001b[0m\u001b[0;34m\u001b[0m\u001b[0;34m\u001b[0m\u001b[0m\n\u001b[1;32m    399\u001b[0m                 \u001b[0;32mreturn\u001b[0m \u001b[0mindex\u001b[0m\u001b[0;34m\u001b[0m\u001b[0;34m\u001b[0m\u001b[0m\n\u001b[0;32m--> 400\u001b[0;31m             \u001b[0mvalidated_index\u001b[0m \u001b[0;34m=\u001b[0m \u001b[0mself\u001b[0m\u001b[0;34m.\u001b[0m\u001b[0m_validate_index\u001b[0m\u001b[0;34m(\u001b[0m\u001b[0mindex\u001b[0m\u001b[0;34m)\u001b[0m\u001b[0;34m\u001b[0m\u001b[0;34m\u001b[0m\u001b[0m\n\u001b[0m\u001b[1;32m    401\u001b[0m             \u001b[0;32mif\u001b[0m \u001b[0mvalidated_index\u001b[0m \u001b[0;32mis\u001b[0m \u001b[0;32mnot\u001b[0m \u001b[0mindex\u001b[0m\u001b[0;34m:\u001b[0m\u001b[0;34m\u001b[0m\u001b[0;34m\u001b[0m\u001b[0m\n\u001b[1;32m    402\u001b[0m                 \u001b[0mindex\u001b[0m \u001b[0;34m=\u001b[0m \u001b[0mvalidated_index\u001b[0m\u001b[0;34m\u001b[0m\u001b[0;34m\u001b[0m\u001b[0m\n",
      "\u001b[0;32m~/anaconda3/lib/python3.7/site-packages/pyomo/core/base/indexed_component.py\u001b[0m in \u001b[0;36m_validate_index\u001b[0;34m(self, idx)\u001b[0m\n\u001b[1;32m    559\u001b[0m         raise KeyError(\n\u001b[1;32m    560\u001b[0m             \u001b[0;34m\"Index '%s' is not valid for indexed component '%s'\"\u001b[0m\u001b[0;34m\u001b[0m\u001b[0;34m\u001b[0m\u001b[0m\n\u001b[0;32m--> 561\u001b[0;31m             % ( idx, self.name, ))\n\u001b[0m\u001b[1;32m    562\u001b[0m \u001b[0;34m\u001b[0m\u001b[0m\n\u001b[1;32m    563\u001b[0m     \u001b[0;32mdef\u001b[0m \u001b[0m_processUnhashableIndex\u001b[0m\u001b[0;34m(\u001b[0m\u001b[0mself\u001b[0m\u001b[0;34m,\u001b[0m \u001b[0midx\u001b[0m\u001b[0;34m)\u001b[0m\u001b[0;34m:\u001b[0m\u001b[0;34m\u001b[0m\u001b[0;34m\u001b[0m\u001b[0m\n",
      "\u001b[0;31mKeyError\u001b[0m: \"Index '('madrid', 'cascos')' is not valid for indexed component 'units'\""
     ]
    }
   ],
   "source": [
    "\n",
    "\n",
    "print('Results')\n",
    "for k in instance.origin:\n",
    "    for r in instance.articles:\n",
    "        if instance.units[(r, k)]!=0:\n",
    "            print('From origin',k,'for article',r, 'x:',instance.units[(k, r)].value)\n",
    "\n"
   ]
  },
  {
   "cell_type": "markdown",
   "metadata": {},
   "source": [
    "#### Save the data of the model in transport_data.dat file"
   ]
  },
  {
   "cell_type": "markdown",
   "metadata": {
    "collapsed": true
   },
   "source": [
    "#### Solve the problem"
   ]
  },
  {
   "cell_type": "code",
   "execution_count": null,
   "metadata": {},
   "outputs": [],
   "source": [
    "% ls"
   ]
  },
  {
   "cell_type": "markdown",
   "metadata": {},
   "source": [
    "## working command line\n",
    "\n",
    "* Create .py file with model\n",
    "* open a command line\n",
    "* run the pyomo porblem in the following way:\n",
    "    * pyomo solve transport_model.py transport_data.dat --solver=glpk --summary"
   ]
  },
  {
   "cell_type": "markdown",
   "metadata": {},
   "source": [
    "#### run python file"
   ]
  },
  {
   "cell_type": "code",
   "execution_count": 82,
   "metadata": {},
   "outputs": [
    {
     "name": "stdout",
     "output_type": "stream",
     "text": [
      "GLPSOL: GLPK LP/MIP Solver, v4.65\r\n",
      "Parameter(s) specified in the command line:\r\n",
      " --write /var/folders/9k/04pt01hs1ng95lppnvj97vw40000gn/T/tmpqfosu36u.glpk.raw\r\n",
      " --wglp /var/folders/9k/04pt01hs1ng95lppnvj97vw40000gn/T/tmpvxl4p67_.glpk.glp\r\n",
      " --cpxlp /var/folders/9k/04pt01hs1ng95lppnvj97vw40000gn/T/tmp8sg8kdo3.pyomo.lp\r\n",
      "Reading problem data from '/var/folders/9k/04pt01hs1ng95lppnvj97vw40000gn/T/tmp8sg8kdo3.pyomo.lp'...\r\n",
      "4 rows, 10 columns, 10 non-zeros\r\n",
      "48 lines were read\r\n",
      "Writing problem data to '/var/folders/9k/04pt01hs1ng95lppnvj97vw40000gn/T/tmpvxl4p67_.glpk.glp'...\r\n",
      "49 lines were written\r\n",
      "GLPK Simplex Optimizer, v4.65\r\n",
      "4 rows, 10 columns, 10 non-zeros\r\n",
      "Preprocessing...\r\n",
      "3 rows, 6 columns, 6 non-zeros\r\n",
      "Scaling...\r\n",
      " A: min|aij| =  1.000e+00  max|aij| =  1.000e+00  ratio =  1.000e+00\r\n",
      "Problem data seem to be well scaled\r\n",
      "Constructing initial basis...\r\n",
      "Size of triangular part is 3\r\n",
      "*     0: obj =   2.700000000e+03 inf =   0.000e+00 (1)\r\n",
      "*     1: obj =   2.550000000e+03 inf =   0.000e+00 (0)\r\n",
      "OPTIMAL LP SOLUTION FOUND\r\n",
      "Time used:   0.0 secs\r\n",
      "Memory used: 0.0 Mb (40424 bytes)\r\n",
      "Writing basic solution to '/var/folders/9k/04pt01hs1ng95lppnvj97vw40000gn/T/tmpqfosu36u.glpk.raw'...\r\n",
      "23 lines were written\r\n",
      "\r\n",
      "Problem: \r\n",
      "- Name: unknown\r\n",
      "  Lower bound: 2550.0\r\n",
      "  Upper bound: 2550.0\r\n",
      "  Number of objectives: 1\r\n",
      "  Number of constraints: 4\r\n",
      "  Number of variables: 10\r\n",
      "  Number of nonzeros: 10\r\n",
      "  Sense: minimize\r\n",
      "Solver: \r\n",
      "- Status: ok\r\n",
      "  Termination condition: optimal\r\n",
      "  Statistics: \r\n",
      "    Branch and bound: \r\n",
      "      Number of bounded subproblems: 0\r\n",
      "      Number of created subproblems: 0\r\n",
      "  Error rc: 0\r\n",
      "  Time: 0.025567054748535156\r\n",
      "Solution: \r\n",
      "- number of solutions: 0\r\n",
      "  number of solutions displayed: 0\r\n",
      "\r\n",
      "=================================\r\n",
      "Results\r\n",
      "Origin 1 Article 2 X: 30.0\r\n",
      "Origin 1 Article 3 X: 0.0\r\n",
      "Origin 2 Article 1 X: 50.0\r\n",
      "=================================\r\n",
      "total cost: 2550.0 euros\r\n"
     ]
    }
   ],
   "source": [
    "!python Supply_chain_sigle.py"
   ]
  },
  {
   "cell_type": "code",
   "execution_count": 56,
   "metadata": {},
   "outputs": [],
   "source": [
    "#!pyomo solve Supply_chain_sigle.py --solver=glpk --summary"
   ]
  },
  {
   "cell_type": "code",
   "execution_count": 57,
   "metadata": {},
   "outputs": [],
   "source": [
    "#!pyomo solve Supply_chain_single.py transport_data.dat --solver=glpk --summary"
   ]
  },
  {
   "cell_type": "code",
   "execution_count": null,
   "metadata": {},
   "outputs": [],
   "source": []
  },
  {
   "cell_type": "code",
   "execution_count": null,
   "metadata": {},
   "outputs": [],
   "source": []
  },
  {
   "cell_type": "code",
   "execution_count": null,
   "metadata": {},
   "outputs": [],
   "source": []
  },
  {
   "cell_type": "code",
   "execution_count": null,
   "metadata": {},
   "outputs": [],
   "source": []
  },
  {
   "cell_type": "code",
   "execution_count": null,
   "metadata": {},
   "outputs": [],
   "source": []
  },
  {
   "cell_type": "code",
   "execution_count": null,
   "metadata": {},
   "outputs": [],
   "source": [
    "# %load transport_model.py\n",
    "\n",
    "\n",
    "from pyomo.environ import *\n",
    "\n",
    "model = AbstractModel()\n",
    "\n",
    "# Define the sets\n",
    "model.markets = Set()\n",
    "model.factories = Set()\n",
    "\n",
    "\n",
    "# Define the variables\n",
    "model.production = Param(model.factories)\n",
    "model.demand = Param(model.markets)\n",
    "\n",
    "# Define the matrix of cost of send one profuct from factories to markets \n",
    "model.costs = Param(model.factories,model.markets)\n",
    "\n",
    "\n",
    "# Define the variable of units of product from factory $i$ to market $j$ $x_{i,j}$\n",
    "model.units = Var(model.factories, model.markets, within = NonNegativeReals)\n",
    "\n",
    "\n",
    "# Define objective function (1)\n",
    "def Totalcost(model):\n",
    "    return sum(model.costs[n,i]*model.units[n,i]\n",
    "               for n in model.factories\n",
    "               for i in model.markets)\n",
    "\n",
    "# Define objective \n",
    "model.finalcost = Objective(rule = Totalcost)\n",
    "\n",
    "# Define constraint function \n",
    "def MinDemand(model,markets):\n",
    "    return sum(model.units[i,markets] for i in model.factories) >= model.demand[markets]\n",
    "\n",
    "# Define constraint function \n",
    "def MaxProduction(model,factories):\n",
    "    return sum(model.units[factories,j] for j in model.markets) <= model.production[factories]\n",
    "\n",
    "# Define constraints \n",
    "model.DemandConstraint = Constraint(model.markets, rule = MinDemand)\n",
    "model.ProductionConstraint = Constraint(model.factories, rule = MaxProduction)\n"
   ]
  },
  {
   "cell_type": "code",
   "execution_count": null,
   "metadata": {},
   "outputs": [],
   "source": [
    "opt = SolverFactory('glpk')\n",
    "instance = model.create_instance('transport_data.dat') \n",
    "results = opt.solve(instance, tee=True) # tee is a option to plot process"
   ]
  },
  {
   "cell_type": "code",
   "execution_count": null,
   "metadata": {},
   "outputs": [],
   "source": []
  },
  {
   "cell_type": "code",
   "execution_count": null,
   "metadata": {},
   "outputs": [],
   "source": [
    "#results.write(num=1)"
   ]
  },
  {
   "cell_type": "code",
   "execution_count": null,
   "metadata": {},
   "outputs": [],
   "source": [
    "#instance.solutions.load_from(results)\n",
    "#for v in instance.component_objects(Var, active=True):\n",
    "#    print (\"Variable\",v)\n",
    "#    varobject = getattr(instance, str(v))\n",
    "#    for index in varobject:\n",
    "#        print (\"   \",index, varobject[index].value)"
   ]
  },
  {
   "cell_type": "markdown",
   "metadata": {},
   "source": [
    "### Values of the variable"
   ]
  },
  {
   "cell_type": "code",
   "execution_count": null,
   "metadata": {},
   "outputs": [],
   "source": [
    "for f in instance.factories:\n",
    "    for m in instance.markets: \n",
    "        if instance.units[(f, m)]!=0:\n",
    "            print('From factory',f,'to market',m, 'x:',instance.units[(f, m)].value)"
   ]
  },
  {
   "cell_type": "markdown",
   "metadata": {},
   "source": [
    "### Value of the objective function"
   ]
  },
  {
   "cell_type": "code",
   "execution_count": null,
   "metadata": {},
   "outputs": [],
   "source": [
    "#instance.finalcost.expr()\n",
    "value(instance.finalcost)"
   ]
  },
  {
   "cell_type": "code",
   "execution_count": null,
   "metadata": {},
   "outputs": [],
   "source": []
  }
 ],
 "metadata": {
  "@webio": {
   "lastCommId": null,
   "lastKernelId": null
  },
  "kernelspec": {
   "display_name": "Python 3",
   "language": "python",
   "name": "python3"
  },
  "language_info": {
   "codemirror_mode": {
    "name": "ipython",
    "version": 3
   },
   "file_extension": ".py",
   "mimetype": "text/x-python",
   "name": "python",
   "nbconvert_exporter": "python",
   "pygments_lexer": "ipython3",
   "version": "3.7.3"
  }
 },
 "nbformat": 4,
 "nbformat_minor": 1
}
