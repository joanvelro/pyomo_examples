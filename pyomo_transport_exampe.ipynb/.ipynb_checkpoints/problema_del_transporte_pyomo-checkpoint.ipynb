{
 "cells": [
  {
   "cell_type": "markdown",
   "metadata": {},
   "source": [
    "# Problema del transporte con Pyomo"
   ]
  },
  {
   "cell_type": "markdown",
   "metadata": {},
   "source": [
    "Python 2\n",
    "\n",
    "25 Febrero 2018"
   ]
  },
  {
   "cell_type": "markdown",
   "metadata": {},
   "source": [
    "[Pyomo Documentation](https://software.sandia.gov/downloads/pub/pyomo/PyomoOnlineDocs.html)"
   ]
  },
  {
   "cell_type": "code",
   "execution_count": 38,
   "metadata": {},
   "outputs": [],
   "source": [
    "from pyomo.environ import *\n",
    "from IPython.display import display, Math, Latex # Para escribir en latex\n",
    "from IPython.display import Image # Para insertar imagenes"
   ]
  },
  {
   "cell_type": "markdown",
   "metadata": {},
   "source": [
    "Problema de programación lineal\n",
    "\n",
    "Variables:\n",
    "\n",
    "$x_{ij}$: Cantidad de producto que va de la planta $i$ al mercado $j$\n",
    "\n",
    "$c_{ij}$: Coste de mandar una unidad de producto desde la planta $i$ al mercado $j$\n",
    "\n",
    "$z$:  Coste total envio\n",
    "\n",
    "Función objetivo:\n",
    "\n",
    "$$Min: z =  \\sum_{i=1}^{N_p} \\sum_{j=1}^{N_m} x_{ij} \\cdot c_{ij}  $$\n",
    "\n",
    "Restricciones:\n",
    "\n",
    "Demanda satisfecha en cada mercado $j$ $(b_j)$\n",
    "\n",
    "$$\\sum_{i=1}^{N_p} x_{ij} \\geq b_j$$ \n",
    "\n",
    "Limite de produccion en cada planta $i$ $(p_i)$\n",
    "\n",
    "$$ \\sum_{j=1}^{N_m} x_{ij} \\leq p_i $$\n",
    "\n",
    "\n",
    "\n",
    "<img src=\"transport.png\">\n",
    "\n"
   ]
  },
  {
   "cell_type": "code",
   "execution_count": 39,
   "metadata": {},
   "outputs": [],
   "source": [
    "# Definimos modelo abstracto\n",
    "# Solo definimos las ecuaciones\n",
    "# Los datos van aparte\n",
    "model = AbstractModel()"
   ]
  },
  {
   "cell_type": "code",
   "execution_count": 40,
   "metadata": {},
   "outputs": [],
   "source": [
    "# Conjuntos \n",
    "model.plantas = Set()\n",
    "model.mercados = Set()"
   ]
  },
  {
   "cell_type": "code",
   "execution_count": 41,
   "metadata": {},
   "outputs": [],
   "source": [
    "# Vectores \n",
    "model.produccion = Param(model.plantas)\n",
    "model.demanda = Param(model.mercados)"
   ]
  },
  {
   "cell_type": "code",
   "execution_count": 42,
   "metadata": {},
   "outputs": [],
   "source": [
    "# Matriz\n",
    "model.costes = Param(model.plantas,model.mercados)"
   ]
  },
  {
   "cell_type": "code",
   "execution_count": 43,
   "metadata": {},
   "outputs": [],
   "source": [
    "# Variables (reales no negativas)\n",
    "model.unidades = Var(model.plantas, model.mercados, within = NonNegativeReals)"
   ]
  },
  {
   "cell_type": "markdown",
   "metadata": {},
   "source": []
  },
  {
   "cell_type": "code",
   "execution_count": 44,
   "metadata": {},
   "outputs": [],
   "source": [
    "# Definir funcion objetivo\n",
    "def CosteTotal(model):\n",
    "    return sum(model.costes[n,i]*model.unidades[n,i]\n",
    "               for n in model.plantas\n",
    "               for i in model.mercados)\n",
    "               "
   ]
  },
  {
   "cell_type": "code",
   "execution_count": 45,
   "metadata": {},
   "outputs": [],
   "source": [
    "# Definir variable objetivo\n",
    "model.costefinal = Objective(rule = CosteTotal)"
   ]
  },
  {
   "cell_type": "code",
   "execution_count": 46,
   "metadata": {},
   "outputs": [],
   "source": [
    "# Restriccion de demanda minima\n",
    "def MinDemanda(model,mercado):\n",
    "    return sum(model.unidades[i,mercado] for i in model.plantas) >= model.demanda[mercado]\n",
    "\n",
    "# Declaramos restriccion\n",
    "model.DemandConstraint = Constraint(model.mercados, rule = MinDemanda)"
   ]
  },
  {
   "cell_type": "code",
   "execution_count": 47,
   "metadata": {},
   "outputs": [],
   "source": [
    "# Restriccion de produccion maxima\n",
    "def MaxProduccion(model,plantas):\n",
    "    return sum(model.unidades[plantas,j] for j in model.mercados) <= model.produccion[plantas]\n",
    "\n",
    "# Declaramos restriccion\n",
    "model.ProductionConstraint = Constraint(model.plantas, rule = MaxProduccion)"
   ]
  },
  {
   "cell_type": "markdown",
   "metadata": {
    "collapsed": true
   },
   "source": [
    "## Ahora exportar el modelo en .py"
   ]
  },
  {
   "cell_type": "code",
   "execution_count": null,
   "metadata": {},
   "outputs": [],
   "source": []
  }
 ],
 "metadata": {
  "kernelspec": {
   "display_name": "Python 2",
   "language": "python",
   "name": "python2"
  },
  "language_info": {
   "codemirror_mode": {
    "name": "ipython",
    "version": 2
   },
   "file_extension": ".py",
   "mimetype": "text/x-python",
   "name": "python",
   "nbconvert_exporter": "python",
   "pygments_lexer": "ipython2",
   "version": "2.7.14"
  }
 },
 "nbformat": 4,
 "nbformat_minor": 1
}
