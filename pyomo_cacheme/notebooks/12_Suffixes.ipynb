{
 "cells": [
  {
   "cell_type": "markdown",
   "metadata": {},
   "source": [
    "#12. Suffixes"
   ]
  },
  {
   "cell_type": "markdown",
   "metadata": {},
   "source": [
    "Suffixes provide a mechanism for declaring extraneous model data, which can be used in a number of contexts. Most commonly, suffixes are used by solver plugins to store extra information about the solution of a model. This and other suffix functionality is made available to the modeler through the use of the Suffix component class. Uses of Suffix include:\n",
    "\n",
    "- Importing extra information from a solver about the solution of a mathematical program (e.g., constraint duals, variable reduced costs, basis information).\n",
    "\n",
    "- Exporting information to a solver or algorithm to aid in solving a mathematical program (e.g., warm-starting information, variable branching priorities).\n",
    "\n",
    "- Tagging modeling components with local data for later use in advanced scripting algorithms.\n",
    "\n",
    "###12.1. Suffix Notation and the Pyomo NL File Interface\n",
    "The Suffix component used in Pyomo has been adapted from the suffix notation used in the modeling language AMPL [AMPL](https://software.sandia.gov/downloads/pub/pyomo/PyomoOnlineDocs.html#AMPL). Therefore, it follows naturally that AMPL style suffix functionality is fully available using Pyomo’s NL file interface. For information on AMPL style suffixes the reader is referred to the AMPL website:\n",
    "\n",
    "http://www.ampl.com\n",
    "\n",
    "A number of scripting examples that highlight the use AMPL style suffix functionality are available in the <span style=\"color:darkblue; font-family:Courier\">examples/pyomo/suffixes</span> directory distributed with Pyomo.\n",
    "\n",
    "###12.2. Declaration\n",
    "The effects of declaring a Suffix component on a Pyomo model are determined by the following traits:\n",
    "\n",
    "- direction: This trait defines the direction of information flow for the suffix. A suffix direction can be assigned one of four possible values:\n",
    "\n",
    "    - <span style=\"color:darkblue; font-family:Courier\">LOCAL</span> - suffix data stays local to the modeling framework and will not be imported or exported by a solver plugin (default)\n",
    "\n",
    "    - <span style=\"color:darkblue; font-family:Courier\">IMPORT</span> - suffix data will be imported from the solver by its respective solver plugin\n",
    "\n",
    "    - <span style=\"color:darkblue; font-family:Courier\">EXPORT</span> - suffix data will be exported to a solver by its respective solver plugin\n",
    "\n",
    "    - <span style=\"color:darkblue; font-family:Courier\">IMPORT_EXPORT</span> - suffix data flows in both directions between the model and the solver or algorithm\n",
    "\n",
    "- datatype: This trait advertises the type of data held on the suffix for those interfaces where it matters (e.g., the NL file interface). A suffix datatype can be assigned one of three possible values:\n",
    "\n",
    "    - <span style=\"color:darkblue; font-family:Courier\">FLOAT</span> - the suffix stores floating point data (default)\n",
    "\n",
    "    - <span style=\"color:darkblue; font-family:Courier\">INT</span> - the suffix stores integer data\n",
    "\n",
    "    - <span style=\"color:darkblue; font-family:Courier\">None</span> - the suffix stores any type of data\n",
    "\n",
    ">#####Note\n",
    ">Exporting suffix data through Pyomo’s NL file interface requires all active export suffixes have a strict datatype (i.e., <span style=\"color:darkblue; font-family:Courier\">datatype=None</span> is not allowed).\n",
    "\n",
    "The following code snippet shows examples of declaring a Suffix component on a Pyomo model:\n",
    "\n"
   ]
  },
  {
   "cell_type": "code",
   "execution_count": 1,
   "metadata": {
    "collapsed": true
   },
   "outputs": [],
   "source": [
    "from pyomo.environ import *\n",
    "\n",
    "model = ConcreteModel()\n",
    "\n",
    "# Export integer data\n",
    "model.priority = Suffix(direction=Suffix.EXPORT, datatype=Suffix.INT)\n",
    "\n",
    "# Export and import floating point data\n",
    "model.dual = Suffix(direction=Suffix.IMPORT_EXPORT)\n",
    "\n",
    "# Store floating point data\n",
    "model.junk = Suffix()"
   ]
  },
  {
   "cell_type": "markdown",
   "metadata": {},
   "source": [
    "Declaring a Suffix with a non-local direction on a model is not guaranteed to be compatible with all solver plugins in Pyomo. Whether a given Suffix is acceptable or not depends on both the solver and solver interface being used. In some cases, a solver plugin will raise an exception if it encounters a Suffix type that it does not handle, but this is not true in every situation. For instance, the NL file interface is generic to all AMPL-compatible solvers, so there is no way to validate that a Suffix of a given name, direction, and datatype is appropriate for a solver. One should be careful in verifying that Suffix declarations are being handled as expected when switching to a different solver or solver interface.\n",
    "\n",
    "###12.3. Operations\n",
    "The Suffix component class provides a dictionary interface for mapping Pyomo modeling components to arbitrary data. This mapping functionality is captured within the ComponentMap base class, which is also available within Pyomo’s modeling environment. The ComponentMap can be used as a more lightweight replacement for Suffix in cases where a simple mapping from Pyomo modeling components to arbitrary data values is required.\n",
    "\n",
    ">#####Note\n",
    ">ComponentMap and Suffix use the built-in <span style=\"color:darkblue; font-family:Courier\">id()</span> function for hashing entry keys. This design decision arises from the fact that most of the modeling components found in Pyomo are either not hashable or use a hash based on a mutable numeric value, making them unacceptable for use as keys with the built-in dict class.\n",
    "\n",
    "\n",
    ">#####Warning\n",
    ">The use of the built-in <span style=\"color:darkblue; font-family:Courier\">id()</span> function for hashing entry keys in ComponentMap and Suffix makes them inappropriate for use in situations where built-in object types must be used as keys. It is strongly recommended that only Pyomo modeling components be used as keys in these mapping containers (<span style=\"color:darkblue; font-family:Courier\">Var</span>, <span style=\"color:darkblue; font-family:Courier\">Constraint</span>, etc.).\n",
    "\n",
    "\n",
    "\n",
    ">#####Warning\n",
    ">Do not attempt to pickle or deepcopy instances of ComponentMap or Suffix unless doing so along with the components for which they hold mapping entries. As an example, placing one of these objects on a model and then cloning or pickling that model is an acceptable scenario.\n",
    "\n",
    "In addition to the dictionary interface provided through the ComponentMap base class, the Suffix component class also provides a number of methods whose default semantics are more convenient for working with indexed modeling components. The easiest way to highlight this functionality is through the use of an example.\n",
    "\n"
   ]
  },
  {
   "cell_type": "code",
   "execution_count": 2,
   "metadata": {
    "collapsed": true
   },
   "outputs": [],
   "source": [
    "from pyomo.environ import *\n",
    "\n",
    "model = ConcreteModel()\n",
    "model.x = Var()\n",
    "model.y = Var([1,2,3])\n",
    "model.foo = Suffix()"
   ]
  },
  {
   "cell_type": "markdown",
   "metadata": {},
   "source": [
    "In this example we have a concrete Pyomo model with two different types of variable components (indexed and non-indexed) as well as a Suffix declaration (foo). The next code snippet shows examples of adding entries to the suffix foo."
   ]
  },
  {
   "cell_type": "code",
   "execution_count": 3,
   "metadata": {
    "collapsed": true
   },
   "outputs": [],
   "source": [
    "# Assign a suffix value of 1.0 to model.x\n",
    "model.foo.setValue(model.x, 1.0)\n",
    "\n",
    "# Same as above with dict interface\n",
    "model.foo[model.x] = 1.0\n",
    "\n",
    "\n",
    "# Assign a suffix value of 0.0 to all indices of model.y\n",
    "# By default this expands so that entries are created for\n",
    "# every index (y[1], y[2], y[3]) and not model.y itself\n",
    "model.foo.setValue(model.y, 0.0)\n",
    "\n",
    "# The same operation using the dict interface results in an entry only\n",
    "# for the parent component model.y\n",
    "model.foo[model.y] = 50.0\n",
    "\n",
    "\n",
    "# Assign a suffix value of -1.0 to model.y[1]\n",
    "model.foo.setValue(model.y[1], -1.0)\n",
    "\n",
    "# Same as above with the dict interface\n",
    "model.foo[model.y[1]] = -1.0"
   ]
  },
  {
   "cell_type": "markdown",
   "metadata": {},
   "source": [
    "In this example we highlight the fact that the <span style=\"color:darkblue; font-family:Courier\">setitem</span> and <span style=\"color:darkblue; font-family:Courier\">setValue</span> entry methods can be used interchangeably except in the case where indexed components are used (model.y). In the indexed case, the <span style=\"color:darkblue; font-family:Courier\">setitem</span> approach creates a single entry for the parent indexed component itself, whereas the <span style=\"color:darkblue; font-family:Courier\">setValue</span> approach by default creates an entry for each index of the component. This behavior can be controlled using the optional keyword <span style=\"color:darkblue\">*expand*</span>, where assigning it a value of <span style=\"color:darkblue; font-family:Courier\">False</span> results in the same behavior as <span style=\"color:darkblue; font-family:Courier\">setitem</span>.\n",
    "\n",
    "Other operations like accessing or removing entries in our mapping can performed as if the built-in <span style=\"color:darkblue; font-family:Courier\">dict</span> class is in use.\n",
    "\n"
   ]
  },
  {
   "cell_type": "code",
   "execution_count": 4,
   "metadata": {
    "collapsed": false
   },
   "outputs": [
    {
     "name": "stdout",
     "output_type": "stream",
     "text": [
      "1.0\n",
      "1.0\n",
      "-1.0\n",
      "-1.0\n",
      "0.0\n",
      "0.0\n",
      "50.0\n",
      "50.0\n",
      "None\n"
     ]
    },
    {
     "ename": "KeyError",
     "evalue": "'Component with name: y (id=4535312960)'",
     "output_type": "error",
     "traceback": [
      "\u001b[0;31m---------------------------------------------------------------------------\u001b[0m",
      "\u001b[0;31mKeyError\u001b[0m                                  Traceback (most recent call last)",
      "\u001b[0;32m/Users/rhart/src/pyomo/src/pyomo/pyomo/core/base/suffix.py\u001b[0m in \u001b[0;36m__getitem__\u001b[0;34m(self, component)\u001b[0m\n\u001b[1;32m    193\u001b[0m         \u001b[0;32mtry\u001b[0m\u001b[0;34m:\u001b[0m\u001b[0;34m\u001b[0m\u001b[0m\n\u001b[0;32m--> 194\u001b[0;31m             \u001b[0;32mreturn\u001b[0m \u001b[0mself\u001b[0m\u001b[0;34m.\u001b[0m\u001b[0m_dict\u001b[0m\u001b[0;34m[\u001b[0m\u001b[0mid\u001b[0m\u001b[0;34m(\u001b[0m\u001b[0mcomponent\u001b[0m\u001b[0;34m)\u001b[0m\u001b[0;34m]\u001b[0m\u001b[0;34m[\u001b[0m\u001b[0;36m1\u001b[0m\u001b[0;34m]\u001b[0m\u001b[0;34m\u001b[0m\u001b[0m\n\u001b[0m\u001b[1;32m    195\u001b[0m         \u001b[0;32mexcept\u001b[0m \u001b[0mKeyError\u001b[0m\u001b[0;34m:\u001b[0m\u001b[0;34m\u001b[0m\u001b[0m\n",
      "\u001b[0;31mKeyError\u001b[0m: 4535312960",
      "\nDuring handling of the above exception, another exception occurred:\n",
      "\u001b[0;31mKeyError\u001b[0m                                  Traceback (most recent call last)",
      "\u001b[0;32m<ipython-input-4-22e71dad4f9d>\u001b[0m in \u001b[0;36m<module>\u001b[0;34m()\u001b[0m\n\u001b[1;32m     14\u001b[0m \u001b[0;34m\u001b[0m\u001b[0m\n\u001b[1;32m     15\u001b[0m \u001b[0mprint\u001b[0m\u001b[0;34m(\u001b[0m\u001b[0mmodel\u001b[0m\u001b[0;34m.\u001b[0m\u001b[0mfoo\u001b[0m\u001b[0;34m.\u001b[0m\u001b[0mget\u001b[0m\u001b[0;34m(\u001b[0m\u001b[0mmodel\u001b[0m\u001b[0;34m.\u001b[0m\u001b[0my\u001b[0m\u001b[0;34m)\u001b[0m\u001b[0;34m)\u001b[0m         \u001b[0;31m# -> None\u001b[0m\u001b[0;34m\u001b[0m\u001b[0m\n\u001b[0;32m---> 16\u001b[0;31m \u001b[0mprint\u001b[0m\u001b[0;34m(\u001b[0m\u001b[0mmodel\u001b[0m\u001b[0;34m.\u001b[0m\u001b[0mfoo\u001b[0m\u001b[0;34m[\u001b[0m\u001b[0mmodel\u001b[0m\u001b[0;34m.\u001b[0m\u001b[0my\u001b[0m\u001b[0;34m]\u001b[0m\u001b[0;34m)\u001b[0m             \u001b[0;31m# -> raise KeyError\u001b[0m\u001b[0;34m\u001b[0m\u001b[0m\n\u001b[0m",
      "\u001b[0;32m/Users/rhart/src/pyomo/src/pyomo/pyomo/core/base/suffix.py\u001b[0m in \u001b[0;36m__getitem__\u001b[0;34m(self, component)\u001b[0m\n\u001b[1;32m    197\u001b[0m             raise KeyError(\"Component with name: \"\n\u001b[1;32m    198\u001b[0m                            \u001b[0;34m+\u001b[0m\u001b[0mcname\u001b[0m\u001b[0;34m+\u001b[0m\u001b[0;34m\u001b[0m\u001b[0m\n\u001b[0;32m--> 199\u001b[0;31m                            \" (id=%s)\" % id(component))\n\u001b[0m\u001b[1;32m    200\u001b[0m \u001b[0;34m\u001b[0m\u001b[0m\n\u001b[1;32m    201\u001b[0m     \u001b[0;32mdef\u001b[0m \u001b[0m__setitem__\u001b[0m\u001b[0;34m(\u001b[0m\u001b[0mself\u001b[0m\u001b[0;34m,\u001b[0m \u001b[0mcomponent\u001b[0m\u001b[0;34m,\u001b[0m \u001b[0mvalue\u001b[0m\u001b[0;34m)\u001b[0m\u001b[0;34m:\u001b[0m\u001b[0;34m\u001b[0m\u001b[0m\n",
      "\u001b[0;31mKeyError\u001b[0m: 'Component with name: y (id=4535312960)'"
     ]
    }
   ],
   "source": [
    "print(model.foo.get(model.x))         # -> 1.0\n",
    "print(model.foo[model.x])             # -> 1.0\n",
    "\n",
    "print(model.foo.get(model.y[1]))      # -> -1.0\n",
    "print(model.foo[model.y[1]])          # -> -1.0\n",
    "\n",
    "print(model.foo.get(model.y[2]))      # -> 0.0\n",
    "print(model.foo[model.y[2]])          # -> 0.0\n",
    "\n",
    "print(model.foo.get(model.y))         # -> 50.0\n",
    "print(model.foo[model.y])             # -> 50.0\n",
    "\n",
    "del model.foo[model.y]\n",
    "\n",
    "print(model.foo.get(model.y))         # -> None\n",
    "print(model.foo[model.y])             # -> raise KeyError"
   ]
  },
  {
   "cell_type": "markdown",
   "metadata": {},
   "source": [
    "The non-dict method <span style=\"color:darkblue; font-family:Courier\">clearValue</span> can be used in place of <span style=\"color:darkblue; font-family:Courier\">delitem</span> to remove entries, where it inherits the same default behavior as <span style=\"color:darkblue; font-family:Courier\">setValue</span> for indexed components and does not raise a KeyError when the argument does not exist as a key in the mapping.\n",
    "\n"
   ]
  },
  {
   "cell_type": "code",
   "execution_count": 5,
   "metadata": {
    "collapsed": false
   },
   "outputs": [
    {
     "ename": "KeyError",
     "evalue": "'Component with name: y[1] (id=4558940576)'",
     "output_type": "error",
     "traceback": [
      "\u001b[0;31m---------------------------------------------------------------------------\u001b[0m",
      "\u001b[0;31mKeyError\u001b[0m                                  Traceback (most recent call last)",
      "\u001b[0;32m/Users/rhart/src/pyomo/src/pyomo/pyomo/core/base/suffix.py\u001b[0m in \u001b[0;36m__getitem__\u001b[0;34m(self, component)\u001b[0m\n\u001b[1;32m    193\u001b[0m         \u001b[0;32mtry\u001b[0m\u001b[0;34m:\u001b[0m\u001b[0;34m\u001b[0m\u001b[0m\n\u001b[0;32m--> 194\u001b[0;31m             \u001b[0;32mreturn\u001b[0m \u001b[0mself\u001b[0m\u001b[0;34m.\u001b[0m\u001b[0m_dict\u001b[0m\u001b[0;34m[\u001b[0m\u001b[0mid\u001b[0m\u001b[0;34m(\u001b[0m\u001b[0mcomponent\u001b[0m\u001b[0;34m)\u001b[0m\u001b[0;34m]\u001b[0m\u001b[0;34m[\u001b[0m\u001b[0;36m1\u001b[0m\u001b[0;34m]\u001b[0m\u001b[0;34m\u001b[0m\u001b[0m\n\u001b[0m\u001b[1;32m    195\u001b[0m         \u001b[0;32mexcept\u001b[0m \u001b[0mKeyError\u001b[0m\u001b[0;34m:\u001b[0m\u001b[0;34m\u001b[0m\u001b[0m\n",
      "\u001b[0;31mKeyError\u001b[0m: 4558940576",
      "\nDuring handling of the above exception, another exception occurred:\n",
      "\u001b[0;31mKeyError\u001b[0m                                  Traceback (most recent call last)",
      "\u001b[0;32m<ipython-input-5-e371904e2d15>\u001b[0m in \u001b[0;36m<module>\u001b[0;34m()\u001b[0m\n\u001b[1;32m      1\u001b[0m \u001b[0mmodel\u001b[0m\u001b[0;34m.\u001b[0m\u001b[0mfoo\u001b[0m\u001b[0;34m.\u001b[0m\u001b[0mclearValue\u001b[0m\u001b[0;34m(\u001b[0m\u001b[0mmodel\u001b[0m\u001b[0;34m.\u001b[0m\u001b[0my\u001b[0m\u001b[0;34m)\u001b[0m\u001b[0;34m\u001b[0m\u001b[0m\n\u001b[1;32m      2\u001b[0m \u001b[0;34m\u001b[0m\u001b[0m\n\u001b[0;32m----> 3\u001b[0;31m \u001b[0mprint\u001b[0m\u001b[0;34m(\u001b[0m\u001b[0mmodel\u001b[0m\u001b[0;34m.\u001b[0m\u001b[0mfoo\u001b[0m\u001b[0;34m[\u001b[0m\u001b[0mmodel\u001b[0m\u001b[0;34m.\u001b[0m\u001b[0my\u001b[0m\u001b[0;34m[\u001b[0m\u001b[0;36m1\u001b[0m\u001b[0;34m]\u001b[0m\u001b[0;34m]\u001b[0m\u001b[0;34m)\u001b[0m          \u001b[0;31m# -> raise KeyError\u001b[0m\u001b[0;34m\u001b[0m\u001b[0m\n\u001b[0m\u001b[1;32m      4\u001b[0m \u001b[0;34m\u001b[0m\u001b[0m\n\u001b[1;32m      5\u001b[0m \u001b[0;32mdel\u001b[0m \u001b[0mmodel\u001b[0m\u001b[0;34m.\u001b[0m\u001b[0mfoo\u001b[0m\u001b[0;34m[\u001b[0m\u001b[0mmodel\u001b[0m\u001b[0;34m.\u001b[0m\u001b[0my\u001b[0m\u001b[0;34m[\u001b[0m\u001b[0;36m1\u001b[0m\u001b[0;34m]\u001b[0m\u001b[0;34m]\u001b[0m             \u001b[0;31m# -> raise KeyError\u001b[0m\u001b[0;34m\u001b[0m\u001b[0m\n",
      "\u001b[0;32m/Users/rhart/src/pyomo/src/pyomo/pyomo/core/base/suffix.py\u001b[0m in \u001b[0;36m__getitem__\u001b[0;34m(self, component)\u001b[0m\n\u001b[1;32m    197\u001b[0m             raise KeyError(\"Component with name: \"\n\u001b[1;32m    198\u001b[0m                            \u001b[0;34m+\u001b[0m\u001b[0mcname\u001b[0m\u001b[0;34m+\u001b[0m\u001b[0;34m\u001b[0m\u001b[0m\n\u001b[0;32m--> 199\u001b[0;31m                            \" (id=%s)\" % id(component))\n\u001b[0m\u001b[1;32m    200\u001b[0m \u001b[0;34m\u001b[0m\u001b[0m\n\u001b[1;32m    201\u001b[0m     \u001b[0;32mdef\u001b[0m \u001b[0m__setitem__\u001b[0m\u001b[0;34m(\u001b[0m\u001b[0mself\u001b[0m\u001b[0;34m,\u001b[0m \u001b[0mcomponent\u001b[0m\u001b[0;34m,\u001b[0m \u001b[0mvalue\u001b[0m\u001b[0;34m)\u001b[0m\u001b[0;34m:\u001b[0m\u001b[0;34m\u001b[0m\u001b[0m\n",
      "\u001b[0;31mKeyError\u001b[0m: 'Component with name: y[1] (id=4558940576)'"
     ]
    }
   ],
   "source": [
    "model.foo.clearValue(model.y)\n",
    "\n",
    "print(model.foo[model.y[1]])          # -> raise KeyError\n",
    "\n",
    "del model.foo[model.y[1]]             # -> raise KeyError\n",
    "\n",
    "model.foo.clearValue(model.y[1])      # -> does nothing"
   ]
  },
  {
   "cell_type": "markdown",
   "metadata": {},
   "source": [
    "A summary non-dict Suffix methods is provided here:"
   ]
  },
  {
   "cell_type": "raw",
   "metadata": {},
   "source": [
    "\n",
    "\n",
    "|  clearAllValues()\n",
    "|      Clears all suffix data.\n",
    "|\n",
    "|  clearValue(component, expand=True)\n",
    "|      Clears suffix information for a component.\n",
    "|\n",
    "|  setAllValues(value)\n",
    "|      Sets the value of this suffix on all components.\n",
    "|\n",
    "|  setValue(component, value, expand=True)\n",
    "|      Sets the value of this suffix on the specified component.\n",
    "|\n",
    "|  updateValues(data_buffer, expand=True)\n",
    "|      Updates the suffix data given a list of component,value tuples. Provides\n",
    "|      an improvement in efficiency over calling setValue on every component.\n",
    "|\n",
    "|  getDatatype()\n",
    "|      Return the suffix datatype.\n",
    "|\n",
    "|  setDatatype(datatype)\n",
    "|      Set the suffix datatype.\n",
    "|\n",
    "|  getDirection()\n",
    "|      Return the suffix direction.\n",
    "|\n",
    "|  setDirection(direction)\n",
    "|      Set the suffix direction.\n",
    "|\n",
    "|  importEnabled()\n",
    "|      Returns True when this suffix is enabled for import from solutions.\n",
    "|\n",
    "|  exportEnabled()\n",
    "|      Returns True when this suffix is enabled for export to solvers."
   ]
  },
  {
   "cell_type": "markdown",
   "metadata": {},
   "source": [
    "\n",
    "###12.4. Importing Suffix Data\n",
    "Importing suffix information from a solver solution is achieved by declaring a Suffix component with the appropriate name and direction. Suffix names available for import may be specific to third-party solvers as well as individual solver interfaces within Pyomo. The most common of these, available with most solvers and solver interfaces, is constraint dual multipliers. Requesting that duals be imported into suffix data can be accomplished by declaring a Suffix component on the model.\n",
    "\n"
   ]
  },
  {
   "cell_type": "code",
   "execution_count": 6,
   "metadata": {
    "collapsed": true
   },
   "outputs": [],
   "source": [
    "from pyomo.environ import *\n",
    "\n",
    "model = ConcreteModel()\n",
    "model.dual = Suffix(direction=Suffix.IMPORT)\n",
    "model.x = Var()\n",
    "model.obj = Objective(expr=model.x)\n",
    "model.con = Constraint(expr=model.x>=1.0)"
   ]
  },
  {
   "cell_type": "markdown",
   "metadata": {},
   "source": [
    "The existence of an active suffix with the name dual that has an import style suffix direction will cause constraint dual information to be collected into the solver results (assuming the solver supplies dual information). In addition to this, after loading solver results into a problem instance (using a python script or Pyomo callback functions in conjunction with the <span style=\"color:darkblue; font-family:Courier\">pyomo</span> command), one can access the dual values associated with constraints using the dual Suffix component."
   ]
  },
  {
   "cell_type": "code",
   "execution_count": 7,
   "metadata": {
    "collapsed": false
   },
   "outputs": [
    {
     "ename": "NameError",
     "evalue": "name 'instance' is not defined",
     "output_type": "error",
     "traceback": [
      "\u001b[0;31m---------------------------------------------------------------------------\u001b[0m",
      "\u001b[0;31mNameError\u001b[0m                                 Traceback (most recent call last)",
      "\u001b[0;32m<ipython-input-7-7035ff5dea64>\u001b[0m in \u001b[0;36m<module>\u001b[0;34m()\u001b[0m\n\u001b[0;32m----> 1\u001b[0;31m \u001b[0mprint\u001b[0m\u001b[0;34m(\u001b[0m\u001b[0minstance\u001b[0m\u001b[0;34m.\u001b[0m\u001b[0mdual\u001b[0m\u001b[0;34m[\u001b[0m\u001b[0minstance\u001b[0m\u001b[0;34m.\u001b[0m\u001b[0mcon\u001b[0m\u001b[0;34m]\u001b[0m\u001b[0;34m)\u001b[0m \u001b[0;31m# -> 1.0\u001b[0m\u001b[0;34m\u001b[0m\u001b[0m\n\u001b[0m",
      "\u001b[0;31mNameError\u001b[0m: name 'instance' is not defined"
     ]
    }
   ],
   "source": [
    "print(instance.dual[instance.con]) # -> 1.0"
   ]
  },
  {
   "cell_type": "markdown",
   "metadata": {},
   "source": [
    "Alternatively, the <span style=\"color:darkblue; font-family:Courier\">pyomo</span> option <span style=\"color:darkblue; font-family:Courier\">--solver-suffixes</span> can be used to request suffix information from a solver. In the event that suffix names are provided via this command-line option, the <span style=\"color:darkblue; font-family:Courier\">pyomo</span> script will automatically declare these Suffix components on the constructed instance making these suffixes available for import.\n",
    "\n",
    "###12.5. Exporting Suffix Data\n",
    "Exporting suffix data is accomplished in a similar manner as to that of importing suffix data. One simply needs to declare a Suffix component on the model with an export style suffix direction and associate modeling component values with it. The following example shows how one can declare a special ordered set of type 1 using AMPL-style suffix notation in conjunction with Pyomo’s NL file interface.\n",
    "\n"
   ]
  },
  {
   "cell_type": "code",
   "execution_count": 8,
   "metadata": {
    "collapsed": true
   },
   "outputs": [],
   "source": [
    "from pyomo.environ import *\n",
    "\n",
    "model = ConcreteModel()\n",
    "model.y = Var([1,2,3],within=NonNegativeReals)\n",
    "\n",
    "model.sosno = Suffix(direction=Suffix.EXPORT)\n",
    "model.ref = Suffix(direction=Suffix.EXPORT)\n",
    "\n",
    "# Add entry for each index of model.y\n",
    "model.sosno.setValue(model.y,1)\n",
    "model.ref[model.y[1]] = 0\n",
    "model.ref[model.y[2]] = 1\n",
    "model.ref[model.y[3]] = 2"
   ]
  },
  {
   "cell_type": "markdown",
   "metadata": {},
   "source": [
    "Most AMPL-compatible solvers will recognize the suffix names <span style=\"color:darkblue; font-family:Courier\">sosno</span> and <span style=\"color:darkblue; font-family:Courier\">ref</span> as declaring a special ordered set, where a positive value for <span style=\"color:darkblue; font-family:Courier\">sosno</span> indicates a special ordered set of type 1 and a negative value indicates a special ordered set of type 2.\n",
    "\n",
    ">#####Note\n",
    ">Pyomo provides the SOSConstraint component for declaring special ordered sets, which is recognized by all solver interface, including the NL file interface.\n",
    "\n",
    "Pyomo’s NL file interface will recognize an EXPORT style Suffix component with the name <span style=\"color:darkblue; font-family:Courier\">dual</span> as supplying initializations for constraint multipliers. As such it will be treated separately than all other EXPORT style suffixes encountered in the NL writer, which are treated as AMPL-style suffixes. The following example script shows how one can warmstart the interior-point solver Ipopt by supplying both primal (variable values) and dual (suffixes) solution information. This dual suffix information can be both imported and exported using a single Suffix component with an IMPORT_EXPORT direction."
   ]
  },
  {
   "cell_type": "code",
   "execution_count": 10,
   "metadata": {
    "collapsed": false
   },
   "outputs": [
    {
     "name": "stdout",
     "output_type": "stream",
     "text": [
      "\n",
      "INITIAL SOLVE\n",
      "\n",
      "\n",
      "******************************************************************************\n",
      "This program contains Ipopt, a library for large-scale nonlinear optimization.\n",
      " Ipopt is released as open source code under the Eclipse Public License (EPL).\n",
      "         For more information visit http://projects.coin-or.org/Ipopt\n",
      "******************************************************************************\n",
      "\n",
      "This is Ipopt version 3.12.3, running with linear solver ma27.\n",
      "\n",
      "Number of nonzeros in equality constraint Jacobian...:        4\n",
      "Number of nonzeros in inequality constraint Jacobian.:        4\n",
      "Number of nonzeros in Lagrangian Hessian.............:       10\n",
      "\n",
      "Total number of variables............................:        4\n",
      "                     variables with only lower bounds:        0\n",
      "                variables with lower and upper bounds:        4\n",
      "                     variables with only upper bounds:        0\n",
      "Total number of equality constraints.................:        1\n",
      "Total number of inequality constraints...............:        1\n",
      "        inequality constraints with only lower bounds:        1\n",
      "   inequality constraints with lower and upper bounds:        0\n",
      "        inequality constraints with only upper bounds:        0\n",
      "\n",
      "iter    objective    inf_pr   inf_du lg(mu)  ||d||  lg(rg) alpha_du alpha_pr  ls\n",
      "   0  1.6109693e+01 1.12e+01 5.28e-01  -1.0 0.00e+00    -  0.00e+00 0.00e+00   0\n",
      "   1  1.6982239e+01 7.30e-01 1.02e+01  -1.0 6.11e-01    -  7.19e-02 1.00e+00f  1\n",
      "   2  1.7318411e+01 3.60e-02 5.05e-01  -1.0 1.61e-01    -  1.00e+00 1.00e+00h  1\n",
      "   3  1.6849424e+01 2.78e-01 6.68e-02  -1.7 2.85e-01    -  7.94e-01 1.00e+00h  1\n",
      "   4  1.7051199e+01 4.71e-03 2.78e-03  -1.7 6.06e-02    -  1.00e+00 1.00e+00h  1\n",
      "   5  1.7011979e+01 7.19e-03 8.50e-03  -3.8 3.66e-02    -  9.45e-01 9.98e-01h  1\n",
      "   6  1.7014271e+01 1.74e-05 9.78e-06  -3.8 3.33e-03    -  1.00e+00 1.00e+00h  1\n",
      "   7  1.7014021e+01 1.23e-07 1.82e-07  -5.7 2.69e-04    -  1.00e+00 1.00e+00h  1\n",
      "   8  1.7014017e+01 1.77e-11 2.52e-11  -8.6 3.32e-06    -  1.00e+00 1.00e+00h  1\n",
      "\n",
      "Number of Iterations....: 8\n",
      "\n",
      "                                   (scaled)                 (unscaled)\n",
      "Objective...............:   1.7014017145179164e+01    1.7014017145179164e+01\n",
      "Dual infeasibility......:   2.5167821044254762e-11    2.5167821044254762e-11\n",
      "Constraint violation....:   1.7713830402499298e-11    1.7713830402499298e-11\n",
      "Complementarity.........:   2.5277100427932946e-09    2.5277100427932946e-09\n",
      "Overall NLP error.......:   2.5277100427932946e-09    2.5277100427932946e-09\n",
      "\n",
      "\n",
      "Number of objective function evaluations             = 9\n",
      "Number of objective gradient evaluations             = 9\n",
      "Number of equality constraint evaluations            = 9\n",
      "Number of inequality constraint evaluations          = 9\n",
      "Number of equality constraint Jacobian evaluations   = 9\n",
      "Number of inequality constraint Jacobian evaluations = 9\n",
      "Number of Lagrangian Hessian evaluations             = 8\n",
      "Total CPU secs in IPOPT (w/o function evaluations)   =      0.003\n",
      "Total CPU secs in NLP function evaluations           =      0.000\n",
      "\n",
      "EXIT: Optimal Solution Found.\n",
      " \n",
      "Ipopt 3.12.3: Optimal Solution Found\n"
     ]
    },
    {
     "ename": "AttributeError",
     "evalue": "'ConcreteModel' object has no attribute 'solutions'",
     "output_type": "error",
     "traceback": [
      "\u001b[0;31m---------------------------------------------------------------------------\u001b[0m",
      "\u001b[0;31mAttributeError\u001b[0m                            Traceback (most recent call last)",
      "\u001b[0;32m<ipython-input-10-77127118f0ed>\u001b[0m in \u001b[0;36m<module>\u001b[0;34m()\u001b[0m\n\u001b[1;32m     44\u001b[0m \u001b[0;31m# load the results (including any values for previously declared\u001b[0m\u001b[0;34m\u001b[0m\u001b[0;34m\u001b[0m\u001b[0m\n\u001b[1;32m     45\u001b[0m \u001b[0;31m# IMPORT / IMPORT_EXPORT Suffix components)\u001b[0m\u001b[0;34m\u001b[0m\u001b[0;34m\u001b[0m\u001b[0m\n\u001b[0;32m---> 46\u001b[0;31m \u001b[0mmodel\u001b[0m\u001b[0;34m.\u001b[0m\u001b[0msolutions\u001b[0m\u001b[0;34m.\u001b[0m\u001b[0mload_from\u001b[0m\u001b[0;34m(\u001b[0m\u001b[0mresults\u001b[0m\u001b[0;34m)\u001b[0m\u001b[0;34m\u001b[0m\u001b[0m\n\u001b[0m\u001b[1;32m     47\u001b[0m \u001b[0;31m###\u001b[0m\u001b[0;34m\u001b[0m\u001b[0;34m\u001b[0m\u001b[0m\n\u001b[1;32m     48\u001b[0m \u001b[0;34m\u001b[0m\u001b[0m\n",
      "\u001b[0;31mAttributeError\u001b[0m: 'ConcreteModel' object has no attribute 'solutions'"
     ]
    }
   ],
   "source": [
    "from pyomo.environ import *\n",
    "from pyomo.opt import SolverFactory\n",
    "\n",
    "### Create the ipopt solver plugin using the ASL interface\n",
    "solver = 'ipopt'\n",
    "solver_io = 'nl'\n",
    "stream_solver = True     # True prints solver output to screen\n",
    "keepfiles =     False    # True prints intermediate file names (.nl,.sol,...)\n",
    "opt = SolverFactory(solver,solver_io=solver_io)\n",
    "\n",
    "if opt is None:\n",
    "    print(\"\")\n",
    "    print(\"ERROR: Unable to create solver plugin for %s \"\\\n",
    "          \"using the %s interface\" % (solver, solver_io))\n",
    "    print(\"\")\n",
    "    exit(1)\n",
    "###\n",
    "\n",
    "### Create the example model\n",
    "model = ConcreteModel()\n",
    "model.x1 = Var(bounds=(1,5),initialize=1.0)\n",
    "model.x2 = Var(bounds=(1,5),initialize=5.0)\n",
    "model.x3 = Var(bounds=(1,5),initialize=5.0)\n",
    "model.x4 = Var(bounds=(1,5),initialize=1.0)\n",
    "model.obj = Objective(expr=model.x1*model.x4*(model.x1+model.x2+model.x3) + model.x3)\n",
    "model.inequality = Constraint(expr=model.x1*model.x2*model.x3*model.x4 >= 25.0)\n",
    "model.equality = Constraint(expr=model.x1**2 + model.x2**2 + model.x3**2 + model.x4**2 == 40.0)\n",
    "###\n",
    "\n",
    "### Declare all suffixes\n",
    "# Ipopt bound multipliers (obtained from solution)\n",
    "model.ipopt_zL_out = Suffix(direction=Suffix.IMPORT)\n",
    "model.ipopt_zU_out = Suffix(direction=Suffix.IMPORT)\n",
    "# Ipopt bound multipliers (sent to solver)\n",
    "model.ipopt_zL_in = Suffix(direction=Suffix.EXPORT)\n",
    "model.ipopt_zU_in = Suffix(direction=Suffix.EXPORT)\n",
    "# Obtain dual solutions from first solve and send to warm start\n",
    "model.dual = Suffix(direction=Suffix.IMPORT_EXPORT)\n",
    "###\n",
    "\n",
    "### Send the model to ipopt and collect the solution\n",
    "print(\"\")\n",
    "print(\"INITIAL SOLVE\")\n",
    "results = opt.solve(model,keepfiles=keepfiles,tee=stream_solver)\n",
    "# load the results (including any values for previously declared\n",
    "# IMPORT / IMPORT_EXPORT Suffix components)\n",
    "model.solutions.load_from(results)\n",
    "###\n",
    "\n",
    "### Set Ipopt options for warm-start\n",
    "# The current values on the ipopt_zU_out and\n",
    "# ipopt_zL_out suffixes will be used as initial\n",
    "# conditions for the bound multipliers to solve\n",
    "# the new problem\n",
    "model.ipopt_zL_in.update(model.ipopt_zL_out)\n",
    "model.ipopt_zU_in.update(model.ipopt_zU_out)\n",
    "opt.options['warm_start_init_point'] = 'yes'\n",
    "opt.options['warm_start_bound_push'] = 1e-6\n",
    "opt.options['warm_start_mult_bound_push'] = 1e-6\n",
    "opt.options['mu_init'] = 1e-6\n",
    "###\n",
    "\n",
    "### Send the model and suffix information to ipopt and collect the solution\n",
    "print(\"\")\n",
    "print(\"WARM-STARTED SOLVE\")\n",
    "# The solver plugin will scan the model for all active suffixes\n",
    "# valid for importing, which it will store into the results object\n",
    "results = opt.solve(model,keepfiles=keepfiles,tee=stream_solver)\n",
    "# load the results (including any values for previously declared\n",
    "# IMPORT / IMPORT_EXPORT Suffix components)\n",
    "model.solutions.load_from(results)\n",
    "###"
   ]
  },
  {
   "cell_type": "markdown",
   "metadata": {},
   "source": [
    "The difference in performance can be seen by examining Ipopt’s iteration log with and without warm starting:\n",
    "\n",
    "- Without Warmstart:"
   ]
  },
  {
   "cell_type": "code",
   "execution_count": 11,
   "metadata": {
    "collapsed": false
   },
   "outputs": [
    {
     "ename": "SyntaxError",
     "evalue": "invalid syntax (<ipython-input-11-0136aa2969ee>, line 1)",
     "output_type": "error",
     "traceback": [
      "\u001b[0;36m  File \u001b[0;32m\"<ipython-input-11-0136aa2969ee>\"\u001b[0;36m, line \u001b[0;32m1\u001b[0m\n\u001b[0;31m    iter    objective    inf_pr   inf_du lg(mu)  ||d||  lg(rg) alpha_du alpha_pr  ls\u001b[0m\n\u001b[0m                    ^\u001b[0m\n\u001b[0;31mSyntaxError\u001b[0m\u001b[0;31m:\u001b[0m invalid syntax\n"
     ]
    }
   ],
   "source": [
    "iter    objective    inf_pr   inf_du lg(mu)  ||d||  lg(rg) alpha_du alpha_pr  ls\n",
    "   0  1.6109693e+01 1.12e+01 5.28e-01  -1.0 0.00e+00    -  0.00e+00 0.00e+00   0\n",
    "   1  1.6982239e+01 7.30e-01 1.02e+01  -1.0 6.11e-01    -  7.19e-02 1.00e+00f  1\n",
    "   2  1.7318411e+01 3.60e-02 5.05e-01  -1.0 1.61e-01    -  1.00e+00 1.00e+00h  1\n",
    "   3  1.6849424e+01 2.78e-01 6.68e-02  -1.7 2.85e-01    -  7.94e-01 1.00e+00h  1\n",
    "   4  1.7051199e+01 4.71e-03 2.78e-03  -1.7 6.06e-02    -  1.00e+00 1.00e+00h  1\n",
    "   5  1.7011979e+01 7.19e-03 8.50e-03  -3.8 3.66e-02    -  9.45e-01 9.98e-01h  1\n",
    "   6  1.7014271e+01 1.74e-05 9.78e-06  -3.8 3.33e-03    -  1.00e+00 1.00e+00h  1\n",
    "   7  1.7014021e+01 1.23e-07 1.82e-07  -5.7 2.69e-04    -  1.00e+00 1.00e+00h  1\n",
    "   8  1.7014017e+01 1.77e-11 2.52e-11  -8.6 3.32e-06    -  1.00e+00 1.00e+00h  1\n",
    "\n",
    "Number of Iterations....: 8"
   ]
  },
  {
   "cell_type": "markdown",
   "metadata": {},
   "source": [
    "- With Warmstart:"
   ]
  },
  {
   "cell_type": "code",
   "execution_count": 12,
   "metadata": {
    "collapsed": false
   },
   "outputs": [
    {
     "ename": "SyntaxError",
     "evalue": "invalid syntax (<ipython-input-12-cf200da9f999>, line 1)",
     "output_type": "error",
     "traceback": [
      "\u001b[0;36m  File \u001b[0;32m\"<ipython-input-12-cf200da9f999>\"\u001b[0;36m, line \u001b[0;32m1\u001b[0m\n\u001b[0;31m    iter    objective    inf_pr   inf_du lg(mu)  ||d||  lg(rg) alpha_du alpha_pr  ls\u001b[0m\n\u001b[0m                    ^\u001b[0m\n\u001b[0;31mSyntaxError\u001b[0m\u001b[0;31m:\u001b[0m invalid syntax\n"
     ]
    }
   ],
   "source": [
    "iter    objective    inf_pr   inf_du lg(mu)  ||d||  lg(rg) alpha_du alpha_pr  ls\n",
    "   0  1.7014032e+01 2.00e-06 4.07e-06  -6.0 0.00e+00    -  0.00e+00 0.00e+00   0\n",
    "   1  1.7014019e+01 3.65e-12 1.00e-11  -6.0 2.50e-01    -  1.00e+00 1.00e+00h  1\n",
    "   2  1.7014017e+01 4.48e-12 6.43e-12  -9.0 1.92e-06    -  1.00e+00 1.00e+00h  1\n",
    "\n",
    "Number of Iterations....: 2"
   ]
  },
  {
   "cell_type": "markdown",
   "metadata": {},
   "source": [
    "###12.6 Using Suffixes With an AbstractModel\n",
    "\n",
    "In order to allow the declaration of suffix data within the framework of an AbstractModel, the Suffix component can be initialized with an optional construction rule. As with constraint rules, this function will be executed at the time of model construction. The following simple example highlights the use of the <span style=\"color:darkblue; font-family:Courier\">rule</span> keyword in suffix initialization. Suffix rules are expected to return an iterable of (component, value) tuples, where the <span style=\"color:darkblue; font-family:Courier\">expand=True</span> semantics are applied for indexed components.\n",
    "\n",
    " "
   ]
  },
  {
   "cell_type": "code",
   "execution_count": 13,
   "metadata": {
    "collapsed": false
   },
   "outputs": [
    {
     "ename": "AttributeError",
     "evalue": "'AbstractModel' object has no attribute 'create'",
     "output_type": "error",
     "traceback": [
      "\u001b[0;31m---------------------------------------------------------------------------\u001b[0m",
      "\u001b[0;31mAttributeError\u001b[0m                            Traceback (most recent call last)",
      "\u001b[0;32m<ipython-input-13-e00785f40d64>\u001b[0m in \u001b[0;36m<module>\u001b[0;34m()\u001b[0m\n\u001b[1;32m     10\u001b[0m \u001b[0;34m\u001b[0m\u001b[0m\n\u001b[1;32m     11\u001b[0m \u001b[0;31m# Instantiate the model\u001b[0m\u001b[0;34m\u001b[0m\u001b[0;34m\u001b[0m\u001b[0m\n\u001b[0;32m---> 12\u001b[0;31m \u001b[0minst\u001b[0m \u001b[0;34m=\u001b[0m \u001b[0mmodel\u001b[0m\u001b[0;34m.\u001b[0m\u001b[0mcreate\u001b[0m\u001b[0;34m(\u001b[0m\u001b[0;34m)\u001b[0m\u001b[0;34m\u001b[0m\u001b[0m\n\u001b[0m\u001b[1;32m     13\u001b[0m \u001b[0mprint\u001b[0m\u001b[0;34m(\u001b[0m\u001b[0minst\u001b[0m\u001b[0;34m.\u001b[0m\u001b[0mfoo\u001b[0m\u001b[0;34m[\u001b[0m\u001b[0mmodel\u001b[0m\u001b[0;34m.\u001b[0m\u001b[0mx\u001b[0m\u001b[0;34m]\u001b[0m\u001b[0;34m)\u001b[0m \u001b[0;31m# -> raise KeyError\u001b[0m\u001b[0;34m\u001b[0m\u001b[0m\n\u001b[1;32m     14\u001b[0m \u001b[0mprint\u001b[0m\u001b[0;34m(\u001b[0m\u001b[0minst\u001b[0m\u001b[0;34m.\u001b[0m\u001b[0mfoo\u001b[0m\u001b[0;34m[\u001b[0m\u001b[0minst\u001b[0m\u001b[0;34m.\u001b[0m\u001b[0mx\u001b[0m\u001b[0;34m]\u001b[0m\u001b[0;34m)\u001b[0m  \u001b[0;31m# -> 2.0\u001b[0m\u001b[0;34m\u001b[0m\u001b[0m\n",
      "\u001b[0;31mAttributeError\u001b[0m: 'AbstractModel' object has no attribute 'create'"
     ]
    }
   ],
   "source": [
    "from pyomo.environ import *\n",
    "\n",
    "model = AbstractModel()\n",
    "model.x = Var()\n",
    "model.c = Constraint(expr= model.x >= 1)\n",
    "\n",
    "def foo_rule(m):\n",
    "   return ((m.x, 2.0), (m.c, 3.0))\n",
    "model.foo = Suffix(rule=foo_rule)\n",
    "\n",
    "# Instantiate the model\n",
    "inst = model.create()\n",
    "print(inst.foo[model.x]) # -> raise KeyError\n",
    "print(inst.foo[inst.x])  # -> 2.0\n",
    "print(inst.foo[inst.c])  # -> 3.0"
   ]
  },
  {
   "cell_type": "markdown",
   "metadata": {},
   "source": [
    "The next example shows an abstract model where suffixes are attached only to the variables:"
   ]
  },
  {
   "cell_type": "code",
   "execution_count": 14,
   "metadata": {
    "collapsed": false
   },
   "outputs": [
    {
     "name": "stdout",
     "output_type": "stream",
     "text": [
      "1 3.0\n",
      "2 6.0\n",
      "3 9.0\n",
      "4 12.0\n"
     ]
    }
   ],
   "source": [
    "from pyomo.environ import *\n",
    "\n",
    "model = AbstractModel()\n",
    "model.I = RangeSet(1,4)\n",
    "model.x = Var(model.I)\n",
    "def c_rule(m, i):\n",
    "    return m.x[i] >= i\n",
    "model.c = Constraint(model.I, rule=c_rule)\n",
    "\n",
    "def foo_rule(m):\n",
    "    return ((m.x[i], 3.0*i) for i in m.I)\n",
    "model.foo = Suffix(rule=foo_rule)\n",
    "\n",
    "# instantiate the model\n",
    "inst = model.create_instance()\n",
    "for i in inst.I:\n",
    "    print (i, inst.foo[inst.x[i]])"
   ]
  }
 ],
 "metadata": {
  "kernelspec": {
   "display_name": "Python 3",
   "language": "python",
   "name": "python3"
  },
  "language_info": {
   "codemirror_mode": {
    "name": "ipython",
    "version": 3
   },
   "file_extension": ".py",
   "mimetype": "text/x-python",
   "name": "python",
   "nbconvert_exporter": "python",
   "pygments_lexer": "ipython3",
   "version": "3.4.3"
  }
 },
 "nbformat": 4,
 "nbformat_minor": 0
}
