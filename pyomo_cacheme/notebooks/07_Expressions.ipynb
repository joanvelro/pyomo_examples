{
 "cells": [
  {
   "cell_type": "markdown",
   "metadata": {},
   "source": [
    "#7. Expressions"
   ]
  },
  {
   "cell_type": "markdown",
   "metadata": {},
   "source": [
    "In this chapter, we use the word “expression” is two ways: first in the general sense of the word and second to desribe a class of Pyomo objects that have the name expression as described in the subsection on <span style=\"color:darkblue; font-family:Courier\">expression</span> objects.\n",
    "\n",
    "###7.1. Rules to Generate Expressions\n",
    "Both objectives and constraints make use of rules to generate expressions. These are Python functions that return the appropriate expression. These are first-class functions that can access global data as well as data passed in, including the model object.\n",
    "\n",
    "Operations on model elements results in expressions, which seems natural in expression like the constraints we have seen so far. It is also possible to build up expressions. The following example illustrates this along with a reference to global Pyton data in the form of a Python variable called <span style=\"color:darkblue; font-family:Courier\">switch</span>:\n",
    "\n"
   ]
  },
  {
   "cell_type": "code",
   "execution_count": 1,
   "metadata": {
    "collapsed": false
   },
   "outputs": [
    {
     "ename": "SyntaxError",
     "evalue": "invalid syntax (<ipython-input-1-a77d02679e94>, line 8)",
     "output_type": "error",
     "traceback": [
      "\u001b[0;36m  File \u001b[0;32m\"<ipython-input-1-a77d02679e94>\"\u001b[0;36m, line \u001b[0;32m8\u001b[0m\n\u001b[0;31m    def pi_rule(model)\u001b[0m\n\u001b[0m                      ^\u001b[0m\n\u001b[0;31mSyntaxError\u001b[0m\u001b[0;31m:\u001b[0m invalid syntax\n"
     ]
    }
   ],
   "source": [
    "switch = 3\n",
    "\n",
    "model.A = RangeSet(1, 10)\n",
    "model.c = Param(model.A)\n",
    "model.d = Param()\n",
    "model.x = Var(model.A, domain=Boolean)\n",
    "\n",
    "def pi_rule(model)\n",
    "    accexpr = summation(model.c, model.x)\n",
    "    if switch >= 2:\n",
    "        accexpr = accexpr - model.d\n",
    "    return accexpr >= 0.5\n",
    "PieSlice = Constraint(rule=pi_rule)"
   ]
  },
  {
   "cell_type": "markdown",
   "metadata": {},
   "source": [
    "In this example, the constraint that is generated depends on the value of the Python variable called <span style=\"color:darkblue; font-family:Courier\">switch</span>. If the value is 2 or greater, then the constraint is <span style=\"color:darkblue; font-family:Courier\">summation(model.c, model.x) - model.d >= 0.5;</span> otherwise, the <span style=\"color:darkblue; font-family:Courier\">model.d</span> term is not present.\n",
    "\n",
    ">####Caution:\n",
    ">Because model elements result in expressions, not values, the following does not work as expected in an abstract model!"
   ]
  },
  {
   "cell_type": "code",
   "execution_count": 2,
   "metadata": {
    "collapsed": false
   },
   "outputs": [
    {
     "ename": "SyntaxError",
     "evalue": "invalid syntax (<ipython-input-2-f94d0fdb1a3c>, line 6)",
     "output_type": "error",
     "traceback": [
      "\u001b[0;36m  File \u001b[0;32m\"<ipython-input-2-f94d0fdb1a3c>\"\u001b[0;36m, line \u001b[0;32m6\u001b[0m\n\u001b[0;31m    def pi_rule(model)\u001b[0m\n\u001b[0m                      ^\u001b[0m\n\u001b[0;31mSyntaxError\u001b[0m\u001b[0;31m:\u001b[0m invalid syntax\n"
     ]
    }
   ],
   "source": [
    "model.A = RangeSet(1, 10)\n",
    "model.c = Param(model.A)\n",
    "model.d = Param()\n",
    "model.x = Var(model.A, domain=Boolean)\n",
    "\n",
    "def pi_rule(model)\n",
    "    accexpr = summation(model.c, model.x)\n",
    "    if model.d >= 2:  # NOT in an abstract model!!\n",
    "        accexpr = accexpr - model.d\n",
    "    return accexpr >= 0.5\n",
    "PieSlice = Constraint(rule=pi_rule)"
   ]
  },
  {
   "cell_type": "markdown",
   "metadata": {},
   "source": [
    "The trouble is that <span style=\"color:darkblue; font-family:Courier\">model.d >= 2</span> results in an expression, not its evaluated value. Instead use <span style=\"color:darkblue; font-family:Courier\">if value(model.d) >= 2</span>\n",
    "\n",
    "##7.2 Piecewise Linear Expressions\n",
    "\n",
    "Pyomo has facilities to add piecewise constraints of the form y=f(x) for a variety of forms of the function f.\n",
    "\n",
    "The piecewise types other than SOS2, BIGM_SOS1, BIGM_BIN are implement as described in the paper [Vielma_et_al](https://software.sandia.gov/downloads/pub/pyomo/PyomoOnlineDocs.html#Vielma_et_al).\n",
    "\n",
    "There are two basic forms for the declaration of the constraint:"
   ]
  },
  {
   "cell_type": "code",
   "execution_count": 3,
   "metadata": {
    "collapsed": false
   },
   "outputs": [
    {
     "ename": "NameError",
     "evalue": "name 'Piecewise' is not defined",
     "output_type": "error",
     "traceback": [
      "\u001b[0;31m---------------------------------------------------------------------------\u001b[0m",
      "\u001b[0;31mNameError\u001b[0m                                 Traceback (most recent call last)",
      "\u001b[0;32m<ipython-input-3-a66ec33ef9e0>\u001b[0m in \u001b[0;36m<module>\u001b[0;34m()\u001b[0m\n\u001b[0;32m----> 1\u001b[0;31m \u001b[0mmodel\u001b[0m\u001b[0;34m.\u001b[0m\u001b[0mpwconst\u001b[0m \u001b[0;34m=\u001b[0m \u001b[0mPiecewise\u001b[0m\u001b[0;34m(\u001b[0m\u001b[0mindexes\u001b[0m\u001b[0;34m,\u001b[0m \u001b[0myvar\u001b[0m\u001b[0;34m,\u001b[0m \u001b[0mxvar\u001b[0m\u001b[0;34m,\u001b[0m \u001b[0;34m**\u001b[0m\u001b[0mKeywords\u001b[0m\u001b[0;34m)\u001b[0m\u001b[0;34m\u001b[0m\u001b[0m\n\u001b[0m\u001b[1;32m      2\u001b[0m \u001b[0mmodel\u001b[0m\u001b[0;34m.\u001b[0m\u001b[0mpwconst\u001b[0m \u001b[0;34m=\u001b[0m \u001b[0mPiecewise\u001b[0m\u001b[0;34m(\u001b[0m\u001b[0myvar\u001b[0m\u001b[0;34m,\u001b[0m\u001b[0mxvar\u001b[0m\u001b[0;34m,\u001b[0m\u001b[0;34m**\u001b[0m\u001b[0mKeywords\u001b[0m\u001b[0;34m)\u001b[0m\u001b[0;34m\u001b[0m\u001b[0m\n",
      "\u001b[0;31mNameError\u001b[0m: name 'Piecewise' is not defined"
     ]
    }
   ],
   "source": [
    "model.pwconst = Piecewise(indexes, yvar, xvar, **Keywords)\n",
    "model.pwconst = Piecewise(yvar,xvar,**Keywords)"
   ]
  },
  {
   "cell_type": "markdown",
   "metadata": {},
   "source": [
    "where <span style=\"color:darkblue; font-family:Courier\">pwconst</span> can be replaced by a name appropriate for the application. The choice depends on whether the x and y variables are indexed. If so, they must have the same index sets and these sets are give as the first arguments.\n",
    "\n",
    "###Keywords:\n",
    "- pw_pts={},[],() A dictionary of lists (keys are index set) or a single list (for the non-indexed case or when an identical set of breakpoints is used across all indices) defining the set of domain breakpoints for the piecewise linear function. NOTE: pw_pts is always required. These give the breakpoints for the piecewise function and are expected to full span the bounds for the independent variable(s).\n",
    "\n",
    "- pw_repn=<Option> Indicates the type of piecewise representation to use. This can have a major impact on solver performance. Options: (Default ‘SOS2’)\n",
    "\n",
    "    - ‘SOS2’ - Standard representation using sos2 constraints.\n",
    "\n",
    "    - ‘BIGM_BIN’ - BigM constraints with binary variables. The theoretically tightest M values are automatically determined.\n",
    "\n",
    "    - ‘BIGM_SOS1’ - BigM constraints with sos1 variables. The theoretically tightest M values are automatically determined.\n",
    "\n",
    "    - ‘DCC’ - Disaggregated convex combination model.\n",
    "\n",
    "    - ‘DLOG’ - Logarithmic disaggregated convex combination model.\n",
    "\n",
    "    - ‘CC’ - Convex combination model.\n",
    "\n",
    "    - ‘LOG’ - Logarithmic branching convex combination.\n",
    "\n",
    "    - ‘MC’ - Multiple choice model.\n",
    "\n",
    "    - ‘INC’ - Incremental (delta) method. NOTE: Step functions are supported for all but the two BIGM options. Refer to the <span style=\"color:darkblue\">*force_pw*</span> option.\n",
    "\n",
    "- pw_constr_type= <Option> Indicates the bound type of the piecewise function. Options:\n",
    "\n",
    "    - ‘UB’ - y variable is bounded above by piecewise function\n",
    "\n",
    "    - ‘LB’ - y variable is bounded below by piecewise function\n",
    "\n",
    "    - ‘EQ’ - y variable is equal to the piecewise function\n",
    "\n",
    "- f_rule=f(model,i,j,…,x), {}, [], ()\n",
    "An object that returns a numeric value that is the range value corresponding to each piecewise domain point. For functions, the first argument must be a Pyomo model. The last argument is the domain value at which the function evaluates (Not a Pyomo <span style=\"color:darkblue; font-family:Courier\">Var</span>). Intermediate arguments are the corresponding indices of the Piecewise component (if any). Otherwise, the object can be a dictionary of lists/tuples (with keys the same as the indexing set) or a singe list/tuple (when no indexing set is used or when all indices use an identical piecewise function). Examples:"
   ]
  },
  {
   "cell_type": "code",
   "execution_count": 4,
   "metadata": {
    "collapsed": false
   },
   "outputs": [
    {
     "ename": "IndentationError",
     "evalue": "unexpected indent (<ipython-input-4-b49ffa8e1cda>, line 2)",
     "output_type": "error",
     "traceback": [
      "\u001b[0;36m  File \u001b[0;32m\"<ipython-input-4-b49ffa8e1cda>\"\u001b[0;36m, line \u001b[0;32m2\u001b[0m\n\u001b[0;31m    def f(model,j,x):\u001b[0m\n\u001b[0m    ^\u001b[0m\n\u001b[0;31mIndentationError\u001b[0m\u001b[0;31m:\u001b[0m unexpected indent\n"
     ]
    }
   ],
   "source": [
    "# A function that changes with index\n",
    "                   def f(model,j,x):\n",
    "                      if (j == 2):\n",
    "                         return x**2 + 1.0\n",
    "                      else:\n",
    "                         return x**2 + 5.0\n",
    "\n",
    "                   # A nonlinear function\n",
    "                   f = lambda model,x: return exp(x) + value(model.p)\n",
    "                       (model.p is a Pyomo Param)\n",
    "\n",
    "                   # A step function\n",
    "                   f = [0,0,1,1,2,2]"
   ]
  },
  {
   "cell_type": "markdown",
   "metadata": {},
   "source": [
    "- force_pw=True/False\n",
    "Using the given function rule and pw_pts, a check for convexity/concavity is implemented. If (1) the function is convex and the piecewise constraints are lower bounds or if (2) the function is concave and the piecewise constraints are upper bounds then the piecewise constraints will be substituted for linear constraints. Setting <span style=\"color:darkblue\">*force_pw=True*</span> will force the use of the original piecewise constraints even when one of these two cases applies.\n",
    "\n",
    "- warning_tol=<float>\n",
    "To aid in debugging, a warning is printed when consecutive slopes of piecewise segments are within <warning_tol> of each other. Default=1e-8\n",
    "\n",
    "- warn_domain_coverage=True/False\n",
    "Print a warning when the feasible region of the domain variable is not completely covered by the piecewise breakpoints. Default=True\n",
    "\n",
    "- unbounded_domain_var=True/False\n",
    "Allow an unbounded or partially bounded Pyomo Var to be used as the domain variable. Default=False NOTE: This does not imply unbounded piecewise segments will be constructed. The outermost piecwise breakpoints will bound the domain variable at each index. However, the Var attributes .lb and .ub will not be modified.\n",
    "\n",
    "Here is an example of an assignment to a Python dictionary variable that has keywords for a picewise constraint:"
   ]
  },
  {
   "cell_type": "code",
   "execution_count": 6,
   "metadata": {
    "collapsed": false
   },
   "outputs": [
    {
     "ename": "NameError",
     "evalue": "name 'maximize' is not defined",
     "output_type": "error",
     "traceback": [
      "\u001b[0;31m---------------------------------------------------------------------------\u001b[0m",
      "\u001b[0;31mNameError\u001b[0m                                 Traceback (most recent call last)",
      "\u001b[0;32m<ipython-input-6-4c359d114ec4>\u001b[0m in \u001b[0;36m<module>\u001b[0;34m()\u001b[0m\n\u001b[0;32m----> 1\u001b[0;31m \u001b[0mkwds\u001b[0m \u001b[0;34m=\u001b[0m \u001b[0;34m{\u001b[0m\u001b[0;34m'pw_constr_type'\u001b[0m\u001b[0;34m:\u001b[0m\u001b[0;34m'EQ'\u001b[0m\u001b[0;34m,\u001b[0m\u001b[0;34m'pw_repn'\u001b[0m\u001b[0;34m:\u001b[0m\u001b[0;34m'SOS2'\u001b[0m\u001b[0;34m,\u001b[0m\u001b[0;34m'sense'\u001b[0m\u001b[0;34m:\u001b[0m\u001b[0mmaximize\u001b[0m\u001b[0;34m,\u001b[0m\u001b[0;34m'force_pw'\u001b[0m\u001b[0;34m:\u001b[0m\u001b[0;32mTrue\u001b[0m\u001b[0;34m}\u001b[0m\u001b[0;34m\u001b[0m\u001b[0m\n\u001b[0m",
      "\u001b[0;31mNameError\u001b[0m: name 'maximize' is not defined"
     ]
    }
   ],
   "source": [
    "kwds = {'pw_constr_type':'EQ','pw_repn':'SOS2','sense':maximize,'force_pw':True}"
   ]
  },
  {
   "cell_type": "markdown",
   "metadata": {},
   "source": [
    "Here is a simple example based on the [abstract2.py](https://software.sandia.gov/downloads/pub/pyomo/PyomoOnlineDocs.html#abstract2.py) example given early. In this new example, the objective function is the sum of c times x to the fourth. In this example, the keywords are passed directly to the <span style=\"color:darkblue; font-family:Courier\">Piecewise</span> function without being assigned to a dictionary variable. The upper bound on the x variables was chosen whimsically just to make the example. The important thing to note is that variables that are going to appear as the independent variable in a piecewise constraint must have bounds."
   ]
  },
  {
   "cell_type": "code",
   "execution_count": 7,
   "metadata": {
    "collapsed": true
   },
   "outputs": [],
   "source": [
    "# abstract2piece.py\n",
    "# Similar to abstract2.py, but the objective is now c times x to the fourth power\n",
    "\n",
    "from pyomo.environ import *\n",
    "\n",
    "model = AbstractModel()\n",
    "\n",
    "model.I = Set()\n",
    "model.J = Set()\n",
    "\n",
    "Topx = 6.1 # range of x variables\n",
    "\n",
    "model.a = Param(model.I, model.J)\n",
    "model.b = Param(model.I)\n",
    "model.c = Param(model.J)\n",
    "\n",
    "# the next line declares a variable indexed by the set J\n",
    "model.x = Var(model.J, domain=NonNegativeReals, bounds=(0, Topx))\n",
    "model.y = Var(model.J, domain=NonNegativeReals)\n",
    "\n",
    "# to avoid warnings, we set breakpoints at or beyond the bounds\n",
    "PieceCnt = 100\n",
    "bpts = []\n",
    "for i in range(PieceCnt+2):\n",
    "    bpts.append(float((i*Topx)/PieceCnt))\n",
    "\n",
    "def f4(model, j, xp):\n",
    "    # we not need j, but it is passed as the index for the constraint\n",
    "    return xp**4\n",
    "\n",
    "model.ComputeObj = Piecewise(model.J, model.y, model.x, pw_pts=bpts, pw_constr_type='EQ', f_rule=f4)\n",
    "\n",
    "def obj_expression(model):\n",
    "    return summation(model.c, model.y)\n",
    "\n",
    "model.OBJ = Objective(rule=obj_expression)\n",
    "\n",
    "def ax_constraint_rule(model, i):\n",
    "    # return the expression for the constraint for i\n",
    "    return sum(model.a[i,j] * model.x[j] for j in model.J) >= model.b[i]\n",
    "\n",
    "# the next line creates one constraint for each member of the set model.I\n",
    "model.AxbConstraint = Constraint(model.I, rule=ax_constraint_rule)\n"
   ]
  },
  {
   "cell_type": "markdown",
   "metadata": {},
   "source": [
    "A more advanced example is provided as [abstract2piecebuild.py](https://software.sandia.gov/downloads/pub/pyomo/PyomoOnlineDocs.html#abstract2piecebuild.py).\n",
    "\n",
    "##7.3. Expression Objects\n",
    "Pyomo <span style=\"color:darkblue; font-family:Courier\">Expression</span> objects are very similar to the Param component (with <span style=\"color:darkblue; font-family:Courier\">mutable=True</span>) except that the underlying values can be numeric constants or Pyomo expressions. Here’s an illustration of expression objects in an AbstractModel. An expression object with an index set that is the numbers 1, 2, 3 is created and initialized to be the model variable x times the index. Later in the model file, just to illustrate how to do it, the expression is changed but just for the first index to be x squared."
   ]
  },
  {
   "cell_type": "code",
   "execution_count": 8,
   "metadata": {
    "collapsed": false
   },
   "outputs": [
    {
     "ename": "SyntaxError",
     "evalue": "invalid syntax (<ipython-input-8-7c6e717957de>, line 9)",
     "output_type": "error",
     "traceback": [
      "\u001b[0;36m  File \u001b[0;32m\"<ipython-input-8-7c6e717957de>\"\u001b[0;36m, line \u001b[0;32m9\u001b[0m\n\u001b[0;31m    print value(instance.e[1]) # -> 1.0\u001b[0m\n\u001b[0m              ^\u001b[0m\n\u001b[0;31mSyntaxError\u001b[0m\u001b[0;31m:\u001b[0m invalid syntax\n"
     ]
    }
   ],
   "source": [
    "model = AbstractModel()\n",
    "model.x = Var(initialize=1.0)\n",
    "def _e(m,i):\n",
    "    return m.x*i\n",
    "model.e = Expression([1,2,3],initialize=_e)\n",
    "\n",
    "instance = model.create_instance()\n",
    "\n",
    "print value(instance.e[1]) # -> 1.0\n",
    "print instance.e[1]()           # -> 1.0\n",
    "print instance.e[1].value  # -> a pyomo expression object\n",
    "\n",
    "# Change the underlying expression\n",
    "instance.e[1].value = instance.x**2\n",
    "\n",
    "... solve\n",
    "... load results\n",
    "\n",
    "# print the value of the expression given the loaded optimal solution\n",
    "print value(instance.e[1])"
   ]
  },
  {
   "cell_type": "markdown",
   "metadata": {},
   "source": [
    "An alternative is to create Python functions that, potentially, manipulate model objects. E.g., if you define a function\n",
    "\n"
   ]
  },
  {
   "cell_type": "code",
   "execution_count": 9,
   "metadata": {
    "collapsed": true
   },
   "outputs": [],
   "source": [
    "def f(x, p):\n",
    "    return x + p"
   ]
  },
  {
   "cell_type": "markdown",
   "metadata": {},
   "source": [
    "You can call this function with or without Pyomo modeling components as the arguments. E.g., f(2,3) will return a number, whereas f(model.x, 3) will return a Pyomo expression due to operator overloading.\n",
    "\n",
    "If you take this approach you should note that anywhere a Pyomo expression is used to generate another expression (e.g., f(model.x, 3) + 5), the initial expression is always cloned so that the new generated expression is independent of the old. For example:"
   ]
  },
  {
   "cell_type": "code",
   "execution_count": 10,
   "metadata": {
    "collapsed": true
   },
   "outputs": [],
   "source": [
    "model = ConcreteModel()\n",
    "model.x = Var()\n",
    "\n",
    "# create a Pyomo expression\n",
    "e1 = model.x + 5\n",
    "\n",
    "# create another Pyomo expression\n",
    "# e1 is copied when generating e2\n",
    "e2 = e1 + model.x"
   ]
  },
  {
   "cell_type": "markdown",
   "metadata": {},
   "source": [
    "If you want to create an expression that is shared between other expressions, you can use the Expression component."
   ]
  }
 ],
 "metadata": {
  "kernelspec": {
   "display_name": "Python 3",
   "language": "python",
   "name": "python3"
  },
  "language_info": {
   "codemirror_mode": {
    "name": "ipython",
    "version": 3
   },
   "file_extension": ".py",
   "mimetype": "text/x-python",
   "name": "python",
   "nbconvert_exporter": "python",
   "pygments_lexer": "ipython3",
   "version": "3.4.3"
  }
 },
 "nbformat": 4,
 "nbformat_minor": 0
}
